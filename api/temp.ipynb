{
 "cells": [
  {
   "cell_type": "code",
   "execution_count": 1,
   "metadata": {},
   "outputs": [],
   "source": [
    "import pyspark\n",
    "from pyspark.sql import SparkSession\n",
    "from pyspark.sql.functions import col, lit, to_json, array_join\n"
   ]
  },
  {
   "cell_type": "code",
   "execution_count": 2,
   "metadata": {},
   "outputs": [
    {
     "name": "stderr",
     "output_type": "stream",
     "text": [
      "Setting default log level to \"WARN\".\n",
      "To adjust logging level use sc.setLogLevel(newLevel). For SparkR, use setLogLevel(newLevel).\n",
      "25/01/01 09:34:49 WARN NativeCodeLoader: Unable to load native-hadoop library for your platform... using builtin-java classes where applicable\n"
     ]
    },
    {
     "data": {
      "text/html": [
       "\n",
       "            <div>\n",
       "                <p><b>SparkSession - in-memory</b></p>\n",
       "                \n",
       "        <div>\n",
       "            <p><b>SparkContext</b></p>\n",
       "\n",
       "            <p><a href=\"http://10.0.0.2:4040\">Spark UI</a></p>\n",
       "\n",
       "            <dl>\n",
       "              <dt>Version</dt>\n",
       "                <dd><code>v3.5.1</code></dd>\n",
       "              <dt>Master</dt>\n",
       "                <dd><code>local[*]</code></dd>\n",
       "              <dt>AppName</dt>\n",
       "                <dd><code>TempSession</code></dd>\n",
       "            </dl>\n",
       "        </div>\n",
       "        \n",
       "            </div>\n",
       "        "
      ],
      "text/plain": [
       "<pyspark.sql.session.SparkSession at 0x10d03ab90>"
      ]
     },
     "execution_count": 2,
     "metadata": {},
     "output_type": "execute_result"
    }
   ],
   "source": [
    "spark_sess = SparkSession.builder.appName(\"TempSession\").getOrCreate()\n",
    "spark_sess\n"
   ]
  },
  {
   "cell_type": "code",
   "execution_count": 3,
   "metadata": {},
   "outputs": [],
   "source": [
    "# spark_sess.stop()"
   ]
  },
  {
   "cell_type": "code",
   "execution_count": 4,
   "metadata": {},
   "outputs": [
    {
     "data": {
      "text/plain": [
       "[{'name': 'Cedric', 's_year': 6}, {'name': 'Harry', 's_year': 4}]"
      ]
     },
     "execution_count": 4,
     "metadata": {},
     "output_type": "execute_result"
    }
   ],
   "source": [
    "data = [{\"name\": \"Cedric\", \"s_year\": 6}, {\"name\": \"Harry\", \"s_year\": 4}]\n",
    "data"
   ]
  },
  {
   "cell_type": "code",
   "execution_count": 5,
   "metadata": {},
   "outputs": [
    {
     "data": {
      "text/plain": [
       "DataFrame[name: string, s_year: bigint]"
      ]
     },
     "execution_count": 5,
     "metadata": {},
     "output_type": "execute_result"
    }
   ],
   "source": [
    "df = spark_sess.createDataFrame(data)\n",
    "df"
   ]
  },
  {
   "cell_type": "code",
   "execution_count": 6,
   "metadata": {},
   "outputs": [
    {
     "name": "stderr",
     "output_type": "stream",
     "text": [
      "                                                                                \r"
     ]
    },
    {
     "name": "stdout",
     "output_type": "stream",
     "text": [
      "+------+------+\n",
      "|  name|s_year|\n",
      "+------+------+\n",
      "|Cedric|     6|\n",
      "| Harry|     4|\n",
      "+------+------+\n",
      "\n"
     ]
    }
   ],
   "source": [
    "df.show()\n"
   ]
  },
  {
   "cell_type": "code",
   "execution_count": 7,
   "metadata": {},
   "outputs": [],
   "source": [
    "from pyspark.sql import Row\n"
   ]
  },
  {
   "cell_type": "code",
   "execution_count": 8,
   "metadata": {},
   "outputs": [
    {
     "data": {
      "text/plain": [
       "[<Row({'team': 'HufflePuff', 'avg_SPI': 8.2})>,\n",
       " <Row({'team': 'Gryffindor', 'avg_SPI': 7.8})>]"
      ]
     },
     "execution_count": 8,
     "metadata": {},
     "output_type": "execute_result"
    }
   ],
   "source": [
    "new_column = [Row({\"team\": \"HufflePuff\", \"avg_SPI\": 8.2}), Row({\"team\": \"Gryffindor\", \"avg_SPI\": 7.8})]\n",
    "new_column"
   ]
  },
  {
   "cell_type": "code",
   "execution_count": 9,
   "metadata": {},
   "outputs": [
    {
     "data": {
      "text/plain": [
       "DataFrame[player_stats: map<string,string>]"
      ]
     },
     "execution_count": 9,
     "metadata": {},
     "output_type": "execute_result"
    }
   ],
   "source": [
    "other_df = spark_sess.createDataFrame(new_column, schema=\"player_stats map<string,string>\")\n",
    "other_df"
   ]
  },
  {
   "cell_type": "code",
   "execution_count": 10,
   "metadata": {},
   "outputs": [
    {
     "name": "stdout",
     "output_type": "stream",
     "text": [
      "+--------------------+\n",
      "|        player_stats|\n",
      "+--------------------+\n",
      "|{team -> HufflePu...|\n",
      "|{team -> Gryffind...|\n",
      "+--------------------+\n",
      "\n"
     ]
    }
   ],
   "source": [
    "other_df.show()"
   ]
  },
  {
   "cell_type": "code",
   "execution_count": 11,
   "metadata": {},
   "outputs": [
    {
     "data": {
      "text/plain": [
       "([('player_stats', 'map<string,string>')], 2)"
      ]
     },
     "execution_count": 11,
     "metadata": {},
     "output_type": "execute_result"
    }
   ],
   "source": [
    "other_df.dtypes, other_df.count()"
   ]
  },
  {
   "cell_type": "code",
   "execution_count": 12,
   "metadata": {},
   "outputs": [],
   "source": [
    "# df.union(other_df)\n",
    "\"\"\"\n",
    "default inner. Must be one of: inner, cross, outer, full, fullouter, full_outer, left, leftouter, left_outer, right, rightouter, right_outer, semi, leftsemi, left_semi, anti, leftanti and left_anti.\n",
    "\n",
    "\"\"\"\n",
    "# x = df.join(other_df, how=\"full\")\n",
    "# x = df.join(other_df, how=\"inner\")\n",
    "# x = df.join(other_df, how=\"outer\")\n",
    "x = df.join(other_df, how=\"full\")"
   ]
  },
  {
   "cell_type": "code",
   "execution_count": 13,
   "metadata": {},
   "outputs": [
    {
     "name": "stdout",
     "output_type": "stream",
     "text": [
      "+------+------+--------------------+\n",
      "|  name|s_year|        player_stats|\n",
      "+------+------+--------------------+\n",
      "|Cedric|     6|{team -> HufflePu...|\n",
      "|Cedric|     6|{team -> Gryffind...|\n",
      "| Harry|     4|{team -> HufflePu...|\n",
      "| Harry|     4|{team -> Gryffind...|\n",
      "+------+------+--------------------+\n",
      "\n"
     ]
    }
   ],
   "source": [
    "x.show()"
   ]
  },
  {
   "cell_type": "code",
   "execution_count": 14,
   "metadata": {},
   "outputs": [
    {
     "data": {
      "text/plain": [
       "4"
      ]
     },
     "execution_count": 14,
     "metadata": {},
     "output_type": "execute_result"
    }
   ],
   "source": [
    "x.count()"
   ]
  },
  {
   "cell_type": "code",
   "execution_count": 15,
   "metadata": {},
   "outputs": [
    {
     "name": "stderr",
     "output_type": "stream",
     "text": [
      "[Stage 25:============================================>          (60 + 10) / 75]\r"
     ]
    },
    {
     "name": "stdout",
     "output_type": "stream",
     "text": [
      "+--------------------+------+------+\n",
      "|        player_stats|  name|s_year|\n",
      "+--------------------+------+------+\n",
      "|{team -> HufflePu...|Cedric|     6|\n",
      "|{team -> HufflePu...| Harry|     4|\n",
      "|{team -> Gryffind...|Cedric|     6|\n",
      "|{team -> Gryffind...| Harry|     4|\n",
      "+--------------------+------+------+\n",
      "\n"
     ]
    },
    {
     "name": "stderr",
     "output_type": "stream",
     "text": [
      "                                                                                \r"
     ]
    }
   ],
   "source": [
    "other_df.join(df).show()"
   ]
  },
  {
   "cell_type": "code",
   "execution_count": 16,
   "metadata": {},
   "outputs": [],
   "source": [
    "from pyspark.sql.functions import monotonically_increasing_id\n"
   ]
  },
  {
   "cell_type": "code",
   "execution_count": 17,
   "metadata": {},
   "outputs": [],
   "source": [
    "temp_col1 = df.withColumn(\"index\", monotonically_increasing_id())\n",
    "temp_col2 = other_df.withColumn(\"index\", monotonically_increasing_id())"
   ]
  },
  {
   "cell_type": "code",
   "execution_count": 18,
   "metadata": {},
   "outputs": [
    {
     "name": "stdout",
     "output_type": "stream",
     "text": [
      "+------+------+-----------+\n",
      "|  name|s_year|      index|\n",
      "+------+------+-----------+\n",
      "|Cedric|     6|34359738368|\n",
      "| Harry|     4|77309411328|\n",
      "+------+------+-----------+\n",
      "\n"
     ]
    }
   ],
   "source": [
    "temp_col1.show()"
   ]
  },
  {
   "cell_type": "code",
   "execution_count": 19,
   "metadata": {},
   "outputs": [
    {
     "name": "stdout",
     "output_type": "stream",
     "text": [
      "+--------------------+-----------+\n",
      "|        player_stats|      index|\n",
      "+--------------------+-----------+\n",
      "|{team -> HufflePu...|34359738368|\n",
      "|{team -> Gryffind...|77309411328|\n",
      "+--------------------+-----------+\n",
      "\n"
     ]
    }
   ],
   "source": [
    "temp_col2.show()"
   ]
  },
  {
   "cell_type": "code",
   "execution_count": 20,
   "metadata": {},
   "outputs": [
    {
     "name": "stdout",
     "output_type": "stream",
     "text": [
      "+-----------+------+------+--------------------+\n",
      "|      index|  name|s_year|        player_stats|\n",
      "+-----------+------+------+--------------------+\n",
      "|34359738368|Cedric|     6|{team -> HufflePu...|\n",
      "|77309411328| Harry|     4|{team -> Gryffind...|\n",
      "+-----------+------+------+--------------------+\n",
      "\n"
     ]
    }
   ],
   "source": [
    "temp_col1.join(temp_col2, on=\"index\").show()"
   ]
  },
  {
   "cell_type": "code",
   "execution_count": null,
   "metadata": {},
   "outputs": [],
   "source": []
  },
  {
   "cell_type": "code",
   "execution_count": 21,
   "metadata": {},
   "outputs": [
    {
     "ename": "AnalysisException",
     "evalue": "[NUM_COLUMNS_MISMATCH] UNION can only be performed on inputs with the same number of columns, but the first input has 2 columns and the second input has 1 columns.;\n'Union false, false\n:- LogicalRDD [name#0, s_year#1L], false\n+- LogicalRDD [player_stats#13], false\n",
     "output_type": "error",
     "traceback": [
      "\u001b[0;31m---------------------------------------------------------------------------\u001b[0m",
      "\u001b[0;31mAnalysisException\u001b[0m                         Traceback (most recent call last)",
      "Cell \u001b[0;32mIn[21], line 1\u001b[0m\n\u001b[0;32m----> 1\u001b[0m \u001b[43mdf\u001b[49m\u001b[38;5;241;43m.\u001b[39;49m\u001b[43munionAll\u001b[49m\u001b[43m(\u001b[49m\u001b[43mother_df\u001b[49m\u001b[43m)\u001b[49m\n",
      "File \u001b[0;32m~/.pyenv/versions/soccer_app_env1/lib/python3.11/site-packages/pyspark/sql/dataframe.py:3963\u001b[0m, in \u001b[0;36mDataFrame.unionAll\u001b[0;34m(self, other)\u001b[0m\n\u001b[1;32m   3931\u001b[0m \u001b[38;5;28;01mdef\u001b[39;00m \u001b[38;5;21munionAll\u001b[39m(\u001b[38;5;28mself\u001b[39m, other: \u001b[38;5;124m\"\u001b[39m\u001b[38;5;124mDataFrame\u001b[39m\u001b[38;5;124m\"\u001b[39m) \u001b[38;5;241m-\u001b[39m\u001b[38;5;241m>\u001b[39m \u001b[38;5;124m\"\u001b[39m\u001b[38;5;124mDataFrame\u001b[39m\u001b[38;5;124m\"\u001b[39m:\n\u001b[1;32m   3932\u001b[0m \u001b[38;5;250m    \u001b[39m\u001b[38;5;124;03m\"\"\"Return a new :class:`DataFrame` containing the union of rows in this and another\u001b[39;00m\n\u001b[1;32m   3933\u001b[0m \u001b[38;5;124;03m    :class:`DataFrame`.\u001b[39;00m\n\u001b[1;32m   3934\u001b[0m \n\u001b[0;32m   (...)\u001b[0m\n\u001b[1;32m   3961\u001b[0m \u001b[38;5;124;03m    DataFrame.union\u001b[39;00m\n\u001b[1;32m   3962\u001b[0m \u001b[38;5;124;03m    \"\"\"\u001b[39;00m\n\u001b[0;32m-> 3963\u001b[0m     \u001b[38;5;28;01mreturn\u001b[39;00m \u001b[38;5;28;43mself\u001b[39;49m\u001b[38;5;241;43m.\u001b[39;49m\u001b[43munion\u001b[49m\u001b[43m(\u001b[49m\u001b[43mother\u001b[49m\u001b[43m)\u001b[49m\n",
      "File \u001b[0;32m~/.pyenv/versions/soccer_app_env1/lib/python3.11/site-packages/pyspark/sql/dataframe.py:3929\u001b[0m, in \u001b[0;36mDataFrame.union\u001b[0;34m(self, other)\u001b[0m\n\u001b[1;32m   3833\u001b[0m \u001b[38;5;28;01mdef\u001b[39;00m \u001b[38;5;21munion\u001b[39m(\u001b[38;5;28mself\u001b[39m, other: \u001b[38;5;124m\"\u001b[39m\u001b[38;5;124mDataFrame\u001b[39m\u001b[38;5;124m\"\u001b[39m) \u001b[38;5;241m-\u001b[39m\u001b[38;5;241m>\u001b[39m \u001b[38;5;124m\"\u001b[39m\u001b[38;5;124mDataFrame\u001b[39m\u001b[38;5;124m\"\u001b[39m:\n\u001b[1;32m   3834\u001b[0m \u001b[38;5;250m    \u001b[39m\u001b[38;5;124;03m\"\"\"Return a new :class:`DataFrame` containing the union of rows in this and another\u001b[39;00m\n\u001b[1;32m   3835\u001b[0m \u001b[38;5;124;03m    :class:`DataFrame`.\u001b[39;00m\n\u001b[1;32m   3836\u001b[0m \n\u001b[0;32m   (...)\u001b[0m\n\u001b[1;32m   3927\u001b[0m \u001b[38;5;124;03m    +---+-----+\u001b[39;00m\n\u001b[1;32m   3928\u001b[0m \u001b[38;5;124;03m    \"\"\"\u001b[39;00m\n\u001b[0;32m-> 3929\u001b[0m     \u001b[38;5;28;01mreturn\u001b[39;00m DataFrame(\u001b[38;5;28;43mself\u001b[39;49m\u001b[38;5;241;43m.\u001b[39;49m\u001b[43m_jdf\u001b[49m\u001b[38;5;241;43m.\u001b[39;49m\u001b[43munion\u001b[49m\u001b[43m(\u001b[49m\u001b[43mother\u001b[49m\u001b[38;5;241;43m.\u001b[39;49m\u001b[43m_jdf\u001b[49m\u001b[43m)\u001b[49m, \u001b[38;5;28mself\u001b[39m\u001b[38;5;241m.\u001b[39msparkSession)\n",
      "File \u001b[0;32m~/.pyenv/versions/soccer_app_env1/lib/python3.11/site-packages/py4j/java_gateway.py:1322\u001b[0m, in \u001b[0;36mJavaMember.__call__\u001b[0;34m(self, *args)\u001b[0m\n\u001b[1;32m   1316\u001b[0m command \u001b[38;5;241m=\u001b[39m proto\u001b[38;5;241m.\u001b[39mCALL_COMMAND_NAME \u001b[38;5;241m+\u001b[39m\\\n\u001b[1;32m   1317\u001b[0m     \u001b[38;5;28mself\u001b[39m\u001b[38;5;241m.\u001b[39mcommand_header \u001b[38;5;241m+\u001b[39m\\\n\u001b[1;32m   1318\u001b[0m     args_command \u001b[38;5;241m+\u001b[39m\\\n\u001b[1;32m   1319\u001b[0m     proto\u001b[38;5;241m.\u001b[39mEND_COMMAND_PART\n\u001b[1;32m   1321\u001b[0m answer \u001b[38;5;241m=\u001b[39m \u001b[38;5;28mself\u001b[39m\u001b[38;5;241m.\u001b[39mgateway_client\u001b[38;5;241m.\u001b[39msend_command(command)\n\u001b[0;32m-> 1322\u001b[0m return_value \u001b[38;5;241m=\u001b[39m \u001b[43mget_return_value\u001b[49m\u001b[43m(\u001b[49m\n\u001b[1;32m   1323\u001b[0m \u001b[43m    \u001b[49m\u001b[43manswer\u001b[49m\u001b[43m,\u001b[49m\u001b[43m \u001b[49m\u001b[38;5;28;43mself\u001b[39;49m\u001b[38;5;241;43m.\u001b[39;49m\u001b[43mgateway_client\u001b[49m\u001b[43m,\u001b[49m\u001b[43m \u001b[49m\u001b[38;5;28;43mself\u001b[39;49m\u001b[38;5;241;43m.\u001b[39;49m\u001b[43mtarget_id\u001b[49m\u001b[43m,\u001b[49m\u001b[43m \u001b[49m\u001b[38;5;28;43mself\u001b[39;49m\u001b[38;5;241;43m.\u001b[39;49m\u001b[43mname\u001b[49m\u001b[43m)\u001b[49m\n\u001b[1;32m   1325\u001b[0m \u001b[38;5;28;01mfor\u001b[39;00m temp_arg \u001b[38;5;129;01min\u001b[39;00m temp_args:\n\u001b[1;32m   1326\u001b[0m     \u001b[38;5;28;01mif\u001b[39;00m \u001b[38;5;28mhasattr\u001b[39m(temp_arg, \u001b[38;5;124m\"\u001b[39m\u001b[38;5;124m_detach\u001b[39m\u001b[38;5;124m\"\u001b[39m):\n",
      "File \u001b[0;32m~/.pyenv/versions/soccer_app_env1/lib/python3.11/site-packages/pyspark/errors/exceptions/captured.py:185\u001b[0m, in \u001b[0;36mcapture_sql_exception.<locals>.deco\u001b[0;34m(*a, **kw)\u001b[0m\n\u001b[1;32m    181\u001b[0m converted \u001b[38;5;241m=\u001b[39m convert_exception(e\u001b[38;5;241m.\u001b[39mjava_exception)\n\u001b[1;32m    182\u001b[0m \u001b[38;5;28;01mif\u001b[39;00m \u001b[38;5;129;01mnot\u001b[39;00m \u001b[38;5;28misinstance\u001b[39m(converted, UnknownException):\n\u001b[1;32m    183\u001b[0m     \u001b[38;5;66;03m# Hide where the exception came from that shows a non-Pythonic\u001b[39;00m\n\u001b[1;32m    184\u001b[0m     \u001b[38;5;66;03m# JVM exception message.\u001b[39;00m\n\u001b[0;32m--> 185\u001b[0m     \u001b[38;5;28;01mraise\u001b[39;00m converted \u001b[38;5;28;01mfrom\u001b[39;00m \u001b[38;5;28;01mNone\u001b[39;00m\n\u001b[1;32m    186\u001b[0m \u001b[38;5;28;01melse\u001b[39;00m:\n\u001b[1;32m    187\u001b[0m     \u001b[38;5;28;01mraise\u001b[39;00m\n",
      "\u001b[0;31mAnalysisException\u001b[0m: [NUM_COLUMNS_MISMATCH] UNION can only be performed on inputs with the same number of columns, but the first input has 2 columns and the second input has 1 columns.;\n'Union false, false\n:- LogicalRDD [name#0, s_year#1L], false\n+- LogicalRDD [player_stats#13], false\n"
     ]
    }
   ],
   "source": [
    "df.unionAll(other_df)"
   ]
  },
  {
   "cell_type": "code",
   "execution_count": null,
   "metadata": {},
   "outputs": [],
   "source": []
  },
  {
   "cell_type": "code",
   "execution_count": null,
   "metadata": {},
   "outputs": [],
   "source": []
  },
  {
   "cell_type": "code",
   "execution_count": null,
   "metadata": {},
   "outputs": [],
   "source": []
  },
  {
   "cell_type": "code",
   "execution_count": null,
   "metadata": {},
   "outputs": [],
   "source": []
  },
  {
   "cell_type": "code",
   "execution_count": 90,
   "metadata": {},
   "outputs": [
    {
     "ename": "AnalysisException",
     "evalue": "[NUM_COLUMNS_MISMATCH] UNION can only be performed on inputs with the same number of columns, but the first input has 1 columns and the second input has 2 columns.;\n'Union false, false\n:- LogicalRDD [player_stats#100], false\n+- LogicalRDD [name#0, s_year#1L], false\n",
     "output_type": "error",
     "traceback": [
      "\u001b[0;31m---------------------------------------------------------------------------\u001b[0m",
      "\u001b[0;31mAnalysisException\u001b[0m                         Traceback (most recent call last)",
      "Cell \u001b[0;32mIn[90], line 1\u001b[0m\n\u001b[0;32m----> 1\u001b[0m \u001b[43mother_df\u001b[49m\u001b[38;5;241;43m.\u001b[39;49m\u001b[43munion\u001b[49m\u001b[43m(\u001b[49m\u001b[43mdf\u001b[49m\u001b[43m)\u001b[49m\n",
      "File \u001b[0;32m~/.pyenv/versions/soccer_app_env1/lib/python3.11/site-packages/pyspark/sql/dataframe.py:3929\u001b[0m, in \u001b[0;36mDataFrame.union\u001b[0;34m(self, other)\u001b[0m\n\u001b[1;32m   3833\u001b[0m \u001b[38;5;28;01mdef\u001b[39;00m \u001b[38;5;21munion\u001b[39m(\u001b[38;5;28mself\u001b[39m, other: \u001b[38;5;124m\"\u001b[39m\u001b[38;5;124mDataFrame\u001b[39m\u001b[38;5;124m\"\u001b[39m) \u001b[38;5;241m-\u001b[39m\u001b[38;5;241m>\u001b[39m \u001b[38;5;124m\"\u001b[39m\u001b[38;5;124mDataFrame\u001b[39m\u001b[38;5;124m\"\u001b[39m:\n\u001b[1;32m   3834\u001b[0m \u001b[38;5;250m    \u001b[39m\u001b[38;5;124;03m\"\"\"Return a new :class:`DataFrame` containing the union of rows in this and another\u001b[39;00m\n\u001b[1;32m   3835\u001b[0m \u001b[38;5;124;03m    :class:`DataFrame`.\u001b[39;00m\n\u001b[1;32m   3836\u001b[0m \n\u001b[0;32m   (...)\u001b[0m\n\u001b[1;32m   3927\u001b[0m \u001b[38;5;124;03m    +---+-----+\u001b[39;00m\n\u001b[1;32m   3928\u001b[0m \u001b[38;5;124;03m    \"\"\"\u001b[39;00m\n\u001b[0;32m-> 3929\u001b[0m     \u001b[38;5;28;01mreturn\u001b[39;00m DataFrame(\u001b[38;5;28;43mself\u001b[39;49m\u001b[38;5;241;43m.\u001b[39;49m\u001b[43m_jdf\u001b[49m\u001b[38;5;241;43m.\u001b[39;49m\u001b[43munion\u001b[49m\u001b[43m(\u001b[49m\u001b[43mother\u001b[49m\u001b[38;5;241;43m.\u001b[39;49m\u001b[43m_jdf\u001b[49m\u001b[43m)\u001b[49m, \u001b[38;5;28mself\u001b[39m\u001b[38;5;241m.\u001b[39msparkSession)\n",
      "File \u001b[0;32m~/.pyenv/versions/soccer_app_env1/lib/python3.11/site-packages/py4j/java_gateway.py:1322\u001b[0m, in \u001b[0;36mJavaMember.__call__\u001b[0;34m(self, *args)\u001b[0m\n\u001b[1;32m   1316\u001b[0m command \u001b[38;5;241m=\u001b[39m proto\u001b[38;5;241m.\u001b[39mCALL_COMMAND_NAME \u001b[38;5;241m+\u001b[39m\\\n\u001b[1;32m   1317\u001b[0m     \u001b[38;5;28mself\u001b[39m\u001b[38;5;241m.\u001b[39mcommand_header \u001b[38;5;241m+\u001b[39m\\\n\u001b[1;32m   1318\u001b[0m     args_command \u001b[38;5;241m+\u001b[39m\\\n\u001b[1;32m   1319\u001b[0m     proto\u001b[38;5;241m.\u001b[39mEND_COMMAND_PART\n\u001b[1;32m   1321\u001b[0m answer \u001b[38;5;241m=\u001b[39m \u001b[38;5;28mself\u001b[39m\u001b[38;5;241m.\u001b[39mgateway_client\u001b[38;5;241m.\u001b[39msend_command(command)\n\u001b[0;32m-> 1322\u001b[0m return_value \u001b[38;5;241m=\u001b[39m \u001b[43mget_return_value\u001b[49m\u001b[43m(\u001b[49m\n\u001b[1;32m   1323\u001b[0m \u001b[43m    \u001b[49m\u001b[43manswer\u001b[49m\u001b[43m,\u001b[49m\u001b[43m \u001b[49m\u001b[38;5;28;43mself\u001b[39;49m\u001b[38;5;241;43m.\u001b[39;49m\u001b[43mgateway_client\u001b[49m\u001b[43m,\u001b[49m\u001b[43m \u001b[49m\u001b[38;5;28;43mself\u001b[39;49m\u001b[38;5;241;43m.\u001b[39;49m\u001b[43mtarget_id\u001b[49m\u001b[43m,\u001b[49m\u001b[43m \u001b[49m\u001b[38;5;28;43mself\u001b[39;49m\u001b[38;5;241;43m.\u001b[39;49m\u001b[43mname\u001b[49m\u001b[43m)\u001b[49m\n\u001b[1;32m   1325\u001b[0m \u001b[38;5;28;01mfor\u001b[39;00m temp_arg \u001b[38;5;129;01min\u001b[39;00m temp_args:\n\u001b[1;32m   1326\u001b[0m     \u001b[38;5;28;01mif\u001b[39;00m \u001b[38;5;28mhasattr\u001b[39m(temp_arg, \u001b[38;5;124m\"\u001b[39m\u001b[38;5;124m_detach\u001b[39m\u001b[38;5;124m\"\u001b[39m):\n",
      "File \u001b[0;32m~/.pyenv/versions/soccer_app_env1/lib/python3.11/site-packages/pyspark/errors/exceptions/captured.py:185\u001b[0m, in \u001b[0;36mcapture_sql_exception.<locals>.deco\u001b[0;34m(*a, **kw)\u001b[0m\n\u001b[1;32m    181\u001b[0m converted \u001b[38;5;241m=\u001b[39m convert_exception(e\u001b[38;5;241m.\u001b[39mjava_exception)\n\u001b[1;32m    182\u001b[0m \u001b[38;5;28;01mif\u001b[39;00m \u001b[38;5;129;01mnot\u001b[39;00m \u001b[38;5;28misinstance\u001b[39m(converted, UnknownException):\n\u001b[1;32m    183\u001b[0m     \u001b[38;5;66;03m# Hide where the exception came from that shows a non-Pythonic\u001b[39;00m\n\u001b[1;32m    184\u001b[0m     \u001b[38;5;66;03m# JVM exception message.\u001b[39;00m\n\u001b[0;32m--> 185\u001b[0m     \u001b[38;5;28;01mraise\u001b[39;00m converted \u001b[38;5;28;01mfrom\u001b[39;00m \u001b[38;5;28;01mNone\u001b[39;00m\n\u001b[1;32m    186\u001b[0m \u001b[38;5;28;01melse\u001b[39;00m:\n\u001b[1;32m    187\u001b[0m     \u001b[38;5;28;01mraise\u001b[39;00m\n",
      "\u001b[0;31mAnalysisException\u001b[0m: [NUM_COLUMNS_MISMATCH] UNION can only be performed on inputs with the same number of columns, but the first input has 1 columns and the second input has 2 columns.;\n'Union false, false\n:- LogicalRDD [player_stats#100], false\n+- LogicalRDD [name#0, s_year#1L], false\n"
     ]
    }
   ],
   "source": [
    "other_df.union(df)"
   ]
  },
  {
   "cell_type": "code",
   "execution_count": null,
   "metadata": {},
   "outputs": [],
   "source": []
  },
  {
   "cell_type": "code",
   "execution_count": null,
   "metadata": {},
   "outputs": [],
   "source": []
  },
  {
   "cell_type": "code",
   "execution_count": null,
   "metadata": {},
   "outputs": [],
   "source": []
  },
  {
   "cell_type": "code",
   "execution_count": null,
   "metadata": {},
   "outputs": [],
   "source": []
  },
  {
   "cell_type": "code",
   "execution_count": null,
   "metadata": {},
   "outputs": [],
   "source": []
  },
  {
   "cell_type": "code",
   "execution_count": null,
   "metadata": {},
   "outputs": [],
   "source": []
  },
  {
   "cell_type": "code",
   "execution_count": null,
   "metadata": {},
   "outputs": [],
   "source": []
  },
  {
   "cell_type": "code",
   "execution_count": null,
   "metadata": {},
   "outputs": [],
   "source": []
  },
  {
   "cell_type": "code",
   "execution_count": 80,
   "metadata": {},
   "outputs": [
    {
     "ename": "PySparkTypeError",
     "evalue": "[NOT_COLUMN] Argument `col` should be a Column, got DataFrame.",
     "output_type": "error",
     "traceback": [
      "\u001b[0;31m---------------------------------------------------------------------------\u001b[0m",
      "\u001b[0;31mPySparkTypeError\u001b[0m                          Traceback (most recent call last)",
      "Cell \u001b[0;32mIn[80], line 1\u001b[0m\n\u001b[0;32m----> 1\u001b[0m other_col \u001b[38;5;241m=\u001b[39m \u001b[43mdf\u001b[49m\u001b[38;5;241;43m.\u001b[39;49m\u001b[43mwithColumn\u001b[49m\u001b[43m(\u001b[49m\u001b[38;5;124;43m\"\u001b[39;49m\u001b[38;5;124;43mplayer_stats\u001b[39;49m\u001b[38;5;124;43m\"\u001b[39;49m\u001b[43m,\u001b[49m\u001b[43m \u001b[49m\u001b[43mother_df\u001b[49m\u001b[43m)\u001b[49m\n",
      "File \u001b[0;32m~/.pyenv/versions/soccer_app_env1/lib/python3.11/site-packages/pyspark/sql/dataframe.py:5172\u001b[0m, in \u001b[0;36mDataFrame.withColumn\u001b[0;34m(self, colName, col)\u001b[0m\n\u001b[1;32m   5129\u001b[0m \u001b[38;5;250m\u001b[39m\u001b[38;5;124;03m\"\"\"\u001b[39;00m\n\u001b[1;32m   5130\u001b[0m \u001b[38;5;124;03mReturns a new :class:`DataFrame` by adding a column or replacing the\u001b[39;00m\n\u001b[1;32m   5131\u001b[0m \u001b[38;5;124;03mexisting column that has the same name.\u001b[39;00m\n\u001b[0;32m   (...)\u001b[0m\n\u001b[1;32m   5169\u001b[0m \u001b[38;5;124;03m+---+-----+----+\u001b[39;00m\n\u001b[1;32m   5170\u001b[0m \u001b[38;5;124;03m\"\"\"\u001b[39;00m\n\u001b[1;32m   5171\u001b[0m \u001b[38;5;28;01mif\u001b[39;00m \u001b[38;5;129;01mnot\u001b[39;00m \u001b[38;5;28misinstance\u001b[39m(col, Column):\n\u001b[0;32m-> 5172\u001b[0m     \u001b[38;5;28;01mraise\u001b[39;00m PySparkTypeError(\n\u001b[1;32m   5173\u001b[0m         error_class\u001b[38;5;241m=\u001b[39m\u001b[38;5;124m\"\u001b[39m\u001b[38;5;124mNOT_COLUMN\u001b[39m\u001b[38;5;124m\"\u001b[39m,\n\u001b[1;32m   5174\u001b[0m         message_parameters\u001b[38;5;241m=\u001b[39m{\u001b[38;5;124m\"\u001b[39m\u001b[38;5;124marg_name\u001b[39m\u001b[38;5;124m\"\u001b[39m: \u001b[38;5;124m\"\u001b[39m\u001b[38;5;124mcol\u001b[39m\u001b[38;5;124m\"\u001b[39m, \u001b[38;5;124m\"\u001b[39m\u001b[38;5;124marg_type\u001b[39m\u001b[38;5;124m\"\u001b[39m: \u001b[38;5;28mtype\u001b[39m(col)\u001b[38;5;241m.\u001b[39m\u001b[38;5;18m__name__\u001b[39m},\n\u001b[1;32m   5175\u001b[0m     )\n\u001b[1;32m   5176\u001b[0m \u001b[38;5;28;01mreturn\u001b[39;00m DataFrame(\u001b[38;5;28mself\u001b[39m\u001b[38;5;241m.\u001b[39m_jdf\u001b[38;5;241m.\u001b[39mwithColumn(colName, col\u001b[38;5;241m.\u001b[39m_jc), \u001b[38;5;28mself\u001b[39m\u001b[38;5;241m.\u001b[39msparkSession)\n",
      "\u001b[0;31mPySparkTypeError\u001b[0m: [NOT_COLUMN] Argument `col` should be a Column, got DataFrame."
     ]
    }
   ],
   "source": [
    "other_col = df.withColumn(\"player_stats\", other_df)\n"
   ]
  },
  {
   "cell_type": "code",
   "execution_count": null,
   "metadata": {},
   "outputs": [],
   "source": []
  },
  {
   "cell_type": "code",
   "execution_count": null,
   "metadata": {},
   "outputs": [],
   "source": []
  },
  {
   "cell_type": "code",
   "execution_count": 84,
   "metadata": {},
   "outputs": [
    {
     "ename": "SparkRuntimeException",
     "evalue": "[UNSUPPORTED_FEATURE.LITERAL_TYPE] The feature is not supported: Literal for '{team=HufflePuff, avg_SPI=8.2}' of class java.util.HashMap.",
     "output_type": "error",
     "traceback": [
      "\u001b[0;31m---------------------------------------------------------------------------\u001b[0m",
      "\u001b[0;31mSparkRuntimeException\u001b[0m                     Traceback (most recent call last)",
      "Cell \u001b[0;32mIn[84], line 21\u001b[0m\n\u001b[1;32m     18\u001b[0m dfx \u001b[38;5;241m=\u001b[39m spark_sess\u001b[38;5;241m.\u001b[39mcreateDataFrame(data, [\u001b[38;5;124m\"\u001b[39m\u001b[38;5;124mexisting_column\u001b[39m\u001b[38;5;124m\"\u001b[39m])\n\u001b[1;32m     20\u001b[0m \u001b[38;5;66;03m# Add the new column as an array of structs\u001b[39;00m\n\u001b[0;32m---> 21\u001b[0m new_col \u001b[38;5;241m=\u001b[39m array(\u001b[43m[\u001b[49m\u001b[43mlit\u001b[49m\u001b[43m(\u001b[49m\u001b[43mrow\u001b[49m\u001b[43m)\u001b[49m\u001b[38;5;241;43m.\u001b[39;49m\u001b[43malias\u001b[49m\u001b[43m(\u001b[49m\u001b[38;5;28;43mstr\u001b[39;49m\u001b[43m(\u001b[49m\u001b[43midx\u001b[49m\u001b[43m)\u001b[49m\u001b[43m)\u001b[49m\u001b[43m \u001b[49m\u001b[38;5;28;43;01mfor\u001b[39;49;00m\u001b[43m \u001b[49m\u001b[43midx\u001b[49m\u001b[43m,\u001b[49m\u001b[43m \u001b[49m\u001b[43mrow\u001b[49m\u001b[43m \u001b[49m\u001b[38;5;129;43;01min\u001b[39;49;00m\u001b[43m \u001b[49m\u001b[38;5;28;43menumerate\u001b[39;49m\u001b[43m(\u001b[49m\u001b[43mnew_column_data\u001b[49m\u001b[43m)\u001b[49m\u001b[43m]\u001b[49m)\n\u001b[1;32m     22\u001b[0m dfx \u001b[38;5;241m=\u001b[39m dfx\u001b[38;5;241m.\u001b[39mwithColumn(\u001b[38;5;124m\"\u001b[39m\u001b[38;5;124mnew_column\u001b[39m\u001b[38;5;124m\"\u001b[39m, new_col)\n\u001b[1;32m     24\u001b[0m \u001b[38;5;66;03m# Show the resulting DataFrame\u001b[39;00m\n",
      "Cell \u001b[0;32mIn[84], line 21\u001b[0m, in \u001b[0;36m<listcomp>\u001b[0;34m(.0)\u001b[0m\n\u001b[1;32m     18\u001b[0m dfx \u001b[38;5;241m=\u001b[39m spark_sess\u001b[38;5;241m.\u001b[39mcreateDataFrame(data, [\u001b[38;5;124m\"\u001b[39m\u001b[38;5;124mexisting_column\u001b[39m\u001b[38;5;124m\"\u001b[39m])\n\u001b[1;32m     20\u001b[0m \u001b[38;5;66;03m# Add the new column as an array of structs\u001b[39;00m\n\u001b[0;32m---> 21\u001b[0m new_col \u001b[38;5;241m=\u001b[39m array([\u001b[43mlit\u001b[49m\u001b[43m(\u001b[49m\u001b[43mrow\u001b[49m\u001b[43m)\u001b[49m\u001b[38;5;241m.\u001b[39malias(\u001b[38;5;28mstr\u001b[39m(idx)) \u001b[38;5;28;01mfor\u001b[39;00m idx, row \u001b[38;5;129;01min\u001b[39;00m \u001b[38;5;28menumerate\u001b[39m(new_column_data)])\n\u001b[1;32m     22\u001b[0m dfx \u001b[38;5;241m=\u001b[39m dfx\u001b[38;5;241m.\u001b[39mwithColumn(\u001b[38;5;124m\"\u001b[39m\u001b[38;5;124mnew_column\u001b[39m\u001b[38;5;124m\"\u001b[39m, new_col)\n\u001b[1;32m     24\u001b[0m \u001b[38;5;66;03m# Show the resulting DataFrame\u001b[39;00m\n",
      "File \u001b[0;32m~/.pyenv/versions/soccer_app_env1/lib/python3.11/site-packages/pyspark/sql/utils.py:174\u001b[0m, in \u001b[0;36mtry_remote_functions.<locals>.wrapped\u001b[0;34m(*args, **kwargs)\u001b[0m\n\u001b[1;32m    172\u001b[0m     \u001b[38;5;28;01mreturn\u001b[39;00m \u001b[38;5;28mgetattr\u001b[39m(functions, f\u001b[38;5;241m.\u001b[39m\u001b[38;5;18m__name__\u001b[39m)(\u001b[38;5;241m*\u001b[39margs, \u001b[38;5;241m*\u001b[39m\u001b[38;5;241m*\u001b[39mkwargs)\n\u001b[1;32m    173\u001b[0m \u001b[38;5;28;01melse\u001b[39;00m:\n\u001b[0;32m--> 174\u001b[0m     \u001b[38;5;28;01mreturn\u001b[39;00m \u001b[43mf\u001b[49m\u001b[43m(\u001b[49m\u001b[38;5;241;43m*\u001b[39;49m\u001b[43margs\u001b[49m\u001b[43m,\u001b[49m\u001b[43m \u001b[49m\u001b[38;5;241;43m*\u001b[39;49m\u001b[38;5;241;43m*\u001b[39;49m\u001b[43mkwargs\u001b[49m\u001b[43m)\u001b[49m\n",
      "File \u001b[0;32m~/.pyenv/versions/soccer_app_env1/lib/python3.11/site-packages/pyspark/sql/functions.py:193\u001b[0m, in \u001b[0;36mlit\u001b[0;34m(col)\u001b[0m\n\u001b[1;32m    191\u001b[0m     \u001b[38;5;28;01mif\u001b[39;00m dt \u001b[38;5;129;01mis\u001b[39;00m \u001b[38;5;129;01mnot\u001b[39;00m \u001b[38;5;28;01mNone\u001b[39;00m:\n\u001b[1;32m    192\u001b[0m         \u001b[38;5;28;01mreturn\u001b[39;00m _invoke_function(\u001b[38;5;124m\"\u001b[39m\u001b[38;5;124mlit\u001b[39m\u001b[38;5;124m\"\u001b[39m, col)\u001b[38;5;241m.\u001b[39mastype(dt)\u001b[38;5;241m.\u001b[39malias(\u001b[38;5;28mstr\u001b[39m(col))\n\u001b[0;32m--> 193\u001b[0m \u001b[38;5;28;01mreturn\u001b[39;00m \u001b[43m_invoke_function\u001b[49m\u001b[43m(\u001b[49m\u001b[38;5;124;43m\"\u001b[39;49m\u001b[38;5;124;43mlit\u001b[39;49m\u001b[38;5;124;43m\"\u001b[39;49m\u001b[43m,\u001b[49m\u001b[43m \u001b[49m\u001b[43mcol\u001b[49m\u001b[43m)\u001b[49m\n",
      "File \u001b[0;32m~/.pyenv/versions/soccer_app_env1/lib/python3.11/site-packages/pyspark/sql/functions.py:97\u001b[0m, in \u001b[0;36m_invoke_function\u001b[0;34m(name, *args)\u001b[0m\n\u001b[1;32m     95\u001b[0m \u001b[38;5;28;01massert\u001b[39;00m SparkContext\u001b[38;5;241m.\u001b[39m_active_spark_context \u001b[38;5;129;01mis\u001b[39;00m \u001b[38;5;129;01mnot\u001b[39;00m \u001b[38;5;28;01mNone\u001b[39;00m\n\u001b[1;32m     96\u001b[0m jf \u001b[38;5;241m=\u001b[39m _get_jvm_function(name, SparkContext\u001b[38;5;241m.\u001b[39m_active_spark_context)\n\u001b[0;32m---> 97\u001b[0m \u001b[38;5;28;01mreturn\u001b[39;00m Column(\u001b[43mjf\u001b[49m\u001b[43m(\u001b[49m\u001b[38;5;241;43m*\u001b[39;49m\u001b[43margs\u001b[49m\u001b[43m)\u001b[49m)\n",
      "File \u001b[0;32m~/.pyenv/versions/soccer_app_env1/lib/python3.11/site-packages/py4j/java_gateway.py:1322\u001b[0m, in \u001b[0;36mJavaMember.__call__\u001b[0;34m(self, *args)\u001b[0m\n\u001b[1;32m   1316\u001b[0m command \u001b[38;5;241m=\u001b[39m proto\u001b[38;5;241m.\u001b[39mCALL_COMMAND_NAME \u001b[38;5;241m+\u001b[39m\\\n\u001b[1;32m   1317\u001b[0m     \u001b[38;5;28mself\u001b[39m\u001b[38;5;241m.\u001b[39mcommand_header \u001b[38;5;241m+\u001b[39m\\\n\u001b[1;32m   1318\u001b[0m     args_command \u001b[38;5;241m+\u001b[39m\\\n\u001b[1;32m   1319\u001b[0m     proto\u001b[38;5;241m.\u001b[39mEND_COMMAND_PART\n\u001b[1;32m   1321\u001b[0m answer \u001b[38;5;241m=\u001b[39m \u001b[38;5;28mself\u001b[39m\u001b[38;5;241m.\u001b[39mgateway_client\u001b[38;5;241m.\u001b[39msend_command(command)\n\u001b[0;32m-> 1322\u001b[0m return_value \u001b[38;5;241m=\u001b[39m \u001b[43mget_return_value\u001b[49m\u001b[43m(\u001b[49m\n\u001b[1;32m   1323\u001b[0m \u001b[43m    \u001b[49m\u001b[43manswer\u001b[49m\u001b[43m,\u001b[49m\u001b[43m \u001b[49m\u001b[38;5;28;43mself\u001b[39;49m\u001b[38;5;241;43m.\u001b[39;49m\u001b[43mgateway_client\u001b[49m\u001b[43m,\u001b[49m\u001b[43m \u001b[49m\u001b[38;5;28;43mself\u001b[39;49m\u001b[38;5;241;43m.\u001b[39;49m\u001b[43mtarget_id\u001b[49m\u001b[43m,\u001b[49m\u001b[43m \u001b[49m\u001b[38;5;28;43mself\u001b[39;49m\u001b[38;5;241;43m.\u001b[39;49m\u001b[43mname\u001b[49m\u001b[43m)\u001b[49m\n\u001b[1;32m   1325\u001b[0m \u001b[38;5;28;01mfor\u001b[39;00m temp_arg \u001b[38;5;129;01min\u001b[39;00m temp_args:\n\u001b[1;32m   1326\u001b[0m     \u001b[38;5;28;01mif\u001b[39;00m \u001b[38;5;28mhasattr\u001b[39m(temp_arg, \u001b[38;5;124m\"\u001b[39m\u001b[38;5;124m_detach\u001b[39m\u001b[38;5;124m\"\u001b[39m):\n",
      "File \u001b[0;32m~/.pyenv/versions/soccer_app_env1/lib/python3.11/site-packages/pyspark/errors/exceptions/captured.py:185\u001b[0m, in \u001b[0;36mcapture_sql_exception.<locals>.deco\u001b[0;34m(*a, **kw)\u001b[0m\n\u001b[1;32m    181\u001b[0m converted \u001b[38;5;241m=\u001b[39m convert_exception(e\u001b[38;5;241m.\u001b[39mjava_exception)\n\u001b[1;32m    182\u001b[0m \u001b[38;5;28;01mif\u001b[39;00m \u001b[38;5;129;01mnot\u001b[39;00m \u001b[38;5;28misinstance\u001b[39m(converted, UnknownException):\n\u001b[1;32m    183\u001b[0m     \u001b[38;5;66;03m# Hide where the exception came from that shows a non-Pythonic\u001b[39;00m\n\u001b[1;32m    184\u001b[0m     \u001b[38;5;66;03m# JVM exception message.\u001b[39;00m\n\u001b[0;32m--> 185\u001b[0m     \u001b[38;5;28;01mraise\u001b[39;00m converted \u001b[38;5;28;01mfrom\u001b[39;00m \u001b[38;5;28;01mNone\u001b[39;00m\n\u001b[1;32m    186\u001b[0m \u001b[38;5;28;01melse\u001b[39;00m:\n\u001b[1;32m    187\u001b[0m     \u001b[38;5;28;01mraise\u001b[39;00m\n",
      "\u001b[0;31mSparkRuntimeException\u001b[0m: [UNSUPPORTED_FEATURE.LITERAL_TYPE] The feature is not supported: Literal for '{team=HufflePuff, avg_SPI=8.2}' of class java.util.HashMap."
     ]
    }
   ],
   "source": [
    "from pyspark.sql import Row, SparkSession\n",
    "from pyspark.sql.functions import lit, col, struct, array\n",
    "\n",
    "# # Create a SparkSession\n",
    "# spark = SparkSession.builder.appName(\"CreateColumnExample\").getOrCreate()\n",
    "\n",
    "# Example data\n",
    "new_column = [\n",
    "    {\"team\": \"HufflePuff\", \"avg_SPI\": 8.2},\n",
    "    {\"team\": \"Gryffindor\", \"avg_SPI\": 7.8}\n",
    "]\n",
    "\n",
    "# Convert the list of Rows into a list of dictionaries\n",
    "new_column_data = [row for row in new_column]\n",
    "\n",
    "# Create a DataFrame to demonstrate adding the column\n",
    "datax = [(\"Team1\",), (\"Team2\",)]\n",
    "dfx = spark_sess.createDataFrame(data, [\"existing_column\"])\n",
    "\n",
    "# Add the new column as an array of structs\n",
    "new_col = array([lit(row).alias(str(idx)) for idx, row in enumerate(new_column_data)])\n",
    "dfx = dfx.withColumn(\"new_column\", new_col)\n",
    "\n",
    "# Show the resulting DataFrame\n",
    "dfx.show(truncate=False)\n"
   ]
  },
  {
   "cell_type": "code",
   "execution_count": null,
   "metadata": {},
   "outputs": [],
   "source": []
  },
  {
   "cell_type": "code",
   "execution_count": null,
   "metadata": {},
   "outputs": [],
   "source": []
  },
  {
   "cell_type": "code",
   "execution_count": 53,
   "metadata": {},
   "outputs": [
    {
     "ename": "PySparkTypeError",
     "evalue": "[NOT_COLUMN] Argument `col` should be a Column, got DataFrame.",
     "output_type": "error",
     "traceback": [
      "\u001b[0;31m---------------------------------------------------------------------------\u001b[0m",
      "\u001b[0;31mPySparkTypeError\u001b[0m                          Traceback (most recent call last)",
      "Cell \u001b[0;32mIn[53], line 1\u001b[0m\n\u001b[0;32m----> 1\u001b[0m \u001b[43mdf\u001b[49m\u001b[38;5;241;43m.\u001b[39;49m\u001b[43mwithColumn\u001b[49m\u001b[43m(\u001b[49m\u001b[38;5;124;43m\"\u001b[39;49m\u001b[38;5;124;43mx\u001b[39;49m\u001b[38;5;124;43m\"\u001b[39;49m\u001b[43m,\u001b[49m\u001b[43m \u001b[49m\u001b[43mother_df\u001b[49m\u001b[43m)\u001b[49m\n",
      "File \u001b[0;32m~/.pyenv/versions/soccer_app_env1/lib/python3.11/site-packages/pyspark/sql/dataframe.py:5172\u001b[0m, in \u001b[0;36mDataFrame.withColumn\u001b[0;34m(self, colName, col)\u001b[0m\n\u001b[1;32m   5129\u001b[0m \u001b[38;5;250m\u001b[39m\u001b[38;5;124;03m\"\"\"\u001b[39;00m\n\u001b[1;32m   5130\u001b[0m \u001b[38;5;124;03mReturns a new :class:`DataFrame` by adding a column or replacing the\u001b[39;00m\n\u001b[1;32m   5131\u001b[0m \u001b[38;5;124;03mexisting column that has the same name.\u001b[39;00m\n\u001b[0;32m   (...)\u001b[0m\n\u001b[1;32m   5169\u001b[0m \u001b[38;5;124;03m+---+-----+----+\u001b[39;00m\n\u001b[1;32m   5170\u001b[0m \u001b[38;5;124;03m\"\"\"\u001b[39;00m\n\u001b[1;32m   5171\u001b[0m \u001b[38;5;28;01mif\u001b[39;00m \u001b[38;5;129;01mnot\u001b[39;00m \u001b[38;5;28misinstance\u001b[39m(col, Column):\n\u001b[0;32m-> 5172\u001b[0m     \u001b[38;5;28;01mraise\u001b[39;00m PySparkTypeError(\n\u001b[1;32m   5173\u001b[0m         error_class\u001b[38;5;241m=\u001b[39m\u001b[38;5;124m\"\u001b[39m\u001b[38;5;124mNOT_COLUMN\u001b[39m\u001b[38;5;124m\"\u001b[39m,\n\u001b[1;32m   5174\u001b[0m         message_parameters\u001b[38;5;241m=\u001b[39m{\u001b[38;5;124m\"\u001b[39m\u001b[38;5;124marg_name\u001b[39m\u001b[38;5;124m\"\u001b[39m: \u001b[38;5;124m\"\u001b[39m\u001b[38;5;124mcol\u001b[39m\u001b[38;5;124m\"\u001b[39m, \u001b[38;5;124m\"\u001b[39m\u001b[38;5;124marg_type\u001b[39m\u001b[38;5;124m\"\u001b[39m: \u001b[38;5;28mtype\u001b[39m(col)\u001b[38;5;241m.\u001b[39m\u001b[38;5;18m__name__\u001b[39m},\n\u001b[1;32m   5175\u001b[0m     )\n\u001b[1;32m   5176\u001b[0m \u001b[38;5;28;01mreturn\u001b[39;00m DataFrame(\u001b[38;5;28mself\u001b[39m\u001b[38;5;241m.\u001b[39m_jdf\u001b[38;5;241m.\u001b[39mwithColumn(colName, col\u001b[38;5;241m.\u001b[39m_jc), \u001b[38;5;28mself\u001b[39m\u001b[38;5;241m.\u001b[39msparkSession)\n",
      "\u001b[0;31mPySparkTypeError\u001b[0m: [NOT_COLUMN] Argument `col` should be a Column, got DataFrame."
     ]
    }
   ],
   "source": [
    "df.withColumn(\"x\", other_df)"
   ]
  },
  {
   "cell_type": "code",
   "execution_count": null,
   "metadata": {},
   "outputs": [],
   "source": []
  },
  {
   "cell_type": "code",
   "execution_count": null,
   "metadata": {},
   "outputs": [],
   "source": []
  },
  {
   "cell_type": "code",
   "execution_count": null,
   "metadata": {},
   "outputs": [],
   "source": []
  },
  {
   "cell_type": "code",
   "execution_count": null,
   "metadata": {},
   "outputs": [
    {
     "ename": "Py4JError",
     "evalue": "An error occurred while calling o45.withColumn. Trace:\npy4j.Py4JException: Method withColumn([class java.util.ArrayList, class org.apache.spark.sql.Column]) does not exist\n\tat py4j.reflection.ReflectionEngine.getMethod(ReflectionEngine.java:321)\n\tat py4j.reflection.ReflectionEngine.getMethod(ReflectionEngine.java:329)\n\tat py4j.Gateway.invoke(Gateway.java:274)\n\tat py4j.commands.AbstractCommand.invokeMethod(AbstractCommand.java:132)\n\tat py4j.commands.CallCommand.execute(CallCommand.java:79)\n\tat py4j.ClientServerConnection.waitForCommands(ClientServerConnection.java:182)\n\tat py4j.ClientServerConnection.run(ClientServerConnection.java:106)\n\tat java.base/java.lang.Thread.run(Thread.java:829)\n\n",
     "output_type": "error",
     "traceback": [
      "\u001b[0;31m---------------------------------------------------------------------------\u001b[0m",
      "\u001b[0;31mPy4JError\u001b[0m                                 Traceback (most recent call last)",
      "Cell \u001b[0;32mIn[17], line 1\u001b[0m\n\u001b[0;32m----> 1\u001b[0m \u001b[43mdf\u001b[49m\u001b[38;5;241;43m.\u001b[39;49m\u001b[43mwithColumn\u001b[49m\u001b[43m(\u001b[49m\u001b[43mnew_column\u001b[49m\u001b[43m,\u001b[49m\u001b[43m \u001b[49m\u001b[43mlit\u001b[49m\u001b[43m(\u001b[49m\u001b[38;5;124;43m\"\u001b[39;49m\u001b[38;5;124;43mplayer_stats\u001b[39;49m\u001b[38;5;124;43m\"\u001b[39;49m\u001b[43m)\u001b[49m\u001b[43m)\u001b[49m\n",
      "File \u001b[0;32m~/.pyenv/versions/soccer_app_env1/lib/python3.11/site-packages/pyspark/sql/dataframe.py:5176\u001b[0m, in \u001b[0;36mDataFrame.withColumn\u001b[0;34m(self, colName, col)\u001b[0m\n\u001b[1;32m   5171\u001b[0m \u001b[38;5;28;01mif\u001b[39;00m \u001b[38;5;129;01mnot\u001b[39;00m \u001b[38;5;28misinstance\u001b[39m(col, Column):\n\u001b[1;32m   5172\u001b[0m     \u001b[38;5;28;01mraise\u001b[39;00m PySparkTypeError(\n\u001b[1;32m   5173\u001b[0m         error_class\u001b[38;5;241m=\u001b[39m\u001b[38;5;124m\"\u001b[39m\u001b[38;5;124mNOT_COLUMN\u001b[39m\u001b[38;5;124m\"\u001b[39m,\n\u001b[1;32m   5174\u001b[0m         message_parameters\u001b[38;5;241m=\u001b[39m{\u001b[38;5;124m\"\u001b[39m\u001b[38;5;124marg_name\u001b[39m\u001b[38;5;124m\"\u001b[39m: \u001b[38;5;124m\"\u001b[39m\u001b[38;5;124mcol\u001b[39m\u001b[38;5;124m\"\u001b[39m, \u001b[38;5;124m\"\u001b[39m\u001b[38;5;124marg_type\u001b[39m\u001b[38;5;124m\"\u001b[39m: \u001b[38;5;28mtype\u001b[39m(col)\u001b[38;5;241m.\u001b[39m\u001b[38;5;18m__name__\u001b[39m},\n\u001b[1;32m   5175\u001b[0m     )\n\u001b[0;32m-> 5176\u001b[0m \u001b[38;5;28;01mreturn\u001b[39;00m DataFrame(\u001b[38;5;28;43mself\u001b[39;49m\u001b[38;5;241;43m.\u001b[39;49m\u001b[43m_jdf\u001b[49m\u001b[38;5;241;43m.\u001b[39;49m\u001b[43mwithColumn\u001b[49m\u001b[43m(\u001b[49m\u001b[43mcolName\u001b[49m\u001b[43m,\u001b[49m\u001b[43m \u001b[49m\u001b[43mcol\u001b[49m\u001b[38;5;241;43m.\u001b[39;49m\u001b[43m_jc\u001b[49m\u001b[43m)\u001b[49m, \u001b[38;5;28mself\u001b[39m\u001b[38;5;241m.\u001b[39msparkSession)\n",
      "File \u001b[0;32m~/.pyenv/versions/soccer_app_env1/lib/python3.11/site-packages/py4j/java_gateway.py:1322\u001b[0m, in \u001b[0;36mJavaMember.__call__\u001b[0;34m(self, *args)\u001b[0m\n\u001b[1;32m   1316\u001b[0m command \u001b[38;5;241m=\u001b[39m proto\u001b[38;5;241m.\u001b[39mCALL_COMMAND_NAME \u001b[38;5;241m+\u001b[39m\\\n\u001b[1;32m   1317\u001b[0m     \u001b[38;5;28mself\u001b[39m\u001b[38;5;241m.\u001b[39mcommand_header \u001b[38;5;241m+\u001b[39m\\\n\u001b[1;32m   1318\u001b[0m     args_command \u001b[38;5;241m+\u001b[39m\\\n\u001b[1;32m   1319\u001b[0m     proto\u001b[38;5;241m.\u001b[39mEND_COMMAND_PART\n\u001b[1;32m   1321\u001b[0m answer \u001b[38;5;241m=\u001b[39m \u001b[38;5;28mself\u001b[39m\u001b[38;5;241m.\u001b[39mgateway_client\u001b[38;5;241m.\u001b[39msend_command(command)\n\u001b[0;32m-> 1322\u001b[0m return_value \u001b[38;5;241m=\u001b[39m \u001b[43mget_return_value\u001b[49m\u001b[43m(\u001b[49m\n\u001b[1;32m   1323\u001b[0m \u001b[43m    \u001b[49m\u001b[43manswer\u001b[49m\u001b[43m,\u001b[49m\u001b[43m \u001b[49m\u001b[38;5;28;43mself\u001b[39;49m\u001b[38;5;241;43m.\u001b[39;49m\u001b[43mgateway_client\u001b[49m\u001b[43m,\u001b[49m\u001b[43m \u001b[49m\u001b[38;5;28;43mself\u001b[39;49m\u001b[38;5;241;43m.\u001b[39;49m\u001b[43mtarget_id\u001b[49m\u001b[43m,\u001b[49m\u001b[43m \u001b[49m\u001b[38;5;28;43mself\u001b[39;49m\u001b[38;5;241;43m.\u001b[39;49m\u001b[43mname\u001b[49m\u001b[43m)\u001b[49m\n\u001b[1;32m   1325\u001b[0m \u001b[38;5;28;01mfor\u001b[39;00m temp_arg \u001b[38;5;129;01min\u001b[39;00m temp_args:\n\u001b[1;32m   1326\u001b[0m     \u001b[38;5;28;01mif\u001b[39;00m \u001b[38;5;28mhasattr\u001b[39m(temp_arg, \u001b[38;5;124m\"\u001b[39m\u001b[38;5;124m_detach\u001b[39m\u001b[38;5;124m\"\u001b[39m):\n",
      "File \u001b[0;32m~/.pyenv/versions/soccer_app_env1/lib/python3.11/site-packages/pyspark/errors/exceptions/captured.py:179\u001b[0m, in \u001b[0;36mcapture_sql_exception.<locals>.deco\u001b[0;34m(*a, **kw)\u001b[0m\n\u001b[1;32m    177\u001b[0m \u001b[38;5;28;01mdef\u001b[39;00m \u001b[38;5;21mdeco\u001b[39m(\u001b[38;5;241m*\u001b[39ma: Any, \u001b[38;5;241m*\u001b[39m\u001b[38;5;241m*\u001b[39mkw: Any) \u001b[38;5;241m-\u001b[39m\u001b[38;5;241m>\u001b[39m Any:\n\u001b[1;32m    178\u001b[0m     \u001b[38;5;28;01mtry\u001b[39;00m:\n\u001b[0;32m--> 179\u001b[0m         \u001b[38;5;28;01mreturn\u001b[39;00m \u001b[43mf\u001b[49m\u001b[43m(\u001b[49m\u001b[38;5;241;43m*\u001b[39;49m\u001b[43ma\u001b[49m\u001b[43m,\u001b[49m\u001b[43m \u001b[49m\u001b[38;5;241;43m*\u001b[39;49m\u001b[38;5;241;43m*\u001b[39;49m\u001b[43mkw\u001b[49m\u001b[43m)\u001b[49m\n\u001b[1;32m    180\u001b[0m     \u001b[38;5;28;01mexcept\u001b[39;00m Py4JJavaError \u001b[38;5;28;01mas\u001b[39;00m e:\n\u001b[1;32m    181\u001b[0m         converted \u001b[38;5;241m=\u001b[39m convert_exception(e\u001b[38;5;241m.\u001b[39mjava_exception)\n",
      "File \u001b[0;32m~/.pyenv/versions/soccer_app_env1/lib/python3.11/site-packages/py4j/protocol.py:330\u001b[0m, in \u001b[0;36mget_return_value\u001b[0;34m(answer, gateway_client, target_id, name)\u001b[0m\n\u001b[1;32m    326\u001b[0m         \u001b[38;5;28;01mraise\u001b[39;00m Py4JJavaError(\n\u001b[1;32m    327\u001b[0m             \u001b[38;5;124m\"\u001b[39m\u001b[38;5;124mAn error occurred while calling \u001b[39m\u001b[38;5;132;01m{0}\u001b[39;00m\u001b[38;5;132;01m{1}\u001b[39;00m\u001b[38;5;132;01m{2}\u001b[39;00m\u001b[38;5;124m.\u001b[39m\u001b[38;5;130;01m\\n\u001b[39;00m\u001b[38;5;124m\"\u001b[39m\u001b[38;5;241m.\u001b[39m\n\u001b[1;32m    328\u001b[0m             \u001b[38;5;28mformat\u001b[39m(target_id, \u001b[38;5;124m\"\u001b[39m\u001b[38;5;124m.\u001b[39m\u001b[38;5;124m\"\u001b[39m, name), value)\n\u001b[1;32m    329\u001b[0m     \u001b[38;5;28;01melse\u001b[39;00m:\n\u001b[0;32m--> 330\u001b[0m         \u001b[38;5;28;01mraise\u001b[39;00m Py4JError(\n\u001b[1;32m    331\u001b[0m             \u001b[38;5;124m\"\u001b[39m\u001b[38;5;124mAn error occurred while calling \u001b[39m\u001b[38;5;132;01m{0}\u001b[39;00m\u001b[38;5;132;01m{1}\u001b[39;00m\u001b[38;5;132;01m{2}\u001b[39;00m\u001b[38;5;124m. Trace:\u001b[39m\u001b[38;5;130;01m\\n\u001b[39;00m\u001b[38;5;132;01m{3}\u001b[39;00m\u001b[38;5;130;01m\\n\u001b[39;00m\u001b[38;5;124m\"\u001b[39m\u001b[38;5;241m.\u001b[39m\n\u001b[1;32m    332\u001b[0m             \u001b[38;5;28mformat\u001b[39m(target_id, \u001b[38;5;124m\"\u001b[39m\u001b[38;5;124m.\u001b[39m\u001b[38;5;124m\"\u001b[39m, name, value))\n\u001b[1;32m    333\u001b[0m \u001b[38;5;28;01melse\u001b[39;00m:\n\u001b[1;32m    334\u001b[0m     \u001b[38;5;28;01mraise\u001b[39;00m Py4JError(\n\u001b[1;32m    335\u001b[0m         \u001b[38;5;124m\"\u001b[39m\u001b[38;5;124mAn error occurred while calling \u001b[39m\u001b[38;5;132;01m{0}\u001b[39;00m\u001b[38;5;132;01m{1}\u001b[39;00m\u001b[38;5;132;01m{2}\u001b[39;00m\u001b[38;5;124m\"\u001b[39m\u001b[38;5;241m.\u001b[39m\n\u001b[1;32m    336\u001b[0m         \u001b[38;5;28mformat\u001b[39m(target_id, \u001b[38;5;124m\"\u001b[39m\u001b[38;5;124m.\u001b[39m\u001b[38;5;124m\"\u001b[39m, name))\n",
      "\u001b[0;31mPy4JError\u001b[0m: An error occurred while calling o45.withColumn. Trace:\npy4j.Py4JException: Method withColumn([class java.util.ArrayList, class org.apache.spark.sql.Column]) does not exist\n\tat py4j.reflection.ReflectionEngine.getMethod(ReflectionEngine.java:321)\n\tat py4j.reflection.ReflectionEngine.getMethod(ReflectionEngine.java:329)\n\tat py4j.Gateway.invoke(Gateway.java:274)\n\tat py4j.commands.AbstractCommand.invokeMethod(AbstractCommand.java:132)\n\tat py4j.commands.CallCommand.execute(CallCommand.java:79)\n\tat py4j.ClientServerConnection.waitForCommands(ClientServerConnection.java:182)\n\tat py4j.ClientServerConnection.run(ClientServerConnection.java:106)\n\tat java.base/java.lang.Thread.run(Thread.java:829)\n\n"
     ]
    }
   ],
   "source": [
    "df.withColumn(new_column, lit(\"player_stats\"))\n",
    "df.withColumn(new_column, col(\"player_stats\"))"
   ]
  },
  {
   "cell_type": "code",
   "execution_count": null,
   "metadata": {},
   "outputs": [],
   "source": []
  },
  {
   "cell_type": "code",
   "execution_count": null,
   "metadata": {},
   "outputs": [],
   "source": []
  },
  {
   "cell_type": "code",
   "execution_count": 26,
   "metadata": {},
   "outputs": [],
   "source": [
    "from pyspark.sql.types import MapType, StringType\n",
    "from pyspark.sql.functions import udf, col, monotonically_increasing_id\n"
   ]
  },
  {
   "cell_type": "code",
   "execution_count": 34,
   "metadata": {},
   "outputs": [],
   "source": [
    "# Convert player stats to a JSON string before adding it to DataFrame\n",
    "def get_player_stats(match_url):\n",
    "    # Extract the player stats based on the match_url (already scraped)\n",
    "    match_index = new_column.index((match_url,))\n",
    "    return new_column[match_index]\n",
    "\n",
    "get_player_stats_udf = udf(get_player_stats, MapType(StringType(), StringType()))\n",
    "\n",
    "\n",
    "# # Add the player stats as a MapType column\n",
    "# match_df = df.withColumn(\"player_stats\", get_player_stats_udf(\"match_url\"))\n",
    "\n",
    "# # Convert the MapType column to a JSON string column\n",
    "# match_df_with_json = df.withColumn(\"player_stats_json\", to_json(col(\"player_stats\")))\n"
   ]
  },
  {
   "cell_type": "code",
   "execution_count": 35,
   "metadata": {},
   "outputs": [
    {
     "data": {
      "text/plain": [
       "Column<'get_player_stats(match_url)'>"
      ]
     },
     "execution_count": 35,
     "metadata": {},
     "output_type": "execute_result"
    }
   ],
   "source": [
    "get_player_stats_udf(\"match_url\")\n"
   ]
  },
  {
   "cell_type": "code",
   "execution_count": 110,
   "metadata": {},
   "outputs": [],
   "source": [
    "x = \"{'age': '[46,36,75]'}\""
   ]
  },
  {
   "cell_type": "code",
   "execution_count": 111,
   "metadata": {},
   "outputs": [
    {
     "data": {
      "text/plain": [
       "\"{'age': '[46,36,75]'}\""
      ]
     },
     "execution_count": 111,
     "metadata": {},
     "output_type": "execute_result"
    }
   ],
   "source": [
    "x"
   ]
  },
  {
   "cell_type": "code",
   "execution_count": 115,
   "metadata": {},
   "outputs": [],
   "source": [
    "import json\n",
    "import ast"
   ]
  },
  {
   "cell_type": "code",
   "execution_count": 116,
   "metadata": {},
   "outputs": [
    {
     "data": {
      "text/plain": [
       "{'age': '[46,36,75]'}"
      ]
     },
     "execution_count": 116,
     "metadata": {},
     "output_type": "execute_result"
    }
   ],
   "source": [
    "# y = json.loads(x)\n",
    "y = ast.literal_eval(x)\n",
    "y"
   ]
  },
  {
   "cell_type": "code",
   "execution_count": 117,
   "metadata": {},
   "outputs": [
    {
     "data": {
      "text/plain": [
       "{'age': '[46,36,75]'}"
      ]
     },
     "execution_count": 117,
     "metadata": {},
     "output_type": "execute_result"
    }
   ],
   "source": [
    "y"
   ]
  },
  {
   "cell_type": "code",
   "execution_count": 118,
   "metadata": {},
   "outputs": [
    {
     "data": {
      "text/plain": [
       "dict"
      ]
     },
     "execution_count": 118,
     "metadata": {},
     "output_type": "execute_result"
    }
   ],
   "source": [
    "type(y)"
   ]
  },
  {
   "cell_type": "code",
   "execution_count": 120,
   "metadata": {},
   "outputs": [
    {
     "name": "stdout",
     "output_type": "stream",
     "text": [
      "('age', '[46,36,75]')\n"
     ]
    }
   ],
   "source": [
    "# for i in zip(y.keys(), y.values()):\n",
    "#     print(i)"
   ]
  },
  {
   "cell_type": "code",
   "execution_count": 124,
   "metadata": {},
   "outputs": [
    {
     "name": "stdout",
     "output_type": "stream",
     "text": [
      "[46, 36, 75] <class 'list'>\n"
     ]
    }
   ],
   "source": [
    "for i in y.values():\n",
    "    j = ast.literal_eval(i)\n",
    "    print(j, type(j))"
   ]
  },
  {
   "cell_type": "code",
   "execution_count": 125,
   "metadata": {},
   "outputs": [
    {
     "data": {
      "text/plain": [
       "{'age': '[46,36,75]'}"
      ]
     },
     "execution_count": 125,
     "metadata": {},
     "output_type": "execute_result"
    }
   ],
   "source": [
    "y"
   ]
  },
  {
   "cell_type": "code",
   "execution_count": 127,
   "metadata": {},
   "outputs": [
    {
     "data": {
      "text/plain": [
       "dict_values(['[46,36,75]'])"
      ]
     },
     "execution_count": 127,
     "metadata": {},
     "output_type": "execute_result"
    }
   ],
   "source": [
    "y.values()"
   ]
  },
  {
   "cell_type": "code",
   "execution_count": null,
   "metadata": {},
   "outputs": [],
   "source": []
  },
  {
   "cell_type": "code",
   "execution_count": null,
   "metadata": {},
   "outputs": [],
   "source": []
  },
  {
   "cell_type": "code",
   "execution_count": null,
   "metadata": {},
   "outputs": [],
   "source": []
  },
  {
   "cell_type": "code",
   "execution_count": null,
   "metadata": {},
   "outputs": [],
   "source": []
  },
  {
   "cell_type": "code",
   "execution_count": null,
   "metadata": {},
   "outputs": [],
   "source": []
  },
  {
   "cell_type": "code",
   "execution_count": null,
   "metadata": {},
   "outputs": [],
   "source": []
  },
  {
   "cell_type": "code",
   "execution_count": null,
   "metadata": {},
   "outputs": [],
   "source": []
  },
  {
   "cell_type": "code",
   "execution_count": null,
   "metadata": {},
   "outputs": [],
   "source": []
  },
  {
   "cell_type": "code",
   "execution_count": 22,
   "metadata": {},
   "outputs": [],
   "source": [
    "# start here"
   ]
  },
  {
   "cell_type": "code",
   "execution_count": 23,
   "metadata": {},
   "outputs": [],
   "source": [
    "from pyspark.sql.functions import col, from_json, expr\n",
    "from pyspark.sql.types import StructType, StringType, ArrayType, FloatType, StructField, IntegerType"
   ]
  },
  {
   "cell_type": "code",
   "execution_count": 24,
   "metadata": {},
   "outputs": [],
   "source": [
    "competition_name = \"mls\"\n",
    "competition_year = 2024"
   ]
  },
  {
   "cell_type": "code",
   "execution_count": 25,
   "metadata": {},
   "outputs": [
    {
     "name": "stderr",
     "output_type": "stream",
     "text": [
      "25/01/01 09:36:36 WARN SparkSession: Using an existing Spark session; only runtime SQL configurations will take effect.\n"
     ]
    }
   ],
   "source": [
    "spark_sess = SparkSession.builder.appName(\"PlayerStatsSession\").getOrCreate()"
   ]
  },
  {
   "cell_type": "code",
   "execution_count": 26,
   "metadata": {},
   "outputs": [
    {
     "name": "stdout",
     "output_type": "stream",
     "text": [
      "+--------------------+----------------+----------------+--------------------+\n",
      "|           match_url|competition_name|competition_year|        player_stats|\n",
      "+--------------------+----------------+----------------+--------------------+\n",
      "|https://www.fotmo...|             mls|            2024|{\"Shirt_Numbers\":...|\n",
      "|https://www.fotmo...|             mls|            2024|{\"Shirt_Numbers\":...|\n",
      "|https://www.fotmo...|             mls|            2024|{\"Shirt_Numbers\":...|\n",
      "|https://www.fotmo...|             mls|            2024|{\"Shirt_Numbers\":...|\n",
      "|https://www.fotmo...|             mls|            2024|{\"Shirt_Numbers\":...|\n",
      "|https://www.fotmo...|             mls|            2024|{\"Shirt_Numbers\":...|\n",
      "|https://www.fotmo...|             mls|            2024|{\"Shirt_Numbers\":...|\n",
      "|https://www.fotmo...|             mls|            2024|{\"Shirt_Numbers\":...|\n",
      "|https://www.fotmo...|             mls|            2024|{\"Shirt_Numbers\":...|\n",
      "|https://www.fotmo...|             mls|            2024|{\"Shirt_Numbers\":...|\n",
      "|https://www.fotmo...|             mls|            2024|{\"Shirt_Numbers\":...|\n",
      "|https://www.fotmo...|             mls|            2024|{\"Shirt_Numbers\":...|\n",
      "|https://www.fotmo...|             mls|            2024|{\"Shirt_Numbers\":...|\n",
      "|https://www.fotmo...|             mls|            2024|{\"Shirt_Numbers\":...|\n",
      "|https://www.fotmo...|             mls|            2024|{\"Shirt_Numbers\":...|\n",
      "|https://www.fotmo...|             mls|            2024|{\"Shirt_Numbers\":...|\n",
      "|https://www.fotmo...|             mls|            2024|{\"Shirt_Numbers\":...|\n",
      "|https://www.fotmo...|             mls|            2024|{\"Shirt_Numbers\":...|\n",
      "|https://www.fotmo...|             mls|            2024|{\"Shirt_Numbers\":...|\n",
      "|https://www.fotmo...|             mls|            2024|{\"Shirt_Numbers\":...|\n",
      "+--------------------+----------------+----------------+--------------------+\n",
      "only showing top 20 rows\n",
      "\n",
      "None\n"
     ]
    }
   ],
   "source": [
    "df = spark_sess.read.csv(f\"/Users/druestaples/projects/soccer_mvp_project/MlsMvp/{competition_name}_{competition_year}_player_stats.csv\", header=True, inferSchema=True)\n",
    "print(df.show())\n"
   ]
  },
  {
   "cell_type": "code",
   "execution_count": 27,
   "metadata": {},
   "outputs": [
    {
     "data": {
      "text/plain": [
       "DataFrame[player_stats: string]"
      ]
     },
     "execution_count": 27,
     "metadata": {},
     "output_type": "execute_result"
    }
   ],
   "source": [
    "g = df.select(df.player_stats)\n",
    "g"
   ]
  },
  {
   "cell_type": "code",
   "execution_count": 28,
   "metadata": {},
   "outputs": [
    {
     "name": "stdout",
     "output_type": "stream",
     "text": [
      "+--------------------+\n",
      "|        player_stats|\n",
      "+--------------------+\n",
      "|{\"Shirt_Numbers\":...|\n",
      "|{\"Shirt_Numbers\":...|\n",
      "|{\"Shirt_Numbers\":...|\n",
      "|{\"Shirt_Numbers\":...|\n",
      "|{\"Shirt_Numbers\":...|\n",
      "|{\"Shirt_Numbers\":...|\n",
      "|{\"Shirt_Numbers\":...|\n",
      "|{\"Shirt_Numbers\":...|\n",
      "|{\"Shirt_Numbers\":...|\n",
      "|{\"Shirt_Numbers\":...|\n",
      "|{\"Shirt_Numbers\":...|\n",
      "|{\"Shirt_Numbers\":...|\n",
      "|{\"Shirt_Numbers\":...|\n",
      "|{\"Shirt_Numbers\":...|\n",
      "|{\"Shirt_Numbers\":...|\n",
      "|{\"Shirt_Numbers\":...|\n",
      "|{\"Shirt_Numbers\":...|\n",
      "|{\"Shirt_Numbers\":...|\n",
      "|{\"Shirt_Numbers\":...|\n",
      "|{\"Shirt_Numbers\":...|\n",
      "+--------------------+\n",
      "only showing top 20 rows\n",
      "\n"
     ]
    }
   ],
   "source": [
    "g.show()"
   ]
  },
  {
   "cell_type": "code",
   "execution_count": 29,
   "metadata": {},
   "outputs": [
    {
     "data": {
      "text/plain": [
       "[Row(player_stats='{\"Shirt_Numbers\":\"[1, 2, 6, 27, 18, 24, 5, 20, 10, 9, 16, 9, 11, 7, 8, 13, 6, 2, 4, 15, 14, 18, 41, 7, 32, 29, 17, 92]\",\"SPI_Scores\":\"[7.3, 7.2, 7.6, 7.5, 7.7, 6.9, 7.8, 8.6, 8.5, 7.9, 8.4, 6.4, 5.3, 7.0, 6.9, 6.3, 6.9, 6.5, 6.6, 6.5, 6.8, 5.9, 6.3, 6.0, 6.1, 6.1, 6.1, 6.3]\",\"Player_Names\":\"[Drake Callender, DeAndre Yedlin, Tomas Aviles, Serhiy Kryvtsov, Jordi Alba, Julian Gressel, Sergio Busquets, Diego Gomez, Lionel Messi, Luis Suárez, Robert Taylor, Cristian Arango, Carlos Gomez, Pablo Ruiz, Diego Luna, Nelson Palacio, Braian Ojeda, Andrew Brody, Brayan Vera, Justen Glad, Emeka Eneli, Zac MacMath, David Ruiz, Jean Mota, Noah Allen, Anderson Julio, Fidel Barajas, Noel Caliskan]\"}'),\n",
       " Row(player_stats='{\"Shirt_Numbers\":\"[49, 24, 13, 12, 22, 6, 55, 17, 10, 26, 16, 7, 28, 10, 16, 11, 31, 27, 26, 5, 15, 76, 35, 27, 8, 9, 7, 9, 20, 33]\",\"SPI_Scores\":\"[2.9, 5.4, 3.8, 6.0, 4.4, 5.1, 6.0, 6.4, 8.2, 6.4, 7.1, 7.4, 8.3, 8.5, 7.5, 7.6, 7.6, 7.7, 7.6, 8.3, 7.9, 8.1, 6.8, 6.5, 6.4, 6.1, 6.2, 6.2, 7.1, 6.8]\",\"Player_Names\":\"[Matt Freese, Tayvon Gray, Thiago Martins, Strahinja Tanasijevic, Kevin O\\'Toole, James Sands, Keaton Parks, Hannes Wolf, Santiago Rodriguez, Agustin Ojeda, Alonso Martinez, Mikael Uhre, Tai Baribo, Daniel Gazdag, Jack McGlynn, Alejandro Bedoya, Leon Flach, Kai Wagner, Nathan Harriel, Jakob Glesnes, Olivier Mbaizo, Andrew Rick, Mitja Ilenic, Maxi Moralez, Andres Perea, Monsef Bakrar, Jovan Mijatovic, Samuel Adeniran, Jesus Bueno, Quinn Sullivan]\"}'),\n",
       " Row(player_stats='{\"Shirt_Numbers\":\"[18, 26, 5, 3, 27, 8, 33, 16, 10, 9, 7, 37, 22, 11, 31, 20, 17, 8, 2, 15, 27, 97, 11, 1, 21, 25, 14]\",\"SPI_Scores\":\"[6.9, 7.5, 7.2, 8.4, 8.1, 7.8, 7.9, 7.3, 7.9, 7.7, 6.9, 6.2, 6.2, 6.0, 6.1, 6.2, 7.3, 6.3, 6.3, 6.6, 6.4, 5.9, 7.4, 6.3, 5.8, 6.2, 5.8]\",\"Player_Names\":\"[Andre Blake, Nathan Harriel, Jakob Glesnes, Jack Elliott, Kai Wagner, Jose Andres Martinez, Quinn Sullivan, Jack McGlynn, Daniel Gazdag, Julian Carranza, Mikael Uhre, Caden Clark, Teemu Pukki, Sang-Bin Jeong, Hassani Dotson, Wil Trapp, Robin Lod, Joseph Rosales, Devin Padelford, Michael Boxall, D.J. Taylor, Dayne St. Clair, Alejandro Bedoya, Oliver Semmle, Bongokuhle Hlongwane, Alejandro Bran, Tani Oluwaseyi]\"}'),\n",
       " Row(player_stats='{\"Shirt_Numbers\":\"[]\",\"SPI_Scores\":\"[]\",\"Player_Names\":\"[]\"}'),\n",
       " Row(player_stats='{\"Shirt_Numbers\":\"[]\",\"SPI_Scores\":\"[]\",\"Player_Names\":\"[]\"}'),\n",
       " Row(player_stats='{\"Shirt_Numbers\":\"[12, 25, 28, 31, 5, 16, 6, 20, 8, 18, 10, 28, 9, 11, 10, 20, 18, 3, 4, 25, 2, 77, 35, 15, 14, 5]\",\"SPI_Scores\":\"[7.6, 7.8, 8.1, 7.2, 8.9, 7.5, 7.6, 6.7, 7.8, 7.3, 7.2, 6.5, 6.8, 7.8, 7.7, 6.0, 6.2, 6.7, 6.8, 6.6, 6.9, 6.4, 7.3, 6.1, 6.3, 6.3]\",\"Player_Names\":\"[Steve Clark, Griffin Dorsey, Erik Sviatchenko, Micael, Daniel Steres, Héctor Herrera, Artur, Adalberto Carrasquilla, Amine Bassi, Ibrahim Aliyu, Ezequiel Ponce, Joseph Paintsil, Dejan Joveljic, Gabriel Pec, Ricard Puig, Edwin Cerrillo, Marco Reus, Julian Aude, Maya Yoshida, Carlos Garces, Miki Yamane, John McCarthy, Brooklyn Raines, Latif Blessing, John Nelson, Gaston Brugman]\"}'),\n",
       " Row(player_stats='{\"Shirt_Numbers\":\"[1, 14, 5, 4, 38, 36, 20, 10, 17, 11, 9, 10, 18, 27, 20, 6, 35, 2, 4, 28, 25, 12, 29, 21, 14, 11, 15]\",\"SPI_Scores\":\"[8.6, 7.6, 7.7, 7.1, 7.3, 7.4, 7.0, 6.8, 8.6, 8.8, 6.9, 6.0, 6.6, 6.6, 6.4, 6.9, 7.4, 5.8, 6.4, 5.4, 5.7, 4.8, 6.3, 6.2, 6.4, 6.3, 6.2]\",\"Player_Names\":\"[Roman Bürki, Tomas Totland, Henry Kessler, Joakim Nilsson, Jannes-Kilian Horn, Cedric Teuchert, Akil Watts, Eduard Löwen, Marcel Hartel, Simon Becher, Joao Klauss, Ezequiel Ponce, Ibrahim Aliyu, Sebastian Kowalczyk, Adalberto Carrasquilla, Artur, Brooklyn Raines, Franco Escobar, Ethan Bartlow, Erik Sviatchenko, Griffin Dorsey, Steve Clark, Nökkvi Thorisson, Rasmus Alm, McKinze Gaines, Carlos Ferreira, Latif Blessing]\"}'),\n",
       " Row(player_stats='{\"Shirt_Numbers\":\"[1, 2, 4, 6, 16, 45, 20, 8, 3, 24, 11, 13, 14, 11, 93, 18, 7, 5, 25, 28, 16, 24, 28, 15, 13, 18, 23, 21, 8, 17, 10]\",\"SPI_Scores\":\"[5.8, 6.1, 5.6, 6.4, 7.1, 7.3, 5.9, 5.9, 6.8, 6.4, 4.6, 8.0, 8.0, 8.8, 8.0, 7.3, 7.2, 8.0, 7.2, 7.6, 7.6, 7.5, 6.0, 6.1, 6.4, 6.1, 6.2, 6.0, 6.0, 6.1, 5.8]\",\"Player_Names\":\"[Yohei Takaoka, Mathias Laborda, Ranko Veselinovic, Tristan Blackmon, Sebastian Berhalter, Pedro Vite, Andrés Cubas, Alessandro Schöpf, Sam Adekugbe, Brian White, Fabrice Picault, Jordan Morris, Paul Rothrock, Albert Rusnak, Georgi Minoungou, Obed Vargas, Cristian Roldan, Nouhou Tolo, Jackson Ragen, Yeimar Gomez, Alex Roldan, Stefan Frei, Levonte Johnson, Bjørn Inge Utvik, Ralph Priso-Mbongue, Edier Ocampo, Deiber Caicedo, Reed Baker-Whiting, Joshua Atencio, Danny Musovski, Pedro De la Vega]\"}'),\n",
       " Row(player_stats='{\"Shirt_Numbers\":\"[1, 14, 29, 34, 3, 30, 8, 13, 10, 9, 11, 9, 21, 10, 47, 8, 80, 25, 27, 3, 15, 31, 28, 18, 33, 11, 41, 12, 14, 17]\",\"SPI_Scores\":\"[8.2, 7.7, 7.3, 7.1, 7.0, 7.4, 7.5, 7.6, 9.0, 6.7, 8.0, 6.3, 7.1, 6.9, 6.5, 5.3, 6.6, 5.4, 5.3, 5.2, 5.8, 6.0, 6.3, 7.6, 8.5, 4.9, 5.9, 6.4, 6.3, 6.3]\",\"Player_Names\":\"[Kristijan Kahlina, Nathan Byrne, Adilson Malanda, Andrew Privett, Tim Ream, Junior Urso, Ashley Westwood, Brandt Bronico, Pep Biel, Karol Swiderski, Liel Abada, Giacomo Vrioni, Nacho Gil, Carles Gil, Esmir Bajraktarevic, Matt Polster, Alhassan Yusuf, Peyton Miller, Tim Parker, Xavier Arreaga, Brandon Bye, Aljaz Ivacic, Djibril Diani, Kerwin Vargas, Patrick Agyemang, Dylan Borrero, Luca Langoni, Nick Lima, Ian Harkes, Bobby Wood]\"}'),\n",
       " Row(player_stats='{\"Shirt_Numbers\":\"[34, 2, 22, 14, 24, 31, 23, 7, 17, 8, 9, 9, 19, 10, 24, 27, 54, 23, 22, 25, 29, 30, 5, 30, 36, 19, 20, 15, 14]\",\"SPI_Scores\":\"[6.3, 6.2, 6.4, 5.5, 6.3, 6.6, 6.0, 6.5, 6.3, 6.4, 7.0, 8.4, 8.2, 7.3, 6.7, 7.0, 6.9, 8.1, 6.9, 7.5, 8.2, 8.9, 6.6, 6.9, 6.2, 6.2, 8.1, 6.7, 7.5]\",\"Player_Names\":\"[Chris Brady, Arnaud Souquet, Mauricio Pineda, Tobias Salquist, Jonathan Dean, Federico Navarro, Kellyn Acosta, Maren Haile-Selassie, Brian Gutierrez, Chris Mueller, Hugo Cuypers, Sam Surridge, Alex Muyl, Hany Mukhtar, Jonathan Perez, Brian Anunga, Sean Davis, Taylor Washington, Josh Bauer, Walker Zimmerman, Julian Gaines, Elliot Panicco, Rafael Czichos, Gaston Claudio Gimenez, Justin Reynolds, Georgios Koutsias, Anibal Godoy, Patrick Yazbek, Jacob Shaffelburg]\"}'),\n",
       " Row(player_stats='{\"Shirt_Numbers\":\"[1, 57, 6, 14, 18, 30, 55, 7, 10, 9, 20, 59, 29, 18, 8, 13, 6, 9, 4, 3, 2, 1, 8, 5, 5, 35, 19, 16]\",\"SPI_Scores\":\"[5.1, 7.6, 7.4, 6.2, 6.6, 6.4, 8.1, 7.8, 8.2, 7.0, 6.2, 7.5, 8.9, 8.2, 6.3, 7.2, 8.8, 7.6, 6.2, 6.8, 6.9, 7.9, 6.0, 6.3, 6.5, 6.9, 6.2, 7.0]\",\"Player_Names\":\"[Drake Callender, Marcelo Weigandt, Tomas Aviles, Hector Martinez, Jordi Alba, Benjamin Cremaschi, Federico Redondo, Matias Rojas, Lionel Messi, Luis Suárez, Diego Gomez, Aleksey Miranchuk, Jamal Thiaré, Pedro Amador, Tristan Muyumba, Dax McCarty, Bartosz Slisz, Saba Lobzhanidze, Luis Abram, Derrick Williams, Ronald Hernández, Brad Guzan, Leonardo Campana, Sergio Busquets, Stian Gregersen, Ajani Fortune, Daniel Rios, Xande Silva]\"}'),\n",
       " Row(player_stats='{\"Shirt_Numbers\":\"[]\",\"SPI_Scores\":\"[]\",\"Player_Names\":\"[]\"}'),\n",
       " Row(player_stats='{\"Shirt_Numbers\":\"[1, 3, 18, 4, 29, 7, 33, 8, 17, 11, 10, 9, 8, 25, 11, 6, 14, 2, 4, 15, 26, 18, 6, 14, 13, 10, 29, 17, 16]\",\"SPI_Scores\":\"[6.8, 7.1, 7.5, 6.4, 7.9, 6.7, 5.9, 7.2, 7.4, 7.8, 8.1, 7.1, 6.5, 8.0, 7.4, 7.9, 7.4, 6.0, 6.4, 6.6, 6.7, 7.0, 6.7, 5.9, 6.2, 7.6, 6.8, 6.4, 6.0]\",\"Player_Names\":\"[Brad Stuver, Mikkel Desler, Julio Cascante, Brendan Hines-Ike, Guilherme Biro, Osman Bukari, Owen Wolff, Alexander Ring, Jon Gallagher, Jader Obrian, Sebastian Driussi, Cristian Arango, Diego Luna, Matt Crooks, Dominik Marczuk, Braian Ojeda, Emeka Eneli, Andrew Brody, Brayan Vera, Justen Glad, Philip Quinton, Zac MacMath, Daniel Pereira, Diego Rubio, Ethan Finlay, Diogo Goncalves, Anderson Julio, Lachlan Brook, Maikel Chang Ramirez]\"}'),\n",
       " Row(player_stats='{\"Shirt_Numbers\":\"[31, 12, 15, 3, 47, 2, 75, 19, 10, 13, 9, 3, 24, 25, 22, 16, 45, 7, 6, 4, 2, 1, 17, 8, 11, 6, 23, 13, 11]\",\"SPI_Scores\":\"[6.7, 7.4, 6.9, 5.8, 7.5, 6.6, 7.6, 6.7, 8.0, 6.2, 7.8, 6.0, 7.2, 7.5, 7.4, 6.6, 7.2, 7.4, 7.2, 7.0, 6.7, 6.0, 6.2, 6.8, 6.0, 6.8, 6.7, 6.1, 6.3]\",\"Player_Names\":\"[Carlos Miguel, Dylan Nealis, Sean Nealis, Noah Eile, John Tolkin, Dennis Gjengaar, Daniel Edelman, Wikelman Carmona, Emil Forsberg, Dante Vanzeir, Lewis Morgan, Sam Adekugbe, Brian White, Ryan Gauld, Ali Ahmed, Sebastian Berhalter, Pedro Vite, Ryan Raposo, Tristan Blackmon, Ranko Veselinovic, Mathias Laborda, Yohei Takaoka, Cameron Harper, Frankie Amaya, Elias Manoel, Kyle Duncan, Javain Brown, Ralph Priso-Mbongue, Fabrice Picault]\"}'),\n",
       " Row(player_stats='{\"Shirt_Numbers\":\"[95, 4, 5, 6, 2, 3, 18, 20, 91, 10, 9, 28, 9, 11, 10, 20, 8, 14, 4, 25, 2, 77, 11, 14, 7, 5, 18, 7]\",\"SPI_Scores\":\"[4.6, 5.9, 6.2, 6.5, 6.3, 6.6, 8.1, 6.9, 6.2, 6.5, 6.9, 8.3, 6.6, 8.9, 9.1, 6.9, 6.8, 7.0, 7.7, 6.9, 7.2, 7.1, 6.2, 6.0, 5.8, 6.3, 6.2, 7.2]\",\"Player_Names\":\"[Zack Steffen, Reggie Cannon, Andreas Maxsø, Lalas Abubakar, Keegan Rosenberry, Samuel Vines, Oliver Larraz, Connor Ronan, Kévin Cabral, Djordje Mihailovic, Rafael Navarro, Joseph Paintsil, Dejan Joveljic, Gabriel Pec, Ricard Puig, Edwin Cerrillo, Marco Delgado, John Nelson, Maya Yoshida, Carlos Garces, Miki Yamane, John McCarthy, Omir Fernandez, Calvin Harris, Jonathan Lewis, Gaston Brugman, Marco Reus, Diego Fagundez]\"}'),\n",
       " Row(player_stats='{\"Shirt_Numbers\":\"[]\",\"SPI_Scores\":\"[]\",\"Player_Names\":\"[]\"}'),\n",
       " Row(player_stats='{\"Shirt_Numbers\":\"[]\",\"SPI_Scores\":\"[]\",\"Player_Names\":\"[]\"}'),\n",
       " Row(player_stats='{\"Shirt_Numbers\":\"[]\",\"SPI_Scores\":\"[]\",\"Player_Names\":\"[]\"}'),\n",
       " Row(player_stats='{\"Shirt_Numbers\":\"[]\",\"SPI_Scores\":\"[]\",\"Player_Names\":\"[]\"}'),\n",
       " Row(player_stats='{\"Shirt_Numbers\":\"[]\",\"SPI_Scores\":\"[]\",\"Player_Names\":\"[]\"}'),\n",
       " Row(player_stats='{\"Shirt_Numbers\":\"[1, 18, 25, 5, 2, 14, 15, 20, 19, 10, 9, 20, 21, 43, 14, 23, 8, 22, 4, 3, 97, 24, 12, 7, 5, 10, 11, 17]\",\"SPI_Scores\":\"[6.6, 5.3, 5.9, 4.9, 5.5, 6.9, 6.9, 8.3, 8.8, 9.0, 6.0, 8.7, 7.4, 7.2, 7.4, 5.9, 7.2, 8.3, 6.4, 7.9, 6.7, 5.3, 5.8, 7.4, 6.7, 9.0, 6.4, 7.0]\",\"Player_Names\":\"[Joe Willis, Shaq Moore, Walker Zimmerman, Jack Maher, Daniel Lovitz, Jacob Shaffelburg, Patrick Yazbek, Anibal Godoy, Alex Muyl, Hany Mukhtar, Sam Surridge, Christian Benteke, Theodore Ku-DiPietro, Mateusz Klich, Martin Rodriguez, Dominique Badji, Jared Stroud, Aaron Herrera, Matti Peltola, Lucas Bartlett, Christopher McVey, Alex Bono, Teal Bunbury, Pedro Santos, Boris Enow, Gabriel Pirani, Cristian Dajome, Jacob Murrell]\"}'),\n",
       " Row(player_stats='{\"Shirt_Numbers\":\"[]\",\"SPI_Scores\":\"[]\",\"Player_Names\":\"[]\"}'),\n",
       " Row(player_stats='{\"Shirt_Numbers\":\"[1, 11, 5, 3, 18, 35, 6, 9, 59, 16, 19, 9, 12, 10, 19, 20, 27, 2, 5, 25, 18, 1, 20, 13, 8, 29, 21]\",\"SPI_Scores\":\"[5.4, 6.5, 6.1, 6.3, 5.9, 7.0, 6.3, 7.0, 6.7, 5.8, 6.5, 7.5, 8.2, 8.5, 7.8, 7.4, 7.7, 7.4, 7.2, 7.5, 7.3, 8.1, 6.5, 5.8, 6.3, 6.1, 6.3]\",\"Player_Names\":\"[Brad Guzan, Brooks Lennon, Stian Gregersen, Derrick Williams, Pedro Amador, Ajani Fortune, Bartosz Slisz, Saba Lobzhanidze, Aleksey Miranchuk, Xande Silva, Daniel Rios, Sam Surridge, Teal Bunbury, Hany Mukhtar, Alex Muyl, Anibal Godoy, Brian Anunga, Daniel Lovitz, Jack Maher, Walker Zimmerman, Shaq Moore, Joe Willis, Edwin Mosquera, Dax McCarty, Tristan Muyumba, Jamal Thiaré, Forster Ajago]\"}'),\n",
       " Row(player_stats='{\"Shirt_Numbers\":\"[18, 12, 4, 15, 47, 5, 75, 48, 17, 11, 7, 9, 10, 26, 7, 22, 17, 14, 4, 5, 11, 29, 20, 2, 13, 22, 19]\",\"SPI_Scores\":\"[6.0, 6.7, 7.1, 7.1, 7.1, 6.4, 7.3, 6.9, 5.9, 7.2, 6.4, 7.3, 6.1, 7.6, 6.9, 6.9, 6.5, 6.5, 6.8, 6.7, 7.8, 6.4, 6.3, 6.3, 6.2, 6.0, 6.5]\",\"Player_Names\":\"[Ryan Meara, Dylan Nealis, Andres Reyes, Sean Nealis, John Tolkin, Peter Stroud, Daniel Edelman, Ronald Donkor, Cameron Harper, Elias Manoel, Cory Burke, Alan Pulido, Daniel Salloi, Erik Thommy, Johnny Russell, Zorhan Bassong, Jacob Davis, Tim Leibold, Robert Voloder, Daniel Rosero, Khiry Shelton, Tim Melia, Felipe Carballo, Dennis Gjengaar, Dante Vanzeir, Serge Ngoma, Robert Castellanos]\"}'),\n",
       " Row(player_stats='{\"Shirt_Numbers\":\"[18, 91, 15, 26, 98, 14, 6, 8, 25, 10, 9, 11, 24, 23, 3, 16, 13, 8, 6, 4, 15, 32, 13, 29, 11, 20, 25, 22]\",\"SPI_Scores\":\"[6.2, 7.5, 7.1, 6.4, 6.7, 7.6, 8.1, 8.3, 6.4, 7.1, 6.8, 5.7, 6.7, 6.5, 6.0, 6.8, 6.3, 7.2, 6.9, 6.5, 6.6, 6.2, 6.7, 6.6, 7.0, 6.3, 7.2, 6.1]\",\"Player_Names\":\"[Zac MacMath, Javain Brown, Justen Glad, Philip Quinton, Alexandros Katranis, Emeka Eneli, Braian Ojeda, Diego Luna, Matt Crooks, Diogo Goncalves, Cristian Arango, Fabrice Picault, Brian White, Deiber Caicedo, Sam Adekugbe, Sebastian Berhalter, Ralph Priso-Mbongue, Alessandro Schöpf, Tristan Blackmon, Ranko Veselinovic, Bjørn Inge Utvik, Isaac Boehmer, Nelson Palacio, Anderson Julio, Dominik Marczuk, Andrés Cubas, Ryan Gauld, Ali Ahmed]\"}'),\n",
       " Row(player_stats='{\"Shirt_Numbers\":\"[22, 25, 4, 21, 2, 27, 20, 6, 13, 7, 10, 13, 14, 11, 10, 7, 8, 21, 25, 28, 16, 26, 12, 17, 14, 5, 93, 15, 4, 75]\",\"SPI_Scores\":\"[5.3, 6.1, 4.7, 5.2, 6.2, 6.9, 6.8, 6.7, 5.9, 6.2, 6.5, 8.5, 7.9, 9.7, 6.7, 7.9, 8.2, 7.4, 7.5, 7.5, 7.6, 7.4, 6.1, 6.0, 6.4, 6.0, 6.4, 6.3, 6.1, 6.5]\",\"Player_Names\":\"[Abraham Romero, Sean Zawadzki, Rudy Camacho, Evgen Cheberko, Marcelo Herrera, Max Arfsten, Alexandru Matan, Darlington Nagbe, Aziel Jackson, Dylan Chambost, Diego Rossi, Jordan Morris, Paul Rothrock, Albert Rusnak, Pedro De la Vega, Cristian Roldan, Joshua Atencio, Reed Baker-Whiting, Jackson Ragen, Yeimar Gomez, Alex Roldan, Andrew Thomas, DeJuan Jones, Christian Ramirez, Yaw Yeboah, Derrick Jones, Georgi Minoungou, Jon Bell, Nathan, Danny Leyva]\"}'),\n",
       " Row(player_stats='{\"Shirt_Numbers\":\"[]\",\"SPI_Scores\":\"[]\",\"Player_Names\":\"[]\"}'),\n",
       " Row(player_stats='{\"Shirt_Numbers\":\"[77, 2, 25, 4, 14, 8, 5, 10, 11, 9, 28, 17, 14, 11, 10, 5, 6, 29, 18, 21, 4, 1, 20, 7, 8]\",\"SPI_Scores\":\"[7.0, 6.9, 7.1, 7.2, 7.3, 7.1, 7.3, 9.3, 8.3, 7.7, 7.3, 6.2, 6.3, 6.1, 8.8, 6.1, 6.2, 5.8, 6.1, 6.2, 5.8, 5.4, 6.1, 7.4, 6.5]\",\"Player_Names\":\"[John McCarthy, Miki Yamane, Carlos Garces, Maya Yoshida, John Nelson, Marco Delgado, Gaston Brugman, Ricard Puig, Gabriel Pec, Dejan Joveljic, Joseph Paintsil, Jon Gallagher, Diego Rubio, Jader Obrian, Sebastian Driussi, Jhojan Valencia, Daniel Pereira, Guilherme Biro, Julio Cascante, Oleksandr Svatok, Brendan Hines-Ike, Brad Stuver, Edwin Cerrillo, Osman Bukari, Alexander Ring]\"}'),\n",
       " Row(player_stats='{\"Shirt_Numbers\":\"[1, 57, 6, 14, 18, 30, 55, 7, 10, 9, 20, 59, 29, 18, 8, 13, 6, 9, 4, 3, 2, 1, 8, 5, 5, 35, 19, 16]\",\"SPI_Scores\":\"[5.1, 7.6, 7.4, 6.2, 6.6, 6.4, 8.1, 7.8, 8.2, 7.0, 6.2, 7.5, 8.9, 8.2, 6.3, 7.2, 8.8, 7.6, 6.2, 6.8, 6.9, 7.9, 6.0, 6.3, 6.5, 6.9, 6.2, 7.0]\",\"Player_Names\":\"[Drake Callender, Marcelo Weigandt, Tomas Aviles, Hector Martinez, Jordi Alba, Benjamin Cremaschi, Federico Redondo, Matias Rojas, Lionel Messi, Luis Suárez, Diego Gomez, Aleksey Miranchuk, Jamal Thiaré, Pedro Amador, Tristan Muyumba, Dax McCarty, Bartosz Slisz, Saba Lobzhanidze, Luis Abram, Derrick Williams, Ronald Hernández, Brad Guzan, Leonardo Campana, Sergio Busquets, Stian Gregersen, Ajani Fortune, Daniel Rios, Xande Silva]\"}'),\n",
       " Row(player_stats='{\"Shirt_Numbers\":\"[1, 17, 15, 6, 3, 5, 16, 10, 11, 77, 7, 18, 33, 10, 13, 8, 28, 3, 34, 29, 14, 1, 13, 9, 24, 14, 9, 11]\",\"SPI_Scores\":\"[7.7, 7.2, 6.8, 6.8, 7.9, 6.7, 6.8, 8.1, 6.9, 6.7, 6.5, 7.2, 6.8, 7.1, 6.4, 6.2, 6.8, 7.2, 6.5, 7.0, 7.3, 8.6, 6.6, 7.1, 5.7, 6.3, 7.3, 7.1]\",\"Player_Names\":\"[Pedro Gallese, Dagur Dan Thorhallsson, Rodrigo Adrián Schlegel, Robin Jansson, Rafael Santos, Cesar Araujo, Wilder Cartagena, Facundo Torres, Martin Ojeda, Ivan Angulo, Ramiro Enrique, Kerwin Vargas, Patrick Agyemang, Pep Biel, Brandt Bronico, Ashley Westwood, Djibril Diani, Tim Ream, Andrew Privett, Adilson Malanda, Nathan Byrne, Kristijan Kahlina, Duncan McGuire, Luis Muriel, Kyle Smith, Nicolás Lodeiro, Karol Swiderski, Liel Abada]\"}'),\n",
       " Row(player_stats='{\"Shirt_Numbers\":\"[77, 2, 25, 4, 14, 18, 20, 10, 11, 9, 28, 13, 93, 11, 10, 7, 18, 5, 25, 4, 16, 24, 8, 6]\",\"SPI_Scores\":\"[8.1, 7.5, 7.5, 7.6, 7.8, 6.4, 7.5, 8.1, 7.4, 7.8, 7.0, 6.6, 7.1, 6.9, 6.4, 7.4, 7.0, 7.7, 6.9, 6.8, 6.6, 7.0, 6.5, 6.2]\",\"Player_Names\":\"[John McCarthy, Miki Yamane, Carlos Garces, Maya Yoshida, John Nelson, Marco Reus, Edwin Cerrillo, Ricard Puig, Gabriel Pec, Dejan Joveljic, Joseph Paintsil, Jordan Morris, Georgi Minoungou, Albert Rusnak, Pedro De la Vega, Cristian Roldan, Obed Vargas, Nouhou Tolo, Jackson Ragen, Nathan, Alex Roldan, Stefan Frei, Marco Delgado, Joao Paulo]\"}'),\n",
       " Row(player_stats='{\"Shirt_Numbers\":\"[31, 15, 3, 2, 25, 80, 8, 41, 10, 18, 9, 20, 21, 10, 14, 43, 7, 8, 4, 3, 22, 24, 11, 27, 47, 21, 14, 11, 5, 23, 17]\",\"SPI_Scores\":\"[5.4, 6.0, 5.6, 5.8, 6.4, 6.4, 6.8, 6.3, 6.9, 6.8, 6.0, 8.3, 6.8, 6.8, 7.8, 7.3, 8.2, 6.5, 6.3, 8.0, 7.6, 7.2, 6.9, 6.4, 6.2, 6.7, 6.4, 6.0, 7.2, 6.2, 6.5]\",\"Player_Names\":\"[Aljaz Ivacic, Brandon Bye, Xavier Arreaga, David Romney, Peyton Miller, Alhassan Yusuf, Matt Polster, Luca Langoni, Carles Gil, Emmanuel Boateng, Giacomo Vrioni, Christian Benteke, Theodore Ku-DiPietro, Gabriel Pirani, Martin Rodriguez, Mateusz Klich, Pedro Santos, Jared Stroud, Matti Peltola, Lucas Bartlett, Aaron Herrera, Alex Bono, Dylan Borrero, Tim Parker, Esmir Bajraktarevic, Nacho Gil, Ian Harkes, Cristian Dajome, Boris Enow, Dominique Badji, Jacob Murrell]\"}'),\n",
       " Row(player_stats='{\"Shirt_Numbers\":\"[41, 29, 13, 18, 15, 19, 21, 30, 10, 11, 14, 7, 35, 9, 14, 33, 11, 27, 3, 5, 15, 1, 22, 27, 24, 9]\",\"SPI_Scores\":\"[5.3, 6.3, 6.8, 6.1, 5.8, 6.4, 6.1, 7.9, 7.2, 6.5, 7.7, 7.4, 7.0, 8.8, 7.4, 8.1, 7.4, 8.5, 6.7, 7.2, 7.7, 8.1, 7.1, 6.2, 7.0, 6.4]\",\"Player_Names\":\"[James Pantemis, Juan Mosquera, Dario Zuparic, Zac McGraw, Eric Miller, Eryk Williamson, Diego Chara, Santiago Moreno, Evander Ferreira, Antony, Jonathan Rodriguez, Mikael Uhre, Markus Anderson, Julian Carranza, Jeremy Rafanello, Quinn Sullivan, Alejandro Bedoya, Kai Wagner, Jack Elliott, Jakob Glesnes, Olivier Mbaizo, Oliver Semmle, Cristhian Paredes, Dairon Asprilla, David Ayala, Felipe Mora]\"}'),\n",
       " Row(player_stats='{\"Shirt_Numbers\":\"[40, 24, 16, 4, 22, 3, 19, 2, 8, 10, 14, 29, 8, 9, 11, 6, 14, 98, 4, 19, 2, 18, 13, 9, 25, 21, 7, 17]\",\"SPI_Scores\":\"[8.1, 7.3, 8.0, 7.5, 6.5, 8.2, 7.1, 6.5, 6.1, 5.8, 6.1, 6.5, 7.3, 7.2, 6.6, 8.2, 7.9, 7.0, 7.2, 7.7, 7.5, 7.4, 5.8, 6.3, 6.0, 6.8, 6.1, 6.2]\",\"Player_Names\":\"[Jonathan Sirois, George Campbell, Joel Waterman, Fernando Álvarez, Ruan, Joaquin Sosa, Nathan Saliba, Victor Wanyama, Dominik Yankov, Bryce Duke, Sunusi Ibrahim, Anderson Julio, Diego Luna, Cristian Arango, Andres Gomez, Braian Ojeda, Emeka Eneli, Alexandros Katranis, Brayan Vera, Bode Hidalgo, Andrew Brody, Zac MacMath, Mason Toye, Matias Coccaro, Gabriele Corbo, Lassi Lappalainen, Kwadwo Opoku, Fidel Barajas]\"}'),\n",
       " Row(player_stats='{\"Shirt_Numbers\":\"[28, 31, 21, 18, 23, 27, 20, 6, 13, 10, 17, 13, 77, 11, 10, 16, 33, 3, 6, 15, 17, 1, 9, 14, 2, 7, 14, 9, 7]\",\"SPI_Scores\":\"[4.6, 7.5, 6.9, 6.1, 7.1, 8.8, 6.5, 7.1, 8.4, 7.5, 8.4, 6.3, 7.2, 5.5, 7.6, 5.9, 5.7, 5.8, 5.3, 5.8, 4.8, 5.1, 8.6, 5.4, 6.7, 6.5, 6.3, 8.6, 7.6]\",\"Player_Names\":\"[Patrick Schulte, Steven Moreira, Evgen Cheberko, Malte Amundsen, Mohamed Farsi, Max Arfsten, Alexandru Matan, Darlington Nagbe, Aziel Jackson, Diego Rossi, Christian Ramirez, Duncan McGuire, Ivan Angulo, Martin Ojeda, Facundo Torres, Wilder Cartagena, Jeorgio Kocevski, Rafael Santos, Robin Jansson, Rodrigo Adrián Schlegel, Dagur Dan Thorhallsson, Pedro Gallese, Juan Hernández, Yaw Yeboah, Marcelo Herrera, Dylan Chambost, Nicolás Lodeiro, Luis Muriel, Ramiro Enrique]\"}'),\n",
       " Row(player_stats='{\"Shirt_Numbers\":\"[18, 2, 12, 16, 91, 27, 20, 5, 10, 19, 9, 9, 7, 77, 16, 5, 10, 3, 6, 15, 24, 1, 7, 32, 23, 11, 14]\",\"SPI_Scores\":\"[4.3, 7.0, 6.2, 7.4, 7.1, 7.4, 6.8, 7.1, 8.3, 5.7, 6.4, 6.4, 9.1, 8.7, 7.3, 7.5, 7.3, 7.0, 7.2, 6.7, 7.5, 7.3, 5.8, 6.7, 5.6, 6.5, 6.3]\",\"Player_Names\":\"[Roman Celentano, Alvas Elvis Powell, Miles Robinson, Teenage Lingani Hadebe, DeAndre Yedlin, Yamil Asad, Pavel Bucha, Obinna Nwobodo, Luciano Acosta, Kevin Kelsy, Nicholas Gioacchini, Luis Muriel, Ramiro Enrique, Ivan Angulo, Wilder Cartagena, Cesar Araujo, Facundo Torres, Rafael Santos, Robin Jansson, Rodrigo Adrián Schlegel, Kyle Smith, Pedro Gallese, Yuya Kubo, Ian Murphy, Luca Orellano, Corey Baird, Nicolás Lodeiro]\"}'),\n",
       " Row(player_stats='{\"Shirt_Numbers\":\"[1, 11, 24, 3, 26, 8, 13, 16, 10, 20, 19, 27, 18, 8, 20, 16, 6, 2, 31, 28, 25, 12, 25, 29, 35, 15, 22, 11]\",\"SPI_Scores\":\"[6.2, 6.9, 6.5, 6.1, 6.4, 6.9, 6.4, 7.9, 7.3, 6.2, 7.6, 6.4, 6.2, 6.5, 8.0, 7.2, 6.8, 7.9, 6.4, 6.5, 7.5, 5.9, 6.5, 6.3, 6.5, 7.3, 6.3, 6.1]\",\"Player_Names\":\"[Brad Guzan, Brooks Lennon, Noah Cobb, Derrick Williams, Caleb Wiley, Tristan Muyumba, Dax McCarty, Xande Silva, Thiago Almada, Edwin Mosquera, Daniel Rios, Sebastian Kowalczyk, Ibrahim Aliyu, Amine Bassi, Adalberto Carrasquilla, Héctor Herrera, Artur, Franco Escobar, Micael, Erik Sviatchenko, Griffin Dorsey, Steve Clark, Luke Brennan, Jamal Thiaré, Ajani Fortune, Latif Blessing, Tate Schmitt, Carlos Ferreira]\"}'),\n",
       " Row(player_stats='{\"Shirt_Numbers\":\"[]\",\"SPI_Scores\":\"[]\",\"Player_Names\":\"[]\"}'),\n",
       " Row(player_stats='{\"Shirt_Numbers\":\"[]\",\"SPI_Scores\":\"[]\",\"Player_Names\":\"[]\"}'),\n",
       " Row(player_stats='{\"Shirt_Numbers\":\"[]\",\"SPI_Scores\":\"[]\",\"Player_Names\":\"[]\"}'),\n",
       " Row(player_stats='{\"Shirt_Numbers\":\"[1, 14, 5, 22, 38, 21, 10, 20, 17, 36, 9, 30, 23, 20, 22, 54, 8, 14, 4, 5, 17, 1, 29, 11, 18, 11, 7, 9, 10]\",\"SPI_Scores\":\"[7.4, 6.8, 7.0, 7.8, 6.8, 7.4, 8.5, 7.6, 7.5, 9.1, 7.3, 7.5, 6.1, 6.7, 6.5, 6.6, 6.0, 6.3, 6.0, 5.9, 7.3, 5.3, 7.2, 6.3, 6.3, 6.3, 6.4, 5.7, 6.3]\",\"Player_Names\":\"[Roman Bürki, Tomas Totland, Henry Kessler, Kyle Hiebert, Jannes-Kilian Horn, Rasmus Alm, Eduard Löwen, Akil Watts, Marcel Hartel, Cedric Teuchert, Joao Klauss, Stephen Afrifa, William Agada, Alenis Vargas, Zorhan Bassong, Rémi Walter, Memo Rodriguez, Tim Leibold, Robert Voloder, Daniel Rosero, Jacob Davis, John Pulskamp, Nökkvi Thorisson, Simon Becher, Logan Ndenbe, Khiry Shelton, Johnny Russell, Alan Pulido, Daniel Salloi]\"}'),\n",
       " Row(player_stats='{\"Shirt_Numbers\":\"[1, 3, 25, 33, 14, 8, 20, 24, 19, 9, 99, 13, 10, 11, 18, 7, 21, 16, 15, 25, 28, 24, 11, 13, 6, 23, 4, 93, 8, 6, 9]\",\"SPI_Scores\":\"[6.9, 8.2, 6.4, 7.0, 6.6, 7.2, 6.2, 8.2, 8.3, 6.3, 6.9, 8.2, 6.6, 6.9, 7.1, 7.7, 6.6, 8.1, 7.4, 8.0, 7.1, 8.8, 6.6, 7.2, 6.4, 6.4, 6.8, 7.5, 6.5, 6.4, 6.3]\",\"Player_Names\":\"[Hugo Lloris, Jesus Murillo, Maxime Chanot, Aaron Long, Sergi Palencia, Lewis O\\'Brien, Eduard Atuesta, Ryan Hollingshead, Mateusz Bogusz, Olivier Giroud, Denis Bouanga, Jordan Morris, Pedro De la Vega, Albert Rusnak, Obed Vargas, Cristian Roldan, Reed Baker-Whiting, Alex Roldan, Jon Bell, Jackson Ragen, Yeimar Gomez, Stefan Frei, Timothy Tillman, Cristian Olivera, Ilie Sanchez, Kei Ansu Kamara, Nathan, Georgi Minoungou, Joshua Atencio, Joao Paulo, Raul Ruidiaz]\"}'),\n",
       " Row(player_stats='{\"Shirt_Numbers\":\"[34, 2, 22, 14, 24, 31, 23, 7, 17, 8, 9, 9, 19, 10, 24, 27, 54, 23, 22, 25, 29, 30, 5, 30, 36, 19, 20, 15, 14]\",\"SPI_Scores\":\"[6.3, 6.2, 6.4, 5.5, 6.3, 6.6, 6.0, 6.5, 6.3, 6.4, 7.0, 8.4, 8.2, 7.3, 6.7, 7.0, 6.9, 8.1, 6.9, 7.5, 8.2, 8.9, 6.6, 6.9, 6.2, 6.2, 8.1, 6.7, 7.5]\",\"Player_Names\":\"[Chris Brady, Arnaud Souquet, Mauricio Pineda, Tobias Salquist, Jonathan Dean, Federico Navarro, Kellyn Acosta, Maren Haile-Selassie, Brian Gutierrez, Chris Mueller, Hugo Cuypers, Sam Surridge, Alex Muyl, Hany Mukhtar, Jonathan Perez, Brian Anunga, Sean Davis, Taylor Washington, Josh Bauer, Walker Zimmerman, Julian Gaines, Elliot Panicco, Rafael Czichos, Gaston Claudio Gimenez, Justin Reynolds, Georgios Koutsias, Anibal Godoy, Patrick Yazbek, Jacob Shaffelburg]\"}'),\n",
       " Row(player_stats='{\"Shirt_Numbers\":\"[]\",\"SPI_Scores\":\"[]\",\"Player_Names\":\"[]\"}'),\n",
       " Row(player_stats='{\"Shirt_Numbers\":\"[1, 2, 4, 6, 22, 45, 20, 8, 25, 24, 11, 16, 8, 7, 30, 42, 24, 18, 27, 6, 57, 1, 27, 14, 16, 7, 55]\",\"SPI_Scores\":\"[5.9, 6.0, 6.1, 6.3, 6.7, 6.5, 7.1, 6.1, 8.2, 6.6, 8.2, 8.8, 7.8, 6.9, 7.0, 7.4, 7.1, 7.8, 7.6, 6.6, 6.9, 7.0, 6.4, 6.2, 6.7, 6.3, 6.4]\",\"Player_Names\":\"[Yohei Takaoka, Mathias Laborda, Ranko Veselinovic, Tristan Blackmon, Ali Ahmed, Pedro Vite, Andrés Cubas, Alessandro Schöpf, Ryan Gauld, Brian White, Fabrice Picault, Robert Taylor, Leonardo Campana, Matias Rojas, Benjamin Cremaschi, Yannick Bright, Julian Gressel, Jordi Alba, Serhiy Kryvtsov, Tomas Aviles, Marcelo Weigandt, Drake Callender, Giuseppe Bovalina, Luis Martins, Sebastian Berhalter, Ryan Raposo, Federico Redondo]\"}'),\n",
       " Row(player_stats='{\"Shirt_Numbers\":\"[1, 5, 25, 33, 14, 11, 8, 24, 13, 19, 99, 11, 24, 25, 45, 20, 26, 3, 4, 6, 16, 1, 20, 9, 22, 8]\",\"SPI_Scores\":\"[7.8, 6.5, 7.8, 6.8, 7.5, 6.9, 6.8, 7.4, 6.2, 8.2, 7.0, 6.0, 5.9, 7.4, 6.2, 6.4, 7.4, 7.0, 6.3, 6.7, 6.3, 5.8, 6.2, 6.6, 6.9, 6.4]\",\"Player_Names\":\"[Hugo Lloris, Marlon, Maxime Chanot, Aaron Long, Sergi Palencia, Timothy Tillman, Lewis O\\'Brien, Ryan Hollingshead, Cristian Olivera, Mateusz Bogusz, Denis Bouanga, Fabrice Picault, Brian White, Ryan Gauld, Pedro Vite, Andrés Cubas, Stuart Armstrong, Sam Adekugbe, Ranko Veselinovic, Tristan Blackmon, Sebastian Berhalter, Yohei Takaoka, Eduard Atuesta, Olivier Giroud, Ali Ahmed, Alessandro Schöpf]\"}'),\n",
       " Row(player_stats='{\"Shirt_Numbers\":\"[1, 3, 18, 4, 29, 8, 5, 7, 10, 17, 9, 10, 18, 8, 27, 6, 20, 2, 31, 28, 25, 12, 21, 6, 33, 11, 14, 15, 5, 14]\",\"SPI_Scores\":\"[6.7, 6.6, 7.0, 6.6, 6.5, 7.0, 6.1, 6.6, 6.8, 7.1, 5.9, 6.6, 6.9, 6.9, 6.7, 7.1, 8.6, 7.5, 7.5, 8.2, 6.8, 8.3, 6.1, 7.0, 6.8, 6.9, 6.5, 6.5, 6.4, 6.0]\",\"Player_Names\":\"[Brad Stuver, Mikkel Desler, Julio Cascante, Brendan Hines-Ike, Guilherme Biro, Alexander Ring, Jhojan Valencia, Osman Bukari, Sebastian Driussi, Jon Gallagher, Gyasi Zardes, Ezequiel Ponce, Ibrahim Aliyu, Amine Bassi, Sebastian Kowalczyk, Artur, Adalberto Carrasquilla, Franco Escobar, Micael, Erik Sviatchenko, Griffin Dorsey, Steve Clark, Oleksandr Svatok, Daniel Pereira, Owen Wolff, Jader Obrian, Diego Rubio, Latif Blessing, Daniel Steres, McKinze Gaines]\"}'),\n",
       " Row(player_stats='{\"Shirt_Numbers\":\"[]\",\"SPI_Scores\":\"[]\",\"Player_Names\":\"[]\"}'),\n",
       " Row(player_stats='{\"Shirt_Numbers\":\"[]\",\"SPI_Scores\":\"[]\",\"Player_Names\":\"[]\"}'),\n",
       " Row(player_stats='{\"Shirt_Numbers\":\"[18, 26, 5, 3, 27, 31, 33, 16, 10, 7, 28, 19, 28, 59, 9, 35, 6, 18, 3, 5, 11, 1, 11, 21, 9, 8]\",\"SPI_Scores\":\"[6.4, 8.1, 6.8, 7.0, 9.1, 6.3, 6.8, 7.1, 7.2, 6.5, 6.7, 6.7, 6.5, 7.1, 7.3, 7.2, 7.1, 7.3, 6.7, 6.6, 7.5, 7.5, 6.6, 6.5, 6.0, 6.5]\",\"Player_Names\":\"[Andre Blake, Nathan Harriel, Jakob Glesnes, Jack Elliott, Kai Wagner, Leon Flach, Quinn Sullivan, Jack McGlynn, Daniel Gazdag, Mikael Uhre, Tai Baribo, Daniel Rios, Tyler Wolff, Aleksey Miranchuk, Saba Lobzhanidze, Ajani Fortune, Bartosz Slisz, Pedro Amador, Derrick Williams, Stian Gregersen, Brooks Lennon, Brad Guzan, Alejandro Bedoya, Danley Jean Jacques, Samuel Adeniran, Tristan Muyumba]\"}'),\n",
       " Row(player_stats='{\"Shirt_Numbers\":\"[90, 27, 5, 17, 7, 16, 8, 14, 10, 21, 99, 10, 23, 8, 26, 6, 54, 14, 4, 5, 17, 29, 20, 47, 29, 21, 20]\",\"SPI_Scores\":\"[6.4, 6.5, 6.4, 6.5, 7.8, 6.6, 6.4, 7.1, 6.6, 8.6, 6.3, 7.4, 8.1, 7.8, 7.7, 7.9, 8.2, 7.0, 6.9, 7.3, 8.7, 7.0, 6.4, 6.3, 5.8, 6.0, 7.8]\",\"Player_Names\":\"[Luka Gavran, Shane O\\'Neill, Kevin Long, Sigurd Rosted, Jahkeele Marshall-Rutty, Tyrese Spicer, Matthew Longstaff, Alonso Coello, Federico Bernardeschi, Jonathan Osorio, Prince Osei Owusu, Daniel Salloi, William Agada, Memo Rodriguez, Erik Thommy, Nemanja Radoja, Rémi Walter, Tim Leibold, Robert Voloder, Daniel Rosero, Jacob Davis, Tim Melia, Deybi Flores, Kosi Thompson, Deandre Kerr, Felipe Hernandez, Alenis Vargas]\"}'),\n",
       " Row(player_stats='{\"Shirt_Numbers\":\"[]\",\"SPI_Scores\":\"[]\",\"Player_Names\":\"[]\"}'),\n",
       " Row(player_stats='{\"Shirt_Numbers\":\"[95, 4, 5, 6, 2, 3, 18, 20, 91, 10, 9, 28, 9, 11, 10, 20, 8, 14, 4, 25, 2, 77, 11, 14, 7, 5, 18, 7]\",\"SPI_Scores\":\"[4.6, 5.9, 6.2, 6.5, 6.3, 6.6, 8.1, 6.9, 6.2, 6.5, 6.9, 8.3, 6.6, 8.9, 9.1, 6.9, 6.8, 7.0, 7.7, 6.9, 7.2, 7.1, 6.2, 6.0, 5.8, 6.3, 6.2, 7.2]\",\"Player_Names\":\"[Zack Steffen, Reggie Cannon, Andreas Maxsø, Lalas Abubakar, Keegan Rosenberry, Samuel Vines, Oliver Larraz, Connor Ronan, Kévin Cabral, Djordje Mihailovic, Rafael Navarro, Joseph Paintsil, Dejan Joveljic, Gabriel Pec, Ricard Puig, Edwin Cerrillo, Marco Delgado, John Nelson, Maya Yoshida, Carlos Garces, Miki Yamane, John McCarthy, Omir Fernandez, Calvin Harris, Jonathan Lewis, Gaston Brugman, Marco Reus, Diego Fagundez]\"}'),\n",
       " Row(player_stats='{\"Shirt_Numbers\":\"[]\",\"SPI_Scores\":\"[]\",\"Player_Names\":\"[]\"}'),\n",
       " Row(player_stats='{\"Shirt_Numbers\":\"[95, 2, 6, 5, 3, 20, 18, 11, 23, 91, 9, 13, 9, 17, 75, 48, 6, 12, 3, 15, 4, 31, 7, 19, 2]\",\"SPI_Scores\":\"[7.9, 7.2, 6.6, 6.6, 6.4, 7.5, 7.0, 7.5, 6.6, 6.8, 7.2, 7.5, 7.5, 6.9, 7.2, 6.8, 6.4, 8.0, 6.7, 5.5, 6.9, 6.9, 6.1, 6.4, 5.9]\",\"Player_Names\":\"[Zack Steffen, Keegan Rosenberry, Lalas Abubakar, Andreas Maxsø, Samuel Vines, Connor Ronan, Oliver Larraz, Omir Fernandez, Cole Bassett, Kévin Cabral, Rafael Navarro, Dante Vanzeir, Lewis Morgan, Cameron Harper, Daniel Edelman, Ronald Donkor, Kyle Duncan, Dylan Nealis, Noah Eile, Sean Nealis, Andres Reyes, Carlos Miguel, Jonathan Lewis, Wikelman Carmona, Dennis Gjengaar]\"}'),\n",
       " Row(player_stats='{\"Shirt_Numbers\":\"[1, 15, 4, 6, 22, 45, 13, 8, 3, 11, 25, 23, 19, 10, 3, 14, 30, 28, 15, 26, 29, 42, 16, 2, 18, 94, 17, 6, 9]\",\"SPI_Scores\":\"[7.8, 7.0, 7.2, 7.9, 7.0, 8.3, 6.6, 7.1, 7.1, 8.6, 9.1, 5.8, 5.8, 6.5, 6.3, 6.4, 6.4, 6.4, 6.9, 6.5, 6.4, 8.4, 6.4, 7.0, 6.7, 6.6, 5.7, 6.2, 6.0]\",\"Player_Names\":\"[Yohei Takaoka, Bjørn Inge Utvik, Ranko Veselinovic, Tristan Blackmon, Ali Ahmed, Pedro Vite, Ralph Priso-Mbongue, Alessandro Schöpf, Sam Adekugbe, Fabrice Picault, Ryan Gauld, Hernan Lopez, Preston Judd, Cristian Espinoza, Paul Marie, Jackson Yueill, Niko Tsakiris, Benjamin Kikanovic, Tanner Beason, Rodrigues, Carlos Akapo, Daniel, Sebastian Berhalter, Mathias Laborda, Edier Ocampo, Vitor Costa, Ousseni Bouda, Alfredo Morales, Amahl Pellegrino]\"}'),\n",
       " Row(player_stats='{\"Shirt_Numbers\":\"[]\",\"SPI_Scores\":\"[]\",\"Player_Names\":\"[]\"}'),\n",
       " Row(player_stats='{\"Shirt_Numbers\":\"[]\",\"SPI_Scores\":\"[]\",\"Player_Names\":\"[]\"}'),\n",
       " Row(player_stats='{\"Shirt_Numbers\":\"[]\",\"SPI_Scores\":\"[]\",\"Player_Names\":\"[]\"}'),\n",
       " Row(player_stats='{\"Shirt_Numbers\":\"[97, 67, 15, 28, 21, 8, 17, 31, 20, 26, 9, 29, 8, 25, 11, 6, 14, 98, 4, 15, 91, 18, 11, 10, 13, 9]\",\"SPI_Scores\":\"[7.2, 7.5, 6.6, 7.4, 7.3, 8.5, 6.3, 6.9, 7.1, 7.2, 7.8, 6.8, 7.0, 8.3, 6.4, 6.6, 8.2, 6.8, 6.3, 7.2, 7.4, 8.2, 5.9, 6.0, 6.6, 5.9]\",\"Player_Names\":\"[Dayne St. Clair, Carlos Harvey, Michael Boxall, Jefferson Diaz, Bongokuhle Hlongwane, Joseph Rosales, Robin Lod, Hassani Dotson, Wil Trapp, Joaquin Pereyra, Kelvin Yeboah, Anderson Julio, Diego Luna, Matt Crooks, Dominik Marczuk, Braian Ojeda, Emeka Eneli, Alexandros Katranis, Brayan Vera, Justen Glad, Javain Brown, Zac MacMath, Sang-Bin Jeong, Diogo Goncalves, Nelson Palacio, Cristian Arango]\"}'),\n",
       " Row(player_stats='{\"Shirt_Numbers\":\"[16, 29, 2, 13, 5, 24, 21, 30, 10, 14, 9, 11, 17, 36, 29, 10, 8, 99, 22, 5, 14, 1, 19, 11, 19, 38, 85]\",\"SPI_Scores\":\"[5.9, 6.0, 5.4, 7.0, 6.9, 7.5, 6.4, 7.8, 9.0, 7.8, 8.3, 7.7, 8.9, 8.4, 7.7, 8.3, 7.3, 6.1, 6.0, 6.4, 5.5, 5.0, 6.4, 6.5, 5.9, 6.8, 6.3]\",\"Player_Names\":\"[Maxime Crepeau, Juan Mosquera, Miguel Araujo, Dario Zuparic, Claudio Bravo, David Ayala, Diego Chara, Santiago Moreno, Evander Ferreira, Jonathan Rodriguez, Felipe Mora, Simon Becher, Marcel Hartel, Cedric Teuchert, Nökkvi Thorisson, Eduard Löwen, Christopher Durkin, Jayden Reid, Kyle Hiebert, Henry Kessler, Tomas Totland, Roman Bürki, Eryk Williamson, Antony, Indiana Vassilev, Jannes-Kilian Horn, Hosei Kijima]\"}'),\n",
       " Row(player_stats='{\"Shirt_Numbers\":\"[1, 23, 4, 6, 8, 20, 45, 7, 19, 24, 25, 38, 9, 18, 30, 8, 10, 21, 34, 29, 14, 1, 11, 16, 22, 14, 33]\",\"SPI_Scores\":\"[6.6, 6.9, 6.9, 6.8, 6.4, 7.1, 8.2, 8.1, 6.6, 6.2, 6.6, 8.0, 7.5, 7.1, 6.6, 6.8, 6.8, 7.5, 7.1, 7.1, 7.1, 6.7, 6.5, 5.9, 6.2, 6.1, 6.4]\",\"Player_Names\":\"[Yohei Takaoka, Javain Brown, Ranko Veselinovic, Tristan Blackmon, Alessandro Schöpf, Andrés Cubas, Pedro Vite, Ryan Raposo, Damir Kreilach, Brian White, Ryan Gauld, Iuri Tavares, Enzo Copetti, Kerwin Vargas, Junior Urso, Ashley Westwood, Brecht Dejaeghere, Jere Uronen, Andrew Privett, Adilson Malanda, Nathan Byrne, Kristijan Kahlina, Fabrice Picault, Sebastian Berhalter, Ali Ahmed, Luis Martins, Patrick Agyemang]\"}'),\n",
       " Row(player_stats='{\"Shirt_Numbers\":\"[]\",\"SPI_Scores\":\"[]\",\"Player_Names\":\"[]\"}'),\n",
       " Row(player_stats='{\"Shirt_Numbers\":\"[1, 2, 4, 6, 16, 45, 20, 8, 3, 24, 11, 13, 14, 11, 93, 18, 7, 5, 25, 28, 16, 24, 28, 15, 13, 18, 23, 21, 8, 17, 10]\",\"SPI_Scores\":\"[5.8, 6.1, 5.6, 6.4, 7.1, 7.3, 5.9, 5.9, 6.8, 6.4, 4.6, 8.0, 8.0, 8.8, 8.0, 7.3, 7.2, 8.0, 7.2, 7.6, 7.6, 7.5, 6.0, 6.1, 6.4, 6.1, 6.2, 6.0, 6.0, 6.1, 5.8]\",\"Player_Names\":\"[Yohei Takaoka, Mathias Laborda, Ranko Veselinovic, Tristan Blackmon, Sebastian Berhalter, Pedro Vite, Andrés Cubas, Alessandro Schöpf, Sam Adekugbe, Brian White, Fabrice Picault, Jordan Morris, Paul Rothrock, Albert Rusnak, Georgi Minoungou, Obed Vargas, Cristian Roldan, Nouhou Tolo, Jackson Ragen, Yeimar Gomez, Alex Roldan, Stefan Frei, Levonte Johnson, Bjørn Inge Utvik, Ralph Priso-Mbongue, Edier Ocampo, Deiber Caicedo, Reed Baker-Whiting, Joshua Atencio, Danny Musovski, Pedro De la Vega]\"}'),\n",
       " Row(player_stats='{\"Shirt_Numbers\":\"[1, 17, 15, 6, 3, 5, 16, 10, 11, 77, 7, 18, 33, 10, 13, 8, 28, 3, 34, 29, 14, 1, 13, 9, 24, 14, 9, 11]\",\"SPI_Scores\":\"[7.7, 7.2, 6.8, 6.8, 7.9, 6.7, 6.8, 8.1, 6.9, 6.7, 6.5, 7.2, 6.8, 7.1, 6.4, 6.2, 6.8, 7.2, 6.5, 7.0, 7.3, 8.6, 6.6, 7.1, 5.7, 6.3, 7.3, 7.1]\",\"Player_Names\":\"[Pedro Gallese, Dagur Dan Thorhallsson, Rodrigo Adrián Schlegel, Robin Jansson, Rafael Santos, Cesar Araujo, Wilder Cartagena, Facundo Torres, Martin Ojeda, Ivan Angulo, Ramiro Enrique, Kerwin Vargas, Patrick Agyemang, Pep Biel, Brandt Bronico, Ashley Westwood, Djibril Diani, Tim Ream, Andrew Privett, Adilson Malanda, Nathan Byrne, Kristijan Kahlina, Duncan McGuire, Luis Muriel, Kyle Smith, Nicolás Lodeiro, Karol Swiderski, Liel Abada]\"}'),\n",
       " Row(player_stats='{\"Shirt_Numbers\":\"[1, 14, 40, 26, 99, 19, 8, 10, 29, 85, 9, 16, 19, 29, 26, 8, 35, 11, 24, 3, 21, 1, 20, 41, 46, 5, 13]\",\"SPI_Scores\":\"[8.2, 6.5, 6.8, 7.3, 6.9, 7.2, 7.1, 8.1, 5.9, 6.5, 8.0, 6.3, 7.5, 6.9, 6.8, 7.3, 8.1, 7.0, 7.3, 7.8, 6.6, 7.1, 6.1, 6.2, 6.2, 7.0, 6.2]\",\"Player_Names\":\"[Roman Bürki, Tomas Totland, Michael Wentzel, Tim Parker, Jayden Reid, Indiana Vassilev, Christopher Durkin, Eduard Löwen, Nökkvi Thorisson, Hosei Kijima, Joao Klauss, Xande Silva, Daniel Rios, Jamal Thiaré, Caleb Wiley, Tristan Muyumba, Ajani Fortune, Brooks Lennon, Noah Cobb, Derrick Williams, Efrain Morales, Brad Guzan, Akil Watts, Johnny Klein, Caden Glover, Stian Gregersen, Dax McCarty]\"}'),\n",
       " Row(player_stats='{\"Shirt_Numbers\":\"[24, 16, 28, 25, 21, 7, 18, 14, 11, 93, 13, 9, 10, 26, 7, 22, 54, 14, 4, 5, 11, 29, 15, 10, 8, 8, 30, 23, 20]\",\"SPI_Scores\":\"[8.0, 7.1, 8.0, 7.9, 6.9, 8.3, 7.7, 8.4, 7.4, 6.9, 8.0, 6.9, 6.3, 6.9, 6.7, 5.6, 6.4, 6.8, 6.9, 6.6, 5.7, 7.2, 6.2, 6.4, 6.3, 6.7, 5.9, 5.7, 6.2]\",\"Player_Names\":\"[Stefan Frei, Alex Roldan, Yeimar Gomez, Jackson Ragen, Reed Baker-Whiting, Cristian Roldan, Obed Vargas, Paul Rothrock, Albert Rusnak, Georgi Minoungou, Jordan Morris, Alan Pulido, Daniel Salloi, Erik Thommy, Johnny Russell, Zorhan Bassong, Rémi Walter, Tim Leibold, Robert Voloder, Daniel Rosero, Khiry Shelton, Tim Melia, Jon Bell, Pedro De la Vega, Joshua Atencio, Memo Rodriguez, Stephen Afrifa, William Agada, Alenis Vargas]\"}'),\n",
       " Row(player_stats='{\"Shirt_Numbers\":\"[1, 57, 6, 14, 18, 30, 55, 7, 10, 9, 20, 59, 29, 18, 8, 13, 6, 9, 4, 3, 2, 1, 8, 5, 5, 35, 19, 16]\",\"SPI_Scores\":\"[5.1, 7.6, 7.4, 6.2, 6.6, 6.4, 8.1, 7.8, 8.2, 7.0, 6.2, 7.5, 8.9, 8.2, 6.3, 7.2, 8.8, 7.6, 6.2, 6.8, 6.9, 7.9, 6.0, 6.3, 6.5, 6.9, 6.2, 7.0]\",\"Player_Names\":\"[Drake Callender, Marcelo Weigandt, Tomas Aviles, Hector Martinez, Jordi Alba, Benjamin Cremaschi, Federico Redondo, Matias Rojas, Lionel Messi, Luis Suárez, Diego Gomez, Aleksey Miranchuk, Jamal Thiaré, Pedro Amador, Tristan Muyumba, Dax McCarty, Bartosz Slisz, Saba Lobzhanidze, Luis Abram, Derrick Williams, Ronald Hernández, Brad Guzan, Leonardo Campana, Sergio Busquets, Stian Gregersen, Ajani Fortune, Daniel Rios, Xande Silva]\"}'),\n",
       " Row(player_stats='{\"Shirt_Numbers\":\"[]\",\"SPI_Scores\":\"[]\",\"Player_Names\":\"[]\"}'),\n",
       " Row(player_stats='{\"Shirt_Numbers\":\"[12, 25, 28, 31, 2, 20, 6, 27, 8, 18, 10, 11, 25, 3, 45, 16, 7, 20, 15, 4, 2, 1, 35, 15, 5, 14, 8, 13, 24, 18]\",\"SPI_Scores\":\"[7.0, 6.7, 6.6, 6.3, 7.0, 6.9, 7.4, 6.5, 7.2, 6.6, 7.4, 7.8, 6.8, 6.5, 5.7, 7.1, 6.6, 6.2, 7.5, 7.3, 7.4, 6.4, 6.2, 6.2, 6.1, 5.9, 6.4, 6.5, 7.3, 6.4]\",\"Player_Names\":\"[Steve Clark, Griffin Dorsey, Erik Sviatchenko, Micael, Franco Escobar, Adalberto Carrasquilla, Artur, Sebastian Kowalczyk, Amine Bassi, Ibrahim Aliyu, Ezequiel Ponce, Fabrice Picault, Ryan Gauld, Sam Adekugbe, Pedro Vite, Sebastian Berhalter, Ryan Raposo, Andrés Cubas, Bjørn Inge Utvik, Ranko Veselinovic, Mathias Laborda, Yohei Takaoka, Brooklyn Raines, Latif Blessing, Daniel Steres, McKinze Gaines, Alessandro Schöpf, Ralph Priso-Mbongue, Brian White, Edier Ocampo]\"}'),\n",
       " Row(player_stats='{\"Shirt_Numbers\":\"[1, 3, 25, 33, 14, 8, 20, 24, 19, 9, 99, 13, 10, 11, 18, 7, 21, 16, 15, 25, 28, 24, 11, 13, 6, 23, 4, 93, 8, 6, 9]\",\"SPI_Scores\":\"[6.9, 8.2, 6.4, 7.0, 6.6, 7.2, 6.2, 8.2, 8.3, 6.3, 6.9, 8.2, 6.6, 6.9, 7.1, 7.7, 6.6, 8.1, 7.4, 8.0, 7.1, 8.8, 6.6, 7.2, 6.4, 6.4, 6.8, 7.5, 6.5, 6.4, 6.3]\",\"Player_Names\":\"[Hugo Lloris, Jesus Murillo, Maxime Chanot, Aaron Long, Sergi Palencia, Lewis O\\'Brien, Eduard Atuesta, Ryan Hollingshead, Mateusz Bogusz, Olivier Giroud, Denis Bouanga, Jordan Morris, Pedro De la Vega, Albert Rusnak, Obed Vargas, Cristian Roldan, Reed Baker-Whiting, Alex Roldan, Jon Bell, Jackson Ragen, Yeimar Gomez, Stefan Frei, Timothy Tillman, Cristian Olivera, Ilie Sanchez, Kei Ansu Kamara, Nathan, Georgi Minoungou, Joshua Atencio, Joao Paulo, Raul Ruidiaz]\"}'),\n",
       " Row(player_stats='{\"Shirt_Numbers\":\"[]\",\"SPI_Scores\":\"[]\",\"Player_Names\":\"[]\"}'),\n",
       " Row(player_stats='{\"Shirt_Numbers\":\"[1, 3, 18, 4, 29, 8, 5, 7, 10, 17, 9, 10, 18, 8, 27, 6, 20, 2, 31, 28, 25, 12, 21, 6, 33, 11, 14, 15, 5, 14]\",\"SPI_Scores\":\"[6.7, 6.6, 7.0, 6.6, 6.5, 7.0, 6.1, 6.6, 6.8, 7.1, 5.9, 6.6, 6.9, 6.9, 6.7, 7.1, 8.6, 7.5, 7.5, 8.2, 6.8, 8.3, 6.1, 7.0, 6.8, 6.9, 6.5, 6.5, 6.4, 6.0]\",\"Player_Names\":\"[Brad Stuver, Mikkel Desler, Julio Cascante, Brendan Hines-Ike, Guilherme Biro, Alexander Ring, Jhojan Valencia, Osman Bukari, Sebastian Driussi, Jon Gallagher, Gyasi Zardes, Ezequiel Ponce, Ibrahim Aliyu, Amine Bassi, Sebastian Kowalczyk, Artur, Adalberto Carrasquilla, Franco Escobar, Micael, Erik Sviatchenko, Griffin Dorsey, Steve Clark, Oleksandr Svatok, Daniel Pereira, Owen Wolff, Jader Obrian, Diego Rubio, Latif Blessing, Daniel Steres, McKinze Gaines]\"}'),\n",
       " Row(player_stats='{\"Shirt_Numbers\":\"[1, 17, 18, 4, 29, 6, 8, 33, 10, 11, 9, 17, 23, 10, 14, 6, 18, 5, 25, 28, 16, 24, 5, 14, 11, 13, 21]\",\"SPI_Scores\":\"[7.5, 6.7, 7.8, 5.1, 6.7, 6.2, 6.6, 6.1, 7.3, 5.7, 5.3, 6.1, 6.8, 6.0, 7.7, 7.8, 7.8, 7.3, 7.0, 7.5, 7.4, 8.1, 6.2, 6.4, 6.8, 7.5, 6.2]\",\"Player_Names\":\"[Brad Stuver, Jon Gallagher, Julio Cascante, Brendan Hines-Ike, Guilherme, Daniel Pereira, Alexander Ring, Owen Wolff, Sebastian Driussi, Jader Obrian, Gyasi Zardes, Danny Musovski, Leo Chu, Pedro De la Vega, Paul Rothrock, Joao Paulo, Obed Vargas, Nouhou Tolo, Jackson Ragen, Yeimar Gomez, Alex Roldan, Stefan Frei, Jhojan Valencia, Diego Rubio, Albert Rusnak, Jordan Morris, Reed Baker-Whiting]\"}'),\n",
       " Row(player_stats='{\"Shirt_Numbers\":\"[49, 24, 13, 5, 18, 6, 55, 17, 27, 10, 16, 7, 9, 15, 23, 17, 30, 27, 5, 4, 2, 34, 11, 22, 7, 14, 8, 36, 31, 19]\",\"SPI_Scores\":\"[6.3, 6.1, 7.5, 6.5, 6.9, 7.3, 7.9, 7.9, 7.4, 6.4, 9.0, 6.8, 7.1, 7.2, 6.7, 7.4, 6.8, 6.8, 6.6, 6.1, 6.2, 5.9, 6.2, 6.5, 6.1, 7.3, 6.8, 6.4, 6.5, 6.1]\",\"Player_Names\":\"[Matt Freese, Tayvon Gray, Thiago Martins, Birk Risa, Christian McFarlane, James Sands, Keaton Parks, Hannes Wolf, Maxi Moralez, Santiago Rodriguez, Alonso Martinez, Maren Haile-Selassie, Hugo Cuypers, Andrew Gutman, Kellyn Acosta, Brian Gutierrez, Gaston Claudio Gimenez, Allan Arigoni, Rafael Czichos, Carlos Teran, Arnaud Souquet, Chris Brady, Julian Fernandez, Kevin O\\'Toole, Jovan Mijatovic, Tobias Salquist, Chris Mueller, Justin Reynolds, Federico Navarro, Georgios Koutsias]\"}'),\n",
       " Row(player_stats='{\"Shirt_Numbers\":\"[18, 6, 12, 16, 91, 27, 20, 5, 10, 23, 7, 16, 10, 27, 17, 6, 55, 22, 80, 13, 35, 49, 17, 8]\",\"SPI_Scores\":\"[8.5, 6.9, 7.5, 7.6, 6.6, 7.7, 6.9, 7.8, 6.9, 7.6, 6.1, 5.8, 6.3, 7.0, 6.7, 7.6, 6.9, 7.6, 6.7, 7.3, 6.5, 9.1, 6.5, 6.1]\",\"Player_Names\":\"[Roman Celentano, Chidozie Awaziem, Miles Robinson, Teenage Lingani Hadebe, DeAndre Yedlin, Yamil Asad, Pavel Bucha, Obinna Nwobodo, Luciano Acosta, Luca Orellano, Yuya Kubo, Alonso Martinez, Santiago Rodriguez, Maxi Moralez, Hannes Wolf, James Sands, Keaton Parks, Kevin O\\'Toole, Justin Haak, Thiago Martins, Mitja Ilenic, Matt Freese, Sergio Santos, Andres Perea]\"}'),\n",
       " Row(player_stats='{\"Shirt_Numbers\":\"[1, 14, 26, 4, 13, 19, 8, 10, 12, 16, 25, 10, 9, 17, 6, 8, 55, 22, 5, 13, 35, 49, 9, 7, 11, 26, 7]\",\"SPI_Scores\":\"[7.3, 6.9, 7.4, 7.6, 7.6, 7.3, 7.8, 7.5, 8.8, 7.9, 6.5, 6.3, 6.5, 6.8, 6.3, 7.5, 6.4, 6.7, 6.3, 6.1, 6.0, 5.8, 6.3, 5.9, 6.6, 6.3, 5.9]\",\"Player_Names\":\"[Roman Bürki, Tomas Totland, Tim Parker, Joakim Nilsson, Anthony Markanich, Indiana Vassilev, Christopher Durkin, Eduard Löwen, Celio Pompeu, Samuel Adeniran, Aziel Jackson, Santiago Rodriguez, Monsef Bakrar, Hannes Wolf, James Sands, Andres Perea, Keaton Parks, Kevin O\\'Toole, Birk Risa, Thiago Martins, Mitja Ilenic, Matt Freese, Joao Klauss, Tomas Ostrak, Julian Fernandez, Agustin Ojeda, Jovan Mijatovic]\"}'),\n",
       " Row(player_stats='{\"Shirt_Numbers\":\"[12, 25, 28, 31, 2, 6, 16, 15, 8, 18, 11, 33, 18, 15, 11, 28, 13, 21, 34, 29, 14, 1, 27, 3, 35, 23, 38, 37]\",\"SPI_Scores\":\"[8.1, 6.9, 7.4, 7.5, 7.3, 7.7, 7.6, 7.0, 7.7, 7.5, 7.7, 5.6, 7.0, 6.2, 6.6, 6.4, 6.4, 6.6, 7.1, 6.9, 6.7, 6.8, 6.5, 6.6, 6.1, 5.9, 6.3, 5.9]\",\"Player_Names\":\"[Steve Clark, Griffin Dorsey, Erik Sviatchenko, Micael, Franco Escobar, Artur, Héctor Herrera, Latif Blessing, Amine Bassi, Ibrahim Aliyu, Carlos Ferreira, Patrick Agyemang, Kerwin Vargas, Ben Bender, Liel Abada, Djibril Diani, Brandt Bronico, Jere Uronen, Andrew Privett, Adilson Malanda, Nathan Byrne, Kristijan Kahlina, Sebastian Kowalczyk, Brad Smith, Brooklyn Raines, Nikola Petkovic, Iuri Tavares, Scott Arfield]\"}'),\n",
       " Row(player_stats='{\"Shirt_Numbers\":\"[1, 22, 25, 5, 2, 16, 54, 11, 10, 9, 12, 20, 8, 24, 30, 55, 42, 18, 5, 27, 17, 1, 6, 27, 21, 15, 16]\",\"SPI_Scores\":\"[6.5, 6.4, 6.4, 6.2, 6.3, 5.7, 6.4, 6.9, 7.3, 6.3, 6.0, 7.4, 6.4, 8.2, 7.3, 7.7, 7.0, 8.3, 7.3, 6.7, 8.3, 7.5, 6.9, 6.6, 7.0, 6.2, 6.5]\",\"Player_Names\":\"[Joe Willis, Josh Bauer, Walker Zimmerman, Jack Maher, Daniel Lovitz, Dru Yearwood, Sean Davis, Tyler Boyd, Hany Mukhtar, Sam Surridge, Teal Bunbury, Diego Gomez, Leonardo Campana, Julian Gressel, Benjamin Cremaschi, Federico Redondo, Yannick Bright, Jordi Alba, Sergio Busquets, Serhiy Kryvtsov, Ian Fray, Drake Callender, Amar Sejdic, Brian Anunga, Forster Ajago, Ryan Sailor, Robert Taylor]\"}'),\n",
       " Row(player_stats='{\"Shirt_Numbers\":\"[]\",\"SPI_Scores\":\"[]\",\"Player_Names\":\"[]\"}'),\n",
       " Row(player_stats='{\"Shirt_Numbers\":\"[1, 2, 4, 6, 16, 45, 20, 8, 3, 24, 11, 13, 14, 11, 93, 18, 7, 5, 25, 28, 16, 24, 28, 15, 13, 18, 23, 21, 8, 17, 10]\",\"SPI_Scores\":\"[5.8, 6.1, 5.6, 6.4, 7.1, 7.3, 5.9, 5.9, 6.8, 6.4, 4.6, 8.0, 8.0, 8.8, 8.0, 7.3, 7.2, 8.0, 7.2, 7.6, 7.6, 7.5, 6.0, 6.1, 6.4, 6.1, 6.2, 6.0, 6.0, 6.1, 5.8]\",\"Player_Names\":\"[Yohei Takaoka, Mathias Laborda, Ranko Veselinovic, Tristan Blackmon, Sebastian Berhalter, Pedro Vite, Andrés Cubas, Alessandro Schöpf, Sam Adekugbe, Brian White, Fabrice Picault, Jordan Morris, Paul Rothrock, Albert Rusnak, Georgi Minoungou, Obed Vargas, Cristian Roldan, Nouhou Tolo, Jackson Ragen, Yeimar Gomez, Alex Roldan, Stefan Frei, Levonte Johnson, Bjørn Inge Utvik, Ralph Priso-Mbongue, Edier Ocampo, Deiber Caicedo, Reed Baker-Whiting, Joshua Atencio, Danny Musovski, Pedro De la Vega]\"}'),\n",
       " Row(player_stats='{\"Shirt_Numbers\":\"[1, 31, 4, 18, 23, 27, 25, 6, 17, 10, 9, 9, 10, 26, 7, 54, 17, 14, 4, 5, 24, 1, 21, 20, 7, 12, 19, 30, 23, 18, 11, 20]\",\"SPI_Scores\":\"[7.7, 6.9, 7.8, 7.3, 6.7, 6.9, 8.4, 8.0, 6.6, 9.0, 7.8, 6.2, 6.3, 6.8, 6.8, 5.5, 4.9, 6.6, 5.8, 5.9, 5.1, 5.2, 6.9, 6.4, 7.7, 7.4, 7.2, 6.4, 5.8, 6.1, 6.0, 6.0]\",\"Player_Names\":\"[Nicholas Hagen, Steven Moreira, Rudy Camacho, Malte Amundsen, Mohamed Farsi, Max Arfsten, Sean Zawadzki, Darlington Nagbe, Christian Ramirez, Diego Rossi, Juan Hernández, Alan Pulido, Daniel Salloi, Erik Thommy, Johnny Russell, Rémi Walter, Jacob Davis, Tim Leibold, Robert Voloder, Daniel Rosero, Kayden Pierre, John Pulskamp, Evgen Cheberko, Alexandru Matan, Dylan Chambost, DeJuan Jones, Jacen Russell-Rowe, Stephen Afrifa, William Agada, Logan Ndenbe, Khiry Shelton, Alenis Vargas]\"}'),\n",
       " Row(player_stats='{\"Shirt_Numbers\":\"[]\",\"SPI_Scores\":\"[]\",\"Player_Names\":\"[]\"}'),\n",
       " Row(player_stats='{\"Shirt_Numbers\":\"[]\",\"SPI_Scores\":\"[]\",\"Player_Names\":\"[]\"}'),\n",
       " Row(player_stats='{\"Shirt_Numbers\":\"[]\",\"SPI_Scores\":\"[]\",\"Player_Names\":\"[]\"}'),\n",
       " Row(player_stats='{\"Shirt_Numbers\":\"[]\",\"SPI_Scores\":\"[]\",\"Player_Names\":\"[]\"}'),\n",
       " Row(player_stats='{\"Shirt_Numbers\":\"[97, 67, 15, 28, 8, 31, 17, 20, 21, 9, 26, 9, 11, 10, 77, 20, 18, 4, 5, 6, 2, 95, 11, 7, 14, 14, 99, 21, 7]\",\"SPI_Scores\":\"[7.5, 7.5, 7.2, 7.5, 7.6, 8.3, 7.8, 7.0, 7.3, 9.0, 7.3, 6.5, 6.0, 6.6, 6.5, 6.3, 6.7, 5.8, 5.8, 6.4, 5.7, 5.5, 7.5, 6.0, 6.1, 6.6, 6.2, 6.4, 5.9]\",\"Player_Names\":\"[Dayne St. Clair, Carlos Harvey, Michael Boxall, Jefferson Diaz, Joseph Rosales, Hassani Dotson, Robin Lod, Wil Trapp, Bongokuhle Hlongwane, Kelvin Yeboah, Joaquin Pereyra, Rafael Navarro, Omir Fernandez, Djordje Mihailovic, Darren Yapi, Connor Ronan, Oliver Larraz, Reggie Cannon, Andreas Maxsø, Lalas Abubakar, Keegan Rosenberry, Zack Steffen, Sang-Bin Jeong, Franco Fragapane, Tani Oluwaseyi, Calvin Harris, Jackson Travis, Jasper Löffelsend, Jonathan Lewis]\"}'),\n",
       " Row(player_stats='{\"Shirt_Numbers\":\"[18, 6, 12, 16, 91, 27, 20, 5, 10, 23, 7, 16, 10, 27, 17, 6, 55, 22, 80, 13, 35, 49, 17, 8]\",\"SPI_Scores\":\"[8.5, 6.9, 7.5, 7.6, 6.6, 7.7, 6.9, 7.8, 6.9, 7.6, 6.1, 5.8, 6.3, 7.0, 6.7, 7.6, 6.9, 7.6, 6.7, 7.3, 6.5, 9.1, 6.5, 6.1]\",\"Player_Names\":\"[Roman Celentano, Chidozie Awaziem, Miles Robinson, Teenage Lingani Hadebe, DeAndre Yedlin, Yamil Asad, Pavel Bucha, Obinna Nwobodo, Luciano Acosta, Luca Orellano, Yuya Kubo, Alonso Martinez, Santiago Rodriguez, Maxi Moralez, Hannes Wolf, James Sands, Keaton Parks, Kevin O\\'Toole, Justin Haak, Thiago Martins, Mitja Ilenic, Matt Freese, Sergio Santos, Andres Perea]\"}'),\n",
       " Row(player_stats='{\"Shirt_Numbers\":\"[]\",\"SPI_Scores\":\"[]\",\"Player_Names\":\"[]\"}'),\n",
       " Row(player_stats='{\"Shirt_Numbers\":\"[]\",\"SPI_Scores\":\"[]\",\"Player_Names\":\"[]\"}'),\n",
       " Row(player_stats='{\"Shirt_Numbers\":\"[1, 5, 25, 33, 14, 11, 8, 24, 13, 19, 99, 11, 24, 25, 45, 20, 26, 3, 4, 6, 16, 1, 20, 9, 22, 8]\",\"SPI_Scores\":\"[7.8, 6.5, 7.8, 6.8, 7.5, 6.9, 6.8, 7.4, 6.2, 8.2, 7.0, 6.0, 5.9, 7.4, 6.2, 6.4, 7.4, 7.0, 6.3, 6.7, 6.3, 5.8, 6.2, 6.6, 6.9, 6.4]\",\"Player_Names\":\"[Hugo Lloris, Marlon, Maxime Chanot, Aaron Long, Sergi Palencia, Timothy Tillman, Lewis O\\'Brien, Ryan Hollingshead, Cristian Olivera, Mateusz Bogusz, Denis Bouanga, Fabrice Picault, Brian White, Ryan Gauld, Pedro Vite, Andrés Cubas, Stuart Armstrong, Sam Adekugbe, Ranko Veselinovic, Tristan Blackmon, Sebastian Berhalter, Yohei Takaoka, Eduard Atuesta, Olivier Giroud, Ali Ahmed, Alessandro Schöpf]\"}'),\n",
       " Row(player_stats='{\"Shirt_Numbers\":\"[]\",\"SPI_Scores\":\"[]\",\"Player_Names\":\"[]\"}'),\n",
       " Row(player_stats='{\"Shirt_Numbers\":\"[30, 44, 5, 22, 19, 27, 16, 6, 23, 17, 12, 7, 9, 28, 10, 20, 8, 3, 22, 4, 2, 77, 18, 10, 11, 9, 5, 27]\",\"SPI_Scores\":\"[8.5, 6.6, 5.9, 7.2, 6.8, 7.8, 8.7, 6.2, 7.0, 7.3, 7.5, 6.6, 7.9, 7.1, 8.2, 6.5, 8.2, 7.3, 7.2, 7.4, 7.5, 6.9, 6.3, 6.4, 6.4, 6.0, 6.9, 6.1]\",\"Player_Names\":\"[Elliot Panicco, Brent Kallman, Jack Maher, Josh Bauer, Alex Muyl, Brian Anunga, Dru Yearwood, Amar Sejdic, Taylor Washington, Orrin McKinze Gaines, Teal Bunbury, Diego Fagundez, Dejan Joveljic, Joseph Paintsil, Ricard Puig, Edwin Cerrillo, Marco Delgado, Julian Aude, Martin Cáceres, Maya Yoshida, Miki Yamane, John McCarthy, Shaq Moore, Hany Mukhtar, Tyler Boyd, Sam Surridge, Gaston Brugman, Miguel Berry]\"}'),\n",
       " Row(player_stats='{\"Shirt_Numbers\":\"[1, 22, 25, 5, 2, 16, 54, 11, 10, 9, 12, 20, 8, 24, 30, 55, 42, 18, 5, 27, 17, 1, 6, 27, 21, 15, 16]\",\"SPI_Scores\":\"[6.5, 6.4, 6.4, 6.2, 6.3, 5.7, 6.4, 6.9, 7.3, 6.3, 6.0, 7.4, 6.4, 8.2, 7.3, 7.7, 7.0, 8.3, 7.3, 6.7, 8.3, 7.5, 6.9, 6.6, 7.0, 6.2, 6.5]\",\"Player_Names\":\"[Joe Willis, Josh Bauer, Walker Zimmerman, Jack Maher, Daniel Lovitz, Dru Yearwood, Sean Davis, Tyler Boyd, Hany Mukhtar, Sam Surridge, Teal Bunbury, Diego Gomez, Leonardo Campana, Julian Gressel, Benjamin Cremaschi, Federico Redondo, Yannick Bright, Jordi Alba, Sergio Busquets, Serhiy Kryvtsov, Ian Fray, Drake Callender, Amar Sejdic, Brian Anunga, Forster Ajago, Ryan Sailor, Robert Taylor]\"}'),\n",
       " Row(player_stats='{\"Shirt_Numbers\":\"[]\",\"SPI_Scores\":\"[]\",\"Player_Names\":\"[]\"}'),\n",
       " Row(player_stats='{\"Shirt_Numbers\":\"[]\",\"SPI_Scores\":\"[]\",\"Player_Names\":\"[]\"}'),\n",
       " Row(player_stats='{\"Shirt_Numbers\":\"[30, 25, 3, 4, 5, 6, 14, 7, 10, 9, 20, 27, 23, 30, 8, 20, 11, 2, 4, 25, 24, 12, 23, 29, 8, 14, 6, 99, 9, 33]\",\"SPI_Scores\":\"[7.0, 7.0, 6.6, 7.4, 7.3, 8.1, 6.8, 6.7, 8.3, 7.7, 6.8, 5.8, 6.1, 6.9, 7.6, 8.0, 6.4, 6.8, 4.8, 5.9, 6.7, 5.7, 8.1, 6.1, 6.3, 6.8, 6.5, 6.1, 5.8, 6.4]\",\"Player_Names\":\"[Maarten Paes, Sebastien Ibeagha, Omar Gonzalez, Marco Farfan, Ruan, Patrickson Delgado, Asier Illarramendi, Paul Arriola, Jesus Ferreira, Petar Musa, Alan Velasco, Nathan Ordaz, Kei Ansu Kamara, David Martinez, Lewis O\\'Brien, Eduard Atuesta, Timothy Tillman, Omar Campos, Eddie Segura, Maxime Chanot, Ryan Hollingshead, Thomas Hasal, Logan Farrington, Sam Junqua, Sebastian Lletget, Sergi Palencia, Ilie Sanchez, Denis Bouanga, Olivier Giroud, Aaron Long]\"}'),\n",
       " Row(player_stats='{\"Shirt_Numbers\":\"[]\",\"SPI_Scores\":\"[]\",\"Player_Names\":\"[]\"}'),\n",
       " Row(player_stats='{\"Shirt_Numbers\":\"[1, 6, 5, 14, 57, 42, 55, 18, 7, 9, 20, 19, 22, 9, 20, 5, 7, 23, 12, 6, 91, 18, 17, 30, 32, 10, 17, 11]\",\"SPI_Scores\":\"[8.5, 5.6, 7.8, 7.6, 8.2, 7.7, 7.0, 7.9, 7.1, 9.1, 7.2, 6.0, 6.0, 5.7, 7.0, 5.7, 7.2, 7.1, 6.5, 5.9, 6.6, 5.6, 6.9, 6.2, 6.2, 6.3, 6.4, 6.2]\",\"Player_Names\":\"[Drake Callender, Tomas Aviles, Sergio Busquets, Hector Martinez, Marcelo Weigandt, Yannick Bright, Federico Redondo, Jordi Alba, Matias Rojas, Luis Suárez, Diego Gomez, Kevin Kelsy, Gerardo Valenzuela, Nicholas Gioacchini, Pavel Bucha, Obinna Nwobodo, Yuya Kubo, Luca Orellano, Miles Robinson, Chidozie Awaziem, DeAndre Yedlin, Roman Celentano, Ian Fray, Benjamin Cremaschi, Ian Murphy, Luciano Acosta, Sergio Santos, Corey Baird]\"}'),\n",
       " Row(player_stats='{\"Shirt_Numbers\":\"[]\",\"SPI_Scores\":\"[]\",\"Player_Names\":\"[]\"}'),\n",
       " Row(player_stats='{\"Shirt_Numbers\":\"[1, 3, 25, 33, 14, 8, 20, 24, 19, 9, 99, 13, 10, 11, 18, 7, 21, 16, 15, 25, 28, 24, 11, 13, 6, 23, 4, 93, 8, 6, 9]\",\"SPI_Scores\":\"[6.9, 8.2, 6.4, 7.0, 6.6, 7.2, 6.2, 8.2, 8.3, 6.3, 6.9, 8.2, 6.6, 6.9, 7.1, 7.7, 6.6, 8.1, 7.4, 8.0, 7.1, 8.8, 6.6, 7.2, 6.4, 6.4, 6.8, 7.5, 6.5, 6.4, 6.3]\",\"Player_Names\":\"[Hugo Lloris, Jesus Murillo, Maxime Chanot, Aaron Long, Sergi Palencia, Lewis O\\'Brien, Eduard Atuesta, Ryan Hollingshead, Mateusz Bogusz, Olivier Giroud, Denis Bouanga, Jordan Morris, Pedro De la Vega, Albert Rusnak, Obed Vargas, Cristian Roldan, Reed Baker-Whiting, Alex Roldan, Jon Bell, Jackson Ragen, Yeimar Gomez, Stefan Frei, Timothy Tillman, Cristian Olivera, Ilie Sanchez, Kei Ansu Kamara, Nathan, Georgi Minoungou, Joshua Atencio, Joao Paulo, Raul Ruidiaz]\"}'),\n",
       " Row(player_stats='{\"Shirt_Numbers\":\"[1, 5, 3, 24, 11, 26, 35, 8, 10, 16, 19, 99, 24, 7, 20, 8, 11, 10, 15, 5, 28, 90, 6, 29, 2, 47, 17, 19]\",\"SPI_Scores\":\"[6.6, 7.3, 7.4, 7.2, 7.4, 8.0, 6.5, 7.9, 8.0, 6.6, 7.2, 6.0, 8.1, 6.4, 6.6, 6.7, 7.0, 7.9, 5.9, 6.2, 6.7, 6.8, 6.9, 7.2, 6.8, 6.2, 6.0, 6.0]\",\"Player_Names\":\"[Brad Guzan, Stian Gregersen, Derrick Williams, Noah Cobb, Brooks Lennon, Caleb Wiley, Ajani Fortune, Tristan Muyumba, Thiago Almada, Xande Silva, Daniel Rios, Prince Osei Owusu, Lorenzo Insigne, Jahkeele Marshall-Rutty, Deybi Flores, Matthew Longstaff, Derrick Etienne, Federico Bernardeschi, Nickseon Gomis, Kevin Long, Raoul Petretta, Luka Gavran, Bartosz Slisz, Jamal Thiaré, Ronald Hernández, Kosi Thompson, Sigurd Rosted, Kobe Franklin]\"}'),\n",
       " Row(player_stats='{\"Shirt_Numbers\":\"[30, 25, 17, 4, 22, 7, 8, 16, 23, 77, 9, 9, 11, 10, 13, 6, 33, 29, 15, 18, 17, 1, 12, 29, 31, 8, 5, 19, 14]\",\"SPI_Scores\":\"[7.1, 7.2, 6.9, 7.7, 7.1, 8.3, 7.7, 6.9, 7.4, 6.3, 7.3, 7.5, 5.9, 4.7, 6.0, 7.8, 6.5, 6.2, 6.6, 6.0, 5.9, 5.7, 6.6, 6.4, 6.1, 5.9, 6.4, 5.8, 6.7]\",\"Player_Names\":\"[Maarten Paes, Sebastien Ibeagha, Nkosi Tafari, Marco Farfan, Ema Twumasi, Paul Arriola, Sebastian Lletget, Tsiki Ntsabeleng, Logan Farrington, Bernard Kamungo, Petar Musa, Gyasi Zardes, Jader Obrian, Sebastian Driussi, Ethan Finlay, Daniel Pereira, Owen Wolff, Guilherme, Leo Väisänen, Julio Cascante, Jon Gallagher, Brad Stuver, Carl Sainte, Sam Junqua, Eugene Ansah, Alexander Ring, Jhojan Valencia, CJ Fodrey, Diego Rubio]\"}'),\n",
       " Row(player_stats='{\"Shirt_Numbers\":\"[12, 25, 28, 31, 2, 16, 6, 27, 8, 18, 10, 9, 14, 10, 7, 18, 6, 5, 25, 28, 16, 24, 35, 75, 93]\",\"SPI_Scores\":\"[6.2, 7.1, 7.5, 7.2, 7.0, 6.7, 7.0, 6.6, 6.9, 7.1, 6.6, 5.9, 6.3, 7.1, 6.6, 6.8, 6.5, 7.2, 7.0, 6.8, 7.2, 8.6, 6.2, 6.8, 6.8]\",\"Player_Names\":\"[Steve Clark, Griffin Dorsey, Erik Sviatchenko, Micael, Franco Escobar, Héctor Herrera, Artur, Sebastian Kowalczyk, Amine Bassi, Ibrahim Aliyu, Ezequiel Ponce, Raul Ruidiaz, Paul Rothrock, Pedro De la Vega, Cristian Roldan, Obed Vargas, Joao Paulo, Nouhou Tolo, Jackson Ragen, Yeimar Gomez, Alex Roldan, Stefan Frei, Brooklyn Raines, Danny Leyva, Georgi Minoungou]\"}'),\n",
       " Row(player_stats='{\"Shirt_Numbers\":\"[18, 26, 5, 3, 27, 31, 33, 16, 10, 7, 28, 20, 10, 5, 43, 8, 7, 22, 4, 97, 16, 24, 11, 21, 15, 11, 23, 21, 14]\",\"SPI_Scores\":\"[8.5, 7.9, 7.4, 7.5, 7.8, 7.5, 8.8, 6.9, 8.9, 7.8, 8.9, 6.0, 5.7, 6.1, 6.1, 6.2, 7.6, 6.6, 6.0, 5.6, 5.6, 6.5, 6.6, 6.3, 6.2, 6.5, 6.0, 6.3, 6.5]\",\"Player_Names\":\"[Andre Blake, Nathan Harriel, Jakob Glesnes, Jack Elliott, Kai Wagner, Leon Flach, Quinn Sullivan, Jack McGlynn, Daniel Gazdag, Mikael Uhre, Tai Baribo, Christian Benteke, Gabriel Pirani, Boris Enow, Mateusz Klich, Jared Stroud, Pedro Santos, Aaron Herrera, Matti Peltola, Christopher McVey, Garrison Tubbs, Alex Bono, Alejandro Bedoya, Danley Jean Jacques, Olivier Mbaizo, Cristian Dajome, Dominique Badji, Theodore Ku-DiPietro, Martin Rodriguez]\"}'),\n",
       " Row(player_stats='{\"Shirt_Numbers\":\"[30, 25, 17, 29, 22, 77, 16, 14, 8, 23, 9, 28, 7, 10, 11, 20, 8, 14, 4, 24, 2, 77, 4, 7, 12, 31, 27, 25, 19, 52, 84]\",\"SPI_Scores\":\"[7.4, 6.7, 7.4, 7.0, 6.6, 6.5, 7.5, 8.0, 7.8, 8.5, 7.4, 6.9, 6.5, 6.1, 6.5, 7.2, 6.3, 6.1, 6.1, 6.2, 6.6, 5.7, 7.1, 6.3, 6.4, 5.8, 5.8, 6.2, 6.3, 6.6, 5.9]\",\"Player_Names\":\"[Maarten Paes, Sebastien Ibeagha, Nkosi Tafari, Sam Junqua, Ema Twumasi, Bernard Kamungo, Tsiki Ntsabeleng, Asier Illarramendi, Sebastian Lletget, Logan Farrington, Petar Musa, Joseph Paintsil, Diego Fagundez, Ricard Puig, Gabriel Pec, Edwin Cerrillo, Marco Delgado, John Nelson, Maya Yoshida, Jalen Neal, Miki Yamane, John McCarthy, Marco Farfan, Paul Arriola, Carl Sainte, Eugene Ansah, Miguel Berry, Carlos Garces, Mauricio Cuevas, Isaiah Parente, Ruben Ramos]\"}'),\n",
       " Row(player_stats='{\"Shirt_Numbers\":\"[24, 16, 28, 25, 5, 7, 18, 10, 11, 14, 13, 9, 14, 10, 11, 22, 21, 5, 20, 13, 29, 41, 21, 24, 19]\",\"SPI_Scores\":\"[6.3, 7.1, 8.5, 6.9, 7.3, 7.9, 6.3, 6.6, 7.6, 7.0, 6.6, 6.2, 6.3, 8.0, 7.7, 6.6, 7.2, 7.1, 6.5, 7.1, 7.0, 7.7, 6.6, 6.6, 6.5]\",\"Player_Names\":\"[Stefan Frei, Alex Roldan, Yeimar Gomez, Jackson Ragen, Nouhou Tolo, Cristian Roldan, Obed Vargas, Pedro De la Vega, Albert Rusnak, Paul Rothrock, Jordan Morris, Felipe Mora, Jonathan Rodriguez, Evander Ferreira, Antony, Cristhian Paredes, Diego Chara, Claudio Bravo, Finn Surman, Dario Zuparic, Juan Mosquera, James Pantemis, Reed Baker-Whiting, David Ayala, Eryk Williamson]\"}'),\n",
       " Row(player_stats='{\"Shirt_Numbers\":\"[]\",\"SPI_Scores\":\"[]\",\"Player_Names\":\"[]\"}'),\n",
       " Row(player_stats='{\"Shirt_Numbers\":\"[]\",\"SPI_Scores\":\"[]\",\"Player_Names\":\"[]\"}'),\n",
       " Row(player_stats='{\"Shirt_Numbers\":\"[77, 2, 25, 4, 14, 18, 20, 10, 11, 9, 28, 9, 26, 20, 31, 17, 8, 21, 28, 15, 67, 97, 8, 14, 11, 22]\",\"SPI_Scores\":\"[7.2, 7.1, 8.6, 6.7, 8.0, 7.5, 7.1, 8.1, 9.0, 9.3, 9.3, 8.9, 6.6, 6.2, 6.5, 6.7, 4.7, 4.7, 4.4, 4.5, 5.2, 5.6, 6.4, 6.0, 6.1, 6.7]\",\"Player_Names\":\"[John McCarthy, Miki Yamane, Carlos Garces, Maya Yoshida, John Nelson, Marco Reus, Edwin Cerrillo, Ricard Puig, Gabriel Pec, Dejan Joveljic, Joseph Paintsil, Kelvin Yeboah, Joaquin Pereyra, Wil Trapp, Hassani Dotson, Robin Lod, Joseph Rosales, Bongokuhle Hlongwane, Jefferson Diaz, Michael Boxall, Carlos Harvey, Dayne St. Clair, Marco Delgado, Tani Oluwaseyi, Sang-Bin Jeong, Teemu Pukki]\"}'),\n",
       " Row(player_stats='{\"Shirt_Numbers\":\"[]\",\"SPI_Scores\":\"[]\",\"Player_Names\":\"[]\"}'),\n",
       " Row(player_stats='{\"Shirt_Numbers\":\"[31, 12, 4, 15, 17, 47, 75, 20, 10, 13, 9, 9, 10, 7, 6, 25, 12, 23, 21, 4, 31, 28, 48, 27, 20, 19]\",\"SPI_Scores\":\"[7.8, 8.1, 6.3, 6.4, 6.8, 7.6, 7.4, 6.6, 8.6, 7.3, 6.5, 8.0, 7.0, 7.1, 7.6, 7.7, 7.2, 6.6, 8.4, 6.3, 6.7, 8.1, 6.5, 7.5, 7.6, 6.0]\",\"Player_Names\":\"[Carlos Miguel, Dylan Nealis, Andres Reyes, Sean Nealis, Cameron Harper, John Tolkin, Daniel Edelman, Felipe Carballo, Emil Forsberg, Dante Vanzeir, Lewis Morgan, Juan Hernández, Diego Rossi, Dylan Chambost, Darlington Nagbe, Sean Zawadzki, DeJuan Jones, Mohamed Farsi, Evgen Cheberko, Rudy Camacho, Steven Moreira, Patrick Schulte, Ronald Donkor, Max Arfsten, Alexandru Matan, Jacen Russell-Rowe]\"}'),\n",
       " Row(player_stats='{\"Shirt_Numbers\":\"[1, 5, 25, 33, 14, 11, 8, 24, 13, 19, 99, 11, 24, 25, 45, 20, 26, 3, 4, 6, 16, 1, 20, 9, 22, 8]\",\"SPI_Scores\":\"[7.8, 6.5, 7.8, 6.8, 7.5, 6.9, 6.8, 7.4, 6.2, 8.2, 7.0, 6.0, 5.9, 7.4, 6.2, 6.4, 7.4, 7.0, 6.3, 6.7, 6.3, 5.8, 6.2, 6.6, 6.9, 6.4]\",\"Player_Names\":\"[Hugo Lloris, Marlon, Maxime Chanot, Aaron Long, Sergi Palencia, Timothy Tillman, Lewis O\\'Brien, Ryan Hollingshead, Cristian Olivera, Mateusz Bogusz, Denis Bouanga, Fabrice Picault, Brian White, Ryan Gauld, Pedro Vite, Andrés Cubas, Stuart Armstrong, Sam Adekugbe, Ranko Veselinovic, Tristan Blackmon, Sebastian Berhalter, Yohei Takaoka, Eduard Atuesta, Olivier Giroud, Ali Ahmed, Alessandro Schöpf]\"}'),\n",
       " Row(player_stats='{\"Shirt_Numbers\":\"[]\",\"SPI_Scores\":\"[]\",\"Player_Names\":\"[]\"}'),\n",
       " Row(player_stats='{\"Shirt_Numbers\":\"[]\",\"SPI_Scores\":\"[]\",\"Player_Names\":\"[]\"}'),\n",
       " Row(player_stats='{\"Shirt_Numbers\":\"[]\",\"SPI_Scores\":\"[]\",\"Player_Names\":\"[]\"}'),\n",
       " Row(player_stats='{\"Shirt_Numbers\":\"[]\",\"SPI_Scores\":\"[]\",\"Player_Names\":\"[]\"}'),\n",
       " Row(player_stats='{\"Shirt_Numbers\":\"[1, 24, 4, 33, 2, 11, 6, 20, 13, 19, 99, 29, 8, 25, 16, 6, 13, 98, 4, 19, 26, 18, 23, 25, 2, 3, 14]\",\"SPI_Scores\":\"[6.5, 7.1, 6.8, 7.2, 6.6, 6.1, 6.9, 6.7, 7.9, 7.4, 6.3, 6.7, 6.9, 6.2, 7.4, 7.4, 7.2, 6.7, 7.7, 7.7, 7.1, 6.5, 6.1, 6.3, 6.2, 6.2, 6.7]\",\"Player_Names\":\"[Hugo Lloris, Ryan Hollingshead, Eddie Segura, Aaron Long, Omar Campos, Timothy Tillman, Ilie Sanchez, Eduard Atuesta, Cristian Olivera, Mateusz Bogusz, Denis Bouanga, Anderson Julio, Diego Luna, Matt Crooks, Maikel Chang Ramirez, Braian Ojeda, Nelson Palacio, Alexandros Katranis, Brayan Vera, Bode Hidalgo, Philip Quinton, Zac MacMath, Kei Ansu Kamara, Maxime Chanot, Andrew Brody, Bryan Oviedo, Emeka Eneli]\"}'),\n",
       " Row(player_stats='{\"Shirt_Numbers\":\"[]\",\"SPI_Scores\":\"[]\",\"Player_Names\":\"[]\"}'),\n",
       " Row(player_stats='{\"Shirt_Numbers\":\"[]\",\"SPI_Scores\":\"[]\",\"Player_Names\":\"[]\"}'),\n",
       " Row(player_stats='{\"Shirt_Numbers\":\"[1, 31, 4, 18, 23, 27, 25, 6, 17, 10, 9, 99, 9, 19, 24, 20, 6, 14, 33, 25, 3, 1, 19, 21, 8, 4, 11, 13, 23]\",\"SPI_Scores\":\"[6.8, 6.8, 6.9, 7.5, 7.8, 7.3, 7.2, 7.2, 6.3, 7.7, 9.3, 6.7, 7.1, 7.3, 6.5, 6.4, 6.1, 6.8, 5.6, 6.1, 6.5, 5.4, 7.3, 6.5, 6.4, 6.5, 6.5, 5.7, 5.8]\",\"Player_Names\":\"[Nicholas Hagen, Steven Moreira, Rudy Camacho, Malte Amundsen, Mohamed Farsi, Max Arfsten, Sean Zawadzki, Darlington Nagbe, Christian Ramirez, Diego Rossi, Juan Hernández, Denis Bouanga, Olivier Giroud, Mateusz Bogusz, Ryan Hollingshead, Eduard Atuesta, Ilie Sanchez, Sergi Palencia, Aaron Long, Maxime Chanot, Jesus Murillo, Hugo Lloris, Jacen Russell-Rowe, Evgen Cheberko, Lewis O\\'Brien, Eddie Segura, Timothy Tillman, Cristian Olivera, Kei Ansu Kamara]\"}'),\n",
       " Row(player_stats='{\"Shirt_Numbers\":\"[]\",\"SPI_Scores\":\"[]\",\"Player_Names\":\"[]\"}'),\n",
       " Row(player_stats='{\"Shirt_Numbers\":\"[1, 6, 5, 14, 57, 42, 55, 18, 7, 9, 20, 19, 22, 9, 20, 5, 7, 23, 12, 6, 91, 18, 17, 30, 32, 10, 17, 11]\",\"SPI_Scores\":\"[8.5, 5.6, 7.8, 7.6, 8.2, 7.7, 7.0, 7.9, 7.1, 9.1, 7.2, 6.0, 6.0, 5.7, 7.0, 5.7, 7.2, 7.1, 6.5, 5.9, 6.6, 5.6, 6.9, 6.2, 6.2, 6.3, 6.4, 6.2]\",\"Player_Names\":\"[Drake Callender, Tomas Aviles, Sergio Busquets, Hector Martinez, Marcelo Weigandt, Yannick Bright, Federico Redondo, Jordi Alba, Matias Rojas, Luis Suárez, Diego Gomez, Kevin Kelsy, Gerardo Valenzuela, Nicholas Gioacchini, Pavel Bucha, Obinna Nwobodo, Yuya Kubo, Luca Orellano, Miles Robinson, Chidozie Awaziem, DeAndre Yedlin, Roman Celentano, Ian Fray, Benjamin Cremaschi, Ian Murphy, Luciano Acosta, Sergio Santos, Corey Baird]\"}'),\n",
       " Row(player_stats='{\"Shirt_Numbers\":\"[1, 11, 24, 4, 26, 6, 8, 20, 10, 9, 7, 14, 11, 8, 20, 17, 2, 27, 4, 15, 33, 97, 19, 28, 5, 67, 21, 22, 37]\",\"SPI_Scores\":\"[6.1, 7.5, 5.9, 5.8, 7.3, 7.1, 5.9, 6.1, 8.0, 6.9, 7.1, 7.8, 7.2, 7.7, 7.3, 7.0, 6.6, 7.6, 7.4, 6.7, 8.4, 6.7, 7.5, 6.2, 6.4, 6.7, 6.1, 6.1, 6.1]\",\"Player_Names\":\"[Brad Guzan, Brooks Lennon, Noah Cobb, Luis Abram, Caleb Wiley, Bartosz Slisz, Tristan Muyumba, Edwin Mosquera, Thiago Almada, Saba Lobzhanidze, Georgios Giakoumakis, Tani Oluwaseyi, Sang-Bin Jeong, Joseph Rosales, Wil Trapp, Robin Lod, Devin Padelford, D.J. Taylor, Miguel Tapias, Michael Boxall, Kervin Arriaga, Dayne St. Clair, Daniel Rios, Tyler Wolff, Stian Gregersen, Carlos Harvey, Bongokuhle Hlongwane, Teemu Pukki, Caden Clark]\"}'),\n",
       " Row(player_stats='{\"Shirt_Numbers\":\"[]\",\"SPI_Scores\":\"[]\",\"Player_Names\":\"[]\"}'),\n",
       " Row(player_stats='{\"Shirt_Numbers\":\"[1, 17, 15, 6, 3, 5, 16, 10, 11, 77, 7, 29, 59, 18, 35, 13, 6, 9, 4, 3, 5, 1, 13, 9, 24, 14, 2, 16, 8]\",\"SPI_Scores\":\"[6.9, 7.2, 7.1, 7.2, 7.6, 7.6, 7.3, 7.3, 6.7, 7.4, 7.7, 5.9, 6.3, 7.0, 6.5, 6.4, 7.2, 6.4, 6.7, 7.0, 6.9, 6.4, 6.2, 6.1, 6.3, 6.1, 7.0, 6.0, 6.5]\",\"Player_Names\":\"[Pedro Gallese, Dagur Dan Thorhallsson, Rodrigo Adrián Schlegel, Robin Jansson, Rafael Santos, Cesar Araujo, Wilder Cartagena, Facundo Torres, Martin Ojeda, Ivan Angulo, Ramiro Enrique, Jamal Thiaré, Aleksey Miranchuk, Pedro Amador, Ajani Fortune, Dax McCarty, Bartosz Slisz, Saba Lobzhanidze, Luis Abram, Derrick Williams, Stian Gregersen, Brad Guzan, Duncan McGuire, Luis Muriel, Kyle Smith, Nicolás Lodeiro, Ronald Hernández, Xande Silva, Tristan Muyumba]\"}'),\n",
       " Row(player_stats='{\"Shirt_Numbers\":\"[77, 2, 25, 4, 14, 18, 20, 10, 11, 9, 28, 13, 93, 11, 10, 7, 18, 5, 25, 4, 16, 24, 8, 6]\",\"SPI_Scores\":\"[8.1, 7.5, 7.5, 7.6, 7.8, 6.4, 7.5, 8.1, 7.4, 7.8, 7.0, 6.6, 7.1, 6.9, 6.4, 7.4, 7.0, 7.7, 6.9, 6.8, 6.6, 7.0, 6.5, 6.2]\",\"Player_Names\":\"[John McCarthy, Miki Yamane, Carlos Garces, Maya Yoshida, John Nelson, Marco Reus, Edwin Cerrillo, Ricard Puig, Gabriel Pec, Dejan Joveljic, Joseph Paintsil, Jordan Morris, Georgi Minoungou, Albert Rusnak, Pedro De la Vega, Cristian Roldan, Obed Vargas, Nouhou Tolo, Jackson Ragen, Nathan, Alex Roldan, Stefan Frei, Marco Delgado, Joao Paulo]\"}'),\n",
       " Row(player_stats='{\"Shirt_Numbers\":\"[]\",\"SPI_Scores\":\"[]\",\"Player_Names\":\"[]\"}'),\n",
       " Row(player_stats='{\"Shirt_Numbers\":\"[25, 29, 15, 26, 33, 30, 7, 10, 23, 9, 11, 9, 29, 17, 36, 21, 8, 38, 22, 15, 14, 1, 94, 16, 3, 14, 20, 99, 19, 11, 3]\",\"SPI_Scores\":\"[6.0, 7.0, 6.4, 7.3, 7.0, 6.1, 7.0, 7.0, 6.6, 6.3, 7.3, 6.2, 6.8, 8.5, 7.8, 6.6, 6.6, 7.2, 7.2, 7.3, 7.7, 7.7, 7.1, 6.1, 6.2, 6.3, 6.8, 6.8, 6.5, 5.8, 6.3]\",\"Player_Names\":\"[William Yarbrough, Carlos Akapo, Tanner Beason, Rodrigues, Oscar Verhoeven, Niko Tsakiris, Carlos Gruezo, Cristian Espinoza, Hernan Lopez, Amahl Pellegrino, Jeremy Ebobisse, Joao Klauss, Nökkvi Thorisson, Marcel Hartel, Cedric Teuchert, Rasmus Alm, Christopher Durkin, Jannes-Kilian Horn, Kyle Hiebert, Joshua Yaro, Tomas Totland, Roman Bürki, Vitor Costa, Jack Skahan, Paul Marie, Jackson Yueill, Akil Watts, Jayden Reid, Indiana Vassilev, Simon Becher, Jake Girdwood-Reich]\"}'),\n",
       " Row(player_stats='{\"Shirt_Numbers\":\"[1, 14, 15, 4, 44, 19, 8, 7, 25, 9, 16, 20, 11, 10, 21, 43, 25, 97, 3, 12, 8, 24, 13, 12, 21, 6, 29, 17]\",\"SPI_Scores\":\"[6.0, 6.7, 7.3, 7.1, 5.7, 6.8, 7.1, 6.7, 7.1, 8.4, 6.2, 8.6, 6.8, 6.6, 7.7, 6.6, 6.6, 6.8, 7.4, 6.5, 7.8, 6.9, 6.4, 7.5, 6.2, 6.4, 6.1, 5.7]\",\"Player_Names\":\"[Roman Bürki, Tomas Totland, Joshua Yaro, Joakim Nilsson, Nikolas Dyhr, Indiana Vassilev, Christopher Durkin, Tomas Ostrak, Aziel Jackson, Joao Klauss, Samuel Adeniran, Christian Benteke, Cristian Dajome, Gabriel Pirani, Theodore Ku-DiPietro, Mateusz Klich, Jackson Hopkins, Christopher McVey, Lucas Bartlett, Conner Antley, Jared Stroud, Alexander Bono, Anthony Markanich, Celio Pompeu, Rasmus Alm, Njabulo Blom, Nökkvi Thorisson, Jacob Murrell]\"}'),\n",
       " Row(player_stats='{\"Shirt_Numbers\":\"[24, 22, 3, 97, 7, 5, 11, 14, 10, 8, 20, 16, 10, 27, 17, 55, 6, 22, 13, 24, 49, 21, 4, 23, 18, 9, 26, 12]\",\"SPI_Scores\":\"[6.8, 7.6, 7.6, 7.0, 6.8, 6.5, 6.6, 7.0, 7.0, 6.6, 7.8, 6.0, 7.5, 7.0, 7.0, 6.7, 6.7, 7.4, 7.1, 7.2, 8.5, 6.8, 6.1, 6.2, 6.6, 5.7, 6.3, 7.1]\",\"Player_Names\":\"[Alex Bono, Aaron Herrera, Lucas Bartlett, Christopher McVey, Pedro Santos, Boris Enow, Cristian Dajome, Martin Rodriguez, Gabriel Pirani, Jared Stroud, Christian Benteke, Alonso Martinez, Santiago Rodriguez, Maxi Moralez, Hannes Wolf, Keaton Parks, James Sands, Kevin O\\'Toole, Thiago Martins, Tayvon Gray, Matt Freese, Theodore Ku-DiPietro, Matti Peltola, Dominique Badji, Christian McFarlane, Monsef Bakrar, Agustin Ojeda, Strahinja Tanasijevic]\"}'),\n",
       " Row(player_stats='{\"Shirt_Numbers\":\"[22, 11, 5, 3, 2, 6, 35, 8, 9, 19, 16, 14, 20, 43, 11, 8, 4, 28, 97, 3, 22, 24, 13, 29, 18, 7, 25, 17]\",\"SPI_Scores\":\"[5.6, 6.8, 6.5, 5.9, 6.1, 6.4, 6.6, 6.9, 7.8, 9.1, 6.5, 6.8, 8.4, 7.6, 7.7, 9.2, 6.3, 6.1, 6.8, 5.7, 6.7, 8.4, 6.4, 7.0, 5.9, 6.8, 6.3, 6.3]\",\"Player_Names\":\"[Josh Cohen, Brooks Lennon, Stian Gregersen, Derrick Williams, Ronald Hernández, Bartosz Slisz, Ajani Fortune, Tristan Muyumba, Saba Lobzhanidze, Daniel Rios, Xande Silva, Dominique Badji, Christian Benteke, Mateusz Klich, Cristian Dajome, Jared Stroud, Matti Peltola, David Schnegg, Christopher McVey, Lucas Bartlett, Aaron Herrera, Alex Bono, Dax McCarty, Jamal Thiaré, Pedro Amador, Pedro Santos, Jackson Hopkins, Jacob Murrell]\"}'),\n",
       " Row(player_stats='{\"Shirt_Numbers\":\"[41, 29, 18, 13, 5, 21, 24, 30, 10, 14, 9, 11, 21, 8, 17, 37, 2, 4, 15, 27, 1, 15, 19, 11, 27]\",\"SPI_Scores\":\"[5.0, 6.8, 6.1, 7.3, 7.0, 6.7, 6.6, 8.4, 9.1, 7.8, 7.6, 6.9, 8.4, 7.2, 7.3, 6.2, 5.8, 5.9, 6.7, 5.9, 7.1, 6.2, 6.3, 6.9, 7.9]\",\"Player_Names\":\"[James Pantemis, Juan Mosquera, Zac McGraw, Dario Zuparic, Claudio Bravo, Diego Chara, David Ayala, Santiago Moreno, Evander Ferreira, Jonathan Rodriguez, Felipe Mora, Sang-Bin Jeong, Bongokuhle Hlongwane, Joseph Rosales, Robin Lod, Caden Clark, Devin Padelford, Miguel Tapias, Michael Boxall, D.J. Taylor, Clint Irwin, Eric Miller, Eryk Williamson, Antony, Dairon Asprilla]\"}'),\n",
       " Row(player_stats='{\"Shirt_Numbers\":\"[]\",\"SPI_Scores\":\"[]\",\"Player_Names\":\"[]\"}'),\n",
       " Row(player_stats='{\"Shirt_Numbers\":\"[31, 12, 4, 15, 17, 47, 75, 20, 10, 13, 9, 9, 10, 7, 6, 25, 12, 23, 21, 4, 31, 28, 48, 27, 20, 19]\",\"SPI_Scores\":\"[7.8, 8.1, 6.3, 6.4, 6.8, 7.6, 7.4, 6.6, 8.6, 7.3, 6.5, 8.0, 7.0, 7.1, 7.6, 7.7, 7.2, 6.6, 8.4, 6.3, 6.7, 8.1, 6.5, 7.5, 7.6, 6.0]\",\"Player_Names\":\"[Carlos Miguel, Dylan Nealis, Andres Reyes, Sean Nealis, Cameron Harper, John Tolkin, Daniel Edelman, Felipe Carballo, Emil Forsberg, Dante Vanzeir, Lewis Morgan, Juan Hernández, Diego Rossi, Dylan Chambost, Darlington Nagbe, Sean Zawadzki, DeJuan Jones, Mohamed Farsi, Evgen Cheberko, Rudy Camacho, Steven Moreira, Patrick Schulte, Ronald Donkor, Max Arfsten, Alexandru Matan, Jacen Russell-Rowe]\"}'),\n",
       " Row(player_stats='{\"Shirt_Numbers\":\"[18, 6, 12, 32, 2, 23, 20, 5, 7, 19, 9, 9, 23, 28, 19, 6, 46, 27, 4, 16, 24, 40, 17, 15, 22, 7, 10, 21, 25, 11]\",\"SPI_Scores\":\"[6.7, 7.9, 6.9, 7.1, 7.2, 9.1, 7.7, 7.9, 7.2, 8.0, 6.7, 6.4, 6.5, 6.7, 5.9, 6.0, 6.1, 6.0, 6.0, 4.9, 5.6, 4.8, 7.7, 6.3, 6.3, 7.4, 6.4, 6.3, 6.0, 6.5]\",\"Player_Names\":\"[Roman Celentano, Chidozie Awaziem, Miles Robinson, Ian Murphy, Alvas Elvis Powell, Luca Orellano, Pavel Bucha, Obinna Nwobodo, Yuya Kubo, Kevin Kelsy, Nicholas Gioacchini, Matias Coccaro, Caden Clark, Jules-Anthony Vilsaint, Nathan Saliba, Samuel Piette, Tom Pearce, Dawid Bugaj, Fernando Álvarez, Joel Waterman, George Campbell, Jonathan Sirois, Sergio Santos, Bret Halsey, Gerardo Valenzuela, Kwadwo Opoku, Bryce Duke, Lassi Lappalainen, Gabriele Corbo, Jahkeele Marshall-Rutty]\"}'),\n",
       " Row(player_stats='{\"Shirt_Numbers\":\"[18, 2, 12, 16, 91, 27, 20, 5, 10, 19, 9, 9, 7, 77, 16, 5, 10, 3, 6, 15, 24, 1, 7, 32, 23, 11, 14]\",\"SPI_Scores\":\"[4.3, 7.0, 6.2, 7.4, 7.1, 7.4, 6.8, 7.1, 8.3, 5.7, 6.4, 6.4, 9.1, 8.7, 7.3, 7.5, 7.3, 7.0, 7.2, 6.7, 7.5, 7.3, 5.8, 6.7, 5.6, 6.5, 6.3]\",\"Player_Names\":\"[Roman Celentano, Alvas Elvis Powell, Miles Robinson, Teenage Lingani Hadebe, DeAndre Yedlin, Yamil Asad, Pavel Bucha, Obinna Nwobodo, Luciano Acosta, Kevin Kelsy, Nicholas Gioacchini, Luis Muriel, Ramiro Enrique, Ivan Angulo, Wilder Cartagena, Cesar Araujo, Facundo Torres, Rafael Santos, Robin Jansson, Rodrigo Adrián Schlegel, Kyle Smith, Pedro Gallese, Yuya Kubo, Ian Murphy, Luca Orellano, Corey Baird, Nicolás Lodeiro]\"}'),\n",
       " Row(player_stats='{\"Shirt_Numbers\":\"[25, 29, 26, 4, 94, 14, 7, 10, 23, 9, 11, 14, 33, 10, 11, 6, 8, 29, 4, 18, 16, 1, 30, 16, 13]\",\"SPI_Scores\":\"[6.1, 6.6, 7.1, 6.3, 7.5, 6.6, 6.1, 8.5, 7.8, 6.6, 8.1, 7.1, 8.0, 6.5, 5.9, 6.7, 6.7, 7.9, 7.3, 6.7, 6.5, 7.3, 7.0, 6.3, 5.9]\",\"Player_Names\":\"[William Yarbrough, Carlos Akapo, Rodrigues, Bruno Wilson, Vitor Costa, Jackson Yueill, Carlos Gruezo, Cristian Espinoza, Hernan Lopez, Amahl Pellegrino, Jeremy Ebobisse, Diego Rubio, Owen Wolff, Sebastian Driussi, Jader Obrian, Daniel Pereira, Alexander Ring, Guilherme, Brendan Hines-Ike, Julio Cascante, Hector Jimenez, Brad Stuver, Niko Tsakiris, Jack Skahan, Ethan Finlay]\"}'),\n",
       " Row(player_stats='{\"Shirt_Numbers\":\"[95, 22, 6, 5, 4, 20, 18, 77, 10, 23, 9, 11, 99, 16, 23, 20, 47, 19, 27, 17, 6, 1, 2, 11, 22, 8, 29, 10, 14]\",\"SPI_Scores\":\"[7.6, 7.0, 7.2, 7.2, 7.8, 7.1, 7.2, 8.4, 8.6, 7.1, 7.5, 5.9, 6.3, 6.0, 6.4, 6.3, 6.5, 6.6, 7.2, 6.5, 6.3, 7.6, 6.7, 6.2, 6.3, 6.8, 5.9, 6.3, 6.2]\",\"Player_Names\":\"[Zack Steffen, Sebastian Anderson, Lalas Abubakar, Andreas Maxsø, Reggie Cannon, Connor Ronan, Oliver Larraz, Darren Yapi, Djordje Mihailovic, Cole Bassett, Rafael Navarro, Derrick Etienne, Prince Osei Owusu, Tyrese Spicer, Brandon Servania, Deybi Flores, Kosi Thompson, Kobe Franklin, Shane O\\'Neill, Sigurd Rosted, Aime Mabika, Sean Johnson, Keegan Rosenberry, Omir Fernandez, Richie Laryea, Matthew Longstaff, Deandre Kerr, Federico Bernardeschi, Alonso Coello]\"}'),\n",
       " Row(player_stats='{\"Shirt_Numbers\":\"[1, 2, 4, 15, 22, 3, 45, 20, 26, 25, 24, 14, 21, 26, 20, 31, 11, 13, 4, 28, 67, 97, 8, 7, 16, 19, 8, 17, 9, 90]\",\"SPI_Scores\":\"[7.0, 6.5, 7.2, 6.6, 6.7, 7.0, 7.5, 6.7, 6.7, 6.4, 6.1, 6.4, 7.1, 6.6, 6.9, 8.2, 7.2, 7.3, 7.5, 7.3, 7.7, 7.8, 6.4, 6.7, 6.7, 5.9, 7.3, 6.3, 6.1, 6.6]\",\"Player_Names\":\"[Yohei Takaoka, Mathias Laborda, Ranko Veselinovic, Bjørn Inge Utvik, Ali Ahmed, Sam Adekugbe, Pedro Vite, Andrés Cubas, Stuart Armstrong, Ryan Gauld, Brian White, Tani Oluwaseyi, Bongokuhle Hlongwane, Joaquin Pereyra, Wil Trapp, Hassani Dotson, Sang-Bin Jeong, Anthony Markanich, Miguel Tapias, Jefferson Diaz, Carlos Harvey, Dayne St. Clair, Alessandro Schöpf, Ryan Raposo, Sebastian Berhalter, Damir Kreilach, Joseph Rosales, Robin Lod, Kelvin Yeboah, Loic Mesanvi]\"}'),\n",
       " Row(player_stats='{\"Shirt_Numbers\":\"[12, 25, 28, 31, 22, 35, 6, 20, 27, 18, 17, 13, 11, 10, 8, 75, 5, 47, 3, 15, 12, 31, 2, 21, 8, 3, 9, 17]\",\"SPI_Scores\":\"[6.4, 6.3, 6.2, 6.1, 6.1, 6.4, 5.3, 7.6, 6.4, 8.0, 6.2, 7.2, 7.6, 7.3, 7.4, 7.4, 6.3, 6.5, 7.2, 7.5, 7.5, 7.2, 7.2, 6.5, 6.4, 6.1, 7.4, 6.0]\",\"Player_Names\":\"[Steve Clark, Griffin Dorsey, Erik Sviatchenko, Micael, Tate Schmitt, Brooklyn Raines, Artur, Adalberto Carrasquilla, Sebastian Kowalczyk, Ibrahim Aliyu, Gabriel Segal, Dante Vanzeir, Elias Manoel, Emil Forsberg, Frankie Amaya, Daniel Edelman, Peter Stroud, John Tolkin, Noah Eile, Sean Nealis, Dylan Nealis, Carlos Miguel, Franco Escobar, Ján Gregus, Amine Bassi, Brad Smith, Lewis Morgan, Cameron Harper]\"}'),\n",
       " Row(player_stats='{\"Shirt_Numbers\":\"[]\",\"SPI_Scores\":\"[]\",\"Player_Names\":\"[]\"}'),\n",
       " Row(player_stats='{\"Shirt_Numbers\":\"[]\",\"SPI_Scores\":\"[]\",\"Player_Names\":\"[]\"}'),\n",
       " Row(player_stats='{\"Shirt_Numbers\":\"[77, 2, 24, 4, 14, 8, 20, 11, 10, 7, 28, 29, 16, 35, 9, 13, 6, 18, 3, 5, 11, 1, 5, 18, 27, 59, 19, 20]\",\"SPI_Scores\":\"[7.6, 7.7, 7.3, 7.7, 7.1, 7.2, 7.3, 7.9, 8.7, 6.7, 6.3, 6.9, 7.1, 6.8, 6.2, 6.3, 7.1, 6.8, 6.0, 6.2, 6.1, 8.2, 7.0, 8.5, 6.4, 6.5, 6.3, 5.9]\",\"Player_Names\":\"[John McCarthy, Miki Yamane, Jalen Neal, Maya Yoshida, John Nelson, Marco Delgado, Edwin Cerrillo, Gabriel Pec, Ricard Puig, Diego Fagundez, Joseph Paintsil, Jamal Thiaré, Xande Silva, Ajani Fortune, Saba Lobzhanidze, Dax McCarty, Bartosz Slisz, Pedro Amador, Derrick Williams, Stian Gregersen, Brooks Lennon, Brad Guzan, Gaston Brugman, Marco Reus, Miguel Berry, Aleksey Miranchuk, Daniel Rios, Edwin Mosquera]\"}'),\n",
       " Row(player_stats='{\"Shirt_Numbers\":\"[18, 91, 6, 2, 23, 7, 20, 5, 9, 10, 19, 9, 10, 17, 6, 20, 27, 23, 25, 4, 31, 28, 17]\",\"SPI_Scores\":\"[8.2, 7.0, 7.7, 7.4, 7.3, 6.9, 6.8, 6.7, 6.3, 6.6, 6.5, 6.5, 6.5, 7.2, 7.2, 7.6, 7.1, 7.2, 6.8, 7.5, 6.9, 7.1, 5.9]\",\"Player_Names\":\"[Roman Celentano, DeAndre Yedlin, Chidozie Awaziem, Alvas Elvis Powell, Luca Orellano, Yuya Kubo, Pavel Bucha, Obinna Nwobodo, Nicholas Gioacchini, Luciano Acosta, Kevin Kelsy, Juan Hernández, Diego Rossi, Christian Ramirez, Darlington Nagbe, Alexandru Matan, Max Arfsten, Mohamed Farsi, Sean Zawadzki, Rudy Camacho, Steven Moreira, Patrick Schulte, Sergio Santos]\"}'),\n",
       " Row(player_stats='{\"Shirt_Numbers\":\"[]\",\"SPI_Scores\":\"[]\",\"Player_Names\":\"[]\"}'),\n",
       " Row(player_stats='{\"Shirt_Numbers\":\"[]\",\"SPI_Scores\":\"[]\",\"Player_Names\":\"[]\"}'),\n",
       " Row(player_stats='{\"Shirt_Numbers\":\"[25, 29, 15, 26, 33, 30, 7, 10, 23, 9, 11, 9, 29, 17, 36, 21, 8, 38, 22, 15, 14, 1, 94, 16, 3, 14, 20, 99, 19, 11, 3]\",\"SPI_Scores\":\"[6.0, 7.0, 6.4, 7.3, 7.0, 6.1, 7.0, 7.0, 6.6, 6.3, 7.3, 6.2, 6.8, 8.5, 7.8, 6.6, 6.6, 7.2, 7.2, 7.3, 7.7, 7.7, 7.1, 6.1, 6.2, 6.3, 6.8, 6.8, 6.5, 5.8, 6.3]\",\"Player_Names\":\"[William Yarbrough, Carlos Akapo, Tanner Beason, Rodrigues, Oscar Verhoeven, Niko Tsakiris, Carlos Gruezo, Cristian Espinoza, Hernan Lopez, Amahl Pellegrino, Jeremy Ebobisse, Joao Klauss, Nökkvi Thorisson, Marcel Hartel, Cedric Teuchert, Rasmus Alm, Christopher Durkin, Jannes-Kilian Horn, Kyle Hiebert, Joshua Yaro, Tomas Totland, Roman Bürki, Vitor Costa, Jack Skahan, Paul Marie, Jackson Yueill, Akil Watts, Jayden Reid, Indiana Vassilev, Simon Becher, Jake Girdwood-Reich]\"}'),\n",
       " Row(player_stats='{\"Shirt_Numbers\":\"[]\",\"SPI_Scores\":\"[]\",\"Player_Names\":\"[]\"}'),\n",
       " Row(player_stats='{\"Shirt_Numbers\":\"[]\",\"SPI_Scores\":\"[]\",\"Player_Names\":\"[]\"}'),\n",
       " Row(player_stats='{\"Shirt_Numbers\":\"[]\",\"SPI_Scores\":\"[]\",\"Player_Names\":\"[]\"}'),\n",
       " Row(player_stats='{\"Shirt_Numbers\":\"[]\",\"SPI_Scores\":\"[]\",\"Player_Names\":\"[]\"}'),\n",
       " Row(player_stats='{\"Shirt_Numbers\":\"[40, 24, 16, 4, 11, 44, 6, 19, 10, 23, 17, 11, 9, 23, 10, 7, 30, 94, 26, 24, 29, 42, 27, 46, 9, 25, 7, 14, 3, 16, 6, 22]\",\"SPI_Scores\":\"[7.5, 7.9, 6.9, 7.2, 7.4, 7.1, 7.6, 7.2, 8.5, 8.8, 9.2, 6.1, 5.9, 6.3, 7.1, 5.5, 5.8, 5.7, 7.3, 5.3, 6.2, 6.9, 6.1, 6.2, 6.3, 6.7, 5.8, 6.3, 6.1, 5.9, 5.9, 5.8]\",\"Player_Names\":\"[Jonathan Sirois, George Campbell, Joel Waterman, Fernando Álvarez, Jahkeele Marshall-Rutty, Raheem Edwards, Samuel Piette, Nathan Saliba, Bryce Duke, Caden Clark, Josef Martinez, Jeremy Ebobisse, Amahl Pellegrino, Hernan Lopez, Cristian Espinoza, Carlos Gruezo, Niko Tsakiris, Vitor Costa, Rodrigues, Daniel Munie, Carlos Akapo, Daniel, Dawid Bugaj, Tom Pearce, Matias Coccaro, Gabriele Corbo, Kwadwo Opoku, Jackson Yueill, Paul Marie, Jack Skahan, Alfredo Morales, Tommy Thompson]\"}'),\n",
       " Row(player_stats='{\"Shirt_Numbers\":\"[35, 26, 19, 4, 98, 14, 6, 11, 25, 8, 9, 16, 19, 9, 26, 13, 6, 11, 24, 3, 2, 1, 2, 13, 3, 29, 16, 8, 28, 35]\",\"SPI_Scores\":\"[7.0, 6.2, 6.9, 6.6, 8.2, 6.1, 8.6, 7.3, 8.1, 9.6, 7.7, 6.4, 8.4, 7.7, 6.4, 7.2, 7.4, 7.4, 4.7, 5.2, 4.8, 3.7, 6.7, 6.7, 6.5, 6.6, 7.1, 6.5, 6.1, 5.9]\",\"Player_Names\":\"[Gavin Beavers, Philip Quinton, Bode Hidalgo, Brayan Vera, Alexandros Katranis, Emeka Eneli, Braian Ojeda, Andres Gomez, Matt Crooks, Diego Luna, Cristian Arango, Xande Silva, Daniel Rios, Saba Lobzhanidze, Caleb Wiley, Dax McCarty, Bartosz Slisz, Brooks Lennon, Noah Cobb, Derrick Williams, Ronald Hernández, Brad Guzan, Andrew Brody, Nelson Palacio, Bryan Oviedo, Anderson Julio, Maikel Chang Ramirez, Tristan Muyumba, Tyler Wolff, Ajani Fortune]\"}'),\n",
       " Row(player_stats='{\"Shirt_Numbers\":\"[24, 7, 28, 25, 5, 18, 6, 14, 11, 23, 13, 9, 22, 47, 29, 14, 8, 24, 2, 3, 15, 31, 21, 9, 16, 34, 26]\",\"SPI_Scores\":\"[8.0, 7.6, 8.0, 7.5, 7.6, 8.1, 7.1, 6.6, 8.8, 6.5, 7.5, 6.1, 6.3, 7.3, 5.8, 6.6, 6.4, 7.2, 6.7, 6.8, 6.6, 6.7, 6.7, 6.0, 6.2, 6.3, 5.9]\",\"Player_Names\":\"[Stefan Frei, Cristian Roldan, Yeimar Gomez, Jackson Ragen, Nouhou Tolo, Obed Vargas, Joao Paulo, Paul Rothrock, Albert Rusnak, Leo Chu, Jordan Morris, Giacomo Vrioni, Jack Panayotou, Esmir Bajraktarevic, Noel Buck, Ian Harkes, Matt Polster, DeJuan Jones, David Romney, Xavier Arreaga, Brandon Bye, Aljaz Ivacic, Reed Baker-Whiting, Raul Ruidiaz, Alex Roldan, Ryan Spaulding, Thomas McNamara]\"}'),\n",
       " Row(player_stats='{\"Shirt_Numbers\":\"[97, 67, 15, 4, 37, 2, 21, 31, 17, 11, 14, 20, 21, 8, 14, 43, 7, 11, 97, 4, 22, 24, 8, 7, 22, 3, 10, 25]\",\"SPI_Scores\":\"[5.1, 5.7, 5.3, 5.5, 6.5, 7.0, 6.5, 7.4, 8.1, 6.0, 6.5, 9.4, 6.4, 6.4, 7.1, 7.2, 8.3, 7.8, 6.9, 6.9, 8.2, 6.1, 6.2, 5.9, 6.9, 7.8, 6.2, 6.4]\",\"Player_Names\":\"[Dayne St. Clair, Carlos Harvey, Michael Boxall, Miguel Tapias, Caden Clark, Devin Padelford, Bongokuhle Hlongwane, Hassani Dotson, Robin Lod, Sang-Bin Jeong, Tani Oluwaseyi, Christian Benteke, Theodore Ku-DiPietro, Jared Stroud, Martin Rodriguez, Mateusz Klich, Pedro Santos, Cristian Dajome, Christopher McVey, Matti Peltola, Aaron Herrera, Alex Bono, Joseph Rosales, Franco Fragapane, Teemu Pukki, Lucas Bartlett, Gabriel Pirani, Jackson Hopkins]\"}'),\n",
       " Row(player_stats='{\"Shirt_Numbers\":\"[18, 6, 12, 32, 2, 23, 20, 5, 7, 19, 9, 9, 23, 28, 19, 6, 46, 27, 4, 16, 24, 40, 17, 15, 22, 7, 10, 21, 25, 11]\",\"SPI_Scores\":\"[6.7, 7.9, 6.9, 7.1, 7.2, 9.1, 7.7, 7.9, 7.2, 8.0, 6.7, 6.4, 6.5, 6.7, 5.9, 6.0, 6.1, 6.0, 6.0, 4.9, 5.6, 4.8, 7.7, 6.3, 6.3, 7.4, 6.4, 6.3, 6.0, 6.5]\",\"Player_Names\":\"[Roman Celentano, Chidozie Awaziem, Miles Robinson, Ian Murphy, Alvas Elvis Powell, Luca Orellano, Pavel Bucha, Obinna Nwobodo, Yuya Kubo, Kevin Kelsy, Nicholas Gioacchini, Matias Coccaro, Caden Clark, Jules-Anthony Vilsaint, Nathan Saliba, Samuel Piette, Tom Pearce, Dawid Bugaj, Fernando Álvarez, Joel Waterman, George Campbell, Jonathan Sirois, Sergio Santos, Bret Halsey, Gerardo Valenzuela, Kwadwo Opoku, Bryce Duke, Lassi Lappalainen, Gabriele Corbo, Jahkeele Marshall-Rutty]\"}'),\n",
       " Row(player_stats='{\"Shirt_Numbers\":\"[30, 25, 17, 4, 22, 7, 8, 16, 23, 77, 9, 9, 11, 10, 13, 6, 33, 29, 15, 18, 17, 1, 12, 29, 31, 8, 5, 19, 14]\",\"SPI_Scores\":\"[7.1, 7.2, 6.9, 7.7, 7.1, 8.3, 7.7, 6.9, 7.4, 6.3, 7.3, 7.5, 5.9, 4.7, 6.0, 7.8, 6.5, 6.2, 6.6, 6.0, 5.9, 5.7, 6.6, 6.4, 6.1, 5.9, 6.4, 5.8, 6.7]\",\"Player_Names\":\"[Maarten Paes, Sebastien Ibeagha, Nkosi Tafari, Marco Farfan, Ema Twumasi, Paul Arriola, Sebastian Lletget, Tsiki Ntsabeleng, Logan Farrington, Bernard Kamungo, Petar Musa, Gyasi Zardes, Jader Obrian, Sebastian Driussi, Ethan Finlay, Daniel Pereira, Owen Wolff, Guilherme, Leo Väisänen, Julio Cascante, Jon Gallagher, Brad Stuver, Carl Sainte, Sam Junqua, Eugene Ansah, Alexander Ring, Jhojan Valencia, CJ Fodrey, Diego Rubio]\"}'),\n",
       " Row(player_stats='{\"Shirt_Numbers\":\"[41, 29, 13, 4, 5, 21, 24, 30, 10, 14, 9, 77, 23, 20, 8, 14, 21, 29, 4, 25, 7, 1, 2, 11, 15, 22, 16, 10]\",\"SPI_Scores\":\"[8.5, 7.3, 8.0, 6.4, 7.6, 7.4, 6.9, 7.4, 8.3, 6.9, 7.5, 5.4, 6.0, 5.5, 7.4, 7.7, 7.6, 6.8, 6.2, 6.6, 6.7, 8.8, 6.9, 7.1, 6.4, 6.7, 7.0, 6.1]\",\"Player_Names\":\"[James Pantemis, Juan Mosquera, Dario Zuparic, Kamal Miller, Claudio Bravo, Diego Chara, David Ayala, Santiago Moreno, Evander Ferreira, Jonathan Rodriguez, Felipe Mora, Bernard Kamungo, Logan Farrington, Alan Velasco, Sebastian Lletget, Asier Illarramendi, Manuel Cafumana, Sam Junqua, Marco Farfan, Sebastien Ibeagha, Paul Arriola, Jimmy Maurer, Miguel Araujo, Antony, Eric Miller, Cristhian Paredes, Tsiki Ntsabeleng, Jesus Ferreira]\"}'),\n",
       " Row(player_stats='{\"Shirt_Numbers\":\"[]\",\"SPI_Scores\":\"[]\",\"Player_Names\":\"[]\"}'),\n",
       " Row(player_stats='{\"Shirt_Numbers\":\"[1, 17, 4, 15, 29, 8, 5, 11, 10, 33, 9, 10, 16, 17, 55, 6, 8, 22, 12, 13, 24, 49, 16, 18, 13, 35, 80, 26, 9]\",\"SPI_Scores\":\"[7.2, 7.1, 7.2, 6.8, 6.5, 6.8, 6.7, 7.5, 7.2, 8.1, 8.7, 8.2, 6.1, 6.8, 7.1, 7.0, 7.2, 6.2, 6.2, 6.3, 7.0, 6.1, 6.3, 6.1, 5.9, 7.2, 6.6, 6.0, 6.1]\",\"Player_Names\":\"[Brad Stuver, Jon Gallagher, Brendan Hines-Ike, Leo Väisänen, Guilherme, Alexander Ring, Jhojan Valencia, Jader Obrian, Sebastian Driussi, Owen Wolff, Gyasi Zardes, Santiago Rodriguez, Alonso Martinez, Hannes Wolf, Keaton Parks, James Sands, Andres Perea, Kevin O\\'Toole, Strahinja Tanasijevic, Thiago Martins, Tayvon Gray, Matt Freese, Hector Jimenez, Julio Cascante, Ethan Finlay, Mitja Ilenic, Justin Haak, Agustin Ojeda, Monsef Bakrar]\"}'),\n",
       " Row(player_stats='{\"Shirt_Numbers\":\"[97, 28, 15, 4, 11, 8, 31, 17, 20, 22, 9, 13, 14, 11, 7, 6, 18, 5, 25, 28, 16, 24, 21, 67, 27, 8, 10]\",\"SPI_Scores\":\"[5.6, 5.8, 5.8, 6.0, 6.2, 7.0, 7.5, 7.3, 7.7, 6.2, 9.0, 7.9, 6.5, 8.4, 7.6, 6.7, 7.9, 7.4, 8.0, 6.5, 7.1, 6.6, 6.2, 6.1, 6.2, 6.5, 6.4]\",\"Player_Names\":\"[Dayne St. Clair, Jefferson Diaz, Michael Boxall, Miguel Tapias, Sang-Bin Jeong, Joseph Rosales, Hassani Dotson, Robin Lod, Wil Trapp, Teemu Pukki, Kelvin Yeboah, Jordan Morris, Paul Rothrock, Albert Rusnak, Cristian Roldan, Joao Paulo, Obed Vargas, Nouhou Tolo, Jackson Ragen, Yeimar Gomez, Alex Roldan, Stefan Frei, Bongokuhle Hlongwane, Carlos Harvey, D.J. Taylor, Joshua Atencio, Pedro De la Vega]\"}'),\n",
       " Row(player_stats='{\"Shirt_Numbers\":\"[40, 24, 25, 4, 11, 44, 6, 16, 23, 10, 17, 16, 10, 27, 17, 6, 55, 22, 80, 13, 24, 49, 28, 14, 35, 8, 11, 5]\",\"SPI_Scores\":\"[8.0, 7.7, 7.1, 7.2, 7.2, 7.6, 7.4, 7.6, 8.5, 8.0, 7.3, 5.9, 6.4, 6.2, 6.5, 7.7, 7.3, 7.2, 5.7, 6.6, 6.3, 6.0, 6.3, 5.8, 5.9, 6.1, 6.2, 5.9]\",\"Player_Names\":\"[Jonathan Sirois, George Campbell, Gabriele Corbo, Fernando Álvarez, Jahkeele Marshall-Rutty, Raheem Edwards, Samuel Piette, Joel Waterman, Caden Clark, Bryce Duke, Josef Martinez, Alonso Martinez, Santiago Rodriguez, Maxi Moralez, Hannes Wolf, James Sands, Keaton Parks, Kevin O\\'Toole, Justin Haak, Thiago Martins, Tayvon Gray, Matt Freese, Jules-Anthony Vilsaint, Sunusi Ibrahim, Mitja Ilenic, Andres Perea, Julian Fernandez, Birk Risa]\"}'),\n",
       " Row(player_stats='{\"Shirt_Numbers\":\"[28, 12, 21, 18, 23, 2, 7, 6, 17, 10, 9, 7, 28, 10, 31, 33, 21, 27, 3, 5, 26, 18, 5, 27, 11, 16]\",\"SPI_Scores\":\"[6.6, 7.1, 7.1, 7.1, 8.0, 6.6, 9.1, 5.9, 7.3, 7.3, 9.4, 5.8, 5.9, 6.5, 6.8, 7.5, 6.0, 7.2, 6.6, 5.8, 7.2, 6.9, 6.0, 6.6, 5.9, 7.4]\",\"Player_Names\":\"[Patrick Schulte, DeJuan Jones, Evgen Cheberko, Malte Amundsen, Mohamed Farsi, Marcelo Herrera, Dylan Chambost, Darlington Nagbe, Christian Ramirez, Diego Rossi, Juan Hernández, Mikael Uhre, Tai Baribo, Daniel Gazdag, Leon Flach, Quinn Sullivan, Danley Jean Jacques, Kai Wagner, Jack Elliott, Jakob Glesnes, Nathan Harriel, Andre Blake, Derrick Jones, Max Arfsten, Alejandro Bedoya, Jack McGlynn]\"}'),\n",
       " Row(player_stats='{\"Shirt_Numbers\":\"[1, 27, 17, 15, 19, 22, 8, 14, 21, 11, 29, 16, 8, 7, 30, 41, 24, 33, 27, 6, 32, 19, 99, 30, 28, 16, 23, 24, 5, 10, 42, 9, 20]\",\"SPI_Scores\":\"[6.1, 7.0, 6.2, 6.7, 6.7, 7.1, 6.9, 7.3, 6.9, 6.9, 6.3, 6.7, 8.1, 6.5, 6.4, 6.8, 6.9, 7.3, 7.2, 6.9, 7.6, 8.6, 6.7, 6.1, 6.6, 6.2, 6.6, 6.1, 7.1, 6.7, 6.0, 6.7, 5.9]\",\"Player_Names\":\"[Sean Johnson, Shane O\\'Neill, Sigurd Rosted, Nicksoen Gomis, Kobe Franklin, Richie Laryea, Matthew Longstaff, Alonso Coello, Jonathan Osorio, Derrick Etienne, Deandre Kerr, Robert Taylor, Leonardo Campana, Matias Rojas, Benjamin Cremaschi, David Ruiz, Julian Gressel, Franco Negri, Serhiy Kryvtsov, Tomas Aviles, Noah Allen, Oscar Ustari, Prince Osei Owusu, Henry Wingo, Raoul Petretta, Tyrese Spicer, Brandon Servania, Lorenzo Insigne, Sergio Busquets, Lionel Messi, Yannick Bright, Luis Suárez, Diego Gomez]\"}'),\n",
       " Row(player_stats='{\"Shirt_Numbers\":\"[]\",\"SPI_Scores\":\"[]\",\"Player_Names\":\"[]\"}'),\n",
       " Row(player_stats='{\"Shirt_Numbers\":\"[]\",\"SPI_Scores\":\"[]\",\"Player_Names\":\"[]\"}'),\n",
       " Row(player_stats='{\"Shirt_Numbers\":\"[77, 2, 25, 4, 14, 18, 20, 10, 11, 9, 28, 9, 26, 20, 31, 17, 8, 21, 28, 15, 67, 97, 8, 14, 11, 22]\",\"SPI_Scores\":\"[7.2, 7.1, 8.6, 6.7, 8.0, 7.5, 7.1, 8.1, 9.0, 9.3, 9.3, 8.9, 6.6, 6.2, 6.5, 6.7, 4.7, 4.7, 4.4, 4.5, 5.2, 5.6, 6.4, 6.0, 6.1, 6.7]\",\"Player_Names\":\"[John McCarthy, Miki Yamane, Carlos Garces, Maya Yoshida, John Nelson, Marco Reus, Edwin Cerrillo, Ricard Puig, Gabriel Pec, Dejan Joveljic, Joseph Paintsil, Kelvin Yeboah, Joaquin Pereyra, Wil Trapp, Hassani Dotson, Robin Lod, Joseph Rosales, Bongokuhle Hlongwane, Jefferson Diaz, Michael Boxall, Carlos Harvey, Dayne St. Clair, Marco Delgado, Tani Oluwaseyi, Sang-Bin Jeong, Teemu Pukki]\"}'),\n",
       " Row(player_stats='{\"Shirt_Numbers\":\"[95, 4, 5, 6, 2, 3, 18, 20, 91, 10, 9, 28, 9, 11, 10, 20, 8, 14, 4, 25, 2, 77, 11, 14, 7, 5, 18, 7]\",\"SPI_Scores\":\"[4.6, 5.9, 6.2, 6.5, 6.3, 6.6, 8.1, 6.9, 6.2, 6.5, 6.9, 8.3, 6.6, 8.9, 9.1, 6.9, 6.8, 7.0, 7.7, 6.9, 7.2, 7.1, 6.2, 6.0, 5.8, 6.3, 6.2, 7.2]\",\"Player_Names\":\"[Zack Steffen, Reggie Cannon, Andreas Maxsø, Lalas Abubakar, Keegan Rosenberry, Samuel Vines, Oliver Larraz, Connor Ronan, Kévin Cabral, Djordje Mihailovic, Rafael Navarro, Joseph Paintsil, Dejan Joveljic, Gabriel Pec, Ricard Puig, Edwin Cerrillo, Marco Delgado, John Nelson, Maya Yoshida, Carlos Garces, Miki Yamane, John McCarthy, Omir Fernandez, Calvin Harris, Jonathan Lewis, Gaston Brugman, Marco Reus, Diego Fagundez]\"}'),\n",
       " Row(player_stats='{\"Shirt_Numbers\":\"[]\",\"SPI_Scores\":\"[]\",\"Player_Names\":\"[]\"}'),\n",
       " Row(player_stats='{\"Shirt_Numbers\":\"[]\",\"SPI_Scores\":\"[]\",\"Player_Names\":\"[]\"}'),\n",
       " Row(player_stats='{\"Shirt_Numbers\":\"[1, 22, 16, 3, 11, 21, 4, 43, 14, 17, 20, 11, 18, 8, 15, 16, 6, 5, 31, 28, 25, 12, 45, 10, 8, 35, 27]\",\"SPI_Scores\":\"[5.3, 5.6, 6.7, 5.7, 6.3, 7.0, 6.7, 6.5, 7.4, 5.9, 7.1, 9.7, 6.7, 7.5, 6.9, 8.2, 6.9, 7.2, 8.0, 7.4, 7.0, 7.4, 4.8, 6.5, 6.0, 6.3, 6.2]\",\"Player_Names\":\"[Tyler Miller, Aaron Herrera, Garrison Tubbs, Lucas Bartlett, Cristian Dajome, Theodore Ku-DiPietro, Matti Peltola, Mateusz Klich, Martin Rodriguez, Jacob Murrell, Christian Benteke, Carlos Ferreira, Ibrahim Aliyu, Amine Bassi, Latif Blessing, Héctor Herrera, Artur, Daniel Steres, Micael, Erik Sviatchenko, Griffin Dorsey, Steve Clark, Matai Akinmboni, Gabriel Pirani, Jared Stroud, Brooklyn Raines, Sebastian Kowalczyk]\"}'),\n",
       " Row(player_stats='{\"Shirt_Numbers\":\"[1, 57, 6, 14, 18, 30, 55, 7, 10, 9, 20, 59, 29, 18, 8, 13, 6, 9, 4, 3, 2, 1, 8, 5, 5, 35, 19, 16]\",\"SPI_Scores\":\"[5.1, 7.6, 7.4, 6.2, 6.6, 6.4, 8.1, 7.8, 8.2, 7.0, 6.2, 7.5, 8.9, 8.2, 6.3, 7.2, 8.8, 7.6, 6.2, 6.8, 6.9, 7.9, 6.0, 6.3, 6.5, 6.9, 6.2, 7.0]\",\"Player_Names\":\"[Drake Callender, Marcelo Weigandt, Tomas Aviles, Hector Martinez, Jordi Alba, Benjamin Cremaschi, Federico Redondo, Matias Rojas, Lionel Messi, Luis Suárez, Diego Gomez, Aleksey Miranchuk, Jamal Thiaré, Pedro Amador, Tristan Muyumba, Dax McCarty, Bartosz Slisz, Saba Lobzhanidze, Luis Abram, Derrick Williams, Ronald Hernández, Brad Guzan, Leonardo Campana, Sergio Busquets, Stian Gregersen, Ajani Fortune, Daniel Rios, Xande Silva]\"}'),\n",
       " Row(player_stats='{\"Shirt_Numbers\":\"[34, 2, 14, 5, 27, 21, 23, 7, 10, 8, 9, 18, 8, 27, 21, 6, 20, 2, 4, 28, 25, 12, 24, 17, 3]\",\"SPI_Scores\":\"[7.0, 6.5, 7.0, 7.7, 7.6, 7.1, 7.0, 6.4, 8.5, 6.7, 7.4, 7.5, 8.0, 6.5, 6.6, 7.1, 6.6, 6.5, 7.3, 6.8, 6.7, 7.1, 6.5, 7.5, 6.1]\",\"Player_Names\":\"[Chris Brady, Arnaud Souquet, Tobias Salquist, Rafael Czichos, Allan Arigoni, Fabian Herbers, Kellyn Acosta, Maren Haile-Selassie, Xherdan Shaqiri, Chris Mueller, Hugo Cuypers, Ibrahim Aliyu, Amine Bassi, Sebastian Kowalczyk, Ján Gregus, Artur, Adalberto Carrasquilla, Franco Escobar, Ethan Bartlow, Erik Sviatchenko, Griffin Dorsey, Steve Clark, Jonathan Dean, Brian Gutierrez, Brad Smith]\"}'),\n",
       " Row(player_stats='{\"Shirt_Numbers\":\"[]\",\"SPI_Scores\":\"[]\",\"Player_Names\":\"[]\"}'),\n",
       " Row(player_stats='{\"Shirt_Numbers\":\"[]\",\"SPI_Scores\":\"[]\",\"Player_Names\":\"[]\"}'),\n",
       " Row(player_stats='{\"Shirt_Numbers\":\"[1, 17, 15, 6, 3, 5, 16, 10, 11, 77, 7, 9, 13, 10, 5, 75, 47, 17, 15, 4, 12, 31, 13, 9, 14, 3, 19]\",\"SPI_Scores\":\"[7.0, 6.7, 6.1, 6.3, 6.2, 6.7, 6.2, 6.5, 6.5, 6.4, 6.5, 7.2, 7.2, 7.6, 7.1, 7.0, 7.7, 7.6, 7.4, 7.7, 7.6, 8.1, 6.2, 6.8, 6.7, 6.4, 6.6]\",\"Player_Names\":\"[Pedro Gallese, Dagur Dan Thorhallsson, Rodrigo Adrián Schlegel, Robin Jansson, Rafael Santos, Cesar Araujo, Wilder Cartagena, Facundo Torres, Martin Ojeda, Ivan Angulo, Ramiro Enrique, Lewis Morgan, Dante Vanzeir, Emil Forsberg, Peter Stroud, Daniel Edelman, John Tolkin, Cameron Harper, Sean Nealis, Andres Reyes, Dylan Nealis, Carlos Miguel, Duncan McGuire, Luis Muriel, Nicolás Lodeiro, Noah Eile, Wikelman Carmona]\"}'),\n",
       " Row(player_stats='{\"Shirt_Numbers\":\"[]\",\"SPI_Scores\":\"[]\",\"Player_Names\":\"[]\"}'),\n",
       " Row(player_stats='{\"Shirt_Numbers\":\"[]\",\"SPI_Scores\":\"[]\",\"Player_Names\":\"[]\"}'),\n",
       " Row(player_stats='{\"Shirt_Numbers\":\"[95, 2, 6, 5, 3, 18, 20, 14, 10, 7, 9, 13, 14, 11, 10, 18, 7, 5, 25, 28, 16, 24, 4, 11, 27, 93]\",\"SPI_Scores\":\"[7.0, 6.4, 6.3, 6.7, 6.2, 6.3, 7.0, 6.3, 6.8, 6.5, 7.2, 7.2, 7.7, 8.0, 6.9, 8.5, 7.6, 7.6, 7.2, 7.6, 7.0, 8.0, 6.2, 6.6, 5.7, 6.6]\",\"Player_Names\":\"[Zack Steffen, Keegan Rosenberry, Lalas Abubakar, Andreas Maxsø, Samuel Vines, Oliver Larraz, Connor Ronan, Calvin Harris, Djordje Mihailovic, Jonathan Lewis, Rafael Navarro, Jordan Morris, Paul Rothrock, Albert Rusnak, Pedro De la Vega, Obed Vargas, Cristian Roldan, Nouhou Tolo, Jackson Ragen, Yeimar Gomez, Alex Roldan, Stefan Frei, Reggie Cannon, Omir Fernandez, Kimani Stewart, Georgi Minoungou]\"}'),\n",
       " Row(player_stats='{\"Shirt_Numbers\":\"[]\",\"SPI_Scores\":\"[]\",\"Player_Names\":\"[]\"}'),\n",
       " Row(player_stats='{\"Shirt_Numbers\":\"[]\",\"SPI_Scores\":\"[]\",\"Player_Names\":\"[]\"}'),\n",
       " Row(player_stats='{\"Shirt_Numbers\":\"[]\",\"SPI_Scores\":\"[]\",\"Player_Names\":\"[]\"}'),\n",
       " Row(player_stats='{\"Shirt_Numbers\":\"[]\",\"SPI_Scores\":\"[]\",\"Player_Names\":\"[]\"}'),\n",
       " Row(player_stats='{\"Shirt_Numbers\":\"[]\",\"SPI_Scores\":\"[]\",\"Player_Names\":\"[]\"}'),\n",
       " Row(player_stats='{\"Shirt_Numbers\":\"[]\",\"SPI_Scores\":\"[]\",\"Player_Names\":\"[]\"}'),\n",
       " Row(player_stats='{\"Shirt_Numbers\":\"[]\",\"SPI_Scores\":\"[]\",\"Player_Names\":\"[]\"}'),\n",
       " Row(player_stats='{\"Shirt_Numbers\":\"[]\",\"SPI_Scores\":\"[]\",\"Player_Names\":\"[]\"}'),\n",
       " Row(player_stats='{\"Shirt_Numbers\":\"[1, 14, 25, 24, 11, 6, 19, 13, 23, 99, 9, 13, 10, 8, 75, 19, 47, 3, 15, 12, 31, 4, 27, 2, 11]\",\"SPI_Scores\":\"[6.0, 7.3, 7.7, 7.2, 7.4, 7.2, 7.2, 6.3, 6.7, 9.0, 7.1, 6.7, 7.7, 7.2, 7.2, 6.6, 6.8, 6.9, 6.4, 7.8, 7.4, 5.1, 6.0, 6.3, 6.7]\",\"Player_Names\":\"[Hugo Lloris, Sergi Palencia, Maxime Chanot, Ryan Hollingshead, Timothy Tillman, Ilie Sanchez, Mateusz Bogusz, Cristian Olivera, Kei Ansu Kamara, Denis Bouanga, Lewis Morgan, Dante Vanzeir, Emil Forsberg, Frankie Amaya, Daniel Edelman, Wikelman Carmona, John Tolkin, Noah Eile, Sean Nealis, Dylan Nealis, Carlos Miguel, Eddie Segura, Nathan Ordaz, Dennis Gjengaar, Elias Manoel]\"}'),\n",
       " Row(player_stats='{\"Shirt_Numbers\":\"[49, 35, 13, 80, 22, 55, 6, 17, 27, 10, 16, 9, 13, 10, 20, 75, 47, 17, 15, 4, 12, 31, 8, 3, 5]\",\"SPI_Scores\":\"[5.3, 6.1, 7.3, 7.0, 6.3, 7.3, 6.6, 7.0, 7.4, 7.4, 6.4, 6.7, 8.2, 7.0, 7.7, 7.0, 7.9, 6.9, 7.3, 7.5, 7.1, 9.0, 6.5, 6.6, 6.6]\",\"Player_Names\":\"[Matt Freese, Mitja Ilenic, Thiago Martins, Justin Haak, Kevin O\\'Toole, Keaton Parks, James Sands, Hannes Wolf, Maxi Moralez, Santiago Rodriguez, Alonso Martinez, Lewis Morgan, Dante Vanzeir, Emil Forsberg, Felipe Carballo, Daniel Edelman, John Tolkin, Cameron Harper, Sean Nealis, Andres Reyes, Dylan Nealis, Carlos Miguel, Andres Perea, Noah Eile, Peter Stroud]\"}'),\n",
       " Row(player_stats='{\"Shirt_Numbers\":\"[24, 22, 97, 3, 11, 4, 8, 10, 43, 17, 20, 17, 23, 11, 13, 6, 8, 33, 15, 28, 7, 24, 25, 14, 7, 18, 26, 9, 14]\",\"SPI_Scores\":\"[7.8, 7.7, 7.1, 7.2, 6.5, 6.9, 7.0, 5.9, 8.1, 6.8, 9.1, 6.2, 7.2, 6.9, 6.6, 7.1, 7.3, 7.2, 6.9, 6.5, 7.4, 4.7, 6.3, 6.2, 6.4, 6.9, 6.7, 5.9, 5.9]\",\"Player_Names\":\"[Alex Bono, Aaron Herrera, Christopher McVey, Lucas Bartlett, Cristian Dajome, Matti Peltola, Jared Stroud, Gabriel Pirani, Mateusz Klich, Jacob Murrell, Christian Benteke, Danny Musovski, Leo Chu, Albert Rusnak, Jordan Morris, Joao Paulo, Joshua Atencio, Cody Baker, Jon Bell, Yeimar Gomez, Cristian Roldan, Stefan Frei, Jackson Hopkins, Martin Rodriguez, Pedro Santos, Obed Vargas, Andrew Thomas, Raul Ruidiaz, Paul Rothrock]\"}'),\n",
       " Row(player_stats='{\"Shirt_Numbers\":\"[29, 11, 4, 3, 14, 17, 22, 30, 26, 10, 23, 7, 77, 11, 10, 16, 5, 24, 6, 4, 17, 1, 5, 9, 7, 18, 54, 3, 13, 9, 14]\",\"SPI_Scores\":\"[7.4, 7.6, 7.0, 6.3, 8.1, 8.6, 7.2, 8.1, 7.8, 8.2, 5.5, 6.3, 6.3, 6.5, 6.3, 7.0, 5.9, 6.9, 5.6, 6.1, 6.0, 5.7, 6.9, 7.2, 6.5, 6.3, 7.4, 6.8, 6.0, 5.9, 6.5]\",\"Player_Names\":\"[Tim Melia, Khiry Shelton, Robert Voloder, Andreu Fontàs, Tim Leibold, Jacob Davis, Zorhan Bassong, Stephen Afrifa, Erik Thommy, Daniel Salloi, William Agada, Ramiro Enrique, Ivan Angulo, Martin Ojeda, Facundo Torres, Wilder Cartagena, Cesar Araujo, Kyle Smith, Robin Jansson, David Brekalo, Dagur Dan Thorhallsson, Pedro Gallese, Daniel Rosero, Alan Pulido, Johnny Russell, Logan Ndenbe, Rémi Walter, Rafael Santos, Duncan McGuire, Luis Muriel, Nicolás Lodeiro]\"}'),\n",
       " Row(player_stats='{\"Shirt_Numbers\":\"[16, 29, 2, 13, 5, 24, 21, 30, 10, 14, 9, 11, 17, 36, 29, 10, 8, 99, 22, 5, 14, 1, 19, 11, 19, 38, 85]\",\"SPI_Scores\":\"[5.9, 6.0, 5.4, 7.0, 6.9, 7.5, 6.4, 7.8, 9.0, 7.8, 8.3, 7.7, 8.9, 8.4, 7.7, 8.3, 7.3, 6.1, 6.0, 6.4, 5.5, 5.0, 6.4, 6.5, 5.9, 6.8, 6.3]\",\"Player_Names\":\"[Maxime Crepeau, Juan Mosquera, Miguel Araujo, Dario Zuparic, Claudio Bravo, David Ayala, Diego Chara, Santiago Moreno, Evander Ferreira, Jonathan Rodriguez, Felipe Mora, Simon Becher, Marcel Hartel, Cedric Teuchert, Nökkvi Thorisson, Eduard Löwen, Christopher Durkin, Jayden Reid, Kyle Hiebert, Henry Kessler, Tomas Totland, Roman Bürki, Eryk Williamson, Antony, Indiana Vassilev, Jannes-Kilian Horn, Hosei Kijima]\"}'),\n",
       " Row(player_stats='{\"Shirt_Numbers\":\"[1, 7, 25, 4, 29, 14, 21, 77, 8, 20, 9, 10, 23, 20, 26, 6, 8, 18, 4, 24, 14, 1, 22, 16, 10, 23, 22, 9, 30, 19]\",\"SPI_Scores\":\"[8.0, 7.2, 7.4, 7.0, 6.8, 8.1, 6.8, 6.4, 7.1, 6.7, 7.9, 6.7, 7.3, 5.7, 6.8, 6.4, 7.2, 6.6, 6.3, 5.5, 5.9, 6.7, 6.6, 6.4, 6.1, 6.1, 6.7, 5.9, 6.1, 6.3]\",\"Player_Names\":\"[Jimmy Maurer, Paul Arriola, Sebastien Ibeagha, Marco Farfan, Sam Junqua, Asier Illarramendi, Manuel Cafumana, Bernard Kamungo, Sebastian Lletget, Alan Velasco, Petar Musa, Daniel Salloi, William Agada, Alenis Vargas, Erik Thommy, Nemanja Radoja, Memo Rodriguez, Logan Ndenbe, Robert Voloder, Joaquin Fernández, Tim Leibold, John Pulskamp, Ema Twumasi, Tsiki Ntsabeleng, Jesus Ferreira, Logan Farrington, Zorhan Bassong, Alan Pulido, Stephen Afrifa, Robert Castellanos]\"}'),\n",
       " Row(player_stats='{\"Shirt_Numbers\":\"[29, 17, 5, 3, 14, 26, 6, 54, 7, 9, 10, 25, 33, 14, 16, 20, 8, 26, 17, 3, 15, 1, 8, 23, 11, 10, 27, 7]\",\"SPI_Scores\":\"[6.1, 7.7, 6.4, 6.8, 6.9, 6.7, 6.9, 8.1, 7.5, 6.2, 7.2, 6.3, 7.0, 6.2, 7.0, 6.6, 6.0, 6.6, 7.5, 7.2, 6.2, 7.1, 6.8, 5.7, 7.7, 6.3, 6.1, 6.4]\",\"Player_Names\":\"[Tim Melia, Jacob Davis, Daniel Rosero, Andreu Fontàs, Tim Leibold, Erik Thommy, Nemanja Radoja, Rémi Walter, Johnny Russell, Alan Pulido, Daniel Salloi, Chris Donovan, Quinn Sullivan, Jeremy Rafanello, Jack McGlynn, Jesus Bueno, Jose Andres Martinez, Nathan Harriel, Damion Lowe, Jack Elliott, Olivier Mbaizo, Oliver Semmle, Memo Rodriguez, William Agada, Alejandro Bedoya, Daniel Gazdag, Kai Wagner, Mikael Uhre]\"}'),\n",
       " Row(player_stats='{\"Shirt_Numbers\":\"[]\",\"SPI_Scores\":\"[]\",\"Player_Names\":\"[]\"}'),\n",
       " Row(player_stats='{\"Shirt_Numbers\":\"[]\",\"SPI_Scores\":\"[]\",\"Player_Names\":\"[]\"}'),\n",
       " Row(player_stats='{\"Shirt_Numbers\":\"[1, 17, 15, 6, 3, 5, 16, 10, 11, 77, 7, 18, 33, 10, 13, 8, 28, 3, 34, 29, 14, 1, 13, 9, 24, 14, 9, 11]\",\"SPI_Scores\":\"[7.7, 7.2, 6.8, 6.8, 7.9, 6.7, 6.8, 8.1, 6.9, 6.7, 6.5, 7.2, 6.8, 7.1, 6.4, 6.2, 6.8, 7.2, 6.5, 7.0, 7.3, 8.6, 6.6, 7.1, 5.7, 6.3, 7.3, 7.1]\",\"Player_Names\":\"[Pedro Gallese, Dagur Dan Thorhallsson, Rodrigo Adrián Schlegel, Robin Jansson, Rafael Santos, Cesar Araujo, Wilder Cartagena, Facundo Torres, Martin Ojeda, Ivan Angulo, Ramiro Enrique, Kerwin Vargas, Patrick Agyemang, Pep Biel, Brandt Bronico, Ashley Westwood, Djibril Diani, Tim Ream, Andrew Privett, Adilson Malanda, Nathan Byrne, Kristijan Kahlina, Duncan McGuire, Luis Muriel, Kyle Smith, Nicolás Lodeiro, Karol Swiderski, Liel Abada]\"}'),\n",
       " Row(player_stats='{\"Shirt_Numbers\":\"[]\",\"SPI_Scores\":\"[]\",\"Player_Names\":\"[]\"}'),\n",
       " Row(player_stats='{\"Shirt_Numbers\":\"[18, 6, 12, 16, 91, 27, 20, 5, 10, 23, 7, 16, 10, 27, 17, 6, 55, 22, 80, 13, 35, 49, 17, 8]\",\"SPI_Scores\":\"[8.5, 6.9, 7.5, 7.6, 6.6, 7.7, 6.9, 7.8, 6.9, 7.6, 6.1, 5.8, 6.3, 7.0, 6.7, 7.6, 6.9, 7.6, 6.7, 7.3, 6.5, 9.1, 6.5, 6.1]\",\"Player_Names\":\"[Roman Celentano, Chidozie Awaziem, Miles Robinson, Teenage Lingani Hadebe, DeAndre Yedlin, Yamil Asad, Pavel Bucha, Obinna Nwobodo, Luciano Acosta, Luca Orellano, Yuya Kubo, Alonso Martinez, Santiago Rodriguez, Maxi Moralez, Hannes Wolf, James Sands, Keaton Parks, Kevin O\\'Toole, Justin Haak, Thiago Martins, Mitja Ilenic, Matt Freese, Sergio Santos, Andres Perea]\"}'),\n",
       " Row(player_stats='{\"Shirt_Numbers\":\"[49, 35, 13, 5, 22, 55, 8, 21, 10, 17, 9, 27, 11, 10, 30, 21, 22, 15, 4, 18, 29, 16, 80, 11, 24, 7, 99]\",\"SPI_Scores\":\"[5.6, 6.5, 5.9, 6.1, 5.3, 6.4, 7.5, 6.5, 7.5, 6.7, 6.6, 7.1, 8.7, 8.2, 8.0, 7.5, 6.7, 7.2, 7.8, 7.6, 8.2, 7.9, 5.9, 6.1, 6.0, 5.9, 6.3]\",\"Player_Names\":\"[Matt Freese, Mitja Ilenic, Thiago Martins, Birk Risa, Kevin O\\'Toole, Keaton Parks, Andres Perea, Andres Jasson, Santiago Rodriguez, Hannes Wolf, Monsef Bakrar, Dairon Asprilla, Antony, Evander Ferreira, Santiago Moreno, Diego Chara, Cristhian Paredes, Eric Miller, Kamal Miller, Zac McGraw, Juan Mosquera, Maxime Crepeau, Justin Haak, Julian Fernandez, Tayvon Gray, Jovan Mijatovic, Nathan Fogaca]\"}'),\n",
       " Row(player_stats='{\"Shirt_Numbers\":\"[]\",\"SPI_Scores\":\"[]\",\"Player_Names\":\"[]\"}'),\n",
       " Row(player_stats='{\"Shirt_Numbers\":\"[1, 14, 26, 22, 99, 8, 10, 29, 36, 17, 11, 23, 9, 29, 16, 12, 7, 4, 17, 25, 22, 30, 19, 41, 85, 35, 77, 41, 31]\",\"SPI_Scores\":\"[6.2, 7.5, 7.0, 6.8, 6.9, 7.3, 7.9, 7.6, 8.0, 8.1, 6.9, 6.4, 6.0, 7.4, 6.1, 7.5, 8.3, 6.5, 7.3, 6.4, 6.1, 7.2, 6.5, 6.3, 6.3, 6.4, 6.2, 6.5, 6.1]\",\"Player_Names\":\"[Roman Bürki, Tomas Totland, Tim Parker, Kyle Hiebert, Jayden Reid, Christopher Durkin, Eduard Löwen, Nökkvi Thorisson, Cedric Teuchert, Marcel Hartel, Simon Becher, Logan Farrington, Petar Musa, Sam Junqua, Tsiki Ntsabeleng, Carl Sainte, Paul Arriola, Marco Farfan, Nkosi Tafari, Sebastien Ibeagha, Ema Twumasi, Maarten Paes, Indiana Vassilev, Johnny Klein, Hosei Kijima, Tomas Pondeca, Bernard Kamungo, Tarik Scott, Eugene Ansah]\"}'),\n",
       " Row(player_stats='{\"Shirt_Numbers\":\"[49, 24, 13, 5, 18, 6, 55, 17, 27, 10, 16, 7, 9, 15, 23, 17, 30, 27, 5, 4, 2, 34, 11, 22, 7, 14, 8, 36, 31, 19]\",\"SPI_Scores\":\"[6.3, 6.1, 7.5, 6.5, 6.9, 7.3, 7.9, 7.9, 7.4, 6.4, 9.0, 6.8, 7.1, 7.2, 6.7, 7.4, 6.8, 6.8, 6.6, 6.1, 6.2, 5.9, 6.2, 6.5, 6.1, 7.3, 6.8, 6.4, 6.5, 6.1]\",\"Player_Names\":\"[Matt Freese, Tayvon Gray, Thiago Martins, Birk Risa, Christian McFarlane, James Sands, Keaton Parks, Hannes Wolf, Maxi Moralez, Santiago Rodriguez, Alonso Martinez, Maren Haile-Selassie, Hugo Cuypers, Andrew Gutman, Kellyn Acosta, Brian Gutierrez, Gaston Claudio Gimenez, Allan Arigoni, Rafael Czichos, Carlos Teran, Arnaud Souquet, Chris Brady, Julian Fernandez, Kevin O\\'Toole, Jovan Mijatovic, Tobias Salquist, Chris Mueller, Justin Reynolds, Federico Navarro, Georgios Koutsias]\"}'),\n",
       " Row(player_stats='{\"Shirt_Numbers\":\"[41, 29, 18, 13, 5, 21, 24, 30, 10, 14, 9, 11, 21, 8, 17, 37, 2, 4, 15, 27, 1, 15, 19, 11, 27]\",\"SPI_Scores\":\"[5.0, 6.8, 6.1, 7.3, 7.0, 6.7, 6.6, 8.4, 9.1, 7.8, 7.6, 6.9, 8.4, 7.2, 7.3, 6.2, 5.8, 5.9, 6.7, 5.9, 7.1, 6.2, 6.3, 6.9, 7.9]\",\"Player_Names\":\"[James Pantemis, Juan Mosquera, Zac McGraw, Dario Zuparic, Claudio Bravo, Diego Chara, David Ayala, Santiago Moreno, Evander Ferreira, Jonathan Rodriguez, Felipe Mora, Sang-Bin Jeong, Bongokuhle Hlongwane, Joseph Rosales, Robin Lod, Caden Clark, Devin Padelford, Miguel Tapias, Michael Boxall, D.J. Taylor, Clint Irwin, Eric Miller, Eryk Williamson, Antony, Dairon Asprilla]\"}'),\n",
       " Row(player_stats='{\"Shirt_Numbers\":\"[]\",\"SPI_Scores\":\"[]\",\"Player_Names\":\"[]\"}'),\n",
       " Row(player_stats='{\"Shirt_Numbers\":\"[1, 11, 19, 3, 18, 8, 22, 7, 9, 30, 23, 9, 7, 10, 14, 23, 20, 99, 34, 5, 2, 95, 14, 26, 10, 54, 18, 11, 21, 27, 4]\",\"SPI_Scores\":\"[6.8, 7.8, 6.8, 7.2, 7.8, 7.5, 7.8, 7.7, 9.2, 8.5, 7.9, 6.4, 6.4, 7.2, 5.8, 4.9, 5.7, 5.2, 6.5, 5.1, 6.2, 6.0, 6.4, 8.9, 7.3, 6.5, 6.1, 6.2, 6.4, 6.0, 6.4]\",\"Player_Names\":\"[John Pulskamp, Khiry Shelton, Robert Castellanos, Andreu Fontàs, Logan Ndenbe, Memo Rodriguez, Zorhan Bassong, Johnny Russell, Alan Pulido, Stephen Afrifa, William Agada, Rafael Navarro, Jonathan Lewis, Djordje Mihailovic, Calvin Harris, Cole Bassett, Connor Ronan, Jackson Travis, Michael Edwards, Andreas Maxsø, Keegan Rosenberry, Zack Steffen, Tim Leibold, Erik Thommy, Daniel Salloi, Rémi Walter, Oliver Larraz, Omir Fernandez, Jasper Löffelsend, Kimani Stewart, Reggie Cannon]\"}'),\n",
       " Row(player_stats='{\"Shirt_Numbers\":\"[95, 2, 64, 5, 3, 20, 18, 14, 23, 10, 9, 12, 11, 23, 16, 20, 54, 18, 5, 25, 3, 1, 11, 77, 19, 2, 14, 17]\",\"SPI_Scores\":\"[6.8, 7.0, 7.7, 6.7, 7.7, 7.4, 7.4, 6.9, 6.6, 6.3, 6.2, 7.3, 6.8, 6.4, 6.0, 6.9, 7.0, 5.4, 6.6, 6.7, 7.0, 6.2, 6.1, 6.1, 6.2, 6.1, 5.8, 6.1]\",\"Player_Names\":\"[Zack Steffen, Keegan Rosenberry, Moise Bombito, Andreas Maxsø, Samuel Vines, Connor Ronan, Oliver Larraz, Calvin Harris, Cole Bassett, Djordje Mihailovic, Rafael Navarro, Teal Bunbury, Tyler Boyd, Taylor Washington, Dru Yearwood, Anibal Godoy, Sean Davis, Shaq Moore, Jack Maher, Walker Zimmerman, Lukas MacNaughton, Joe Willis, Omir Fernandez, Darren Yapi, Alex Muyl, Daniel Lovitz, Jacob Shaffelburg, Orrin McKinze Gaines]\"}'),\n",
       " Row(player_stats='{\"Shirt_Numbers\":\"[18, 15, 5, 3, 27, 8, 33, 11, 10, 28, 9, 33, 38, 15, 18, 8, 13, 20, 34, 29, 14, 1, 7, 20, 9, 25, 21, 23, 36]\",\"SPI_Scores\":\"[7.1, 7.1, 7.5, 7.9, 7.7, 8.1, 7.0, 7.6, 7.8, 7.8, 6.7, 6.0, 6.4, 6.4, 6.1, 6.7, 6.2, 7.2, 6.4, 6.4, 6.4, 6.5, 6.1, 6.3, 5.7, 5.9, 6.2, 6.2, 6.2]\",\"Player_Names\":\"[Andre Blake, Olivier Mbaizo, Jakob Glesnes, Jack Elliott, Kai Wagner, Jose Andres Martinez, Quinn Sullivan, Alejandro Bedoya, Daniel Gazdag, Tai Baribo, Samuel Adeniran, Patrick Agyemang, Iuri Tavares, Ben Bender, Kerwin Vargas, Ashley Westwood, Brandt Bronico, Joao Pedro, Andrew Privett, Adilson Malanda, Nathan Byrne, Kristijan Kahlina, Mikael Uhre, Jesus Bueno, Karol Swiderski, Tyger Smalls, Jere Uronen, Nikola Petkovic, Brandon Cambridge]\"}'),\n",
       " Row(player_stats='{\"Shirt_Numbers\":\"[95, 4, 5, 6, 2, 3, 18, 20, 91, 10, 9, 28, 9, 11, 10, 20, 8, 14, 4, 25, 2, 77, 11, 14, 7, 5, 18, 7]\",\"SPI_Scores\":\"[4.6, 5.9, 6.2, 6.5, 6.3, 6.6, 8.1, 6.9, 6.2, 6.5, 6.9, 8.3, 6.6, 8.9, 9.1, 6.9, 6.8, 7.0, 7.7, 6.9, 7.2, 7.1, 6.2, 6.0, 5.8, 6.3, 6.2, 7.2]\",\"Player_Names\":\"[Zack Steffen, Reggie Cannon, Andreas Maxsø, Lalas Abubakar, Keegan Rosenberry, Samuel Vines, Oliver Larraz, Connor Ronan, Kévin Cabral, Djordje Mihailovic, Rafael Navarro, Joseph Paintsil, Dejan Joveljic, Gabriel Pec, Ricard Puig, Edwin Cerrillo, Marco Delgado, John Nelson, Maya Yoshida, Carlos Garces, Miki Yamane, John McCarthy, Omir Fernandez, Calvin Harris, Jonathan Lewis, Gaston Brugman, Marco Reus, Diego Fagundez]\"}'),\n",
       " Row(player_stats='{\"Shirt_Numbers\":\"[]\",\"SPI_Scores\":\"[]\",\"Player_Names\":\"[]\"}'),\n",
       " Row(player_stats='{\"Shirt_Numbers\":\"[24, 22, 3, 97, 7, 14, 8, 43, 21, 20, 10, 18, 33, 10, 13, 8, 30, 3, 34, 29, 14, 1, 28, 11, 5, 23, 4, 21, 28, 11]\",\"SPI_Scores\":\"[6.0, 6.7, 6.3, 6.5, 6.2, 7.2, 6.2, 6.9, 6.4, 6.4, 6.3, 7.5, 7.7, 8.0, 8.5, 7.0, 7.5, 7.0, 7.2, 7.1, 7.6, 8.4, 6.8, 6.4, 6.7, 6.3, 6.8, 6.1, 6.4, 8.0]\",\"Player_Names\":\"[Alex Bono, Aaron Herrera, Lucas Bartlett, Christopher McVey, Pedro Santos, Martin Rodriguez, Jared Stroud, Mateusz Klich, Theodore Ku-DiPietro, Christian Benteke, Gabriel Pirani, Kerwin Vargas, Patrick Agyemang, Pep Biel, Brandt Bronico, Ashley Westwood, Junior Urso, Tim Ream, Andrew Privett, Adilson Malanda, Nathan Byrne, Kristijan Kahlina, David Schnegg, Cristian Dajome, Boris Enow, Dominique Badji, Matti Peltola, Jere Uronen, Djibril Diani, Liel Abada]\"}'),\n",
       " Row(player_stats='{\"Shirt_Numbers\":\"[]\",\"SPI_Scores\":\"[]\",\"Player_Names\":\"[]\"}'),\n",
       " Row(player_stats='{\"Shirt_Numbers\":\"[1, 17, 15, 6, 3, 5, 16, 10, 11, 77, 7, 18, 33, 10, 13, 8, 28, 3, 34, 29, 14, 1, 13, 9, 24, 14, 9, 11]\",\"SPI_Scores\":\"[7.7, 7.2, 6.8, 6.8, 7.9, 6.7, 6.8, 8.1, 6.9, 6.7, 6.5, 7.2, 6.8, 7.1, 6.4, 6.2, 6.8, 7.2, 6.5, 7.0, 7.3, 8.6, 6.6, 7.1, 5.7, 6.3, 7.3, 7.1]\",\"Player_Names\":\"[Pedro Gallese, Dagur Dan Thorhallsson, Rodrigo Adrián Schlegel, Robin Jansson, Rafael Santos, Cesar Araujo, Wilder Cartagena, Facundo Torres, Martin Ojeda, Ivan Angulo, Ramiro Enrique, Kerwin Vargas, Patrick Agyemang, Pep Biel, Brandt Bronico, Ashley Westwood, Djibril Diani, Tim Ream, Andrew Privett, Adilson Malanda, Nathan Byrne, Kristijan Kahlina, Duncan McGuire, Luis Muriel, Kyle Smith, Nicolás Lodeiro, Karol Swiderski, Liel Abada]\"}'),\n",
       " Row(player_stats='{\"Shirt_Numbers\":\"[]\",\"SPI_Scores\":\"[]\",\"Player_Names\":\"[]\"}'),\n",
       " Row(player_stats='{\"Shirt_Numbers\":\"[24, 16, 28, 25, 5, 7, 18, 10, 11, 14, 13, 9, 14, 10, 11, 22, 21, 5, 20, 13, 29, 41, 21, 24, 19]\",\"SPI_Scores\":\"[6.3, 7.1, 8.5, 6.9, 7.3, 7.9, 6.3, 6.6, 7.6, 7.0, 6.6, 6.2, 6.3, 8.0, 7.7, 6.6, 7.2, 7.1, 6.5, 7.1, 7.0, 7.7, 6.6, 6.6, 6.5]\",\"Player_Names\":\"[Stefan Frei, Alex Roldan, Yeimar Gomez, Jackson Ragen, Nouhou Tolo, Cristian Roldan, Obed Vargas, Pedro De la Vega, Albert Rusnak, Paul Rothrock, Jordan Morris, Felipe Mora, Jonathan Rodriguez, Evander Ferreira, Antony, Cristhian Paredes, Diego Chara, Claudio Bravo, Finn Surman, Dario Zuparic, Juan Mosquera, James Pantemis, Reed Baker-Whiting, David Ayala, Eryk Williamson]\"}'),\n",
       " Row(player_stats='{\"Shirt_Numbers\":\"[]\",\"SPI_Scores\":\"[]\",\"Player_Names\":\"[]\"}'),\n",
       " Row(player_stats='{\"Shirt_Numbers\":\"[35, 26, 15, 4, 98, 14, 92, 11, 25, 8, 29, 9, 11, 10, 30, 19, 24, 5, 4, 2, 29, 16, 9, 91, 6, 10, 15, 22, 14, 23, 21]\",\"SPI_Scores\":\"[5.6, 6.9, 5.9, 6.8, 6.4, 6.3, 6.6, 7.7, 6.8, 8.3, 7.2, 6.2, 7.9, 8.1, 6.9, 6.4, 6.9, 6.2, 5.3, 7.7, 5.9, 6.0, 6.9, 6.6, 6.5, 7.5, 6.3, 6.7, 7.0, 5.8, 6.4]\",\"Player_Names\":\"[Gavin Beavers, Philip Quinton, Justen Glad, Brayan Vera, Alexandros Katranis, Emeka Eneli, Noel Caliskan, Dominik Marczuk, Matt Crooks, Diego Luna, Anderson Julio, Felipe Mora, Antony, Evander Ferreira, Santiago Moreno, Eryk Williamson, David Ayala, Claudio Bravo, Kamal Miller, Miguel Araujo, Juan Mosquera, Maxime Crepeau, Cristian Arango, Javain Brown, Braian Ojeda, Diogo Goncalves, Eric Miller, Cristhian Paredes, Jonathan Rodriguez, Mason Toye, Diego Chara]\"}'),\n",
       " Row(player_stats='{\"Shirt_Numbers\":\"[]\",\"SPI_Scores\":\"[]\",\"Player_Names\":\"[]\"}'),\n",
       " Row(player_stats='{\"Shirt_Numbers\":\"[1, 18, 25, 5, 2, 14, 15, 20, 19, 10, 9, 20, 21, 43, 14, 23, 8, 22, 4, 3, 97, 24, 12, 7, 5, 10, 11, 17]\",\"SPI_Scores\":\"[6.6, 5.3, 5.9, 4.9, 5.5, 6.9, 6.9, 8.3, 8.8, 9.0, 6.0, 8.7, 7.4, 7.2, 7.4, 5.9, 7.2, 8.3, 6.4, 7.9, 6.7, 5.3, 5.8, 7.4, 6.7, 9.0, 6.4, 7.0]\",\"Player_Names\":\"[Joe Willis, Shaq Moore, Walker Zimmerman, Jack Maher, Daniel Lovitz, Jacob Shaffelburg, Patrick Yazbek, Anibal Godoy, Alex Muyl, Hany Mukhtar, Sam Surridge, Christian Benteke, Theodore Ku-DiPietro, Mateusz Klich, Martin Rodriguez, Dominique Badji, Jared Stroud, Aaron Herrera, Matti Peltola, Lucas Bartlett, Christopher McVey, Alex Bono, Teal Bunbury, Pedro Santos, Boris Enow, Gabriel Pirani, Cristian Dajome, Jacob Murrell]\"}'),\n",
       " Row(player_stats='{\"Shirt_Numbers\":\"[]\",\"SPI_Scores\":\"[]\",\"Player_Names\":\"[]\"}'),\n",
       " Row(player_stats='{\"Shirt_Numbers\":\"[30, 25, 3, 4, 5, 7, 8, 6, 10, 20, 9, 7, 77, 11, 10, 16, 5, 3, 6, 15, 24, 1, 16, 23, 77, 13, 9, 14]\",\"SPI_Scores\":\"[5.5, 6.4, 6.1, 6.4, 5.9, 7.5, 6.8, 6.1, 6.9, 7.0, 7.7, 8.6, 7.6, 7.5, 7.9, 7.7, 7.3, 8.0, 7.2, 8.2, 6.9, 8.0, 7.2, 6.1, 7.1, 6.2, 6.7, 5.5]\",\"Player_Names\":\"[Maarten Paes, Sebastien Ibeagha, Omar Gonzalez, Marco Farfan, Ruan, Paul Arriola, Sebastian Lletget, Patrickson Delgado, Jesus Ferreira, Alan Velasco, Petar Musa, Ramiro Enrique, Ivan Angulo, Martin Ojeda, Facundo Torres, Wilder Cartagena, Cesar Araujo, Rafael Santos, Robin Jansson, Rodrigo Adrián Schlegel, Kyle Smith, Pedro Gallese, Tsiki Ntsabeleng, Logan Farrington, Bernard Kamungo, Duncan McGuire, Luis Muriel, Nicolás Lodeiro]\"}'),\n",
       " Row(player_stats='{\"Shirt_Numbers\":\"[]\",\"SPI_Scores\":\"[]\",\"Player_Names\":\"[]\"}'),\n",
       " Row(player_stats='{\"Shirt_Numbers\":\"[]\",\"SPI_Scores\":\"[]\",\"Player_Names\":\"[]\"}'),\n",
       " Row(player_stats='{\"Shirt_Numbers\":\"[1, 57, 6, 14, 18, 42, 5, 30, 24, 9, 16, 9, 47, 11, 41, 8, 80, 23, 2, 3, 15, 31, 20, 10, 17]\",\"SPI_Scores\":\"[5.0, 6.7, 6.3, 7.7, 8.8, 8.3, 6.8, 8.5, 7.5, 9.7, 7.6, 6.0, 6.2, 7.6, 7.8, 4.8, 5.8, 4.2, 4.7, 5.5, 5.3, 5.0, 6.8, 9.6, 5.8]\",\"Player_Names\":\"[Drake Callender, Marcelo Weigandt, Tomas Aviles, Hector Martinez, Jordi Alba, Yannick Bright, Sergio Busquets, Benjamin Cremaschi, Julian Gressel, Luis Suárez, Robert Taylor, Giacomo Vrioni, Esmir Bajraktarevic, Dylan Borrero, Luca Langoni, Matt Polster, Alhassan Yusuf, Will Sands, David Romney, Xavier Arreaga, Brandon Bye, Aljaz Ivacic, Diego Gomez, Lionel Messi, Bobby Wood]\"}'),\n",
       " Row(player_stats='{\"Shirt_Numbers\":\"[]\",\"SPI_Scores\":\"[]\",\"Player_Names\":\"[]\"}'),\n",
       " Row(player_stats='{\"Shirt_Numbers\":\"[1, 2, 4, 15, 22, 3, 45, 20, 26, 25, 24, 14, 21, 26, 20, 31, 11, 13, 4, 28, 67, 97, 8, 7, 16, 19, 8, 17, 9, 90]\",\"SPI_Scores\":\"[7.0, 6.5, 7.2, 6.6, 6.7, 7.0, 7.5, 6.7, 6.7, 6.4, 6.1, 6.4, 7.1, 6.6, 6.9, 8.2, 7.2, 7.3, 7.5, 7.3, 7.7, 7.8, 6.4, 6.7, 6.7, 5.9, 7.3, 6.3, 6.1, 6.6]\",\"Player_Names\":\"[Yohei Takaoka, Mathias Laborda, Ranko Veselinovic, Bjørn Inge Utvik, Ali Ahmed, Sam Adekugbe, Pedro Vite, Andrés Cubas, Stuart Armstrong, Ryan Gauld, Brian White, Tani Oluwaseyi, Bongokuhle Hlongwane, Joaquin Pereyra, Wil Trapp, Hassani Dotson, Sang-Bin Jeong, Anthony Markanich, Miguel Tapias, Jefferson Diaz, Carlos Harvey, Dayne St. Clair, Alessandro Schöpf, Ryan Raposo, Sebastian Berhalter, Damir Kreilach, Joseph Rosales, Robin Lod, Kelvin Yeboah, Loic Mesanvi]\"}'),\n",
       " Row(player_stats='{\"Shirt_Numbers\":\"[77, 2, 24, 4, 3, 8, 20, 11, 7, 28, 9, 17, 9, 88, 8, 6, 10, 22, 5, 13, 24, 49, 19, 14, 27, 12, 27, 16, 55, 11]\",\"SPI_Scores\":\"[7.9, 7.5, 7.3, 7.4, 7.1, 8.0, 7.1, 8.1, 8.1, 7.3, 8.5, 6.4, 5.9, 7.0, 6.7, 6.4, 6.2, 6.5, 6.3, 6.3, 6.3, 6.4, 6.5, 6.5, 6.0, 6.7, 6.5, 5.6, 6.0, 6.0]\",\"Player_Names\":\"[John McCarthy, Miki Yamane, Jalen Neal, Maya Yoshida, Julian Aude, Marco Delgado, Edwin Cerrillo, Gabriel Pec, Diego Fagundez, Joseph Paintsil, Dejan Joveljic, Hannes Wolf, Monsef Bakrar, Malachi Jones, Andres Perea, James Sands, Santiago Rodriguez, Kevin O\\'Toole, Birk Risa, Thiago Martins, Tayvon Gray, Matt Freese, Mauricio Cuevas, John Nelson, Miguel Berry, Strahinja Tanasijevic, Maxi Moralez, Alonso Martinez, Keaton Parks, Julian Fernandez]\"}'),\n",
       " Row(player_stats='{\"Shirt_Numbers\":\"[35, 26, 15, 4, 98, 14, 92, 11, 25, 8, 29, 9, 11, 10, 30, 19, 24, 5, 4, 2, 29, 16, 9, 91, 6, 10, 15, 22, 14, 23, 21]\",\"SPI_Scores\":\"[5.6, 6.9, 5.9, 6.8, 6.4, 6.3, 6.6, 7.7, 6.8, 8.3, 7.2, 6.2, 7.9, 8.1, 6.9, 6.4, 6.9, 6.2, 5.3, 7.7, 5.9, 6.0, 6.9, 6.6, 6.5, 7.5, 6.3, 6.7, 7.0, 5.8, 6.4]\",\"Player_Names\":\"[Gavin Beavers, Philip Quinton, Justen Glad, Brayan Vera, Alexandros Katranis, Emeka Eneli, Noel Caliskan, Dominik Marczuk, Matt Crooks, Diego Luna, Anderson Julio, Felipe Mora, Antony, Evander Ferreira, Santiago Moreno, Eryk Williamson, David Ayala, Claudio Bravo, Kamal Miller, Miguel Araujo, Juan Mosquera, Maxime Crepeau, Cristian Arango, Javain Brown, Braian Ojeda, Diogo Goncalves, Eric Miller, Cristhian Paredes, Jonathan Rodriguez, Mason Toye, Diego Chara]\"}'),\n",
       " Row(player_stats='{\"Shirt_Numbers\":\"[28, 31, 21, 18, 23, 27, 20, 6, 13, 10, 17, 13, 77, 11, 10, 16, 33, 3, 6, 15, 17, 1, 9, 14, 2, 7, 14, 9, 7]\",\"SPI_Scores\":\"[4.6, 7.5, 6.9, 6.1, 7.1, 8.8, 6.5, 7.1, 8.4, 7.5, 8.4, 6.3, 7.2, 5.5, 7.6, 5.9, 5.7, 5.8, 5.3, 5.8, 4.8, 5.1, 8.6, 5.4, 6.7, 6.5, 6.3, 8.6, 7.6]\",\"Player_Names\":\"[Patrick Schulte, Steven Moreira, Evgen Cheberko, Malte Amundsen, Mohamed Farsi, Max Arfsten, Alexandru Matan, Darlington Nagbe, Aziel Jackson, Diego Rossi, Christian Ramirez, Duncan McGuire, Ivan Angulo, Martin Ojeda, Facundo Torres, Wilder Cartagena, Jeorgio Kocevski, Rafael Santos, Robin Jansson, Rodrigo Adrián Schlegel, Dagur Dan Thorhallsson, Pedro Gallese, Juan Hernández, Yaw Yeboah, Marcelo Herrera, Dylan Chambost, Nicolás Lodeiro, Luis Muriel, Ramiro Enrique]\"}'),\n",
       " Row(player_stats='{\"Shirt_Numbers\":\"[]\",\"SPI_Scores\":\"[]\",\"Player_Names\":\"[]\"}'),\n",
       " Row(player_stats='{\"Shirt_Numbers\":\"[49, 24, 13, 12, 22, 6, 55, 17, 10, 26, 16, 7, 28, 10, 16, 11, 31, 27, 26, 5, 15, 76, 35, 27, 8, 9, 7, 9, 20, 33]\",\"SPI_Scores\":\"[2.9, 5.4, 3.8, 6.0, 4.4, 5.1, 6.0, 6.4, 8.2, 6.4, 7.1, 7.4, 8.3, 8.5, 7.5, 7.6, 7.6, 7.7, 7.6, 8.3, 7.9, 8.1, 6.8, 6.5, 6.4, 6.1, 6.2, 6.2, 7.1, 6.8]\",\"Player_Names\":\"[Matt Freese, Tayvon Gray, Thiago Martins, Strahinja Tanasijevic, Kevin O\\'Toole, James Sands, Keaton Parks, Hannes Wolf, Santiago Rodriguez, Agustin Ojeda, Alonso Martinez, Mikael Uhre, Tai Baribo, Daniel Gazdag, Jack McGlynn, Alejandro Bedoya, Leon Flach, Kai Wagner, Nathan Harriel, Jakob Glesnes, Olivier Mbaizo, Andrew Rick, Mitja Ilenic, Maxi Moralez, Andres Perea, Monsef Bakrar, Jovan Mijatovic, Samuel Adeniran, Jesus Bueno, Quinn Sullivan]\"}'),\n",
       " Row(player_stats='{\"Shirt_Numbers\":\"[1, 14, 29, 3, 21, 8, 28, 18, 13, 11, 9, 11, 13, 9, 75, 48, 2, 47, 3, 15, 6, 31, 33, 10, 17, 12, 7]\",\"SPI_Scores\":\"[6.7, 6.2, 7.5, 7.0, 7.4, 7.1, 7.5, 7.0, 6.2, 6.5, 7.2, 7.7, 7.2, 8.1, 6.6, 7.4, 6.2, 7.0, 7.7, 7.0, 6.5, 7.1, 6.1, 6.2, 7.2, 6.0, 6.2]\",\"Player_Names\":\"[Kristijan Kahlina, Nathan Byrne, Adilson Malanda, Tim Ream, Jere Uronen, Ashley Westwood, Djibril Diani, Kerwin Vargas, Brandt Bronico, Liel Abada, Karol Swiderski, Elias Manoel, Dante Vanzeir, Lewis Morgan, Daniel Edelman, Ronald Donkor, Dennis Gjengaar, John Tolkin, Noah Eile, Sean Nealis, Kyle Duncan, Carlos Miguel, Patrick Agyemang, Pep Biel, Cameron Harper, Dylan Nealis, Cory Burke]\"}'),\n",
       " Row(player_stats='{\"Shirt_Numbers\":\"[]\",\"SPI_Scores\":\"[]\",\"Player_Names\":\"[]\"}'),\n",
       " Row(player_stats='{\"Shirt_Numbers\":\"[]\",\"SPI_Scores\":\"[]\",\"Player_Names\":\"[]\"}'),\n",
       " Row(player_stats='{\"Shirt_Numbers\":\"[49, 35, 13, 80, 22, 55, 6, 17, 27, 10, 16, 9, 13, 10, 20, 75, 47, 17, 15, 4, 12, 31, 8, 3, 5]\",\"SPI_Scores\":\"[5.3, 6.1, 7.3, 7.0, 6.3, 7.3, 6.6, 7.0, 7.4, 7.4, 6.4, 6.7, 8.2, 7.0, 7.7, 7.0, 7.9, 6.9, 7.3, 7.5, 7.1, 9.0, 6.5, 6.6, 6.6]\",\"Player_Names\":\"[Matt Freese, Mitja Ilenic, Thiago Martins, Justin Haak, Kevin O\\'Toole, Keaton Parks, James Sands, Hannes Wolf, Maxi Moralez, Santiago Rodriguez, Alonso Martinez, Lewis Morgan, Dante Vanzeir, Emil Forsberg, Felipe Carballo, Daniel Edelman, John Tolkin, Cameron Harper, Sean Nealis, Andres Reyes, Dylan Nealis, Carlos Miguel, Andres Perea, Noah Eile, Peter Stroud]\"}'),\n",
       " Row(player_stats='{\"Shirt_Numbers\":\"[]\",\"SPI_Scores\":\"[]\",\"Player_Names\":\"[]\"}'),\n",
       " Row(player_stats='{\"Shirt_Numbers\":\"[]\",\"SPI_Scores\":\"[]\",\"Player_Names\":\"[]\"}'),\n",
       " Row(player_stats='{\"Shirt_Numbers\":\"[1, 14, 29, 34, 20, 13, 8, 28, 10, 33, 18, 7, 9, 11, 10, 20, 8, 3, 24, 4, 2, 35, 23, 25, 37, 14, 37, 5]\",\"SPI_Scores\":\"[8.3, 6.6, 6.5, 6.7, 7.9, 6.2, 7.6, 6.2, 6.1, 6.2, 7.1, 7.5, 6.0, 7.9, 7.5, 6.8, 7.1, 6.9, 7.2, 7.3, 7.0, 6.8, 6.3, 6.7, 6.0, 6.1, 6.1, 6.3]\",\"Player_Names\":\"[Kristijan Kahlina, Nathan Byrne, Adilson Malanda, Andrew Privett, Joao Pedro, Brandt Bronico, Ashley Westwood, Djibril Diani, Brecht Dejaeghere, Patrick Agyemang, Kerwin Vargas, Diego Fagundez, Dejan Joveljic, Gabriel Pec, Ricard Puig, Edwin Cerrillo, Marco Delgado, Julian Aude, Jalen Neal, Maya Yoshida, Miki Yamane, Novak Micovic, Nikola Petkovic, Tyger Smalls, Scott Arfield, John Nelson, Daniel Aguirre, Gaston Brugman]\"}'),\n",
       " Row(player_stats='{\"Shirt_Numbers\":\"[1, 41, 15, 32, 33, 24, 6, 43, 49, 8, 73, 9, 91, 10, 11, 23, 18, 3, 5, 64, 22, 95, 20, 10, 5, 57, 18, 77, 14, 27]\",\"SPI_Scores\":\"[6.5, 8.7, 6.7, 7.3, 8.3, 7.4, 6.5, 6.6, 6.9, 6.3, 8.5, 7.4, 7.4, 6.4, 6.2, 7.5, 6.6, 6.9, 6.2, 6.9, 6.3, 6.6, 6.9, 8.3, 7.1, 6.3, 6.5, 6.5, 6.9, 5.9]\",\"Player_Names\":\"[Drake Callender, David Ruiz, Ryan Sailor, Noah Allen, Franco Negri, Julian Gressel, Tomas Aviles, Lawson Sunderland, Shanyder Borgelin, Leonardo Campana, Leo Afonso, Rafael Navarro, Kévin Cabral, Djordje Mihailovic, Omir Fernandez, Cole Bassett, Oliver Larraz, Samuel Vines, Andreas Maxsø, Moise Bombito, Sebastian Anderson, Zack Steffen, Diego Gomez, Lionel Messi, Sergio Busquets, Marcelo Weigandt, Jordi Alba, Darren Yapi, Calvin Harris, Kimani Stewart]\"}'),\n",
       " Row(player_stats='{\"Shirt_Numbers\":\"[]\",\"SPI_Scores\":\"[]\",\"Player_Names\":\"[]\"}'),\n",
       " Row(player_stats='{\"Shirt_Numbers\":\"[]\",\"SPI_Scores\":\"[]\",\"Player_Names\":\"[]\"}'),\n",
       " Row(player_stats='{\"Shirt_Numbers\":\"[]\",\"SPI_Scores\":\"[]\",\"Player_Names\":\"[]\"}'),\n",
       " Row(player_stats='{\"Shirt_Numbers\":\"[1, 12, 21, 32, 91, 23, 5, 20, 10, 11, 7, 9, 49, 10, 14, 18, 23, 3, 5, 64, 2, 95, 15, 77, 27, 11]\",\"SPI_Scores\":\"[6.2, 6.9, 7.6, 7.8, 6.0, 8.3, 6.7, 7.7, 8.8, 8.9, 7.4, 6.4, 6.4, 7.3, 6.1, 6.2, 7.5, 6.9, 6.2, 7.3, 6.8, 7.5, 7.4, 6.7, 6.3, 6.5]\",\"Player_Names\":\"[Alec Kann, Miles Robinson, Matt Miazga, Ian Murphy, DeAndre Yedlin, Luca Orellano, Obinna Nwobodo, Pavel Bucha, Luciano Acosta, Corey Baird, Yuya Kubo, Rafael Navarro, Kévin Cabral, Djordje Mihailovic, Calvin Harris, Oliver Larraz, Cole Bassett, Samuel Vines, Andreas Maxsø, Moise Bombito, Keegan Rosenberry, Zack Steffen, Bret Halsey, Darren Yapi, Kimani Stewart, Omir Fernandez]\"}'),\n",
       " Row(player_stats='{\"Shirt_Numbers\":\"[1, 17, 18, 2, 29, 8, 5, 6, 11, 14, 7, 7, 9, 10, 16, 33, 8, 27, 17, 3, 26, 18, 23, 33, 16, 10, 11]\",\"SPI_Scores\":\"[7.3, 8.3, 6.4, 6.8, 6.5, 7.2, 6.0, 6.9, 6.5, 7.4, 6.6, 7.6, 7.6, 8.2, 8.3, 7.2, 7.6, 6.0, 6.1, 6.6, 6.8, 5.5, 6.4, 6.5, 6.8, 5.8, 6.4]\",\"Player_Names\":\"[Brad Stuver, Jon Gallagher, Julio Cascante, Matt Hedges, Guilherme, Alexander Ring, Jhojan Valencia, Daniel Pereira, Jader Obrian, Diego Rubio, Emiliano Ariel Rigoni, Mikael Uhre, Julian Carranza, Daniel Gazdag, Jack McGlynn, Quinn Sullivan, Jose Andres Martinez, Kai Wagner, Damion Lowe, Jack Elliott, Nathan Harriel, Andre Blake, Zan Kolmanic, Owen Wolff, Hector Jimenez, Sebastian Driussi, Alejandro Bedoya]\"}'),\n",
       " Row(player_stats='{\"Shirt_Numbers\":\"[]\",\"SPI_Scores\":\"[]\",\"Player_Names\":\"[]\"}'),\n",
       " Row(player_stats='{\"Shirt_Numbers\":\"[18, 26, 5, 3, 27, 31, 33, 16, 10, 7, 28, 19, 28, 59, 9, 35, 6, 18, 3, 5, 11, 1, 11, 21, 9, 8]\",\"SPI_Scores\":\"[6.4, 8.1, 6.8, 7.0, 9.1, 6.3, 6.8, 7.1, 7.2, 6.5, 6.7, 6.7, 6.5, 7.1, 7.3, 7.2, 7.1, 7.3, 6.7, 6.6, 7.5, 7.5, 6.6, 6.5, 6.0, 6.5]\",\"Player_Names\":\"[Andre Blake, Nathan Harriel, Jakob Glesnes, Jack Elliott, Kai Wagner, Leon Flach, Quinn Sullivan, Jack McGlynn, Daniel Gazdag, Mikael Uhre, Tai Baribo, Daniel Rios, Tyler Wolff, Aleksey Miranchuk, Saba Lobzhanidze, Ajani Fortune, Bartosz Slisz, Pedro Amador, Derrick Williams, Stian Gregersen, Brooks Lennon, Brad Guzan, Alejandro Bedoya, Danley Jean Jacques, Samuel Adeniran, Tristan Muyumba]\"}'),\n",
       " Row(player_stats='{\"Shirt_Numbers\":\"[16, 29, 18, 4, 15, 22, 21, 19, 30, 27, 11, 11, 21, 10, 8, 4, 43, 7, 97, 3, 22, 24, 13, 24, 27, 25]\",\"SPI_Scores\":\"[8.2, 6.2, 7.3, 6.9, 7.8, 7.8, 7.5, 6.0, 8.7, 7.5, 6.8, 6.4, 6.7, 6.8, 6.6, 7.8, 8.0, 7.5, 7.3, 7.5, 8.9, 5.9, 6.3, 6.2, 6.9, 6.1]\",\"Player_Names\":\"[Maxime Crepeau, Juan Mosquera, Zac McGraw, Kamal Miller, Eric Miller, Cristhian Paredes, Diego Chara, Eryk Williamson, Santiago Moreno, Dairon Asprilla, Antony, Cristian Dajome, Theodore Ku-DiPietro, Gabriel Pirani, Jared Stroud, Matti Peltola, Mateusz Klich, Pedro Santos, Christopher McVey, Lucas Bartlett, Aaron Herrera, Alex Bono, Dario Zuparic, David Ayala, Kristian Fletcher, Jackson Hopkins]\"}'),\n",
       " Row(player_stats='{\"Shirt_Numbers\":\"[]\",\"SPI_Scores\":\"[]\",\"Player_Names\":\"[]\"}'),\n",
       " Row(player_stats='{\"Shirt_Numbers\":\"[77, 2, 24, 4, 14, 18, 20, 10, 11, 9, 7, 99, 9, 19, 8, 6, 11, 2, 33, 4, 24, 1, 27, 25, 23]\",\"SPI_Scores\":\"[6.1, 7.5, 7.5, 6.9, 7.2, 8.3, 8.2, 9.6, 8.1, 8.9, 6.8, 8.0, 6.3, 7.1, 6.2, 6.2, 7.8, 5.6, 5.4, 5.8, 4.9, 6.6, 6.3, 6.6, 6.4]\",\"Player_Names\":\"[John McCarthy, Miki Yamane, Jalen Neal, Maya Yoshida, John Nelson, Marco Reus, Edwin Cerrillo, Ricard Puig, Gabriel Pec, Dejan Joveljic, Diego Fagundez, Denis Bouanga, Olivier Giroud, Mateusz Bogusz, Lewis O\\'Brien, Ilie Sanchez, Timothy Tillman, Omar Campos, Aaron Long, Eddie Segura, Ryan Hollingshead, Hugo Lloris, Miguel Berry, Maxime Chanot, Kei Ansu Kamara]\"}'),\n",
       " Row(player_stats='{\"Shirt_Numbers\":\"[1, 14, 29, 34, 3, 13, 8, 30, 10, 9, 11, 17, 19, 11, 21, 30, 23, 24, 5, 16, 2, 34, 28, 18, 33, 7, 14, 36, 8, 12, 31]\",\"SPI_Scores\":\"[5.9, 6.9, 6.6, 6.2, 6.2, 7.3, 6.4, 7.3, 8.8, 9.3, 8.0, 8.0, 6.2, 6.7, 7.8, 7.2, 8.1, 6.9, 5.6, 5.8, 5.5, 6.6, 6.1, 6.1, 6.0, 6.2, 6.2, 6.2, 7.1, 6.6, 7.2]\",\"Player_Names\":\"[Kristijan Kahlina, Nathan Byrne, Adilson Malanda, Andrew Privett, Tim Ream, Brandt Bronico, Ashley Westwood, Junior Urso, Pep Biel, Karol Swiderski, Liel Abada, Brian Gutierrez, Georgios Koutsias, Ariel Lassiter, Fabian Herbers, Gaston Claudio Gimenez, Kellyn Acosta, Jonathan Dean, Rafael Czichos, Wyatt Omsberg, Arnaud Souquet, Chris Brady, Djibril Diani, Kerwin Vargas, Patrick Agyemang, Jamie Paterson, Tobias Salquist, Justin Reynolds, Chris Mueller, Tom Barlow, Federico Navarro]\"}'),\n",
       " Row(player_stats='{\"Shirt_Numbers\":\"[42, 29, 4, 15, 33, 7, 14, 10, 23, 3, 16, 20, 9, 10, 7, 21, 14, 5, 4, 25, 17, 1, 94, 11, 30, 9, 77, 16, 23, 22]\",\"SPI_Scores\":\"[7.6, 6.8, 6.7, 6.4, 6.3, 7.6, 6.7, 7.6, 9.1, 7.1, 6.7, 7.8, 7.2, 6.4, 7.0, 6.9, 6.9, 6.4, 5.9, 7.2, 5.8, 5.2, 6.8, 7.6, 6.9, 7.2, 7.1, 6.7, 5.7, 6.0]\",\"Player_Names\":\"[Daniel, Carlos Akapo, Bruno Wilson, Tanner Beason, Oscar Verhoeven, Carlos Gruezo, Jackson Yueill, Cristian Espinoza, Hernan Lopez, Paul Marie, Jack Skahan, Alan Velasco, Petar Musa, Jesus Ferreira, Paul Arriola, Manuel Cafumana, Asier Illarramendi, Ruan, Marco Farfan, Sebastien Ibeagha, Nkosi Tafari, Jimmy Maurer, Vitor Costa, Jeremy Ebobisse, Niko Tsakiris, Amahl Pellegrino, Bernard Kamungo, Tsiki Ntsabeleng, Logan Farrington, Ema Twumasi]\"}'),\n",
       " Row(player_stats='{\"Shirt_Numbers\":\"[1, 17, 15, 6, 3, 8, 5, 7, 11, 77, 13, 37, 22, 11, 31, 20, 17, 8, 4, 15, 27, 97, 16, 14, 9, 26, 33, 14, 21, 99, 3]\",\"SPI_Scores\":\"[4.0, 6.7, 6.0, 6.1, 6.9, 5.7, 6.0, 6.2, 7.6, 6.5, 8.7, 6.5, 8.7, 7.4, 7.1, 7.3, 7.1, 6.8, 6.7, 7.1, 7.7, 6.2, 5.9, 6.5, 6.6, 6.2, 7.1, 7.2, 7.1, 6.4, 6.0]\",\"Player_Names\":\"[Pedro Gallese, Dagur Dan Thorhallsson, Rodrigo Adrián Schlegel, Robin Jansson, Rafael Santos, Felipe, Cesar Araujo, Ramiro Enrique, Martin Ojeda, Ivan Angulo, Duncan McGuire, Caden Clark, Teemu Pukki, Sang-Bin Jeong, Hassani Dotson, Wil Trapp, Robin Lod, Joseph Rosales, Miguel Tapias, Michael Boxall, D.J. Taylor, Dayne St. Clair, Wilder Cartagena, Nicolás Lodeiro, Luis Muriel, Michael Halliday, Kervin Arriaga, Tani Oluwaseyi, Bongokuhle Hlongwane, Jordan Adebayo-Smith, Zarek Valentin]\"}'),\n",
       " Row(player_stats='{\"Shirt_Numbers\":\"[]\",\"SPI_Scores\":\"[]\",\"Player_Names\":\"[]\"}'),\n",
       " Row(player_stats='{\"Shirt_Numbers\":\"[41, 29, 13, 4, 5, 21, 24, 30, 10, 14, 9, 77, 23, 20, 8, 14, 21, 29, 4, 25, 7, 1, 2, 11, 15, 22, 16, 10]\",\"SPI_Scores\":\"[8.5, 7.3, 8.0, 6.4, 7.6, 7.4, 6.9, 7.4, 8.3, 6.9, 7.5, 5.4, 6.0, 5.5, 7.4, 7.7, 7.6, 6.8, 6.2, 6.6, 6.7, 8.8, 6.9, 7.1, 6.4, 6.7, 7.0, 6.1]\",\"Player_Names\":\"[James Pantemis, Juan Mosquera, Dario Zuparic, Kamal Miller, Claudio Bravo, Diego Chara, David Ayala, Santiago Moreno, Evander Ferreira, Jonathan Rodriguez, Felipe Mora, Bernard Kamungo, Logan Farrington, Alan Velasco, Sebastian Lletget, Asier Illarramendi, Manuel Cafumana, Sam Junqua, Marco Farfan, Sebastien Ibeagha, Paul Arriola, Jimmy Maurer, Miguel Araujo, Antony, Eric Miller, Cristhian Paredes, Tsiki Ntsabeleng, Jesus Ferreira]\"}'),\n",
       " Row(player_stats='{\"Shirt_Numbers\":\"[]\",\"SPI_Scores\":\"[]\",\"Player_Names\":\"[]\"}'),\n",
       " Row(player_stats='{\"Shirt_Numbers\":\"[]\",\"SPI_Scores\":\"[]\",\"Player_Names\":\"[]\"}'),\n",
       " Row(player_stats='{\"Shirt_Numbers\":\"[]\",\"SPI_Scores\":\"[]\",\"Player_Names\":\"[]\"}'),\n",
       " Row(player_stats='{\"Shirt_Numbers\":\"[]\",\"SPI_Scores\":\"[]\",\"Player_Names\":\"[]\"}'),\n",
       " Row(player_stats='{\"Shirt_Numbers\":\"[1, 14, 29, 34, 3, 30, 8, 13, 10, 9, 11, 14, 23, 10, 19, 6, 44, 11, 25, 16, 24, 40, 18, 38, 33, 46, 17, 7]\",\"SPI_Scores\":\"[7.6, 7.4, 7.4, 7.2, 7.2, 7.4, 7.6, 7.8, 7.0, 7.7, 6.7, 5.6, 7.5, 5.9, 5.7, 6.9, 5.9, 7.0, 7.0, 6.5, 7.0, 6.4, 6.4, 6.4, 7.2, 6.1, 6.1, 5.9]\",\"Player_Names\":\"[Kristijan Kahlina, Nathan Byrne, Adilson Malanda, Andrew Privett, Tim Ream, Junior Urso, Ashley Westwood, Brandt Bronico, Pep Biel, Karol Swiderski, Liel Abada, Sunusi Ibrahim, Caden Clark, Bryce Duke, Nathan Saliba, Samuel Piette, Raheem Edwards, Jahkeele Marshall-Rutty, Gabriele Corbo, Joel Waterman, George Campbell, Jonathan Sirois, Kerwin Vargas, Iuri Tavares, Patrick Agyemang, Tom Pearce, Josef Martinez, Kwadwo Opoku]\"}'),\n",
       " Row(player_stats='{\"Shirt_Numbers\":\"[]\",\"SPI_Scores\":\"[]\",\"Player_Names\":\"[]\"}'),\n",
       " Row(player_stats='{\"Shirt_Numbers\":\"[]\",\"SPI_Scores\":\"[]\",\"Player_Names\":\"[]\"}'),\n",
       " Row(player_stats='{\"Shirt_Numbers\":\"[1, 27, 17, 15, 19, 22, 8, 14, 21, 11, 29, 16, 8, 7, 30, 41, 24, 33, 27, 6, 32, 19, 99, 30, 28, 16, 23, 24, 5, 10, 42, 9, 20]\",\"SPI_Scores\":\"[6.1, 7.0, 6.2, 6.7, 6.7, 7.1, 6.9, 7.3, 6.9, 6.9, 6.3, 6.7, 8.1, 6.5, 6.4, 6.8, 6.9, 7.3, 7.2, 6.9, 7.6, 8.6, 6.7, 6.1, 6.6, 6.2, 6.6, 6.1, 7.1, 6.7, 6.0, 6.7, 5.9]\",\"Player_Names\":\"[Sean Johnson, Shane O\\'Neill, Sigurd Rosted, Nicksoen Gomis, Kobe Franklin, Richie Laryea, Matthew Longstaff, Alonso Coello, Jonathan Osorio, Derrick Etienne, Deandre Kerr, Robert Taylor, Leonardo Campana, Matias Rojas, Benjamin Cremaschi, David Ruiz, Julian Gressel, Franco Negri, Serhiy Kryvtsov, Tomas Aviles, Noah Allen, Oscar Ustari, Prince Osei Owusu, Henry Wingo, Raoul Petretta, Tyrese Spicer, Brandon Servania, Lorenzo Insigne, Sergio Busquets, Lionel Messi, Yannick Bright, Luis Suárez, Diego Gomez]\"}'),\n",
       " Row(player_stats='{\"Shirt_Numbers\":\"[1, 4, 25, 33, 14, 8, 11, 2, 19, 9, 99, 11, 3, 23, 10, 7, 14, 94, 26, 4, 29, 42, 24, 30, 23, 20, 5, 33, 30, 9, 17]\",\"SPI_Scores\":\"[7.0, 6.6, 6.9, 6.9, 7.7, 8.1, 7.6, 6.6, 7.7, 7.1, 8.7, 6.9, 7.6, 6.8, 7.3, 5.3, 7.4, 6.0, 6.3, 5.5, 6.7, 5.4, 6.3, 6.5, 7.1, 8.1, 7.3, 6.9, 6.6, 6.1, 6.0]\",\"Player_Names\":\"[Hugo Lloris, Eddie Segura, Maxime Chanot, Aaron Long, Sergi Palencia, Lewis O\\'Brien, Timothy Tillman, Omar Campos, Mateusz Bogusz, Olivier Giroud, Denis Bouanga, Jeremy Ebobisse, Paul Marie, Hernan Lopez, Cristian Espinoza, Carlos Gruezo, Jackson Yueill, Vitor Costa, Rodrigues, Bruno Wilson, Carlos Akapo, Daniel, Ryan Hollingshead, David Martinez, Kei Ansu Kamara, Eduard Atuesta, Marlon, Oscar Verhoeven, Niko Tsakiris, Amahl Pellegrino, Ousseni Bouda]\"}'),\n",
       " Row(player_stats='{\"Shirt_Numbers\":\"[1, 11, 5, 3, 18, 35, 6, 9, 59, 16, 19, 9, 12, 10, 19, 20, 27, 2, 5, 25, 18, 1, 20, 13, 8, 29, 21]\",\"SPI_Scores\":\"[5.4, 6.5, 6.1, 6.3, 5.9, 7.0, 6.3, 7.0, 6.7, 5.8, 6.5, 7.5, 8.2, 8.5, 7.8, 7.4, 7.7, 7.4, 7.2, 7.5, 7.3, 8.1, 6.5, 5.8, 6.3, 6.1, 6.3]\",\"Player_Names\":\"[Brad Guzan, Brooks Lennon, Stian Gregersen, Derrick Williams, Pedro Amador, Ajani Fortune, Bartosz Slisz, Saba Lobzhanidze, Aleksey Miranchuk, Xande Silva, Daniel Rios, Sam Surridge, Teal Bunbury, Hany Mukhtar, Alex Muyl, Anibal Godoy, Brian Anunga, Daniel Lovitz, Jack Maher, Walker Zimmerman, Shaq Moore, Joe Willis, Edwin Mosquera, Dax McCarty, Tristan Muyumba, Jamal Thiaré, Forster Ajago]\"}'),\n",
       " Row(player_stats='{\"Shirt_Numbers\":\"[1, 11, 19, 3, 18, 8, 22, 7, 9, 30, 23, 9, 7, 10, 14, 23, 20, 99, 34, 5, 2, 95, 14, 26, 10, 54, 18, 11, 21, 27, 4]\",\"SPI_Scores\":\"[6.8, 7.8, 6.8, 7.2, 7.8, 7.5, 7.8, 7.7, 9.2, 8.5, 7.9, 6.4, 6.4, 7.2, 5.8, 4.9, 5.7, 5.2, 6.5, 5.1, 6.2, 6.0, 6.4, 8.9, 7.3, 6.5, 6.1, 6.2, 6.4, 6.0, 6.4]\",\"Player_Names\":\"[John Pulskamp, Khiry Shelton, Robert Castellanos, Andreu Fontàs, Logan Ndenbe, Memo Rodriguez, Zorhan Bassong, Johnny Russell, Alan Pulido, Stephen Afrifa, William Agada, Rafael Navarro, Jonathan Lewis, Djordje Mihailovic, Calvin Harris, Cole Bassett, Connor Ronan, Jackson Travis, Michael Edwards, Andreas Maxsø, Keegan Rosenberry, Zack Steffen, Tim Leibold, Erik Thommy, Daniel Salloi, Rémi Walter, Oliver Larraz, Omir Fernandez, Jasper Löffelsend, Kimani Stewart, Reggie Cannon]\"}'),\n",
       " Row(player_stats='{\"Shirt_Numbers\":\"[]\",\"SPI_Scores\":\"[]\",\"Player_Names\":\"[]\"}'),\n",
       " Row(player_stats='{\"Shirt_Numbers\":\"[]\",\"SPI_Scores\":\"[]\",\"Player_Names\":\"[]\"}'),\n",
       " Row(player_stats='{\"Shirt_Numbers\":\"[25, 15, 24, 26, 94, 14, 7, 10, 23, 28, 11, 8, 9, 7, 23, 17, 30, 27, 5, 16, 2, 34, 21, 12]\",\"SPI_Scores\":\"[8.0, 7.1, 7.0, 7.3, 7.4, 7.0, 7.1, 7.9, 8.1, 7.7, 6.9, 6.9, 7.1, 6.2, 6.6, 6.2, 6.8, 6.3, 7.6, 7.1, 7.1, 6.4, 6.4, 6.4]\",\"Player_Names\":\"[William Yarbrough, Tanner Beason, Daniel Munie, Rodrigues, Vitor Costa, Jackson Yueill, Carlos Gruezo, Cristian Espinoza, Hernan Lopez, Benjamin Kikanovic, Jeremy Ebobisse, Chris Mueller, Hugo Cuypers, Maren Haile-Selassie, Kellyn Acosta, Brian Gutierrez, Gaston Claudio Gimenez, Allan Arigoni, Rafael Czichos, Wyatt Omsberg, Arnaud Souquet, Chris Brady, Fabian Herbers, Tom Barlow]\"}'),\n",
       " Row(player_stats='{\"Shirt_Numbers\":\"[]\",\"SPI_Scores\":\"[]\",\"Player_Names\":\"[]\"}'),\n",
       " Row(player_stats='{\"Shirt_Numbers\":\"[1, 57, 6, 27, 18, 7, 5, 55, 10, 9, 16, 12, 9, 21, 8, 19, 10, 13, 4, 26, 14, 1, 30, 15, 24, 8, 85, 16]\",\"SPI_Scores\":\"[6.3, 5.9, 6.5, 6.1, 9.0, 6.7, 7.7, 6.0, 9.0, 6.9, 7.1, 8.8, 6.8, 6.0, 7.4, 7.2, 7.1, 6.2, 6.2, 6.4, 6.1, 6.9, 7.3, 6.1, 7.4, 6.5, 8.0, 6.5]\",\"Player_Names\":\"[Drake Callender, Marcelo Weigandt, Tomas Aviles, Serhiy Kryvtsov, Jordi Alba, Matias Rojas, Sergio Busquets, Federico Redondo, Lionel Messi, Luis Suárez, Robert Taylor, Celio Pompeu, Joao Klauss, Rasmus Alm, Christopher Durkin, Indiana Vassilev, Eduard Löwen, Anthony Markanich, Joakim Nilsson, Tim Parker, Tomas Totland, Roman Bürki, Benjamin Cremaschi, Ryan Sailor, Julian Gressel, Leonardo Campana, Hosei Kijima, Samuel Adeniran]\"}'),\n",
       " Row(player_stats='{\"Shirt_Numbers\":\"[]\",\"SPI_Scores\":\"[]\",\"Player_Names\":\"[]\"}'),\n",
       " Row(player_stats='{\"Shirt_Numbers\":\"[18, 15, 5, 3, 27, 8, 33, 11, 10, 28, 9, 33, 38, 15, 18, 8, 13, 20, 34, 29, 14, 1, 7, 20, 9, 25, 21, 23, 36]\",\"SPI_Scores\":\"[7.1, 7.1, 7.5, 7.9, 7.7, 8.1, 7.0, 7.6, 7.8, 7.8, 6.7, 6.0, 6.4, 6.4, 6.1, 6.7, 6.2, 7.2, 6.4, 6.4, 6.4, 6.5, 6.1, 6.3, 5.7, 5.9, 6.2, 6.2, 6.2]\",\"Player_Names\":\"[Andre Blake, Olivier Mbaizo, Jakob Glesnes, Jack Elliott, Kai Wagner, Jose Andres Martinez, Quinn Sullivan, Alejandro Bedoya, Daniel Gazdag, Tai Baribo, Samuel Adeniran, Patrick Agyemang, Iuri Tavares, Ben Bender, Kerwin Vargas, Ashley Westwood, Brandt Bronico, Joao Pedro, Andrew Privett, Adilson Malanda, Nathan Byrne, Kristijan Kahlina, Mikael Uhre, Jesus Bueno, Karol Swiderski, Tyger Smalls, Jere Uronen, Nikola Petkovic, Brandon Cambridge]\"}'),\n",
       " Row(player_stats='{\"Shirt_Numbers\":\"[12, 25, 28, 31, 2, 16, 6, 15, 8, 18, 10, 99, 21, 11, 20, 8, 22, 10, 17, 5, 27, 1, 37, 27, 3, 11, 30, 19, 47, 6, 38]\",\"SPI_Scores\":\"[6.2, 5.9, 6.7, 7.7, 7.8, 7.9, 6.9, 5.6, 6.8, 5.8, 6.1, 8.1, 7.6, 6.7, 6.8, 6.3, 6.8, 8.1, 7.9, 7.5, 7.2, 7.7, 6.3, 7.0, 6.4, 6.0, 6.1, 6.4, 5.9, 6.5, 5.9]\",\"Player_Names\":\"[Steve Clark, Griffin Dorsey, Erik Sviatchenko, Micael, Franco Escobar, Héctor Herrera, Artur, Latif Blessing, Amine Bassi, Ibrahim Aliyu, Ezequiel Ponce, Prince Osei Owusu, Jonathan Osorio, Derrick Etienne, Deybi Flores, Matthew Longstaff, Richie Laryea, Federico Bernardeschi, Sigurd Rosted, Kevin Long, Shane O\\'Neill, Sean Johnson, Lawrence Ennali, Sebastian Kowalczyk, Brad Smith, Carlos Ferreira, Henry Wingo, Kobe Franklin, Kosi Thompson, Aime Mabika, Charles Sharp]\"}'),\n",
       " Row(player_stats='{\"Shirt_Numbers\":\"[31, 25, 2, 27, 23, 8, 14, 41, 10, 11, 9, 11, 17, 36, 19, 10, 8, 38, 22, 5, 2, 1, 21, 29, 9, 21]\",\"SPI_Scores\":\"[7.2, 7.2, 6.4, 7.2, 8.5, 6.9, 6.4, 7.7, 8.0, 7.1, 6.2, 7.8, 8.4, 6.7, 6.1, 7.4, 7.5, 5.6, 6.0, 7.7, 5.8, 5.6, 6.4, 6.0, 6.7, 6.7]\",\"Player_Names\":\"[Aljaz Ivacic, Peyton Miller, David Romney, Tim Parker, Will Sands, Matt Polster, Ian Harkes, Luca Langoni, Carles Gil, Dylan Borrero, Giacomo Vrioni, Simon Becher, Marcel Hartel, Cedric Teuchert, Indiana Vassilev, Eduard Löwen, Christopher Durkin, Jannes-Kilian Horn, Kyle Hiebert, Henry Kessler, Jakob Nerwinski, Roman Bürki, Nacho Gil, Nökkvi Thorisson, Joao Klauss, Rasmus Alm]\"}'),\n",
       " Row(player_stats='{\"Shirt_Numbers\":\"[]\",\"SPI_Scores\":\"[]\",\"Player_Names\":\"[]\"}'),\n",
       " Row(player_stats='{\"Shirt_Numbers\":\"[34, 27, 22, 5, 15, 17, 21, 23, 8, 9, 19, 9, 5, 10, 47, 28, 8, 34, 4, 3, 12, 31, 4, 10, 12, 55, 30, 11]\",\"SPI_Scores\":\"[7.1, 6.5, 5.9, 6.8, 6.5, 6.5, 6.3, 6.8, 5.7, 6.6, 6.3, 6.8, 7.7, 7.5, 7.4, 7.5, 7.7, 7.2, 7.6, 7.9, 7.8, 7.7, 6.4, 6.2, 6.0, 6.3, 6.0, 6.7]\",\"Player_Names\":\"[Chris Brady, Allan Arigoni, Mauricio Pineda, Rafael Czichos, Andrew Gutman, Brian Gutierrez, Fabian Herbers, Kellyn Acosta, Chris Mueller, Hugo Cuypers, Georgios Koutsias, Giacomo Vrioni, Tomas Chancalay, Carles Gil, Esmir Bajraktarevic, Mark-Anthony Kaye, Matt Polster, Ryan Spaulding, Henry Kessler, Xavier Arreaga, Nick Lima, Aljaz Ivacic, Carlos Teran, Xherdan Shaqiri, Tom Barlow, Omari Glasgow, Gaston Claudio Gimenez, Dylan Borrero]\"}'),\n",
       " Row(player_stats='{\"Shirt_Numbers\":\"[77, 2, 25, 4, 14, 18, 20, 10, 11, 9, 28, 13, 93, 11, 10, 7, 18, 5, 25, 4, 16, 24, 8, 6]\",\"SPI_Scores\":\"[8.1, 7.5, 7.5, 7.6, 7.8, 6.4, 7.5, 8.1, 7.4, 7.8, 7.0, 6.6, 7.1, 6.9, 6.4, 7.4, 7.0, 7.7, 6.9, 6.8, 6.6, 7.0, 6.5, 6.2]\",\"Player_Names\":\"[John McCarthy, Miki Yamane, Carlos Garces, Maya Yoshida, John Nelson, Marco Reus, Edwin Cerrillo, Ricard Puig, Gabriel Pec, Dejan Joveljic, Joseph Paintsil, Jordan Morris, Georgi Minoungou, Albert Rusnak, Pedro De la Vega, Cristian Roldan, Obed Vargas, Nouhou Tolo, Jackson Ragen, Nathan, Alex Roldan, Stefan Frei, Marco Delgado, Joao Paulo]\"}'),\n",
       " Row(player_stats='{\"Shirt_Numbers\":\"[1, 15, 3, 5, 26, 8, 33, 20, 10, 9, 7, 9, 13, 23, 18, 8, 7, 5, 28, 25, 16, 26, 27, 11, 16, 11]\",\"SPI_Scores\":\"[5.6, 5.1, 6.5, 6.9, 7.3, 6.1, 7.1, 6.6, 8.2, 6.8, 6.3, 9.0, 7.2, 7.3, 9.1, 7.2, 7.4, 6.5, 7.4, 6.6, 6.5, 7.0, 6.5, 7.1, 7.5, 6.2]\",\"Player_Names\":\"[Oliver Semmle, Olivier Mbaizo, Jack Elliott, Jakob Glesnes, Nathan Harriel, Jose Andres Martinez, Quinn Sullivan, Jesus Bueno, Daniel Gazdag, Julian Carranza, Mikael Uhre, Raul Ruidiaz, Jordan Morris, Leo Chu, Obed Vargas, Joshua Atencio, Cristian Roldan, Nouhou Tolo, Yeimar Gomez, Jackson Ragen, Alex Roldan, Andrew Thomas, Kai Wagner, Alejandro Bedoya, Jack McGlynn, Albert Rusnak]\"}'),\n",
       " Row(player_stats='{\"Shirt_Numbers\":\"[1, 5, 3, 24, 11, 26, 35, 8, 10, 16, 19, 99, 24, 7, 20, 8, 11, 10, 15, 5, 28, 90, 6, 29, 2, 47, 17, 19]\",\"SPI_Scores\":\"[6.6, 7.3, 7.4, 7.2, 7.4, 8.0, 6.5, 7.9, 8.0, 6.6, 7.2, 6.0, 8.1, 6.4, 6.6, 6.7, 7.0, 7.9, 5.9, 6.2, 6.7, 6.8, 6.9, 7.2, 6.8, 6.2, 6.0, 6.0]\",\"Player_Names\":\"[Brad Guzan, Stian Gregersen, Derrick Williams, Noah Cobb, Brooks Lennon, Caleb Wiley, Ajani Fortune, Tristan Muyumba, Thiago Almada, Xande Silva, Daniel Rios, Prince Osei Owusu, Lorenzo Insigne, Jahkeele Marshall-Rutty, Deybi Flores, Matthew Longstaff, Derrick Etienne, Federico Bernardeschi, Nickseon Gomis, Kevin Long, Raoul Petretta, Luka Gavran, Bartosz Slisz, Jamal Thiaré, Ronald Hernández, Kosi Thompson, Sigurd Rosted, Kobe Franklin]\"}'),\n",
       " Row(player_stats='{\"Shirt_Numbers\":\"[]\",\"SPI_Scores\":\"[]\",\"Player_Names\":\"[]\"}'),\n",
       " Row(player_stats='{\"Shirt_Numbers\":\"[1, 2, 4, 15, 7, 45, 20, 8, 25, 24, 22, 23, 10, 9, 20, 54, 6, 22, 4, 19, 24, 29, 16, 11, 14, 26, 11, 30]\",\"SPI_Scores\":\"[7.0, 7.4, 7.6, 7.0, 7.1, 7.4, 6.9, 7.2, 7.6, 6.7, 6.4, 7.5, 7.2, 5.7, 6.3, 7.0, 6.9, 6.8, 5.9, 6.5, 6.4, 6.0, 6.7, 7.2, 5.8, 7.6, 6.8, 6.5]\",\"Player_Names\":\"[Yohei Takaoka, Mathias Laborda, Ranko Veselinovic, Bjørn Inge Utvik, Ryan Raposo, Pedro Vite, Andrés Cubas, Alessandro Schöpf, Ryan Gauld, Brian White, Ali Ahmed, William Agada, Daniel Salloi, Alan Pulido, Alenis Vargas, Rémi Walter, Nemanja Radoja, Zorhan Bassong, Robert Voloder, Robert Castellanos, Kayden Pierre, Tim Melia, Sebastian Berhalter, Fabrice Picault, Luis Martins, Erik Thommy, Khiry Shelton, Stephen Afrifa]\"}'),\n",
       " Row(player_stats='{\"Shirt_Numbers\":\"[1, 5, 25, 33, 14, 11, 8, 24, 13, 19, 99, 11, 24, 25, 45, 20, 26, 3, 4, 6, 16, 1, 20, 9, 22, 8]\",\"SPI_Scores\":\"[7.8, 6.5, 7.8, 6.8, 7.5, 6.9, 6.8, 7.4, 6.2, 8.2, 7.0, 6.0, 5.9, 7.4, 6.2, 6.4, 7.4, 7.0, 6.3, 6.7, 6.3, 5.8, 6.2, 6.6, 6.9, 6.4]\",\"Player_Names\":\"[Hugo Lloris, Marlon, Maxime Chanot, Aaron Long, Sergi Palencia, Timothy Tillman, Lewis O\\'Brien, Ryan Hollingshead, Cristian Olivera, Mateusz Bogusz, Denis Bouanga, Fabrice Picault, Brian White, Ryan Gauld, Pedro Vite, Andrés Cubas, Stuart Armstrong, Sam Adekugbe, Ranko Veselinovic, Tristan Blackmon, Sebastian Berhalter, Yohei Takaoka, Eduard Atuesta, Olivier Giroud, Ali Ahmed, Alessandro Schöpf]\"}'),\n",
       " Row(player_stats='{\"Shirt_Numbers\":\"[1, 17, 15, 6, 3, 5, 16, 10, 11, 77, 7, 9, 13, 10, 5, 75, 47, 17, 15, 4, 12, 31, 13, 9, 14, 3, 19]\",\"SPI_Scores\":\"[7.0, 6.7, 6.1, 6.3, 6.2, 6.7, 6.2, 6.5, 6.5, 6.4, 6.5, 7.2, 7.2, 7.6, 7.1, 7.0, 7.7, 7.6, 7.4, 7.7, 7.6, 8.1, 6.2, 6.8, 6.7, 6.4, 6.6]\",\"Player_Names\":\"[Pedro Gallese, Dagur Dan Thorhallsson, Rodrigo Adrián Schlegel, Robin Jansson, Rafael Santos, Cesar Araujo, Wilder Cartagena, Facundo Torres, Martin Ojeda, Ivan Angulo, Ramiro Enrique, Lewis Morgan, Dante Vanzeir, Emil Forsberg, Peter Stroud, Daniel Edelman, John Tolkin, Cameron Harper, Sean Nealis, Andres Reyes, Dylan Nealis, Carlos Miguel, Duncan McGuire, Luis Muriel, Nicolás Lodeiro, Noah Eile, Wikelman Carmona]\"}'),\n",
       " Row(player_stats='{\"Shirt_Numbers\":\"[]\",\"SPI_Scores\":\"[]\",\"Player_Names\":\"[]\"}'),\n",
       " Row(player_stats='{\"Shirt_Numbers\":\"[]\",\"SPI_Scores\":\"[]\",\"Player_Names\":\"[]\"}'),\n",
       " Row(player_stats='{\"Shirt_Numbers\":\"[]\",\"SPI_Scores\":\"[]\",\"Player_Names\":\"[]\"}'),\n",
       " Row(player_stats='{\"Shirt_Numbers\":\"[24, 16, 28, 25, 21, 7, 18, 14, 11, 93, 13, 9, 10, 26, 7, 22, 54, 14, 4, 5, 11, 29, 15, 10, 8, 8, 30, 23, 20]\",\"SPI_Scores\":\"[8.0, 7.1, 8.0, 7.9, 6.9, 8.3, 7.7, 8.4, 7.4, 6.9, 8.0, 6.9, 6.3, 6.9, 6.7, 5.6, 6.4, 6.8, 6.9, 6.6, 5.7, 7.2, 6.2, 6.4, 6.3, 6.7, 5.9, 5.7, 6.2]\",\"Player_Names\":\"[Stefan Frei, Alex Roldan, Yeimar Gomez, Jackson Ragen, Reed Baker-Whiting, Cristian Roldan, Obed Vargas, Paul Rothrock, Albert Rusnak, Georgi Minoungou, Jordan Morris, Alan Pulido, Daniel Salloi, Erik Thommy, Johnny Russell, Zorhan Bassong, Rémi Walter, Tim Leibold, Robert Voloder, Daniel Rosero, Khiry Shelton, Tim Melia, Jon Bell, Pedro De la Vega, Joshua Atencio, Memo Rodriguez, Stephen Afrifa, William Agada, Alenis Vargas]\"}'),\n",
       " Row(player_stats='{\"Shirt_Numbers\":\"[1, 22, 17, 28, 10, 24, 8, 14, 21, 11, 29, 19, 10, 7, 12, 25, 5, 2, 18, 4, 21, 28, 16, 47, 9, 27, 13]\",\"SPI_Scores\":\"[5.5, 6.5, 6.7, 5.1, 7.1, 6.1, 6.0, 7.3, 6.1, 6.7, 6.2, 7.2, 6.0, 7.2, 6.5, 7.4, 6.5, 8.2, 7.2, 7.7, 7.2, 8.1, 6.6, 6.2, 8.3, 6.8, 6.4]\",\"Player_Names\":\"[Sean Johnson, Richie Laryea, Sigurd Rosted, Raoul Petretta, Federico Bernardeschi, Lorenzo Insigne, Matthew Longstaff, Alonso Coello, Jonathan Osorio, Derrick Etienne, Deandre Kerr, Jacen Russell-Rowe, Diego Rossi, Dylan Chambost, DeJuan Jones, Sean Zawadzki, Derrick Jones, Marcelo Herrera, Malte Amundsen, Rudy Camacho, Evgen Cheberko, Patrick Schulte, Tyrese Spicer, Kosi Thompson, Juan Hernández, Max Arfsten, Aziel Jackson]\"}'),\n",
       " Row(player_stats='{\"Shirt_Numbers\":\"[1, 7, 25, 4, 29, 14, 21, 77, 8, 20, 9, 10, 23, 20, 26, 6, 8, 18, 4, 24, 14, 1, 22, 16, 10, 23, 22, 9, 30, 19]\",\"SPI_Scores\":\"[8.0, 7.2, 7.4, 7.0, 6.8, 8.1, 6.8, 6.4, 7.1, 6.7, 7.9, 6.7, 7.3, 5.7, 6.8, 6.4, 7.2, 6.6, 6.3, 5.5, 5.9, 6.7, 6.6, 6.4, 6.1, 6.1, 6.7, 5.9, 6.1, 6.3]\",\"Player_Names\":\"[Jimmy Maurer, Paul Arriola, Sebastien Ibeagha, Marco Farfan, Sam Junqua, Asier Illarramendi, Manuel Cafumana, Bernard Kamungo, Sebastian Lletget, Alan Velasco, Petar Musa, Daniel Salloi, William Agada, Alenis Vargas, Erik Thommy, Nemanja Radoja, Memo Rodriguez, Logan Ndenbe, Robert Voloder, Joaquin Fernández, Tim Leibold, John Pulskamp, Ema Twumasi, Tsiki Ntsabeleng, Jesus Ferreira, Logan Farrington, Zorhan Bassong, Alan Pulido, Stephen Afrifa, Robert Castellanos]\"}'),\n",
       " Row(player_stats='{\"Shirt_Numbers\":\"[]\",\"SPI_Scores\":\"[]\",\"Player_Names\":\"[]\"}'),\n",
       " Row(player_stats='{\"Shirt_Numbers\":\"[]\",\"SPI_Scores\":\"[]\",\"Player_Names\":\"[]\"}'),\n",
       " Row(player_stats='{\"Shirt_Numbers\":\"[]\",\"SPI_Scores\":\"[]\",\"Player_Names\":\"[]\"}'),\n",
       " Row(player_stats='{\"Shirt_Numbers\":\"[]\",\"SPI_Scores\":\"[]\",\"Player_Names\":\"[]\"}'),\n",
       " Row(player_stats='{\"Shirt_Numbers\":\"[97, 28, 15, 4, 8, 31, 67, 21, 17, 26, 9, 19, 7, 10, 20, 5, 23, 91, 32, 12, 6, 18, 20, 11, 14, 27, 17]\",\"SPI_Scores\":\"[6.9, 6.4, 5.8, 6.0, 7.2, 6.7, 6.0, 6.3, 6.3, 6.5, 7.6, 6.2, 8.4, 7.4, 8.1, 7.0, 7.8, 7.1, 7.0, 7.9, 8.4, 7.9, 6.4, 6.5, 6.1, 6.4, 6.4]\",\"Player_Names\":\"[Dayne St. Clair, Jefferson Diaz, Michael Boxall, Miguel Tapias, Joseph Rosales, Hassani Dotson, Carlos Harvey, Bongokuhle Hlongwane, Robin Lod, Joaquin Pereyra, Kelvin Yeboah, Kevin Kelsy, Yuya Kubo, Luciano Acosta, Pavel Bucha, Obinna Nwobodo, Luca Orellano, DeAndre Yedlin, Ian Murphy, Miles Robinson, Chidozie Awaziem, Roman Celentano, Wil Trapp, Sang-Bin Jeong, Tani Oluwaseyi, Yamil Asad, Sergio Santos]\"}'),\n",
       " Row(player_stats='{\"Shirt_Numbers\":\"[]\",\"SPI_Scores\":\"[]\",\"Player_Names\":\"[]\"}'),\n",
       " Row(player_stats='{\"Shirt_Numbers\":\"[]\",\"SPI_Scores\":\"[]\",\"Player_Names\":\"[]\"}'),\n",
       " Row(player_stats='{\"Shirt_Numbers\":\"[25, 29, 26, 4, 94, 14, 7, 10, 23, 9, 11, 14, 33, 10, 11, 6, 8, 29, 4, 18, 16, 1, 30, 16, 13]\",\"SPI_Scores\":\"[6.1, 6.6, 7.1, 6.3, 7.5, 6.6, 6.1, 8.5, 7.8, 6.6, 8.1, 7.1, 8.0, 6.5, 5.9, 6.7, 6.7, 7.9, 7.3, 6.7, 6.5, 7.3, 7.0, 6.3, 5.9]\",\"Player_Names\":\"[William Yarbrough, Carlos Akapo, Rodrigues, Bruno Wilson, Vitor Costa, Jackson Yueill, Carlos Gruezo, Cristian Espinoza, Hernan Lopez, Amahl Pellegrino, Jeremy Ebobisse, Diego Rubio, Owen Wolff, Sebastian Driussi, Jader Obrian, Daniel Pereira, Alexander Ring, Guilherme, Brendan Hines-Ike, Julio Cascante, Hector Jimenez, Brad Stuver, Niko Tsakiris, Jack Skahan, Ethan Finlay]\"}'),\n",
       " Row(player_stats='{\"Shirt_Numbers\":\"[1, 5, 44, 2, 19, 14, 16, 20, 54, 10, 9, 28, 11, 10, 30, 7, 14, 94, 15, 26, 29, 25, 23, 27, 25, 11, 16, 9, 19]\",\"SPI_Scores\":\"[6.5, 7.4, 7.2, 6.9, 8.4, 6.5, 6.9, 7.8, 7.0, 7.1, 7.4, 6.1, 5.8, 7.0, 6.2, 7.2, 7.0, 7.5, 6.7, 7.7, 7.4, 7.9, 6.7, 6.2, 6.3, 6.5, 7.0, 6.3, 6.2]\",\"Player_Names\":\"[Joe Willis, Jack Maher, Brent Kallman, Daniel Lovitz, Alex Muyl, Jacob Shaffelburg, Dru Yearwood, Anibal Godoy, Sean Davis, Hany Mukhtar, Sam Surridge, Benjamin Kikanovic, Jeremy Ebobisse, Cristian Espinoza, Niko Tsakiris, Carlos Gruezo, Jackson Yueill, Vitor Costa, Tanner Beason, Rodrigues, Carlos Akapo, William Yarbrough, Taylor Washington, Brian Anunga, Walker Zimmerman, Tyler Boyd, Jack Skahan, Amahl Pellegrino, Preston Judd]\"}'),\n",
       " Row(player_stats='{\"Shirt_Numbers\":\"[]\",\"SPI_Scores\":\"[]\",\"Player_Names\":\"[]\"}'),\n",
       " Row(player_stats='{\"Shirt_Numbers\":\"[49, 24, 13, 5, 22, 55, 80, 27, 17, 16, 10, 9, 10, 19, 20, 15, 14, 2, 5, 25, 18, 1, 8, 9, 29, 8, 16, 24]\",\"SPI_Scores\":\"[6.3, 7.0, 7.4, 7.5, 7.7, 7.1, 8.1, 7.7, 7.8, 7.9, 9.2, 6.8, 8.4, 5.8, 6.5, 7.0, 8.0, 5.8, 5.9, 6.1, 5.4, 4.9, 6.3, 5.8, 6.7, 6.3, 5.9, 6.1]\",\"Player_Names\":\"[Matt Freese, Tayvon Gray, Thiago Martins, Birk Risa, Kevin O\\'Toole, Keaton Parks, Justin Haak, Maxi Moralez, Hannes Wolf, Alonso Martinez, Santiago Rodriguez, Sam Surridge, Hany Mukhtar, Alex Muyl, Anibal Godoy, Patrick Yazbek, Jacob Shaffelburg, Daniel Lovitz, Jack Maher, Walker Zimmerman, Shaq Moore, Joe Willis, Andres Perea, Monsef Bakrar, Julian Gaines, Randall Leal, Dru Yearwood, Jonathan Perez]\"}'),\n",
       " Row(player_stats='{\"Shirt_Numbers\":\"[1, 17, 15, 6, 3, 5, 16, 10, 11, 77, 7, 9, 11, 10, 41, 14, 28, 25, 27, 2, 12, 31, 14, 13, 9, 8, 34, 47, 80, 18, 3, 21]\",\"SPI_Scores\":\"[8.2, 7.9, 7.0, 6.9, 8.4, 7.5, 8.1, 8.7, 6.6, 7.8, 6.6, 5.6, 6.1, 6.4, 6.2, 6.3, 6.1, 6.4, 6.5, 6.2, 6.4, 5.1, 7.2, 7.0, 6.2, 6.4, 6.2, 6.3, 6.6, 6.2, 6.1, 6.1]\",\"Player_Names\":\"[Pedro Gallese, Dagur Dan Thorhallsson, Rodrigo Adrián Schlegel, Robin Jansson, Rafael Santos, Cesar Araujo, Wilder Cartagena, Facundo Torres, Martin Ojeda, Ivan Angulo, Ramiro Enrique, Giacomo Vrioni, Dylan Borrero, Carles Gil, Luca Langoni, Ian Harkes, Mark-Anthony Kaye, Peyton Miller, Tim Parker, David Romney, Nick Lima, Aljaz Ivacic, Nicolás Lodeiro, Duncan McGuire, Luis Muriel, Felipe, Yutaro Tsukada, Esmir Bajraktarevic, Alhassan Yusuf, Emmanuel Boateng, Xavier Arreaga, Nacho Gil]\"}'),\n",
       " Row(player_stats='{\"Shirt_Numbers\":\"[]\",\"SPI_Scores\":\"[]\",\"Player_Names\":\"[]\"}'),\n",
       " Row(player_stats='{\"Shirt_Numbers\":\"[]\",\"SPI_Scores\":\"[]\",\"Player_Names\":\"[]\"}'),\n",
       " Row(player_stats='{\"Shirt_Numbers\":\"[]\",\"SPI_Scores\":\"[]\",\"Player_Names\":\"[]\"}'),\n",
       " Row(player_stats='{\"Shirt_Numbers\":\"[95, 2, 6, 5, 3, 18, 20, 14, 10, 7, 9, 13, 14, 11, 10, 18, 7, 5, 25, 28, 16, 24, 4, 11, 27, 93]\",\"SPI_Scores\":\"[7.0, 6.4, 6.3, 6.7, 6.2, 6.3, 7.0, 6.3, 6.8, 6.5, 7.2, 7.2, 7.7, 8.0, 6.9, 8.5, 7.6, 7.6, 7.2, 7.6, 7.0, 8.0, 6.2, 6.6, 5.7, 6.6]\",\"Player_Names\":\"[Zack Steffen, Keegan Rosenberry, Lalas Abubakar, Andreas Maxsø, Samuel Vines, Oliver Larraz, Connor Ronan, Calvin Harris, Djordje Mihailovic, Jonathan Lewis, Rafael Navarro, Jordan Morris, Paul Rothrock, Albert Rusnak, Pedro De la Vega, Obed Vargas, Cristian Roldan, Nouhou Tolo, Jackson Ragen, Yeimar Gomez, Alex Roldan, Stefan Frei, Reggie Cannon, Omir Fernandez, Kimani Stewart, Georgi Minoungou]\"}'),\n",
       " Row(player_stats='{\"Shirt_Numbers\":\"[1, 17, 15, 6, 3, 5, 16, 10, 11, 77, 7, 9, 14, 10, 19, 20, 27, 2, 22, 25, 18, 1, 4, 14, 13, 21, 24]\",\"SPI_Scores\":\"[7.9, 8.0, 6.6, 6.9, 7.3, 7.3, 7.6, 9.0, 7.9, 8.2, 6.9, 7.2, 6.3, 6.7, 6.9, 5.7, 6.5, 5.4, 5.6, 5.8, 5.5, 4.7, 6.5, 6.7, 6.9, 6.3, 6.6]\",\"Player_Names\":\"[Pedro Gallese, Dagur Dan Thorhallsson, Rodrigo Adrián Schlegel, Robin Jansson, Rafael Santos, Cesar Araujo, Wilder Cartagena, Facundo Torres, Martin Ojeda, Ivan Angulo, Ramiro Enrique, Sam Surridge, Jacob Shaffelburg, Hany Mukhtar, Alex Muyl, Anibal Godoy, Brian Anunga, Daniel Lovitz, Josh Bauer, Walker Zimmerman, Shaq Moore, Joe Willis, David Brekalo, Nicolás Lodeiro, Duncan McGuire, Forster Ajago, Jonathan Perez]\"}'),\n",
       " Row(player_stats='{\"Shirt_Numbers\":\"[1, 11, 5, 3, 2, 6, 35, 8, 9, 29, 16, 9, 10, 17, 20, 25, 27, 23, 21, 4, 31, 1, 19, 18, 19]\",\"SPI_Scores\":\"[6.3, 7.3, 9.0, 6.9, 7.2, 6.5, 7.3, 6.9, 8.8, 6.7, 7.3, 7.2, 7.5, 6.1, 7.4, 7.8, 7.2, 6.9, 6.7, 6.5, 6.8, 6.0, 6.2, 6.8, 6.2]\",\"Player_Names\":\"[Brad Guzan, Brooks Lennon, Stian Gregersen, Derrick Williams, Ronald Hernández, Bartosz Slisz, Ajani Fortune, Tristan Muyumba, Saba Lobzhanidze, Jamal Thiaré, Xande Silva, Juan Hernández, Diego Rossi, Christian Ramirez, Alexandru Matan, Sean Zawadzki, Max Arfsten, Mohamed Farsi, Evgen Cheberko, Rudy Camacho, Steven Moreira, Nicholas Hagen, Daniel Rios, Malte Amundsen, Jacen Russell-Rowe]\"}'),\n",
       " Row(player_stats='{\"Shirt_Numbers\":\"[28, 31, 4, 18, 23, 3, 8, 6, 10, 14, 9, 9, 14, 10, 30, 19, 21, 5, 4, 2, 29, 41, 19, 21, 25, 22, 27]\",\"SPI_Scores\":\"[6.0, 7.6, 6.8, 7.6, 7.6, 6.8, 8.8, 7.5, 8.2, 7.0, 8.2, 7.5, 6.7, 7.3, 7.7, 7.1, 6.5, 6.7, 6.4, 6.3, 6.9, 6.4, 6.1, 6.1, 6.3, 5.6, 6.7]\",\"Player_Names\":\"[Patrick Schulte, Steven Moreira, Rudy Camacho, Malte Amundsen, Mohamed Farsi, Will Sands, Aidan Morris, Darlington Nagbe, Diego Rossi, Yaw Yeboah, Juan Hernández, Felipe Mora, Jonathan Rodriguez, Evander Ferreira, Santiago Moreno, Eryk Williamson, Diego Chara, Claudio Bravo, Kamal Miller, Miguel Araujo, Juan Mosquera, James Pantemis, Jacen Russell-Rowe, Evgen Cheberko, Sean Zawadzki, Cristhian Paredes, Dairon Asprilla]\"}'),\n",
       " Row(player_stats='{\"Shirt_Numbers\":\"[]\",\"SPI_Scores\":\"[]\",\"Player_Names\":\"[]\"}'),\n",
       " Row(player_stats='{\"Shirt_Numbers\":\"[]\",\"SPI_Scores\":\"[]\",\"Player_Names\":\"[]\"}'),\n",
       " Row(player_stats='{\"Shirt_Numbers\":\"[]\",\"SPI_Scores\":\"[]\",\"Player_Names\":\"[]\"}'),\n",
       " Row(player_stats='{\"Shirt_Numbers\":\"[]\",\"SPI_Scores\":\"[]\",\"Player_Names\":\"[]\"}'),\n",
       " Row(player_stats='{\"Shirt_Numbers\":\"[42, 29, 4, 15, 33, 7, 14, 10, 23, 3, 16, 20, 9, 10, 7, 21, 14, 5, 4, 25, 17, 1, 94, 11, 30, 9, 77, 16, 23, 22]\",\"SPI_Scores\":\"[7.6, 6.8, 6.7, 6.4, 6.3, 7.6, 6.7, 7.6, 9.1, 7.1, 6.7, 7.8, 7.2, 6.4, 7.0, 6.9, 6.9, 6.4, 5.9, 7.2, 5.8, 5.2, 6.8, 7.6, 6.9, 7.2, 7.1, 6.7, 5.7, 6.0]\",\"Player_Names\":\"[Daniel, Carlos Akapo, Bruno Wilson, Tanner Beason, Oscar Verhoeven, Carlos Gruezo, Jackson Yueill, Cristian Espinoza, Hernan Lopez, Paul Marie, Jack Skahan, Alan Velasco, Petar Musa, Jesus Ferreira, Paul Arriola, Manuel Cafumana, Asier Illarramendi, Ruan, Marco Farfan, Sebastien Ibeagha, Nkosi Tafari, Jimmy Maurer, Vitor Costa, Jeremy Ebobisse, Niko Tsakiris, Amahl Pellegrino, Bernard Kamungo, Tsiki Ntsabeleng, Logan Farrington, Ema Twumasi]\"}'),\n",
       " Row(player_stats='{\"Shirt_Numbers\":\"[]\",\"SPI_Scores\":\"[]\",\"Player_Names\":\"[]\"}'),\n",
       " Row(player_stats='{\"Shirt_Numbers\":\"[30, 3, 17, 29, 77, 11, 18, 14, 23, 7, 9, 9, 7, 10, 29, 6, 11, 22, 25, 16, 24, 40, 6, 10, 8, 28, 17, 2, 14]\",\"SPI_Scores\":\"[6.5, 6.3, 7.2, 6.5, 6.8, 6.2, 6.6, 6.2, 6.1, 6.2, 7.6, 7.0, 5.9, 7.4, 7.4, 7.1, 7.3, 7.7, 7.6, 7.8, 7.4, 8.1, 6.6, 6.4, 6.3, 7.5, 7.2, 6.5, 6.0]\",\"Player_Names\":\"[Maarten Paes, Omar Gonzalez, Nkosi Tafari, Sam Junqua, Bernard Kamungo, Dante Sealy, Liam Fraser, Asier Illarramendi, Logan Farrington, Paul Arriola, Petar Musa, Matias Coccaro, Kwadwo Opoku, Bryce Duke, Mathieu Choiniere, Samuel Piette, Ariel Lassiter, Ruan, Gabriele Corbo, Joel Waterman, George Campbell, Jonathan Sirois, Patrickson Delgado, Jesus Ferreira, Sebastian Lletget, Jules-Anthony Vilsaint, Josef Martinez, Victor Wanyama, Sunusi Ibrahim]\"}'),\n",
       " Row(player_stats='{\"Shirt_Numbers\":\"[]\",\"SPI_Scores\":\"[]\",\"Player_Names\":\"[]\"}'),\n",
       " Row(player_stats='{\"Shirt_Numbers\":\"[1, 14, 29, 34, 3, 30, 8, 13, 10, 9, 11, 9, 21, 10, 47, 8, 80, 25, 27, 3, 15, 31, 28, 18, 33, 11, 41, 12, 14, 17]\",\"SPI_Scores\":\"[8.2, 7.7, 7.3, 7.1, 7.0, 7.4, 7.5, 7.6, 9.0, 6.7, 8.0, 6.3, 7.1, 6.9, 6.5, 5.3, 6.6, 5.4, 5.3, 5.2, 5.8, 6.0, 6.3, 7.6, 8.5, 4.9, 5.9, 6.4, 6.3, 6.3]\",\"Player_Names\":\"[Kristijan Kahlina, Nathan Byrne, Adilson Malanda, Andrew Privett, Tim Ream, Junior Urso, Ashley Westwood, Brandt Bronico, Pep Biel, Karol Swiderski, Liel Abada, Giacomo Vrioni, Nacho Gil, Carles Gil, Esmir Bajraktarevic, Matt Polster, Alhassan Yusuf, Peyton Miller, Tim Parker, Xavier Arreaga, Brandon Bye, Aljaz Ivacic, Djibril Diani, Kerwin Vargas, Patrick Agyemang, Dylan Borrero, Luca Langoni, Nick Lima, Ian Harkes, Bobby Wood]\"}'),\n",
       " Row(player_stats='{\"Shirt_Numbers\":\"[]\",\"SPI_Scores\":\"[]\",\"Player_Names\":\"[]\"}'),\n",
       " Row(player_stats='{\"Shirt_Numbers\":\"[97, 27, 15, 4, 8, 25, 20, 31, 11, 22, 37, 9, 10, 20, 14, 8, 6, 27, 18, 4, 31, 28, 14, 90, 33, 44, 17, 21]\",\"SPI_Scores\":\"[6.8, 7.1, 7.0, 7.2, 7.6, 6.1, 7.1, 6.6, 7.3, 6.4, 6.4, 8.5, 6.5, 6.3, 7.6, 7.5, 7.1, 7.8, 7.7, 7.6, 7.2, 6.9, 7.2, 6.1, 6.1, 6.5, 6.8, 6.0]\",\"Player_Names\":\"[Dayne St. Clair, D.J. Taylor, Michael Boxall, Miguel Tapias, Joseph Rosales, Alejandro Bran, Wil Trapp, Hassani Dotson, Sang-Bin Jeong, Teemu Pukki, Caden Clark, Juan Hernández, Diego Rossi, Alexandru Matan, Yaw Yeboah, Aidan Morris, Darlington Nagbe, Max Arfsten, Malte Amundsen, Rudy Camacho, Steven Moreira, Patrick Schulte, Tani Oluwaseyi, Loic Mesanvi, Kervin Arriaga, Moses Nyeman, Christian Ramirez, Evgen Cheberko]\"}'),\n",
       " Row(player_stats='{\"Shirt_Numbers\":\"[1, 14, 3, 33, 24, 11, 6, 20, 19, 13, 99, 9, 11, 10, 19, 16, 27, 23, 5, 44, 18, 1, 30, 4, 27, 2, 30, 54, 17, 12]\",\"SPI_Scores\":\"[7.1, 7.9, 7.4, 7.6, 8.1, 8.5, 7.5, 8.8, 7.1, 8.0, 9.6, 5.6, 6.6, 6.3, 6.2, 6.9, 5.6, 6.0, 5.5, 5.8, 5.8, 5.7, 7.0, 6.2, 5.8, 6.7, 6.5, 6.3, 6.2, 6.0]\",\"Player_Names\":\"[Hugo Lloris, Sergi Palencia, Jesus Murillo, Aaron Long, Ryan Hollingshead, Timothy Tillman, Ilie Sanchez, Eduard Atuesta, Mateusz Bogusz, Cristian Olivera, Denis Bouanga, Sam Surridge, Tyler Boyd, Hany Mukhtar, Alex Muyl, Dru Yearwood, Brian Anunga, Taylor Washington, Jack Maher, Brent Kallman, Shaq Moore, Joe Willis, David Martinez, Eddie Segura, Nathan Ordaz, Daniel Lovitz, Elliot Panicco, Sean Davis, Orrin McKinze Gaines, Teal Bunbury]\"}'),\n",
       " Row(player_stats='{\"Shirt_Numbers\":\"[28, 12, 21, 18, 23, 2, 7, 6, 17, 10, 9, 7, 28, 10, 31, 33, 21, 27, 3, 5, 26, 18, 5, 27, 11, 16]\",\"SPI_Scores\":\"[6.6, 7.1, 7.1, 7.1, 8.0, 6.6, 9.1, 5.9, 7.3, 7.3, 9.4, 5.8, 5.9, 6.5, 6.8, 7.5, 6.0, 7.2, 6.6, 5.8, 7.2, 6.9, 6.0, 6.6, 5.9, 7.4]\",\"Player_Names\":\"[Patrick Schulte, DeJuan Jones, Evgen Cheberko, Malte Amundsen, Mohamed Farsi, Marcelo Herrera, Dylan Chambost, Darlington Nagbe, Christian Ramirez, Diego Rossi, Juan Hernández, Mikael Uhre, Tai Baribo, Daniel Gazdag, Leon Flach, Quinn Sullivan, Danley Jean Jacques, Kai Wagner, Jack Elliott, Jakob Glesnes, Nathan Harriel, Andre Blake, Derrick Jones, Max Arfsten, Alejandro Bedoya, Jack McGlynn]\"}'),\n",
       " Row(player_stats='{\"Shirt_Numbers\":\"[]\",\"SPI_Scores\":\"[]\",\"Player_Names\":\"[]\"}'),\n",
       " Row(player_stats='{\"Shirt_Numbers\":\"[]\",\"SPI_Scores\":\"[]\",\"Player_Names\":\"[]\"}'),\n",
       " Row(player_stats='{\"Shirt_Numbers\":\"[49, 35, 13, 5, 22, 55, 6, 17, 10, 26, 9, 9, 77, 91, 23, 18, 11, 3, 5, 64, 2, 95, 24, 8, 88, 16, 11, 21, 14]\",\"SPI_Scores\":\"[6.3, 6.2, 7.2, 6.8, 6.9, 6.8, 7.4, 6.6, 6.9, 6.5, 6.5, 8.2, 7.0, 7.2, 8.9, 7.1, 7.5, 7.1, 7.3, 7.6, 7.1, 7.1, 7.1, 6.3, 6.6, 6.0, 6.1, 6.6, 7.0]\",\"Player_Names\":\"[Matt Freese, Mitja Ilenic, Thiago Martins, Birk Risa, Kevin O\\'Toole, Keaton Parks, James Sands, Hannes Wolf, Santiago Rodriguez, Agustin Ojeda, Monsef Bakrar, Rafael Navarro, Darren Yapi, Kévin Cabral, Cole Bassett, Oliver Larraz, Omir Fernandez, Samuel Vines, Andreas Maxsø, Moise Bombito, Keegan Rosenberry, Zack Steffen, Tayvon Gray, Andres Perea, Malachi Jones, Alonso Martinez, Julian Fernandez, Jasper Löffelsend, Calvin Harris]\"}'),\n",
       " Row(player_stats='{\"Shirt_Numbers\":\"[97, 67, 15, 28, 21, 8, 17, 31, 20, 26, 9, 29, 8, 25, 11, 6, 14, 98, 4, 15, 91, 18, 11, 10, 13, 9]\",\"SPI_Scores\":\"[7.2, 7.5, 6.6, 7.4, 7.3, 8.5, 6.3, 6.9, 7.1, 7.2, 7.8, 6.8, 7.0, 8.3, 6.4, 6.6, 8.2, 6.8, 6.3, 7.2, 7.4, 8.2, 5.9, 6.0, 6.6, 5.9]\",\"Player_Names\":\"[Dayne St. Clair, Carlos Harvey, Michael Boxall, Jefferson Diaz, Bongokuhle Hlongwane, Joseph Rosales, Robin Lod, Hassani Dotson, Wil Trapp, Joaquin Pereyra, Kelvin Yeboah, Anderson Julio, Diego Luna, Matt Crooks, Dominik Marczuk, Braian Ojeda, Emeka Eneli, Alexandros Katranis, Brayan Vera, Justen Glad, Javain Brown, Zac MacMath, Sang-Bin Jeong, Diogo Goncalves, Nelson Palacio, Cristian Arango]\"}'),\n",
       " Row(player_stats='{\"Shirt_Numbers\":\"[1, 2, 4, 15, 7, 45, 20, 8, 25, 24, 22, 23, 10, 9, 20, 54, 6, 22, 4, 19, 24, 29, 16, 11, 14, 26, 11, 30]\",\"SPI_Scores\":\"[7.0, 7.4, 7.6, 7.0, 7.1, 7.4, 6.9, 7.2, 7.6, 6.7, 6.4, 7.5, 7.2, 5.7, 6.3, 7.0, 6.9, 6.8, 5.9, 6.5, 6.4, 6.0, 6.7, 7.2, 5.8, 7.6, 6.8, 6.5]\",\"Player_Names\":\"[Yohei Takaoka, Mathias Laborda, Ranko Veselinovic, Bjørn Inge Utvik, Ryan Raposo, Pedro Vite, Andrés Cubas, Alessandro Schöpf, Ryan Gauld, Brian White, Ali Ahmed, William Agada, Daniel Salloi, Alan Pulido, Alenis Vargas, Rémi Walter, Nemanja Radoja, Zorhan Bassong, Robert Voloder, Robert Castellanos, Kayden Pierre, Tim Melia, Sebastian Berhalter, Fabrice Picault, Luis Martins, Erik Thommy, Khiry Shelton, Stephen Afrifa]\"}'),\n",
       " Row(player_stats='{\"Shirt_Numbers\":\"[1, 4, 25, 33, 14, 8, 11, 2, 19, 9, 99, 11, 3, 23, 10, 7, 14, 94, 26, 4, 29, 42, 24, 30, 23, 20, 5, 33, 30, 9, 17]\",\"SPI_Scores\":\"[7.0, 6.6, 6.9, 6.9, 7.7, 8.1, 7.6, 6.6, 7.7, 7.1, 8.7, 6.9, 7.6, 6.8, 7.3, 5.3, 7.4, 6.0, 6.3, 5.5, 6.7, 5.4, 6.3, 6.5, 7.1, 8.1, 7.3, 6.9, 6.6, 6.1, 6.0]\",\"Player_Names\":\"[Hugo Lloris, Eddie Segura, Maxime Chanot, Aaron Long, Sergi Palencia, Lewis O\\'Brien, Timothy Tillman, Omar Campos, Mateusz Bogusz, Olivier Giroud, Denis Bouanga, Jeremy Ebobisse, Paul Marie, Hernan Lopez, Cristian Espinoza, Carlos Gruezo, Jackson Yueill, Vitor Costa, Rodrigues, Bruno Wilson, Carlos Akapo, Daniel, Ryan Hollingshead, David Martinez, Kei Ansu Kamara, Eduard Atuesta, Marlon, Oscar Verhoeven, Niko Tsakiris, Amahl Pellegrino, Ousseni Bouda]\"}'),\n",
       " Row(player_stats='{\"Shirt_Numbers\":\"[]\",\"SPI_Scores\":\"[]\",\"Player_Names\":\"[]\"}'),\n",
       " Row(player_stats='{\"Shirt_Numbers\":\"[1, 17, 15, 6, 3, 5, 16, 10, 11, 77, 7, 29, 59, 18, 35, 13, 6, 9, 4, 3, 5, 1, 13, 9, 24, 14, 2, 16, 8]\",\"SPI_Scores\":\"[6.9, 7.2, 7.1, 7.2, 7.6, 7.6, 7.3, 7.3, 6.7, 7.4, 7.7, 5.9, 6.3, 7.0, 6.5, 6.4, 7.2, 6.4, 6.7, 7.0, 6.9, 6.4, 6.2, 6.1, 6.3, 6.1, 7.0, 6.0, 6.5]\",\"Player_Names\":\"[Pedro Gallese, Dagur Dan Thorhallsson, Rodrigo Adrián Schlegel, Robin Jansson, Rafael Santos, Cesar Araujo, Wilder Cartagena, Facundo Torres, Martin Ojeda, Ivan Angulo, Ramiro Enrique, Jamal Thiaré, Aleksey Miranchuk, Pedro Amador, Ajani Fortune, Dax McCarty, Bartosz Slisz, Saba Lobzhanidze, Luis Abram, Derrick Williams, Stian Gregersen, Brad Guzan, Duncan McGuire, Luis Muriel, Kyle Smith, Nicolás Lodeiro, Ronald Hernández, Xande Silva, Tristan Muyumba]\"}'),\n",
       " Row(player_stats='{\"Shirt_Numbers\":\"[24, 22, 3, 97, 7, 14, 8, 43, 21, 20, 10, 18, 33, 10, 13, 8, 30, 3, 34, 29, 14, 1, 28, 11, 5, 23, 4, 21, 28, 11]\",\"SPI_Scores\":\"[6.0, 6.7, 6.3, 6.5, 6.2, 7.2, 6.2, 6.9, 6.4, 6.4, 6.3, 7.5, 7.7, 8.0, 8.5, 7.0, 7.5, 7.0, 7.2, 7.1, 7.6, 8.4, 6.8, 6.4, 6.7, 6.3, 6.8, 6.1, 6.4, 8.0]\",\"Player_Names\":\"[Alex Bono, Aaron Herrera, Lucas Bartlett, Christopher McVey, Pedro Santos, Martin Rodriguez, Jared Stroud, Mateusz Klich, Theodore Ku-DiPietro, Christian Benteke, Gabriel Pirani, Kerwin Vargas, Patrick Agyemang, Pep Biel, Brandt Bronico, Ashley Westwood, Junior Urso, Tim Ream, Andrew Privett, Adilson Malanda, Nathan Byrne, Kristijan Kahlina, David Schnegg, Cristian Dajome, Boris Enow, Dominique Badji, Matti Peltola, Jere Uronen, Djibril Diani, Liel Abada]\"}'),\n",
       " Row(player_stats='{\"Shirt_Numbers\":\"[1, 14, 29, 34, 3, 30, 8, 13, 10, 9, 11, 14, 23, 10, 19, 6, 44, 11, 25, 16, 24, 40, 18, 38, 33, 46, 17, 7]\",\"SPI_Scores\":\"[7.6, 7.4, 7.4, 7.2, 7.2, 7.4, 7.6, 7.8, 7.0, 7.7, 6.7, 5.6, 7.5, 5.9, 5.7, 6.9, 5.9, 7.0, 7.0, 6.5, 7.0, 6.4, 6.4, 6.4, 7.2, 6.1, 6.1, 5.9]\",\"Player_Names\":\"[Kristijan Kahlina, Nathan Byrne, Adilson Malanda, Andrew Privett, Tim Ream, Junior Urso, Ashley Westwood, Brandt Bronico, Pep Biel, Karol Swiderski, Liel Abada, Sunusi Ibrahim, Caden Clark, Bryce Duke, Nathan Saliba, Samuel Piette, Raheem Edwards, Jahkeele Marshall-Rutty, Gabriele Corbo, Joel Waterman, George Campbell, Jonathan Sirois, Kerwin Vargas, Iuri Tavares, Patrick Agyemang, Tom Pearce, Josef Martinez, Kwadwo Opoku]\"}'),\n",
       " Row(player_stats='{\"Shirt_Numbers\":\"[]\",\"SPI_Scores\":\"[]\",\"Player_Names\":\"[]\"}'),\n",
       " Row(player_stats='{\"Shirt_Numbers\":\"[]\",\"SPI_Scores\":\"[]\",\"Player_Names\":\"[]\"}'),\n",
       " Row(player_stats='{\"Shirt_Numbers\":\"[]\",\"SPI_Scores\":\"[]\",\"Player_Names\":\"[]\"}'),\n",
       " Row(player_stats='{\"Shirt_Numbers\":\"[1, 24, 6, 34, 21, 8, 28, 11, 10, 18, 9, 7, 14, 17, 20, 33, 31, 8, 2, 15, 27, 97, 33, 13, 23, 38, 21, 22, 25]\",\"SPI_Scores\":\"[5.6, 6.6, 5.8, 6.2, 6.1, 6.6, 5.9, 6.0, 5.9, 6.6, 5.6, 7.9, 8.0, 9.1, 7.5, 7.7, 8.1, 7.5, 8.4, 7.4, 7.0, 8.3, 5.8, 6.0, 5.9, 5.9, 6.4, 6.0, 6.0]\",\"Player_Names\":\"[Kristijan Kahlina, Jaylin Lindsey, Bill Poni Tuiloma, Andrew Privett, Jere Uronen, Ashley Westwood, Djibril Diani, Liel Abada, Brecht Dejaeghere, Kerwin Vargas, Enzo Copetti, Franco Fragapane, Tani Oluwaseyi, Robin Lod, Wil Trapp, Kervin Arriaga, Hassani Dotson, Joseph Rosales, Devin Padelford, Michael Boxall, D.J. Taylor, Dayne St. Clair, Patrick Agyemang, Brandt Bronico, Nikola Petkovic, Iuri Tavares, Bongokuhle Hlongwane, Teemu Pukki, Alejandro Bran]\"}'),\n",
       " Row(player_stats='{\"Shirt_Numbers\":\"[1, 11, 5, 4, 26, 9, 6, 8, 16, 19, 29, 99, 19, 13, 2, 20, 11, 14, 33, 25, 3, 1, 22, 10, 3, 20]\",\"SPI_Scores\":\"[5.9, 6.5, 7.2, 7.0, 5.9, 7.1, 7.7, 7.4, 6.4, 6.0, 5.4, 6.7, 8.2, 7.5, 7.1, 5.8, 7.3, 7.4, 7.4, 7.2, 7.3, 7.6, 6.1, 6.7, 6.6, 6.4]\",\"Player_Names\":\"[Brad Guzan, Brooks Lennon, Stian Gregersen, Luis Abram, Caleb Wiley, Saba Lobzhanidze, Bartosz Slisz, Tristan Muyumba, Xande Silva, Daniel Rios, Jamal Thiaré, Denis Bouanga, Mateusz Bogusz, Cristian Olivera, Omar Campos, Eduard Atuesta, Timothy Tillman, Sergi Palencia, Aaron Long, Maxime Chanot, Jesus Murillo, Hugo Lloris, Josh Cohen, Thiago Almada, Derrick Williams, Edwin Mosquera]\"}'),\n",
       " Row(player_stats='{\"Shirt_Numbers\":\"[]\",\"SPI_Scores\":\"[]\",\"Player_Names\":\"[]\"}'),\n",
       " Row(player_stats='{\"Shirt_Numbers\":\"[]\",\"SPI_Scores\":\"[]\",\"Player_Names\":\"[]\"}'),\n",
       " Row(player_stats='{\"Shirt_Numbers\":\"[18, 91, 6, 2, 23, 7, 20, 5, 9, 10, 19, 9, 10, 17, 6, 20, 27, 23, 25, 4, 31, 28, 17]\",\"SPI_Scores\":\"[8.2, 7.0, 7.7, 7.4, 7.3, 6.9, 6.8, 6.7, 6.3, 6.6, 6.5, 6.5, 6.5, 7.2, 7.2, 7.6, 7.1, 7.2, 6.8, 7.5, 6.9, 7.1, 5.9]\",\"Player_Names\":\"[Roman Celentano, DeAndre Yedlin, Chidozie Awaziem, Alvas Elvis Powell, Luca Orellano, Yuya Kubo, Pavel Bucha, Obinna Nwobodo, Nicholas Gioacchini, Luciano Acosta, Kevin Kelsy, Juan Hernández, Diego Rossi, Christian Ramirez, Darlington Nagbe, Alexandru Matan, Max Arfsten, Mohamed Farsi, Sean Zawadzki, Rudy Camacho, Steven Moreira, Patrick Schulte, Sergio Santos]\"}'),\n",
       " Row(player_stats='{\"Shirt_Numbers\":\"[]\",\"SPI_Scores\":\"[]\",\"Player_Names\":\"[]\"}'),\n",
       " Row(player_stats='{\"Shirt_Numbers\":\"[1, 17, 18, 4, 29, 6, 8, 33, 10, 11, 9, 17, 23, 10, 14, 6, 18, 5, 25, 28, 16, 24, 5, 14, 11, 13, 21]\",\"SPI_Scores\":\"[7.5, 6.7, 7.8, 5.1, 6.7, 6.2, 6.6, 6.1, 7.3, 5.7, 5.3, 6.1, 6.8, 6.0, 7.7, 7.8, 7.8, 7.3, 7.0, 7.5, 7.4, 8.1, 6.2, 6.4, 6.8, 7.5, 6.2]\",\"Player_Names\":\"[Brad Stuver, Jon Gallagher, Julio Cascante, Brendan Hines-Ike, Guilherme, Daniel Pereira, Alexander Ring, Owen Wolff, Sebastian Driussi, Jader Obrian, Gyasi Zardes, Danny Musovski, Leo Chu, Pedro De la Vega, Paul Rothrock, Joao Paulo, Obed Vargas, Nouhou Tolo, Jackson Ragen, Yeimar Gomez, Alex Roldan, Stefan Frei, Jhojan Valencia, Diego Rubio, Albert Rusnak, Jordan Morris, Reed Baker-Whiting]\"}'),\n",
       " Row(player_stats='{\"Shirt_Numbers\":\"[]\",\"SPI_Scores\":\"[]\",\"Player_Names\":\"[]\"}'),\n",
       " Row(player_stats='{\"Shirt_Numbers\":\"[]\",\"SPI_Scores\":\"[]\",\"Player_Names\":\"[]\"}'),\n",
       " Row(player_stats='{\"Shirt_Numbers\":\"[]\",\"SPI_Scores\":\"[]\",\"Player_Names\":\"[]\"}'),\n",
       " Row(player_stats='{\"Shirt_Numbers\":\"[1, 22, 17, 28, 10, 24, 8, 14, 21, 11, 29, 19, 10, 7, 12, 25, 5, 2, 18, 4, 21, 28, 16, 47, 9, 27, 13]\",\"SPI_Scores\":\"[5.5, 6.5, 6.7, 5.1, 7.1, 6.1, 6.0, 7.3, 6.1, 6.7, 6.2, 7.2, 6.0, 7.2, 6.5, 7.4, 6.5, 8.2, 7.2, 7.7, 7.2, 8.1, 6.6, 6.2, 8.3, 6.8, 6.4]\",\"Player_Names\":\"[Sean Johnson, Richie Laryea, Sigurd Rosted, Raoul Petretta, Federico Bernardeschi, Lorenzo Insigne, Matthew Longstaff, Alonso Coello, Jonathan Osorio, Derrick Etienne, Deandre Kerr, Jacen Russell-Rowe, Diego Rossi, Dylan Chambost, DeJuan Jones, Sean Zawadzki, Derrick Jones, Marcelo Herrera, Malte Amundsen, Rudy Camacho, Evgen Cheberko, Patrick Schulte, Tyrese Spicer, Kosi Thompson, Juan Hernández, Max Arfsten, Aziel Jackson]\"}'),\n",
       " Row(player_stats='{\"Shirt_Numbers\":\"[30, 25, 3, 4, 5, 6, 14, 7, 10, 9, 20, 27, 23, 30, 8, 20, 11, 2, 4, 25, 24, 12, 23, 29, 8, 14, 6, 99, 9, 33]\",\"SPI_Scores\":\"[7.0, 7.0, 6.6, 7.4, 7.3, 8.1, 6.8, 6.7, 8.3, 7.7, 6.8, 5.8, 6.1, 6.9, 7.6, 8.0, 6.4, 6.8, 4.8, 5.9, 6.7, 5.7, 8.1, 6.1, 6.3, 6.8, 6.5, 6.1, 5.8, 6.4]\",\"Player_Names\":\"[Maarten Paes, Sebastien Ibeagha, Omar Gonzalez, Marco Farfan, Ruan, Patrickson Delgado, Asier Illarramendi, Paul Arriola, Jesus Ferreira, Petar Musa, Alan Velasco, Nathan Ordaz, Kei Ansu Kamara, David Martinez, Lewis O\\'Brien, Eduard Atuesta, Timothy Tillman, Omar Campos, Eddie Segura, Maxime Chanot, Ryan Hollingshead, Thomas Hasal, Logan Farrington, Sam Junqua, Sebastian Lletget, Sergi Palencia, Ilie Sanchez, Denis Bouanga, Olivier Giroud, Aaron Long]\"}'),\n",
       " Row(player_stats='{\"Shirt_Numbers\":\"[]\",\"SPI_Scores\":\"[]\",\"Player_Names\":\"[]\"}'),\n",
       " Row(player_stats='{\"Shirt_Numbers\":\"[12, 25, 28, 31, 5, 16, 6, 20, 8, 18, 10, 28, 9, 11, 10, 20, 18, 3, 4, 25, 2, 77, 35, 15, 14, 5]\",\"SPI_Scores\":\"[7.6, 7.8, 8.1, 7.2, 8.9, 7.5, 7.6, 6.7, 7.8, 7.3, 7.2, 6.5, 6.8, 7.8, 7.7, 6.0, 6.2, 6.7, 6.8, 6.6, 6.9, 6.4, 7.3, 6.1, 6.3, 6.3]\",\"Player_Names\":\"[Steve Clark, Griffin Dorsey, Erik Sviatchenko, Micael, Daniel Steres, Héctor Herrera, Artur, Adalberto Carrasquilla, Amine Bassi, Ibrahim Aliyu, Ezequiel Ponce, Joseph Paintsil, Dejan Joveljic, Gabriel Pec, Ricard Puig, Edwin Cerrillo, Marco Reus, Julian Aude, Maya Yoshida, Carlos Garces, Miki Yamane, John McCarthy, Brooklyn Raines, Latif Blessing, John Nelson, Gaston Brugman]\"}'),\n",
       " Row(player_stats='{\"Shirt_Numbers\":\"[18, 26, 5, 3, 27, 8, 11, 16, 10, 33, 9, 9, 17, 25, 11, 6, 14, 98, 4, 15, 19, 18, 7, 29, 16]\",\"SPI_Scores\":\"[5.0, 7.2, 6.7, 6.0, 7.2, 7.4, 7.2, 7.1, 7.6, 8.0, 6.6, 7.6, 6.2, 6.8, 8.1, 7.3, 7.2, 7.8, 7.3, 6.9, 7.6, 6.4, 6.0, 6.6, 5.6]\",\"Player_Names\":\"[Andre Blake, Nathan Harriel, Jakob Glesnes, Jack Elliott, Kai Wagner, Jose Andres Martinez, Alejandro Bedoya, Jack McGlynn, Daniel Gazdag, Quinn Sullivan, Julian Carranza, Cristian Arango, Fidel Barajas, Matt Crooks, Andres Gomez, Braian Ojeda, Emeka Eneli, Alexandros Katranis, Brayan Vera, Justen Glad, Bode Hidalgo, Zac MacMath, Mikael Uhre, Anderson Julio, Maikel Chang Ramirez]\"}'),\n",
       " Row(player_stats='{\"Shirt_Numbers\":\"[77, 2, 24, 4, 14, 18, 20, 10, 11, 9, 7, 99, 9, 19, 8, 6, 11, 2, 33, 4, 24, 1, 27, 25, 23]\",\"SPI_Scores\":\"[6.1, 7.5, 7.5, 6.9, 7.2, 8.3, 8.2, 9.6, 8.1, 8.9, 6.8, 8.0, 6.3, 7.1, 6.2, 6.2, 7.8, 5.6, 5.4, 5.8, 4.9, 6.6, 6.3, 6.6, 6.4]\",\"Player_Names\":\"[John McCarthy, Miki Yamane, Jalen Neal, Maya Yoshida, John Nelson, Marco Reus, Edwin Cerrillo, Ricard Puig, Gabriel Pec, Dejan Joveljic, Diego Fagundez, Denis Bouanga, Olivier Giroud, Mateusz Bogusz, Lewis O\\'Brien, Ilie Sanchez, Timothy Tillman, Omar Campos, Aaron Long, Eddie Segura, Ryan Hollingshead, Hugo Lloris, Miguel Berry, Maxime Chanot, Kei Ansu Kamara]\"}'),\n",
       " Row(player_stats='{\"Shirt_Numbers\":\"[1, 14, 5, 22, 38, 21, 10, 20, 17, 36, 9, 30, 23, 20, 22, 54, 8, 14, 4, 5, 17, 1, 29, 11, 18, 11, 7, 9, 10]\",\"SPI_Scores\":\"[7.4, 6.8, 7.0, 7.8, 6.8, 7.4, 8.5, 7.6, 7.5, 9.1, 7.3, 7.5, 6.1, 6.7, 6.5, 6.6, 6.0, 6.3, 6.0, 5.9, 7.3, 5.3, 7.2, 6.3, 6.3, 6.3, 6.4, 5.7, 6.3]\",\"Player_Names\":\"[Roman Bürki, Tomas Totland, Henry Kessler, Kyle Hiebert, Jannes-Kilian Horn, Rasmus Alm, Eduard Löwen, Akil Watts, Marcel Hartel, Cedric Teuchert, Joao Klauss, Stephen Afrifa, William Agada, Alenis Vargas, Zorhan Bassong, Rémi Walter, Memo Rodriguez, Tim Leibold, Robert Voloder, Daniel Rosero, Jacob Davis, John Pulskamp, Nökkvi Thorisson, Simon Becher, Logan Ndenbe, Khiry Shelton, Johnny Russell, Alan Pulido, Daniel Salloi]\"}'),\n",
       " Row(player_stats='{\"Shirt_Numbers\":\"[]\",\"SPI_Scores\":\"[]\",\"Player_Names\":\"[]\"}'),\n",
       " Row(player_stats='{\"Shirt_Numbers\":\"[]\",\"SPI_Scores\":\"[]\",\"Player_Names\":\"[]\"}'),\n",
       " Row(player_stats='{\"Shirt_Numbers\":\"[]\",\"SPI_Scores\":\"[]\",\"Player_Names\":\"[]\"}'),\n",
       " Row(player_stats='{\"Shirt_Numbers\":\"[]\",\"SPI_Scores\":\"[]\",\"Player_Names\":\"[]\"}'),\n",
       " Row(player_stats='{\"Shirt_Numbers\":\"[]\",\"SPI_Scores\":\"[]\",\"Player_Names\":\"[]\"}'),\n",
       " Row(player_stats='{\"Shirt_Numbers\":\"[]\",\"SPI_Scores\":\"[]\",\"Player_Names\":\"[]\"}'),\n",
       " Row(player_stats='{\"Shirt_Numbers\":\"[30, 25, 17, 4, 22, 7, 8, 16, 23, 77, 9, 9, 11, 10, 13, 6, 33, 29, 15, 18, 17, 1, 12, 29, 31, 8, 5, 19, 14]\",\"SPI_Scores\":\"[7.1, 7.2, 6.9, 7.7, 7.1, 8.3, 7.7, 6.9, 7.4, 6.3, 7.3, 7.5, 5.9, 4.7, 6.0, 7.8, 6.5, 6.2, 6.6, 6.0, 5.9, 5.7, 6.6, 6.4, 6.1, 5.9, 6.4, 5.8, 6.7]\",\"Player_Names\":\"[Maarten Paes, Sebastien Ibeagha, Nkosi Tafari, Marco Farfan, Ema Twumasi, Paul Arriola, Sebastian Lletget, Tsiki Ntsabeleng, Logan Farrington, Bernard Kamungo, Petar Musa, Gyasi Zardes, Jader Obrian, Sebastian Driussi, Ethan Finlay, Daniel Pereira, Owen Wolff, Guilherme, Leo Väisänen, Julio Cascante, Jon Gallagher, Brad Stuver, Carl Sainte, Sam Junqua, Eugene Ansah, Alexander Ring, Jhojan Valencia, CJ Fodrey, Diego Rubio]\"}'),\n",
       " Row(player_stats='{\"Shirt_Numbers\":\"[18, 2, 15, 4, 98, 6, 14, 11, 25, 8, 9, 19, 20, 16, 8, 25, 3, 27, 18, 4, 2, 24, 29, 17, 1, 23, 11, 10]\",\"SPI_Scores\":\"[8.0, 6.7, 7.0, 7.2, 7.3, 7.5, 6.7, 7.2, 6.2, 6.4, 6.9, 6.1, 6.2, 6.9, 7.3, 7.1, 7.7, 6.4, 8.0, 7.5, 6.5, 6.7, 6.0, 6.3, 7.9, 6.4, 6.2, 5.9]\",\"Player_Names\":\"[Zac MacMath, Andrew Brody, Justen Glad, Brayan Vera, Alexandros Katranis, Braian Ojeda, Emeka Eneli, Andres Gomez, Matt Crooks, Diego Luna, Cristian Arango, Jacen Russell-Rowe, Alexandru Matan, Taha Habroune, Aidan Morris, Sean Zawadzki, Will Sands, Max Arfsten, Malte Amundsen, Rudy Camacho, Philip Quinton, Evan Bush, Anderson Julio, Fidel Barajas, Nicholas Hagen, Mohamed Farsi, Marino Hinestroza, Diego Rossi]\"}'),\n",
       " Row(player_stats='{\"Shirt_Numbers\":\"[1, 15, 5, 28, 10, 16, 20, 14, 11, 21, 99, 9, 7, 77, 6, 18, 4, 22, 29, 17, 25, 30, 17, 8, 19, 29, 10, 14, 16, 31, 11]\",\"SPI_Scores\":\"[6.2, 7.1, 6.8, 6.5, 9.2, 7.7, 8.2, 7.8, 7.0, 8.7, 6.7, 6.5, 6.0, 5.8, 6.1, 6.8, 6.6, 6.2, 7.0, 6.0, 5.4, 6.0, 6.7, 7.2, 6.4, 5.8, 7.4, 6.3, 6.0, 6.3, 6.3]\",\"Player_Names\":\"[Sean Johnson, Nickseon Gomis, Kevin Long, Raoul Petretta, Federico Bernardeschi, Tyrese Spicer, Deybi Flores, Alonso Coello, Derrick Etienne, Jonathan Osorio, Prince Osei Owusu, Petar Musa, Paul Arriola, Bernard Kamungo, Patrickson Delgado, Liam Fraser, Marco Farfan, Ema Twumasi, Sam Junqua, Nkosi Tafari, Sebastien Ibeagha, Maarten Paes, Sigurd Rosted, Matthew Longstaff, Kobe Franklin, Deandre Kerr, Jesus Ferreira, Asier Illarramendi, Tsiki Ntsabeleng, Eugene Ansah, Dante Sealy]\"}'),\n",
       " Row(player_stats='{\"Shirt_Numbers\":\"[1, 57, 6, 14, 18, 30, 55, 7, 10, 9, 20, 59, 29, 18, 8, 13, 6, 9, 4, 3, 2, 1, 8, 5, 5, 35, 19, 16]\",\"SPI_Scores\":\"[5.1, 7.6, 7.4, 6.2, 6.6, 6.4, 8.1, 7.8, 8.2, 7.0, 6.2, 7.5, 8.9, 8.2, 6.3, 7.2, 8.8, 7.6, 6.2, 6.8, 6.9, 7.9, 6.0, 6.3, 6.5, 6.9, 6.2, 7.0]\",\"Player_Names\":\"[Drake Callender, Marcelo Weigandt, Tomas Aviles, Hector Martinez, Jordi Alba, Benjamin Cremaschi, Federico Redondo, Matias Rojas, Lionel Messi, Luis Suárez, Diego Gomez, Aleksey Miranchuk, Jamal Thiaré, Pedro Amador, Tristan Muyumba, Dax McCarty, Bartosz Slisz, Saba Lobzhanidze, Luis Abram, Derrick Williams, Ronald Hernández, Brad Guzan, Leonardo Campana, Sergio Busquets, Stian Gregersen, Ajani Fortune, Daniel Rios, Xande Silva]\"}'),\n",
       " Row(player_stats='{\"Shirt_Numbers\":\"[]\",\"SPI_Scores\":\"[]\",\"Player_Names\":\"[]\"}'),\n",
       " Row(player_stats='{\"Shirt_Numbers\":\"[40, 24, 25, 4, 11, 44, 6, 16, 23, 10, 17, 16, 10, 27, 17, 6, 55, 22, 80, 13, 24, 49, 28, 14, 35, 8, 11, 5]\",\"SPI_Scores\":\"[8.0, 7.7, 7.1, 7.2, 7.2, 7.6, 7.4, 7.6, 8.5, 8.0, 7.3, 5.9, 6.4, 6.2, 6.5, 7.7, 7.3, 7.2, 5.7, 6.6, 6.3, 6.0, 6.3, 5.8, 5.9, 6.1, 6.2, 5.9]\",\"Player_Names\":\"[Jonathan Sirois, George Campbell, Gabriele Corbo, Fernando Álvarez, Jahkeele Marshall-Rutty, Raheem Edwards, Samuel Piette, Joel Waterman, Caden Clark, Bryce Duke, Josef Martinez, Alonso Martinez, Santiago Rodriguez, Maxi Moralez, Hannes Wolf, James Sands, Keaton Parks, Kevin O\\'Toole, Justin Haak, Thiago Martins, Tayvon Gray, Matt Freese, Jules-Anthony Vilsaint, Sunusi Ibrahim, Mitja Ilenic, Andres Perea, Julian Fernandez, Birk Risa]\"}'),\n",
       " Row(player_stats='{\"Shirt_Numbers\":\"[]\",\"SPI_Scores\":\"[]\",\"Player_Names\":\"[]\"}'),\n",
       " Row(player_stats='{\"Shirt_Numbers\":\"[]\",\"SPI_Scores\":\"[]\",\"Player_Names\":\"[]\"}'),\n",
       " Row(player_stats='{\"Shirt_Numbers\":\"[34, 2, 4, 5, 27, 23, 31, 8, 10, 21, 9, 9, 17, 25, 11, 6, 14, 98, 3, 19, 2, 35, 19, 30, 12, 8, 13, 26]\",\"SPI_Scores\":\"[5.8, 5.6, 6.6, 5.8, 5.8, 5.8, 4.9, 6.5, 6.0, 6.4, 6.4, 9.4, 7.1, 7.7, 7.8, 7.8, 7.5, 8.0, 8.2, 7.8, 7.4, 7.8, 6.3, 6.3, 6.1, 7.3, 6.3, 6.2]\",\"Player_Names\":\"[Chris Brady, Arnaud Souquet, Carlos Teran, Rafael Czichos, Allan Arigoni, Kellyn Acosta, Federico Navarro, Chris Mueller, Xherdan Shaqiri, Fabian Herbers, Hugo Cuypers, Cristian Arango, Fidel Barajas, Matt Crooks, Andres Gomez, Braian Ojeda, Emeka Eneli, Alexandros Katranis, Bryan Oviedo, Bode Hidalgo, Andrew Brody, Gavin Beavers, Georgios Koutsias, Gaston Claudio Gimenez, Tom Barlow, Diego Luna, Nelson Palacio, Philip Quinton]\"}'),\n",
       " Row(player_stats='{\"Shirt_Numbers\":\"[]\",\"SPI_Scores\":\"[]\",\"Player_Names\":\"[]\"}'),\n",
       " Row(player_stats='{\"Shirt_Numbers\":\"[31, 6, 15, 3, 47, 17, 48, 75, 9, 13, 11, 7, 28, 10, 16, 11, 21, 27, 3, 5, 15, 18, 12, 20, 7, 22, 16, 33, 9, 14, 31]\",\"SPI_Scores\":\"[7.1, 6.0, 5.9, 7.3, 6.2, 7.6, 6.7, 6.8, 7.2, 6.9, 7.9, 8.6, 8.2, 7.3, 7.9, 6.6, 7.5, 7.2, 7.4, 7.8, 6.9, 8.0, 7.0, 7.1, 5.8, 5.9, 6.2, 6.6, 6.2, 6.2, 6.2]\",\"Player_Names\":\"[Carlos Miguel, Kyle Duncan, Sean Nealis, Noah Eile, John Tolkin, Cameron Harper, Ronald Donkor, Daniel Edelman, Lewis Morgan, Dante Vanzeir, Elias Manoel, Mikael Uhre, Tai Baribo, Daniel Gazdag, Jack McGlynn, Alejandro Bedoya, Danley Jean Jacques, Kai Wagner, Jack Elliott, Jakob Glesnes, Olivier Mbaizo, Andre Blake, Dylan Nealis, Felipe Carballo, Cory Burke, Serge Ngoma, Julian Hall, Quinn Sullivan, Samuel Adeniran, Jeremy Rafanello, Leon Flach]\"}'),\n",
       " Row(player_stats='{\"Shirt_Numbers\":\"[49, 35, 13, 80, 22, 55, 6, 17, 27, 10, 16, 9, 13, 10, 20, 75, 47, 17, 15, 4, 12, 31, 8, 3, 5]\",\"SPI_Scores\":\"[5.3, 6.1, 7.3, 7.0, 6.3, 7.3, 6.6, 7.0, 7.4, 7.4, 6.4, 6.7, 8.2, 7.0, 7.7, 7.0, 7.9, 6.9, 7.3, 7.5, 7.1, 9.0, 6.5, 6.6, 6.6]\",\"Player_Names\":\"[Matt Freese, Mitja Ilenic, Thiago Martins, Justin Haak, Kevin O\\'Toole, Keaton Parks, James Sands, Hannes Wolf, Maxi Moralez, Santiago Rodriguez, Alonso Martinez, Lewis Morgan, Dante Vanzeir, Emil Forsberg, Felipe Carballo, Daniel Edelman, John Tolkin, Cameron Harper, Sean Nealis, Andres Reyes, Dylan Nealis, Carlos Miguel, Andres Perea, Noah Eile, Peter Stroud]\"}'),\n",
       " Row(player_stats='{\"Shirt_Numbers\":\"[95, 2, 6, 5, 3, 23, 20, 14, 10, 91, 9, 13, 14, 7, 44, 19, 10, 22, 4, 25, 24, 40, 18, 11, 21, 9, 17, 28, 8]\",\"SPI_Scores\":\"[7.2, 7.3, 5.7, 7.4, 7.2, 8.1, 6.9, 8.8, 8.9, 6.5, 8.1, 6.6, 6.1, 6.8, 6.4, 7.2, 7.5, 6.5, 5.9, 5.9, 6.0, 6.3, 6.8, 6.5, 7.2, 5.8, 6.0, 6.1, 6.0]\",\"Player_Names\":\"[Zack Steffen, Keegan Rosenberry, Lalas Abubakar, Andreas Maxsø, Samuel Vines, Cole Bassett, Connor Ronan, Calvin Harris, Djordje Mihailovic, Kévin Cabral, Rafael Navarro, Mason Toye, Sunusi Ibrahim, Kwadwo Opoku, Raheem Edwards, Nathan Saliba, Bryce Duke, Ruan, Fernando Álvarez, Gabriele Corbo, George Campbell, Jonathan Sirois, Oliver Larraz, Omir Fernandez, Lassi Lappalainen, Matias Coccaro, Josef Martinez, Jules-Anthony Vilsaint, Dominik Yankov]\"}'),\n",
       " Row(player_stats='{\"Shirt_Numbers\":\"[31, 12, 4, 15, 17, 47, 75, 20, 10, 13, 9, 9, 10, 7, 6, 25, 12, 23, 21, 4, 31, 28, 48, 27, 20, 19]\",\"SPI_Scores\":\"[7.8, 8.1, 6.3, 6.4, 6.8, 7.6, 7.4, 6.6, 8.6, 7.3, 6.5, 8.0, 7.0, 7.1, 7.6, 7.7, 7.2, 6.6, 8.4, 6.3, 6.7, 8.1, 6.5, 7.5, 7.6, 6.0]\",\"Player_Names\":\"[Carlos Miguel, Dylan Nealis, Andres Reyes, Sean Nealis, Cameron Harper, John Tolkin, Daniel Edelman, Felipe Carballo, Emil Forsberg, Dante Vanzeir, Lewis Morgan, Juan Hernández, Diego Rossi, Dylan Chambost, Darlington Nagbe, Sean Zawadzki, DeJuan Jones, Mohamed Farsi, Evgen Cheberko, Rudy Camacho, Steven Moreira, Patrick Schulte, Ronald Donkor, Max Arfsten, Alexandru Matan, Jacen Russell-Rowe]\"}'),\n",
       " Row(player_stats='{\"Shirt_Numbers\":\"[]\",\"SPI_Scores\":\"[]\",\"Player_Names\":\"[]\"}'),\n",
       " Row(player_stats='{\"Shirt_Numbers\":\"[34, 27, 4, 5, 24, 22, 23, 7, 17, 21, 9, 18, 27, 11, 10, 20, 8, 3, 4, 22, 2, 35, 2, 12, 30, 19, 9, 19, 37]\",\"SPI_Scores\":\"[6.5, 7.0, 7.4, 7.5, 6.8, 6.1, 7.5, 7.4, 8.1, 7.6, 7.4, 7.2, 6.0, 6.9, 8.4, 5.9, 7.1, 6.4, 5.5, 6.2, 6.9, 5.3, 6.9, 6.2, 6.1, 6.5, 6.6, 6.2, 6.5]\",\"Player_Names\":\"[Chris Brady, Allan Arigoni, Carlos Teran, Rafael Czichos, Jonathan Dean, Mauricio Pineda, Kellyn Acosta, Maren Haile-Selassie, Brian Gutierrez, Fabian Herbers, Hugo Cuypers, Jonathan Perez, Miguel Berry, Gabriel Pec, Ricard Puig, Edwin Cerrillo, Marco Delgado, Julian Aude, Maya Yoshida, Martin Cáceres, Miki Yamane, Novak Micovic, Arnaud Souquet, Tom Barlow, Gaston Claudio Gimenez, Georgios Koutsias, Dejan Joveljic, Mauricio Cuevas, Daniel Aguirre]\"}'),\n",
       " Row(player_stats='{\"Shirt_Numbers\":\"[30, 25, 17, 29, 22, 77, 16, 14, 8, 23, 9, 28, 7, 10, 11, 20, 8, 14, 4, 24, 2, 77, 4, 7, 12, 31, 27, 25, 19, 52, 84]\",\"SPI_Scores\":\"[7.4, 6.7, 7.4, 7.0, 6.6, 6.5, 7.5, 8.0, 7.8, 8.5, 7.4, 6.9, 6.5, 6.1, 6.5, 7.2, 6.3, 6.1, 6.1, 6.2, 6.6, 5.7, 7.1, 6.3, 6.4, 5.8, 5.8, 6.2, 6.3, 6.6, 5.9]\",\"Player_Names\":\"[Maarten Paes, Sebastien Ibeagha, Nkosi Tafari, Sam Junqua, Ema Twumasi, Bernard Kamungo, Tsiki Ntsabeleng, Asier Illarramendi, Sebastian Lletget, Logan Farrington, Petar Musa, Joseph Paintsil, Diego Fagundez, Ricard Puig, Gabriel Pec, Edwin Cerrillo, Marco Delgado, John Nelson, Maya Yoshida, Jalen Neal, Miki Yamane, John McCarthy, Marco Farfan, Paul Arriola, Carl Sainte, Eugene Ansah, Miguel Berry, Carlos Garces, Mauricio Cuevas, Isaiah Parente, Ruben Ramos]\"}'),\n",
       " Row(player_stats='{\"Shirt_Numbers\":\"[97, 67, 15, 28, 8, 31, 20, 21, 17, 26, 9, 9, 11, 17, 10, 20, 36, 38, 4, 5, 14, 1, 7, 14, 11, 29, 21]\",\"SPI_Scores\":\"[6.5, 7.7, 6.6, 6.8, 7.9, 7.8, 7.2, 6.5, 8.3, 6.9, 7.5, 7.2, 6.0, 7.5, 7.0, 6.9, 6.6, 5.4, 6.1, 5.1, 6.0, 6.3, 6.8, 7.0, 8.5, 6.1, 6.5]\",\"Player_Names\":\"[Dayne St. Clair, Carlos Harvey, Michael Boxall, Jefferson Diaz, Joseph Rosales, Hassani Dotson, Wil Trapp, Bongokuhle Hlongwane, Robin Lod, Joaquin Pereyra, Kelvin Yeboah, Joao Klauss, Simon Becher, Marcel Hartel, Eduard Löwen, Akil Watts, Cedric Teuchert, Jannes-Kilian Horn, Joakim Nilsson, Henry Kessler, Tomas Totland, Roman Bürki, Franco Fragapane, Tani Oluwaseyi, Sang-Bin Jeong, Nökkvi Thorisson, Rasmus Alm]\"}'),\n",
       " Row(player_stats='{\"Shirt_Numbers\":\"[1, 18, 25, 22, 2, 15, 27, 19, 10, 14, 9, 17, 10, 7, 6, 8, 33, 29, 4, 2, 3, 1, 24, 6, 12]\",\"SPI_Scores\":\"[6.3, 6.0, 6.5, 6.5, 6.3, 6.0, 6.4, 7.2, 7.0, 6.2, 6.5, 8.5, 7.3, 7.9, 7.3, 7.9, 6.9, 7.6, 6.7, 6.9, 8.2, 9.2, 6.1, 5.1, 6.5]\",\"Player_Names\":\"[Joe Willis, Shaq Moore, Walker Zimmerman, Josh Bauer, Daniel Lovitz, Patrick Yazbek, Brian Anunga, Alex Muyl, Hany Mukhtar, Jacob Shaffelburg, Sam Surridge, Jon Gallagher, Sebastian Driussi, Osman Bukari, Daniel Pereira, Alexander Ring, Owen Wolff, Guilherme, Brendan Hines-Ike, Matt Hedges, Mikkel Desler, Brad Stuver, Jonathan Perez, Amar Sejdic, Teal Bunbury]\"}'),\n",
       " Row(player_stats='{\"Shirt_Numbers\":\"[]\",\"SPI_Scores\":\"[]\",\"Player_Names\":\"[]\"}'),\n",
       " Row(player_stats='{\"Shirt_Numbers\":\"[]\",\"SPI_Scores\":\"[]\",\"Player_Names\":\"[]\"}'),\n",
       " Row(player_stats='{\"Shirt_Numbers\":\"[]\",\"SPI_Scores\":\"[]\",\"Player_Names\":\"[]\"}'),\n",
       " Row(player_stats='{\"Shirt_Numbers\":\"[24, 16, 28, 25, 5, 7, 18, 10, 11, 14, 13, 9, 14, 10, 11, 22, 21, 5, 20, 13, 29, 41, 21, 24, 19]\",\"SPI_Scores\":\"[6.3, 7.1, 8.5, 6.9, 7.3, 7.9, 6.3, 6.6, 7.6, 7.0, 6.6, 6.2, 6.3, 8.0, 7.7, 6.6, 7.2, 7.1, 6.5, 7.1, 7.0, 7.7, 6.6, 6.6, 6.5]\",\"Player_Names\":\"[Stefan Frei, Alex Roldan, Yeimar Gomez, Jackson Ragen, Nouhou Tolo, Cristian Roldan, Obed Vargas, Pedro De la Vega, Albert Rusnak, Paul Rothrock, Jordan Morris, Felipe Mora, Jonathan Rodriguez, Evander Ferreira, Antony, Cristhian Paredes, Diego Chara, Claudio Bravo, Finn Surman, Dario Zuparic, Juan Mosquera, James Pantemis, Reed Baker-Whiting, David Ayala, Eryk Williamson]\"}'),\n",
       " Row(player_stats='{\"Shirt_Numbers\":\"[]\",\"SPI_Scores\":\"[]\",\"Player_Names\":\"[]\"}'),\n",
       " Row(player_stats='{\"Shirt_Numbers\":\"[12, 25, 28, 31, 2, 16, 6, 27, 8, 18, 10, 9, 14, 10, 7, 18, 6, 5, 25, 28, 16, 24, 35, 75, 93]\",\"SPI_Scores\":\"[6.2, 7.1, 7.5, 7.2, 7.0, 6.7, 7.0, 6.6, 6.9, 7.1, 6.6, 5.9, 6.3, 7.1, 6.6, 6.8, 6.5, 7.2, 7.0, 6.8, 7.2, 8.6, 6.2, 6.8, 6.8]\",\"Player_Names\":\"[Steve Clark, Griffin Dorsey, Erik Sviatchenko, Micael, Franco Escobar, Héctor Herrera, Artur, Sebastian Kowalczyk, Amine Bassi, Ibrahim Aliyu, Ezequiel Ponce, Raul Ruidiaz, Paul Rothrock, Pedro De la Vega, Cristian Roldan, Obed Vargas, Joao Paulo, Nouhou Tolo, Jackson Ragen, Yeimar Gomez, Alex Roldan, Stefan Frei, Brooklyn Raines, Danny Leyva, Georgi Minoungou]\"}'),\n",
       " Row(player_stats='{\"Shirt_Numbers\":\"[]\",\"SPI_Scores\":\"[]\",\"Player_Names\":\"[]\"}'),\n",
       " Row(player_stats='{\"Shirt_Numbers\":\"[]\",\"SPI_Scores\":\"[]\",\"Player_Names\":\"[]\"}'),\n",
       " Row(player_stats='{\"Shirt_Numbers\":\"[12, 25, 28, 31, 2, 20, 6, 27, 8, 18, 10, 11, 25, 3, 45, 16, 7, 20, 15, 4, 2, 1, 35, 15, 5, 14, 8, 13, 24, 18]\",\"SPI_Scores\":\"[7.0, 6.7, 6.6, 6.3, 7.0, 6.9, 7.4, 6.5, 7.2, 6.6, 7.4, 7.8, 6.8, 6.5, 5.7, 7.1, 6.6, 6.2, 7.5, 7.3, 7.4, 6.4, 6.2, 6.2, 6.1, 5.9, 6.4, 6.5, 7.3, 6.4]\",\"Player_Names\":\"[Steve Clark, Griffin Dorsey, Erik Sviatchenko, Micael, Franco Escobar, Adalberto Carrasquilla, Artur, Sebastian Kowalczyk, Amine Bassi, Ibrahim Aliyu, Ezequiel Ponce, Fabrice Picault, Ryan Gauld, Sam Adekugbe, Pedro Vite, Sebastian Berhalter, Ryan Raposo, Andrés Cubas, Bjørn Inge Utvik, Ranko Veselinovic, Mathias Laborda, Yohei Takaoka, Brooklyn Raines, Latif Blessing, Daniel Steres, McKinze Gaines, Alessandro Schöpf, Ralph Priso-Mbongue, Brian White, Edier Ocampo]\"}'),\n",
       " Row(player_stats='{\"Shirt_Numbers\":\"[1, 17, 15, 6, 3, 5, 16, 10, 11, 77, 7, 9, 14, 10, 19, 20, 27, 2, 22, 25, 18, 1, 4, 14, 13, 21, 24]\",\"SPI_Scores\":\"[7.9, 8.0, 6.6, 6.9, 7.3, 7.3, 7.6, 9.0, 7.9, 8.2, 6.9, 7.2, 6.3, 6.7, 6.9, 5.7, 6.5, 5.4, 5.6, 5.8, 5.5, 4.7, 6.5, 6.7, 6.9, 6.3, 6.6]\",\"Player_Names\":\"[Pedro Gallese, Dagur Dan Thorhallsson, Rodrigo Adrián Schlegel, Robin Jansson, Rafael Santos, Cesar Araujo, Wilder Cartagena, Facundo Torres, Martin Ojeda, Ivan Angulo, Ramiro Enrique, Sam Surridge, Jacob Shaffelburg, Hany Mukhtar, Alex Muyl, Anibal Godoy, Brian Anunga, Daniel Lovitz, Josh Bauer, Walker Zimmerman, Shaq Moore, Joe Willis, David Brekalo, Nicolás Lodeiro, Duncan McGuire, Forster Ajago, Jonathan Perez]\"}'),\n",
       " Row(player_stats='{\"Shirt_Numbers\":\"[49, 24, 13, 5, 22, 55, 80, 27, 17, 16, 10, 9, 10, 19, 20, 15, 14, 2, 5, 25, 18, 1, 8, 9, 29, 8, 16, 24]\",\"SPI_Scores\":\"[6.3, 7.0, 7.4, 7.5, 7.7, 7.1, 8.1, 7.7, 7.8, 7.9, 9.2, 6.8, 8.4, 5.8, 6.5, 7.0, 8.0, 5.8, 5.9, 6.1, 5.4, 4.9, 6.3, 5.8, 6.7, 6.3, 5.9, 6.1]\",\"Player_Names\":\"[Matt Freese, Tayvon Gray, Thiago Martins, Birk Risa, Kevin O\\'Toole, Keaton Parks, Justin Haak, Maxi Moralez, Hannes Wolf, Alonso Martinez, Santiago Rodriguez, Sam Surridge, Hany Mukhtar, Alex Muyl, Anibal Godoy, Patrick Yazbek, Jacob Shaffelburg, Daniel Lovitz, Jack Maher, Walker Zimmerman, Shaq Moore, Joe Willis, Andres Perea, Monsef Bakrar, Julian Gaines, Randall Leal, Dru Yearwood, Jonathan Perez]\"}'),\n",
       " Row(player_stats='{\"Shirt_Numbers\":\"[]\",\"SPI_Scores\":\"[]\",\"Player_Names\":\"[]\"}'),\n",
       " Row(player_stats='{\"Shirt_Numbers\":\"[1, 24, 4, 33, 2, 11, 6, 20, 13, 19, 99, 29, 8, 25, 16, 6, 13, 98, 4, 19, 26, 18, 23, 25, 2, 3, 14]\",\"SPI_Scores\":\"[6.5, 7.1, 6.8, 7.2, 6.6, 6.1, 6.9, 6.7, 7.9, 7.4, 6.3, 6.7, 6.9, 6.2, 7.4, 7.4, 7.2, 6.7, 7.7, 7.7, 7.1, 6.5, 6.1, 6.3, 6.2, 6.2, 6.7]\",\"Player_Names\":\"[Hugo Lloris, Ryan Hollingshead, Eddie Segura, Aaron Long, Omar Campos, Timothy Tillman, Ilie Sanchez, Eduard Atuesta, Cristian Olivera, Mateusz Bogusz, Denis Bouanga, Anderson Julio, Diego Luna, Matt Crooks, Maikel Chang Ramirez, Braian Ojeda, Nelson Palacio, Alexandros Katranis, Brayan Vera, Bode Hidalgo, Philip Quinton, Zac MacMath, Kei Ansu Kamara, Maxime Chanot, Andrew Brody, Bryan Oviedo, Emeka Eneli]\"}'),\n",
       " Row(player_stats='{\"Shirt_Numbers\":\"[]\",\"SPI_Scores\":\"[]\",\"Player_Names\":\"[]\"}'),\n",
       " Row(player_stats='{\"Shirt_Numbers\":\"[]\",\"SPI_Scores\":\"[]\",\"Player_Names\":\"[]\"}'),\n",
       " Row(player_stats='{\"Shirt_Numbers\":\"[]\",\"SPI_Scores\":\"[]\",\"Player_Names\":\"[]\"}'),\n",
       " Row(player_stats='{\"Shirt_Numbers\":\"[97, 67, 15, 28, 8, 31, 20, 21, 17, 26, 9, 9, 11, 17, 10, 20, 36, 38, 4, 5, 14, 1, 7, 14, 11, 29, 21]\",\"SPI_Scores\":\"[6.5, 7.7, 6.6, 6.8, 7.9, 7.8, 7.2, 6.5, 8.3, 6.9, 7.5, 7.2, 6.0, 7.5, 7.0, 6.9, 6.6, 5.4, 6.1, 5.1, 6.0, 6.3, 6.8, 7.0, 8.5, 6.1, 6.5]\",\"Player_Names\":\"[Dayne St. Clair, Carlos Harvey, Michael Boxall, Jefferson Diaz, Joseph Rosales, Hassani Dotson, Wil Trapp, Bongokuhle Hlongwane, Robin Lod, Joaquin Pereyra, Kelvin Yeboah, Joao Klauss, Simon Becher, Marcel Hartel, Eduard Löwen, Akil Watts, Cedric Teuchert, Jannes-Kilian Horn, Joakim Nilsson, Henry Kessler, Tomas Totland, Roman Bürki, Franco Fragapane, Tani Oluwaseyi, Sang-Bin Jeong, Nökkvi Thorisson, Rasmus Alm]\"}'),\n",
       " Row(player_stats='{\"Shirt_Numbers\":\"[97, 67, 15, 28, 21, 8, 17, 31, 20, 26, 9, 29, 8, 25, 11, 6, 14, 98, 4, 15, 91, 18, 11, 10, 13, 9]\",\"SPI_Scores\":\"[7.2, 7.5, 6.6, 7.4, 7.3, 8.5, 6.3, 6.9, 7.1, 7.2, 7.8, 6.8, 7.0, 8.3, 6.4, 6.6, 8.2, 6.8, 6.3, 7.2, 7.4, 8.2, 5.9, 6.0, 6.6, 5.9]\",\"Player_Names\":\"[Dayne St. Clair, Carlos Harvey, Michael Boxall, Jefferson Diaz, Bongokuhle Hlongwane, Joseph Rosales, Robin Lod, Hassani Dotson, Wil Trapp, Joaquin Pereyra, Kelvin Yeboah, Anderson Julio, Diego Luna, Matt Crooks, Dominik Marczuk, Braian Ojeda, Emeka Eneli, Alexandros Katranis, Brayan Vera, Justen Glad, Javain Brown, Zac MacMath, Sang-Bin Jeong, Diogo Goncalves, Nelson Palacio, Cristian Arango]\"}'),\n",
       " Row(player_stats='{\"Shirt_Numbers\":\"[31, 6, 15, 3, 47, 8, 75, 5, 10, 9, 11, 9, 77, 10, 11, 8, 18, 7, 29, 17, 22, 30, 17, 7, 19, 6, 31, 23]\",\"SPI_Scores\":\"[6.5, 7.2, 7.0, 7.4, 7.3, 7.5, 7.9, 6.8, 8.9, 8.2, 6.5, 6.4, 6.2, 7.9, 6.2, 7.2, 6.1, 6.9, 7.1, 6.8, 6.6, 8.0, 6.2, 6.8, 6.6, 6.1, 5.8, 6.4]\",\"Player_Names\":\"[Carlos Miguel, Kyle Duncan, Sean Nealis, Noah Eile, John Tolkin, Frankie Amaya, Daniel Edelman, Peter Stroud, Emil Forsberg, Lewis Morgan, Elias Manoel, Petar Musa, Bernard Kamungo, Jesus Ferreira, Dante Sealy, Sebastian Lletget, Liam Fraser, Paul Arriola, Sam Junqua, Nkosi Tafari, Ema Twumasi, Maarten Paes, Cameron Harper, Cory Burke, Wikelman Carmona, Patrickson Delgado, Eugene Ansah, Logan Farrington]\"}'),\n",
       " Row(player_stats='{\"Shirt_Numbers\":\"[1, 3, 18, 4, 29, 8, 5, 7, 10, 17, 9, 10, 18, 8, 27, 6, 20, 2, 31, 28, 25, 12, 21, 6, 33, 11, 14, 15, 5, 14]\",\"SPI_Scores\":\"[6.7, 6.6, 7.0, 6.6, 6.5, 7.0, 6.1, 6.6, 6.8, 7.1, 5.9, 6.6, 6.9, 6.9, 6.7, 7.1, 8.6, 7.5, 7.5, 8.2, 6.8, 8.3, 6.1, 7.0, 6.8, 6.9, 6.5, 6.5, 6.4, 6.0]\",\"Player_Names\":\"[Brad Stuver, Mikkel Desler, Julio Cascante, Brendan Hines-Ike, Guilherme Biro, Alexander Ring, Jhojan Valencia, Osman Bukari, Sebastian Driussi, Jon Gallagher, Gyasi Zardes, Ezequiel Ponce, Ibrahim Aliyu, Amine Bassi, Sebastian Kowalczyk, Artur, Adalberto Carrasquilla, Franco Escobar, Micael, Erik Sviatchenko, Griffin Dorsey, Steve Clark, Oleksandr Svatok, Daniel Pereira, Owen Wolff, Jader Obrian, Diego Rubio, Latif Blessing, Daniel Steres, McKinze Gaines]\"}'),\n",
       " Row(player_stats='{\"Shirt_Numbers\":\"[]\",\"SPI_Scores\":\"[]\",\"Player_Names\":\"[]\"}'),\n",
       " Row(player_stats='{\"Shirt_Numbers\":\"[]\",\"SPI_Scores\":\"[]\",\"Player_Names\":\"[]\"}'),\n",
       " Row(player_stats='{\"Shirt_Numbers\":\"[]\",\"SPI_Scores\":\"[]\",\"Player_Names\":\"[]\"}'),\n",
       " Row(player_stats='{\"Shirt_Numbers\":\"[1, 3, 18, 4, 29, 7, 33, 8, 17, 11, 10, 9, 8, 25, 11, 6, 14, 2, 4, 15, 26, 18, 6, 14, 13, 10, 29, 17, 16]\",\"SPI_Scores\":\"[6.8, 7.1, 7.5, 6.4, 7.9, 6.7, 5.9, 7.2, 7.4, 7.8, 8.1, 7.1, 6.5, 8.0, 7.4, 7.9, 7.4, 6.0, 6.4, 6.6, 6.7, 7.0, 6.7, 5.9, 6.2, 7.6, 6.8, 6.4, 6.0]\",\"Player_Names\":\"[Brad Stuver, Mikkel Desler, Julio Cascante, Brendan Hines-Ike, Guilherme Biro, Osman Bukari, Owen Wolff, Alexander Ring, Jon Gallagher, Jader Obrian, Sebastian Driussi, Cristian Arango, Diego Luna, Matt Crooks, Dominik Marczuk, Braian Ojeda, Emeka Eneli, Andrew Brody, Brayan Vera, Justen Glad, Philip Quinton, Zac MacMath, Daniel Pereira, Diego Rubio, Ethan Finlay, Diogo Goncalves, Anderson Julio, Lachlan Brook, Maikel Chang Ramirez]\"}'),\n",
       " Row(player_stats='{\"Shirt_Numbers\":\"[]\",\"SPI_Scores\":\"[]\",\"Player_Names\":\"[]\"}'),\n",
       " Row(player_stats='{\"Shirt_Numbers\":\"[]\",\"SPI_Scores\":\"[]\",\"Player_Names\":\"[]\"}'),\n",
       " Row(player_stats='{\"Shirt_Numbers\":\"[]\",\"SPI_Scores\":\"[]\",\"Player_Names\":\"[]\"}'),\n",
       " Row(player_stats='{\"Shirt_Numbers\":\"[1, 17, 15, 6, 3, 5, 16, 10, 11, 77, 7, 9, 11, 10, 41, 14, 28, 25, 27, 2, 12, 31, 14, 13, 9, 8, 34, 47, 80, 18, 3, 21]\",\"SPI_Scores\":\"[8.2, 7.9, 7.0, 6.9, 8.4, 7.5, 8.1, 8.7, 6.6, 7.8, 6.6, 5.6, 6.1, 6.4, 6.2, 6.3, 6.1, 6.4, 6.5, 6.2, 6.4, 5.1, 7.2, 7.0, 6.2, 6.4, 6.2, 6.3, 6.6, 6.2, 6.1, 6.1]\",\"Player_Names\":\"[Pedro Gallese, Dagur Dan Thorhallsson, Rodrigo Adrián Schlegel, Robin Jansson, Rafael Santos, Cesar Araujo, Wilder Cartagena, Facundo Torres, Martin Ojeda, Ivan Angulo, Ramiro Enrique, Giacomo Vrioni, Dylan Borrero, Carles Gil, Luca Langoni, Ian Harkes, Mark-Anthony Kaye, Peyton Miller, Tim Parker, David Romney, Nick Lima, Aljaz Ivacic, Nicolás Lodeiro, Duncan McGuire, Luis Muriel, Felipe, Yutaro Tsukada, Esmir Bajraktarevic, Alhassan Yusuf, Emmanuel Boateng, Xavier Arreaga, Nacho Gil]\"}'),\n",
       " Row(player_stats='{\"Shirt_Numbers\":\"[77, 2, 25, 4, 14, 8, 5, 10, 11, 9, 28, 17, 14, 11, 10, 5, 6, 29, 18, 21, 4, 1, 20, 7, 8]\",\"SPI_Scores\":\"[7.0, 6.9, 7.1, 7.2, 7.3, 7.1, 7.3, 9.3, 8.3, 7.7, 7.3, 6.2, 6.3, 6.1, 8.8, 6.1, 6.2, 5.8, 6.1, 6.2, 5.8, 5.4, 6.1, 7.4, 6.5]\",\"Player_Names\":\"[John McCarthy, Miki Yamane, Carlos Garces, Maya Yoshida, John Nelson, Marco Delgado, Gaston Brugman, Ricard Puig, Gabriel Pec, Dejan Joveljic, Joseph Paintsil, Jon Gallagher, Diego Rubio, Jader Obrian, Sebastian Driussi, Jhojan Valencia, Daniel Pereira, Guilherme Biro, Julio Cascante, Oleksandr Svatok, Brendan Hines-Ike, Brad Stuver, Edwin Cerrillo, Osman Bukari, Alexander Ring]\"}'),\n",
       " Row(player_stats='{\"Shirt_Numbers\":\"[]\",\"SPI_Scores\":\"[]\",\"Player_Names\":\"[]\"}'),\n",
       " Row(player_stats='{\"Shirt_Numbers\":\"[1, 17, 15, 6, 3, 5, 16, 10, 11, 77, 7, 29, 59, 18, 35, 13, 6, 9, 4, 3, 5, 1, 13, 9, 24, 14, 2, 16, 8]\",\"SPI_Scores\":\"[6.9, 7.2, 7.1, 7.2, 7.6, 7.6, 7.3, 7.3, 6.7, 7.4, 7.7, 5.9, 6.3, 7.0, 6.5, 6.4, 7.2, 6.4, 6.7, 7.0, 6.9, 6.4, 6.2, 6.1, 6.3, 6.1, 7.0, 6.0, 6.5]\",\"Player_Names\":\"[Pedro Gallese, Dagur Dan Thorhallsson, Rodrigo Adrián Schlegel, Robin Jansson, Rafael Santos, Cesar Araujo, Wilder Cartagena, Facundo Torres, Martin Ojeda, Ivan Angulo, Ramiro Enrique, Jamal Thiaré, Aleksey Miranchuk, Pedro Amador, Ajani Fortune, Dax McCarty, Bartosz Slisz, Saba Lobzhanidze, Luis Abram, Derrick Williams, Stian Gregersen, Brad Guzan, Duncan McGuire, Luis Muriel, Kyle Smith, Nicolás Lodeiro, Ronald Hernández, Xande Silva, Tristan Muyumba]\"}'),\n",
       " Row(player_stats='{\"Shirt_Numbers\":\"[31, 17, 15, 6, 3, 10, 14, 5, 77, 13, 9, 99, 23, 19, 20, 6, 11, 24, 33, 3, 14, 1, 11, 27, 2, 18, 4, 25]\",\"SPI_Scores\":\"[6.1, 6.8, 6.1, 7.0, 7.0, 7.2, 6.8, 6.3, 6.8, 6.1, 7.6, 9.6, 6.9, 8.1, 6.7, 7.6, 7.8, 7.8, 7.5, 7.2, 8.0, 6.3, 7.6, 6.0, 6.1, 6.3, 6.1, 6.5]\",\"Player_Names\":\"[Mason Stajduhar, Dagur Dan Thorhallsson, Rodrigo Adrián Schlegel, Robin Jansson, Rafael Santos, Facundo Torres, Nicolás Lodeiro, Cesar Araujo, Ivan Angulo, Duncan McGuire, Luis Muriel, Denis Bouanga, Kei Ansu Kamara, Mateusz Bogusz, Eduard Atuesta, Ilie Sanchez, Timothy Tillman, Ryan Hollingshead, Aaron Long, Jesus Murillo, Sergi Palencia, Hugo Lloris, Martin Ojeda, Jack Lynn, Omar Campos, Erik Duenas, Eddie Segura, Maxime Chanot]\"}'),\n",
       " Row(player_stats='{\"Shirt_Numbers\":\"[]\",\"SPI_Scores\":\"[]\",\"Player_Names\":\"[]\"}'),\n",
       " Row(player_stats='{\"Shirt_Numbers\":\"[]\",\"SPI_Scores\":\"[]\",\"Player_Names\":\"[]\"}'),\n",
       " Row(player_stats='{\"Shirt_Numbers\":\"[]\",\"SPI_Scores\":\"[]\",\"Player_Names\":\"[]\"}'),\n",
       " Row(player_stats='{\"Shirt_Numbers\":\"[1, 14, 29, 3, 21, 8, 28, 18, 13, 11, 9, 11, 13, 9, 75, 48, 2, 47, 3, 15, 6, 31, 33, 10, 17, 12, 7]\",\"SPI_Scores\":\"[6.7, 6.2, 7.5, 7.0, 7.4, 7.1, 7.5, 7.0, 6.2, 6.5, 7.2, 7.7, 7.2, 8.1, 6.6, 7.4, 6.2, 7.0, 7.7, 7.0, 6.5, 7.1, 6.1, 6.2, 7.2, 6.0, 6.2]\",\"Player_Names\":\"[Kristijan Kahlina, Nathan Byrne, Adilson Malanda, Tim Ream, Jere Uronen, Ashley Westwood, Djibril Diani, Kerwin Vargas, Brandt Bronico, Liel Abada, Karol Swiderski, Elias Manoel, Dante Vanzeir, Lewis Morgan, Daniel Edelman, Ronald Donkor, Dennis Gjengaar, John Tolkin, Noah Eile, Sean Nealis, Kyle Duncan, Carlos Miguel, Patrick Agyemang, Pep Biel, Cameron Harper, Dylan Nealis, Cory Burke]\"}'),\n",
       " Row(player_stats='{\"Shirt_Numbers\":\"[]\",\"SPI_Scores\":\"[]\",\"Player_Names\":\"[]\"}'),\n",
       " Row(player_stats='{\"Shirt_Numbers\":\"[1, 30, 15, 28, 10, 22, 8, 14, 21, 24, 29, 11, 9, 7, 10, 6, 8, 29, 2, 4, 3, 1, 27, 20, 47, 99, 6, 18, 5, 17, 14, 33]\",\"SPI_Scores\":\"[8.0, 6.1, 7.1, 6.9, 7.3, 8.0, 7.6, 7.1, 7.8, 7.0, 8.4, 6.6, 5.8, 7.0, 6.5, 6.1, 6.7, 6.5, 5.9, 7.2, 6.0, 5.1, 6.1, 6.8, 6.6, 6.1, 6.2, 6.6, 6.7, 6.3, 6.0, 7.6]\",\"Player_Names\":\"[Sean Johnson, Henry Wingo, Nicksoen Gomis, Raoul Petretta, Federico Bernardeschi, Richie Laryea, Matthew Longstaff, Alonso Coello, Jonathan Osorio, Lorenzo Insigne, Deandre Kerr, Jader Obrian, Gyasi Zardes, Osman Bukari, Sebastian Driussi, Daniel Pereira, Alexander Ring, Guilherme Biro, Matt Hedges, Brendan Hines-Ike, Mikkel Desler, Brad Stuver, Shane O\\'Neill, Deybi Flores, Kosi Thompson, Prince Osei Owusu, Aime Mabika, Julio Cascante, Jhojan Valencia, Jon Gallagher, Diego Rubio, Owen Wolff]\"}'),\n",
       " Row(player_stats='{\"Shirt_Numbers\":\"[28, 31, 4, 18, 23, 27, 20, 6, 17, 10, 9, 20, 9, 10, 18, 42, 55, 57, 32, 5, 17, 1, 12, 7, 19, 41, 27]\",\"SPI_Scores\":\"[3.9, 5.8, 4.4, 6.9, 7.2, 7.4, 6.7, 7.0, 6.1, 7.5, 6.3, 7.0, 8.0, 8.9, 8.1, 7.4, 6.5, 6.5, 6.7, 7.3, 7.3, 7.8, 6.6, 6.4, 5.8, 6.5, 6.3]\",\"Player_Names\":\"[Patrick Schulte, Steven Moreira, Rudy Camacho, Malte Amundsen, Mohamed Farsi, Max Arfsten, Alexandru Matan, Darlington Nagbe, Christian Ramirez, Diego Rossi, Juan Hernández, Diego Gomez, Luis Suárez, Lionel Messi, Jordi Alba, Yannick Bright, Federico Redondo, Marcelo Weigandt, Noah Allen, Sergio Busquets, Ian Fray, Drake Callender, DeJuan Jones, Dylan Chambost, Jacen Russell-Rowe, David Ruiz, Serhiy Kryvtsov]\"}'),\n",
       " Row(player_stats='{\"Shirt_Numbers\":\"[24, 22, 3, 97, 7, 5, 11, 14, 10, 8, 20, 16, 10, 27, 17, 55, 6, 22, 13, 24, 49, 21, 4, 23, 18, 9, 26, 12]\",\"SPI_Scores\":\"[6.8, 7.6, 7.6, 7.0, 6.8, 6.5, 6.6, 7.0, 7.0, 6.6, 7.8, 6.0, 7.5, 7.0, 7.0, 6.7, 6.7, 7.4, 7.1, 7.2, 8.5, 6.8, 6.1, 6.2, 6.6, 5.7, 6.3, 7.1]\",\"Player_Names\":\"[Alex Bono, Aaron Herrera, Lucas Bartlett, Christopher McVey, Pedro Santos, Boris Enow, Cristian Dajome, Martin Rodriguez, Gabriel Pirani, Jared Stroud, Christian Benteke, Alonso Martinez, Santiago Rodriguez, Maxi Moralez, Hannes Wolf, Keaton Parks, James Sands, Kevin O\\'Toole, Thiago Martins, Tayvon Gray, Matt Freese, Theodore Ku-DiPietro, Matti Peltola, Dominique Badji, Christian McFarlane, Monsef Bakrar, Agustin Ojeda, Strahinja Tanasijevic]\"}'),\n",
       " Row(player_stats='{\"Shirt_Numbers\":\"[]\",\"SPI_Scores\":\"[]\",\"Player_Names\":\"[]\"}'),\n",
       " Row(player_stats='{\"Shirt_Numbers\":\"[]\",\"SPI_Scores\":\"[]\",\"Player_Names\":\"[]\"}'),\n",
       " Row(player_stats='{\"Shirt_Numbers\":\"[]\",\"SPI_Scores\":\"[]\",\"Player_Names\":\"[]\"}'),\n",
       " Row(player_stats='{\"Shirt_Numbers\":\"[22, 11, 5, 3, 2, 6, 35, 8, 9, 19, 16, 14, 20, 43, 11, 8, 4, 28, 97, 3, 22, 24, 13, 29, 18, 7, 25, 17]\",\"SPI_Scores\":\"[5.6, 6.8, 6.5, 5.9, 6.1, 6.4, 6.6, 6.9, 7.8, 9.1, 6.5, 6.8, 8.4, 7.6, 7.7, 9.2, 6.3, 6.1, 6.8, 5.7, 6.7, 8.4, 6.4, 7.0, 5.9, 6.8, 6.3, 6.3]\",\"Player_Names\":\"[Josh Cohen, Brooks Lennon, Stian Gregersen, Derrick Williams, Ronald Hernández, Bartosz Slisz, Ajani Fortune, Tristan Muyumba, Saba Lobzhanidze, Daniel Rios, Xande Silva, Dominique Badji, Christian Benteke, Mateusz Klich, Cristian Dajome, Jared Stroud, Matti Peltola, David Schnegg, Christopher McVey, Lucas Bartlett, Aaron Herrera, Alex Bono, Dax McCarty, Jamal Thiaré, Pedro Amador, Pedro Santos, Jackson Hopkins, Jacob Murrell]\"}'),\n",
       " Row(player_stats='{\"Shirt_Numbers\":\"[18, 6, 12, 16, 91, 27, 20, 5, 10, 23, 7, 16, 10, 27, 17, 6, 55, 22, 80, 13, 35, 49, 17, 8]\",\"SPI_Scores\":\"[8.5, 6.9, 7.5, 7.6, 6.6, 7.7, 6.9, 7.8, 6.9, 7.6, 6.1, 5.8, 6.3, 7.0, 6.7, 7.6, 6.9, 7.6, 6.7, 7.3, 6.5, 9.1, 6.5, 6.1]\",\"Player_Names\":\"[Roman Celentano, Chidozie Awaziem, Miles Robinson, Teenage Lingani Hadebe, DeAndre Yedlin, Yamil Asad, Pavel Bucha, Obinna Nwobodo, Luciano Acosta, Luca Orellano, Yuya Kubo, Alonso Martinez, Santiago Rodriguez, Maxi Moralez, Hannes Wolf, James Sands, Keaton Parks, Kevin O\\'Toole, Justin Haak, Thiago Martins, Mitja Ilenic, Matt Freese, Sergio Santos, Andres Perea]\"}'),\n",
       " Row(player_stats='{\"Shirt_Numbers\":\"[]\",\"SPI_Scores\":\"[]\",\"Player_Names\":\"[]\"}'),\n",
       " Row(player_stats='{\"Shirt_Numbers\":\"[1, 14, 29, 34, 3, 13, 8, 30, 10, 9, 11, 17, 19, 11, 21, 30, 23, 24, 5, 16, 2, 34, 28, 18, 33, 7, 14, 36, 8, 12, 31]\",\"SPI_Scores\":\"[5.9, 6.9, 6.6, 6.2, 6.2, 7.3, 6.4, 7.3, 8.8, 9.3, 8.0, 8.0, 6.2, 6.7, 7.8, 7.2, 8.1, 6.9, 5.6, 5.8, 5.5, 6.6, 6.1, 6.1, 6.0, 6.2, 6.2, 6.2, 7.1, 6.6, 7.2]\",\"Player_Names\":\"[Kristijan Kahlina, Nathan Byrne, Adilson Malanda, Andrew Privett, Tim Ream, Brandt Bronico, Ashley Westwood, Junior Urso, Pep Biel, Karol Swiderski, Liel Abada, Brian Gutierrez, Georgios Koutsias, Ariel Lassiter, Fabian Herbers, Gaston Claudio Gimenez, Kellyn Acosta, Jonathan Dean, Rafael Czichos, Wyatt Omsberg, Arnaud Souquet, Chris Brady, Djibril Diani, Kerwin Vargas, Patrick Agyemang, Jamie Paterson, Tobias Salquist, Justin Reynolds, Chris Mueller, Tom Barlow, Federico Navarro]\"}'),\n",
       " Row(player_stats='{\"Shirt_Numbers\":\"[]\",\"SPI_Scores\":\"[]\",\"Player_Names\":\"[]\"}'),\n",
       " Row(player_stats='{\"Shirt_Numbers\":\"[12, 25, 28, 31, 2, 16, 6, 27, 8, 18, 10, 9, 14, 10, 7, 18, 6, 5, 25, 28, 16, 24, 35, 75, 93]\",\"SPI_Scores\":\"[6.2, 7.1, 7.5, 7.2, 7.0, 6.7, 7.0, 6.6, 6.9, 7.1, 6.6, 5.9, 6.3, 7.1, 6.6, 6.8, 6.5, 7.2, 7.0, 6.8, 7.2, 8.6, 6.2, 6.8, 6.8]\",\"Player_Names\":\"[Steve Clark, Griffin Dorsey, Erik Sviatchenko, Micael, Franco Escobar, Héctor Herrera, Artur, Sebastian Kowalczyk, Amine Bassi, Ibrahim Aliyu, Ezequiel Ponce, Raul Ruidiaz, Paul Rothrock, Pedro De la Vega, Cristian Roldan, Obed Vargas, Joao Paulo, Nouhou Tolo, Jackson Ragen, Yeimar Gomez, Alex Roldan, Stefan Frei, Brooklyn Raines, Danny Leyva, Georgi Minoungou]\"}'),\n",
       " Row(player_stats='{\"Shirt_Numbers\":\"[]\",\"SPI_Scores\":\"[]\",\"Player_Names\":\"[]\"}'),\n",
       " Row(player_stats='{\"Shirt_Numbers\":\"[]\",\"SPI_Scores\":\"[]\",\"Player_Names\":\"[]\"}'),\n",
       " Row(player_stats='{\"Shirt_Numbers\":\"[34, 27, 22, 5, 15, 17, 21, 23, 8, 9, 19, 9, 5, 10, 47, 28, 8, 34, 4, 3, 12, 31, 4, 10, 12, 55, 30, 11]\",\"SPI_Scores\":\"[7.1, 6.5, 5.9, 6.8, 6.5, 6.5, 6.3, 6.8, 5.7, 6.6, 6.3, 6.8, 7.7, 7.5, 7.4, 7.5, 7.7, 7.2, 7.6, 7.9, 7.8, 7.7, 6.4, 6.2, 6.0, 6.3, 6.0, 6.7]\",\"Player_Names\":\"[Chris Brady, Allan Arigoni, Mauricio Pineda, Rafael Czichos, Andrew Gutman, Brian Gutierrez, Fabian Herbers, Kellyn Acosta, Chris Mueller, Hugo Cuypers, Georgios Koutsias, Giacomo Vrioni, Tomas Chancalay, Carles Gil, Esmir Bajraktarevic, Mark-Anthony Kaye, Matt Polster, Ryan Spaulding, Henry Kessler, Xavier Arreaga, Nick Lima, Aljaz Ivacic, Carlos Teran, Xherdan Shaqiri, Tom Barlow, Omari Glasgow, Gaston Claudio Gimenez, Dylan Borrero]\"}'),\n",
       " Row(player_stats='{\"Shirt_Numbers\":\"[97, 28, 15, 4, 11, 8, 31, 17, 20, 22, 9, 13, 14, 11, 7, 6, 18, 5, 25, 28, 16, 24, 21, 67, 27, 8, 10]\",\"SPI_Scores\":\"[5.6, 5.8, 5.8, 6.0, 6.2, 7.0, 7.5, 7.3, 7.7, 6.2, 9.0, 7.9, 6.5, 8.4, 7.6, 6.7, 7.9, 7.4, 8.0, 6.5, 7.1, 6.6, 6.2, 6.1, 6.2, 6.5, 6.4]\",\"Player_Names\":\"[Dayne St. Clair, Jefferson Diaz, Michael Boxall, Miguel Tapias, Sang-Bin Jeong, Joseph Rosales, Hassani Dotson, Robin Lod, Wil Trapp, Teemu Pukki, Kelvin Yeboah, Jordan Morris, Paul Rothrock, Albert Rusnak, Cristian Roldan, Joao Paulo, Obed Vargas, Nouhou Tolo, Jackson Ragen, Yeimar Gomez, Alex Roldan, Stefan Frei, Bongokuhle Hlongwane, Carlos Harvey, D.J. Taylor, Joshua Atencio, Pedro De la Vega]\"}'),\n",
       " Row(player_stats='{\"Shirt_Numbers\":\"[24, 16, 28, 25, 21, 18, 6, 7, 11, 23, 13, 7, 9, 24, 17, 30, 21, 27, 5, 4, 2, 34, 14, 10, 22]\",\"SPI_Scores\":\"[6.9, 6.4, 7.8, 7.6, 6.9, 7.1, 7.5, 6.9, 9.0, 7.4, 7.5, 7.9, 6.6, 6.9, 7.5, 8.5, 7.3, 6.7, 6.7, 6.3, 6.5, 8.6, 6.8, 6.4, 5.6]\",\"Player_Names\":\"[Stefan Frei, Alex Roldan, Yeimar Gomez, Jackson Ragen, Reed Baker-Whiting, Obed Vargas, Joao Paulo, Cristian Roldan, Albert Rusnak, Leo Chu, Jordan Morris, Maren Haile-Selassie, Hugo Cuypers, Jonathan Dean, Brian Gutierrez, Gaston Claudio Gimenez, Fabian Herbers, Allan Arigoni, Rafael Czichos, Carlos Teran, Arnaud Souquet, Chris Brady, Paul Rothrock, Pedro De la Vega, Mauricio Pineda]\"}'),\n",
       " Row(player_stats='{\"Shirt_Numbers\":\"[31, 12, 2, 3, 24, 29, 14, 47, 10, 11, 9, 19, 24, 25, 16, 45, 14, 7, 15, 4, 23, 1, 88, 11, 27, 28]\",\"SPI_Scores\":\"[6.9, 6.3, 6.6, 6.9, 6.6, 7.7, 6.8, 8.2, 8.1, 8.2, 7.7, 6.2, 6.5, 8.9, 6.8, 7.5, 5.9, 7.0, 6.1, 6.0, 7.3, 5.3, 6.5, 6.1, 6.4, 5.9]\",\"Player_Names\":\"[Aljaz Ivacic, Nick Lima, David Romney, Xavier Arreaga, DeJuan Jones, Noel Buck, Ian Harkes, Esmir Bajraktarevic, Carles Gil, Dylan Borrero, Giacomo Vrioni, Damir Kreilach, Brian White, Ryan Gauld, Sebastian Berhalter, Pedro Vite, Luis Martins, Ryan Raposo, Bjørn Inge Utvik, Ranko Veselinovic, Javain Brown, Yohei Takaoka, Andrew Farrell, Fabrice Picault, Giuseppe Bovalina, Levonte Johnson]\"}'),\n",
       " Row(player_stats='{\"Shirt_Numbers\":\"[31, 12, 4, 15, 17, 47, 75, 20, 10, 13, 9, 9, 10, 7, 6, 25, 12, 23, 21, 4, 31, 28, 48, 27, 20, 19]\",\"SPI_Scores\":\"[7.8, 8.1, 6.3, 6.4, 6.8, 7.6, 7.4, 6.6, 8.6, 7.3, 6.5, 8.0, 7.0, 7.1, 7.6, 7.7, 7.2, 6.6, 8.4, 6.3, 6.7, 8.1, 6.5, 7.5, 7.6, 6.0]\",\"Player_Names\":\"[Carlos Miguel, Dylan Nealis, Andres Reyes, Sean Nealis, Cameron Harper, John Tolkin, Daniel Edelman, Felipe Carballo, Emil Forsberg, Dante Vanzeir, Lewis Morgan, Juan Hernández, Diego Rossi, Dylan Chambost, Darlington Nagbe, Sean Zawadzki, DeJuan Jones, Mohamed Farsi, Evgen Cheberko, Rudy Camacho, Steven Moreira, Patrick Schulte, Ronald Donkor, Max Arfsten, Alexandru Matan, Jacen Russell-Rowe]\"}'),\n",
       " Row(player_stats='{\"Shirt_Numbers\":\"[24, 16, 28, 25, 5, 18, 8, 7, 11, 13, 9, 17, 9, 19, 29, 6, 11, 22, 3, 16, 24, 40, 33, 3, 6, 17, 2, 18, 13, 25, 14]\",\"SPI_Scores\":\"[7.7, 9.1, 7.5, 7.8, 6.6, 7.9, 8.0, 7.7, 8.9, 8.0, 9.1, 6.0, 6.2, 5.1, 6.1, 6.5, 5.7, 6.3, 5.6, 6.3, 5.7, 5.7, 7.4, 6.1, 6.7, 7.4, 6.8, 6.0, 6.2, 6.2, 6.4]\",\"Player_Names\":\"[Stefan Frei, Alex Roldan, Yeimar Gomez, Jackson Ragen, Nouhou Tolo, Obed Vargas, Joshua Atencio, Cristian Roldan, Albert Rusnak, Jordan Morris, Raul Ruidiaz, Josef Martinez, Matias Coccaro, Nathan Saliba, Mathieu Choiniere, Samuel Piette, Ariel Lassiter, Ruan, Joaquin Sosa, Joel Waterman, George Campbell, Jonathan Sirois, Cody Baker, Xavier Arreaga, Joao Paulo, Danny Musovski, Victor Wanyama, Rida Zouhir, Mason Toye, Gabriele Corbo, Sunusi Ibrahim]\"}'),\n",
       " Row(player_stats='{\"Shirt_Numbers\":\"[77, 2, 25, 4, 14, 8, 20, 5, 11, 9, 28, 10, 9, 13, 47, 75, 5, 17, 15, 3, 12, 31, 18, 7, 48, 11]\",\"SPI_Scores\":\"[6.8, 8.0, 8.0, 7.2, 7.3, 8.2, 7.4, 8.1, 7.2, 7.8, 7.8, 6.8, 6.1, 5.7, 6.6, 6.3, 6.1, 6.5, 7.5, 7.1, 6.7, 6.7, 6.1, 6.1, 6.3, 6.3]\",\"Player_Names\":\"[John McCarthy, Miki Yamane, Carlos Garces, Maya Yoshida, John Nelson, Marco Delgado, Edwin Cerrillo, Gaston Brugman, Gabriel Pec, Dejan Joveljic, Joseph Paintsil, Emil Forsberg, Lewis Morgan, Dante Vanzeir, John Tolkin, Daniel Edelman, Peter Stroud, Cameron Harper, Sean Nealis, Noah Eile, Dylan Nealis, Carlos Miguel, Marco Reus, Diego Fagundez, Ronald Donkor, Elias Manoel]\"}'),\n",
       " Row(player_stats='{\"Shirt_Numbers\":\"[]\",\"SPI_Scores\":\"[]\",\"Player_Names\":\"[]\"}'),\n",
       " Row(player_stats='{\"Shirt_Numbers\":\"[31, 15, 3, 2, 25, 80, 8, 41, 10, 18, 9, 20, 21, 10, 14, 43, 7, 8, 4, 3, 22, 24, 11, 27, 47, 21, 14, 11, 5, 23, 17]\",\"SPI_Scores\":\"[5.4, 6.0, 5.6, 5.8, 6.4, 6.4, 6.8, 6.3, 6.9, 6.8, 6.0, 8.3, 6.8, 6.8, 7.8, 7.3, 8.2, 6.5, 6.3, 8.0, 7.6, 7.2, 6.9, 6.4, 6.2, 6.7, 6.4, 6.0, 7.2, 6.2, 6.5]\",\"Player_Names\":\"[Aljaz Ivacic, Brandon Bye, Xavier Arreaga, David Romney, Peyton Miller, Alhassan Yusuf, Matt Polster, Luca Langoni, Carles Gil, Emmanuel Boateng, Giacomo Vrioni, Christian Benteke, Theodore Ku-DiPietro, Gabriel Pirani, Martin Rodriguez, Mateusz Klich, Pedro Santos, Jared Stroud, Matti Peltola, Lucas Bartlett, Aaron Herrera, Alex Bono, Dylan Borrero, Tim Parker, Esmir Bajraktarevic, Nacho Gil, Ian Harkes, Cristian Dajome, Boris Enow, Dominique Badji, Jacob Murrell]\"}'),\n",
       " Row(player_stats='{\"Shirt_Numbers\":\"[]\",\"SPI_Scores\":\"[]\",\"Player_Names\":\"[]\"}'),\n",
       " Row(player_stats='{\"Shirt_Numbers\":\"[18, 91, 15, 26, 98, 14, 6, 8, 25, 10, 9, 11, 24, 23, 3, 16, 13, 8, 6, 4, 15, 32, 13, 29, 11, 20, 25, 22]\",\"SPI_Scores\":\"[6.2, 7.5, 7.1, 6.4, 6.7, 7.6, 8.1, 8.3, 6.4, 7.1, 6.8, 5.7, 6.7, 6.5, 6.0, 6.8, 6.3, 7.2, 6.9, 6.5, 6.6, 6.2, 6.7, 6.6, 7.0, 6.3, 7.2, 6.1]\",\"Player_Names\":\"[Zac MacMath, Javain Brown, Justen Glad, Philip Quinton, Alexandros Katranis, Emeka Eneli, Braian Ojeda, Diego Luna, Matt Crooks, Diogo Goncalves, Cristian Arango, Fabrice Picault, Brian White, Deiber Caicedo, Sam Adekugbe, Sebastian Berhalter, Ralph Priso-Mbongue, Alessandro Schöpf, Tristan Blackmon, Ranko Veselinovic, Bjørn Inge Utvik, Isaac Boehmer, Nelson Palacio, Anderson Julio, Dominik Marczuk, Andrés Cubas, Ryan Gauld, Ali Ahmed]\"}'),\n",
       " Row(player_stats='{\"Shirt_Numbers\":\"[]\",\"SPI_Scores\":\"[]\",\"Player_Names\":\"[]\"}'),\n",
       " Row(player_stats='{\"Shirt_Numbers\":\"[]\",\"SPI_Scores\":\"[]\",\"Player_Names\":\"[]\"}'),\n",
       " Row(player_stats='{\"Shirt_Numbers\":\"[]\",\"SPI_Scores\":\"[]\",\"Player_Names\":\"[]\"}'),\n",
       " Row(player_stats='{\"Shirt_Numbers\":\"[]\",\"SPI_Scores\":\"[]\",\"Player_Names\":\"[]\"}'),\n",
       " Row(player_stats='{\"Shirt_Numbers\":\"[31, 12, 3, 2, 25, 8, 28, 47, 10, 41, 17, 9, 28, 7, 19, 6, 46, 27, 4, 25, 24, 40, 80, 18, 9, 11, 23, 8, 44]\",\"SPI_Scores\":\"[5.5, 6.9, 6.5, 6.6, 7.6, 6.3, 5.7, 7.7, 8.4, 6.5, 7.2, 6.8, 6.8, 7.0, 7.9, 7.2, 7.8, 6.6, 6.2, 7.0, 7.2, 6.0, 7.1, 6.0, 6.2, 6.6, 6.8, 6.2, 6.0]\",\"Player_Names\":\"[Aljaz Ivacic, Nick Lima, Xavier Arreaga, David Romney, Peyton Miller, Matt Polster, Mark-Anthony Kaye, Esmir Bajraktarevic, Carles Gil, Luca Langoni, Bobby Wood, Matias Coccaro, Jules-Anthony Vilsaint, Kwadwo Opoku, Nathan Saliba, Samuel Piette, Tom Pearce, Dawid Bugaj, Fernando Álvarez, Gabriele Corbo, George Campbell, Jonathan Sirois, Alhassan Yusuf, Emmanuel Boateng, Giacomo Vrioni, Jahkeele Marshall-Rutty, Caden Clark, Dominik Yankov, Raheem Edwards]\"}'),\n",
       " Row(player_stats='{\"Shirt_Numbers\":\"[31, 15, 4, 3, 25, 8, 28, 47, 14, 26, 17, 77, 23, 7, 16, 12, 8, 4, 17, 25, 29, 30, 22, 41, 31]\",\"SPI_Scores\":\"[6.5, 7.1, 6.9, 7.5, 8.3, 6.6, 7.3, 6.6, 6.3, 6.4, 7.3, 6.7, 6.5, 8.1, 5.9, 6.9, 6.3, 6.8, 6.7, 6.8, 6.2, 6.4, 6.4, 7.3, 6.2]\",\"Player_Names\":\"[Aljaz Ivacic, Brandon Bye, Henry Kessler, Xavier Arreaga, Peyton Miller, Matt Polster, Mark-Anthony Kaye, Esmir Bajraktarevic, Ian Harkes, Thomas McNamara, Bobby Wood, Bernard Kamungo, Logan Farrington, Paul Arriola, Tsiki Ntsabeleng, Carl Sainte, Sebastian Lletget, Marco Farfan, Nkosi Tafari, Sebastien Ibeagha, Sam Junqua, Maarten Paes, Ema Twumasi, Tarik Scott, Eugene Ansah]\"}'),\n",
       " Row(player_stats='{\"Shirt_Numbers\":\"[]\",\"SPI_Scores\":\"[]\",\"Player_Names\":\"[]\"}'),\n",
       " Row(player_stats='{\"Shirt_Numbers\":\"[]\",\"SPI_Scores\":\"[]\",\"Player_Names\":\"[]\"}'),\n",
       " Row(player_stats='{\"Shirt_Numbers\":\"[]\",\"SPI_Scores\":\"[]\",\"Player_Names\":\"[]\"}'),\n",
       " Row(player_stats='{\"Shirt_Numbers\":\"[]\",\"SPI_Scores\":\"[]\",\"Player_Names\":\"[]\"}'),\n",
       " Row(player_stats='{\"Shirt_Numbers\":\"[]\",\"SPI_Scores\":\"[]\",\"Player_Names\":\"[]\"}'),\n",
       " Row(player_stats='{\"Shirt_Numbers\":\"[]\",\"SPI_Scores\":\"[]\",\"Player_Names\":\"[]\"}'),\n",
       " Row(player_stats='{\"Shirt_Numbers\":\"[]\",\"SPI_Scores\":\"[]\",\"Player_Names\":\"[]\"}'),\n",
       " Row(player_stats='{\"Shirt_Numbers\":\"[35, 91, 15, 26, 98, 14, 6, 17, 10, 8, 29, 17, 18, 10, 47, 28, 8, 23, 2, 3, 12, 31, 19, 11, 16, 25, 14, 9, 11, 41, 25]\",\"SPI_Scores\":\"[7.7, 6.4, 7.7, 8.0, 7.2, 7.8, 8.8, 7.3, 7.4, 7.8, 7.7, 6.1, 6.5, 7.2, 6.5, 6.2, 6.5, 6.6, 6.6, 5.3, 6.5, 7.0, 6.5, 6.3, 6.1, 6.6, 6.5, 6.3, 6.2, 6.0, 6.5]\",\"Player_Names\":\"[Gavin Beavers, Javain Brown, Justen Glad, Philip Quinton, Alexandros Katranis, Emeka Eneli, Braian Ojeda, Lachlan Brook, Diogo Goncalves, Diego Luna, Anderson Julio, Bobby Wood, Emmanuel Boateng, Carles Gil, Esmir Bajraktarevic, Mark-Anthony Kaye, Matt Polster, Will Sands, David Romney, Xavier Arreaga, Nick Lima, Aljaz Ivacic, Bode Hidalgo, Dominik Marczuk, Maikel Chang Ramirez, Matt Crooks, Ian Harkes, Giacomo Vrioni, Dylan Borrero, Luca Langoni, Peyton Miller]\"}'),\n",
       " Row(player_stats='{\"Shirt_Numbers\":\"[24, 11, 45, 3, 28, 5, 8, 43, 21, 20, 23, 23, 16, 8, 14, 21, 7, 5, 4, 17, 25, 30, 22, 14, 4, 10, 7, 10, 29]\",\"SPI_Scores\":\"[5.4, 5.1, 6.4, 5.6, 6.8, 5.7, 7.1, 6.6, 7.3, 8.4, 6.4, 6.6, 7.9, 9.3, 8.1, 6.9, 8.0, 7.7, 5.6, 7.1, 6.3, 6.4, 6.8, 7.0, 6.9, 5.9, 6.0, 6.4, 6.5]\",\"Player_Names\":\"[Alex Bono, Cristian Dajome, Matai Akinmboni, Lucas Bartlett, David Schnegg, Boris Enow, Jared Stroud, Mateusz Klich, Theodore Ku-DiPietro, Christian Benteke, Dominique Badji, Logan Farrington, Tsiki Ntsabeleng, Sebastian Lletget, Asier Illarramendi, Manuel Cafumana, Paul Arriola, Ruan, Marco Farfan, Nkosi Tafari, Sebastien Ibeagha, Maarten Paes, Aaron Herrera, Martin Rodriguez, Matti Peltola, Gabriel Pirani, Pedro Santos, Jesus Ferreira, Sam Junqua]\"}'),\n",
       " Row(player_stats='{\"Shirt_Numbers\":\"[]\",\"SPI_Scores\":\"[]\",\"Player_Names\":\"[]\"}'),\n",
       " Row(player_stats='{\"Shirt_Numbers\":\"[1, 11, 5, 3, 2, 6, 35, 8, 9, 29, 16, 9, 10, 17, 20, 25, 27, 23, 21, 4, 31, 1, 19, 18, 19]\",\"SPI_Scores\":\"[6.3, 7.3, 9.0, 6.9, 7.2, 6.5, 7.3, 6.9, 8.8, 6.7, 7.3, 7.2, 7.5, 6.1, 7.4, 7.8, 7.2, 6.9, 6.7, 6.5, 6.8, 6.0, 6.2, 6.8, 6.2]\",\"Player_Names\":\"[Brad Guzan, Brooks Lennon, Stian Gregersen, Derrick Williams, Ronald Hernández, Bartosz Slisz, Ajani Fortune, Tristan Muyumba, Saba Lobzhanidze, Jamal Thiaré, Xande Silva, Juan Hernández, Diego Rossi, Christian Ramirez, Alexandru Matan, Sean Zawadzki, Max Arfsten, Mohamed Farsi, Evgen Cheberko, Rudy Camacho, Steven Moreira, Nicholas Hagen, Daniel Rios, Malte Amundsen, Jacen Russell-Rowe]\"}'),\n",
       " Row(player_stats='{\"Shirt_Numbers\":\"[1, 24, 25, 4, 13, 11, 8, 2, 19, 9, 99, 9, 36, 17, 3, 10, 21, 99, 4, 5, 2, 39, 23, 30, 20, 38, 14, 29, 11]\",\"SPI_Scores\":\"[7.2, 7.8, 7.5, 7.1, 7.1, 8.0, 7.7, 7.3, 7.4, 6.8, 8.9, 6.3, 6.7, 7.0, 6.3, 6.6, 6.1, 6.7, 6.9, 6.4, 6.4, 7.3, 6.6, 6.5, 6.7, 6.4, 6.7, 5.9, 5.9]\",\"Player_Names\":\"[Hugo Lloris, Ryan Hollingshead, Maxime Chanot, Eddie Segura, Cristian Olivera, Timothy Tillman, Lewis O\\'Brien, Omar Campos, Mateusz Bogusz, Olivier Giroud, Denis Bouanga, Joao Klauss, Cedric Teuchert, Marcel Hartel, Jake Girdwood-Reich, Eduard Löwen, Rasmus Alm, Jayden Reid, Joakim Nilsson, Henry Kessler, Jakob Nerwinski, Benjamin Lundt, Kei Ansu Kamara, David Martinez, Akil Watts, Jannes-Kilian Horn, Tomas Totland, Nökkvi Thorisson, Simon Becher]\"}'),\n",
       " Row(player_stats='{\"Shirt_Numbers\":\"[]\",\"SPI_Scores\":\"[]\",\"Player_Names\":\"[]\"}'),\n",
       " Row(player_stats='{\"Shirt_Numbers\":\"[1, 57, 6, 21, 18, 24, 5, 30, 10, 9, 7, 21, 20, 43, 25, 8, 7, 22, 3, 15, 97, 24, 16, 27, 4, 11, 16, 17]\",\"SPI_Scores\":\"[7.8, 7.8, 7.2, 7.5, 8.0, 6.6, 8.2, 6.7, 6.3, 7.2, 7.0, 7.4, 5.8, 7.1, 6.7, 7.3, 7.2, 6.7, 6.6, 6.5, 6.5, 5.9, 6.4, 6.3, 6.9, 6.1, 6.4, 6.1]\",\"Player_Names\":\"[Drake Callender, Marcelo Weigandt, Tomas Aviles, Nicolas Freire, Jordi Alba, Julian Gressel, Sergio Busquets, Benjamin Cremaschi, Lionel Messi, Luis Suárez, Matias Rojas, Theodore Ku-DiPietro, Christian Benteke, Mateusz Klich, Jackson Hopkins, Jared Stroud, Pedro Santos, Aaron Herrera, Lucas Bartlett, Steven Birnbaum, Christopher McVey, Alex Bono, Robert Taylor, Serhiy Kryvtsov, Matti Peltola, Cristian Dajome, Garrison Tubbs, Jacob Murrell]\"}'),\n",
       " Row(player_stats='{\"Shirt_Numbers\":\"[]\",\"SPI_Scores\":\"[]\",\"Player_Names\":\"[]\"}'),\n",
       " Row(player_stats='{\"Shirt_Numbers\":\"[1, 57, 6, 21, 18, 24, 5, 30, 10, 9, 7, 21, 20, 43, 25, 8, 7, 22, 3, 15, 97, 24, 16, 27, 4, 11, 16, 17]\",\"SPI_Scores\":\"[7.8, 7.8, 7.2, 7.5, 8.0, 6.6, 8.2, 6.7, 6.3, 7.2, 7.0, 7.4, 5.8, 7.1, 6.7, 7.3, 7.2, 6.7, 6.6, 6.5, 6.5, 5.9, 6.4, 6.3, 6.9, 6.1, 6.4, 6.1]\",\"Player_Names\":\"[Drake Callender, Marcelo Weigandt, Tomas Aviles, Nicolas Freire, Jordi Alba, Julian Gressel, Sergio Busquets, Benjamin Cremaschi, Lionel Messi, Luis Suárez, Matias Rojas, Theodore Ku-DiPietro, Christian Benteke, Mateusz Klich, Jackson Hopkins, Jared Stroud, Pedro Santos, Aaron Herrera, Lucas Bartlett, Steven Birnbaum, Christopher McVey, Alex Bono, Robert Taylor, Serhiy Kryvtsov, Matti Peltola, Cristian Dajome, Garrison Tubbs, Jacob Murrell]\"}'),\n",
       " Row(player_stats='{\"Shirt_Numbers\":\"[]\",\"SPI_Scores\":\"[]\",\"Player_Names\":\"[]\"}'),\n",
       " Row(player_stats='{\"Shirt_Numbers\":\"[1, 15, 4, 6, 22, 45, 13, 8, 3, 11, 25, 23, 19, 10, 3, 14, 30, 28, 15, 26, 29, 42, 16, 2, 18, 94, 17, 6, 9]\",\"SPI_Scores\":\"[7.8, 7.0, 7.2, 7.9, 7.0, 8.3, 6.6, 7.1, 7.1, 8.6, 9.1, 5.8, 5.8, 6.5, 6.3, 6.4, 6.4, 6.4, 6.9, 6.5, 6.4, 8.4, 6.4, 7.0, 6.7, 6.6, 5.7, 6.2, 6.0]\",\"Player_Names\":\"[Yohei Takaoka, Bjørn Inge Utvik, Ranko Veselinovic, Tristan Blackmon, Ali Ahmed, Pedro Vite, Ralph Priso-Mbongue, Alessandro Schöpf, Sam Adekugbe, Fabrice Picault, Ryan Gauld, Hernan Lopez, Preston Judd, Cristian Espinoza, Paul Marie, Jackson Yueill, Niko Tsakiris, Benjamin Kikanovic, Tanner Beason, Rodrigues, Carlos Akapo, Daniel, Sebastian Berhalter, Mathias Laborda, Edier Ocampo, Vitor Costa, Ousseni Bouda, Alfredo Morales, Amahl Pellegrino]\"}'),\n",
       " Row(player_stats='{\"Shirt_Numbers\":\"[1, 14, 5, 4, 38, 36, 20, 10, 17, 11, 9, 10, 18, 27, 20, 6, 35, 2, 4, 28, 25, 12, 29, 21, 14, 11, 15]\",\"SPI_Scores\":\"[8.6, 7.6, 7.7, 7.1, 7.3, 7.4, 7.0, 6.8, 8.6, 8.8, 6.9, 6.0, 6.6, 6.6, 6.4, 6.9, 7.4, 5.8, 6.4, 5.4, 5.7, 4.8, 6.3, 6.2, 6.4, 6.3, 6.2]\",\"Player_Names\":\"[Roman Bürki, Tomas Totland, Henry Kessler, Joakim Nilsson, Jannes-Kilian Horn, Cedric Teuchert, Akil Watts, Eduard Löwen, Marcel Hartel, Simon Becher, Joao Klauss, Ezequiel Ponce, Ibrahim Aliyu, Sebastian Kowalczyk, Adalberto Carrasquilla, Artur, Brooklyn Raines, Franco Escobar, Ethan Bartlow, Erik Sviatchenko, Griffin Dorsey, Steve Clark, Nökkvi Thorisson, Rasmus Alm, McKinze Gaines, Carlos Ferreira, Latif Blessing]\"}'),\n",
       " Row(player_stats='{\"Shirt_Numbers\":\"[]\",\"SPI_Scores\":\"[]\",\"Player_Names\":\"[]\"}'),\n",
       " Row(player_stats='{\"Shirt_Numbers\":\"[18, 4, 21, 32, 15, 23, 5, 20, 10, 7, 22, 9, 16, 12, 85, 6, 25, 44, 4, 22, 20, 1, 19, 27, 17, 26, 7, 8, 19, 10]\",\"SPI_Scores\":\"[7.4, 7.3, 5.0, 6.9, 6.9, 7.8, 8.0, 7.7, 9.5, 7.7, 6.2, 6.1, 6.4, 5.7, 5.8, 6.4, 6.6, 6.7, 6.9, 6.2, 7.1, 7.0, 6.5, 6.5, 7.5, 6.5, 6.7, 6.2, 6.3, 6.0]\",\"Player_Names\":\"[Roman Celentano, Nick Hagglund, Matt Miazga, Ian Murphy, Bret Halsey, Luca Orellano, Obinna Nwobodo, Pavel Bucha, Luciano Acosta, Yuya Kubo, Gerardo Valenzuela, Joao Klauss, Samuel Adeniran, Celio Pompeu, Hosei Kijima, Njabulo Blom, Aziel Jackson, Nikolas Dyhr, Joakim Nilsson, Kyle Hiebert, Akil Watts, Roman Bürki, Kevin Kelsy, Yamil Asad, Sergio Santos, Tim Parker, Tomas Ostrak, Christopher Durkin, Indiana Vassilev, Eduard Löwen]\"}'),\n",
       " Row(player_stats='{\"Shirt_Numbers\":\"[]\",\"SPI_Scores\":\"[]\",\"Player_Names\":\"[]\"}'),\n",
       " Row(player_stats='{\"Shirt_Numbers\":\"[]\",\"SPI_Scores\":\"[]\",\"Player_Names\":\"[]\"}'),\n",
       " Row(player_stats='{\"Shirt_Numbers\":\"[1, 16, 2, 4, 29, 8, 5, 6, 11, 9, 7, 9, 38, 13, 18, 28, 8, 21, 34, 29, 14, 1, 17, 3, 33, 14, 23, 33, 10, 25]\",\"SPI_Scores\":\"[7.3, 6.5, 6.7, 6.9, 6.7, 7.7, 6.8, 7.1, 6.6, 6.2, 7.0, 8.4, 8.4, 6.5, 6.2, 7.4, 7.4, 6.7, 6.3, 6.7, 6.6, 5.8, 7.3, 6.6, 6.8, 6.9, 6.1, 6.3, 6.4, 6.3]\",\"Player_Names\":\"[Brad Stuver, Hector Jimenez, Matt Hedges, Brendan Hines-Ike, Guilherme, Alexander Ring, Jhojan Valencia, Daniel Pereira, Jader Obrian, Gyasi Zardes, Osman Bukari, Karol Swiderski, Iuri Tavares, Brandt Bronico, Kerwin Vargas, Djibril Diani, Ashley Westwood, Jere Uronen, Andrew Privett, Adilson Malanda, Nathan Byrne, Kristijan Kahlina, Jon Gallagher, Mikkel Desler, Owen Wolff, Diego Rubio, Zan Kolmanic, Patrick Agyemang, Brecht Dejaeghere, Tyger Smalls]\"}'),\n",
       " Row(player_stats='{\"Shirt_Numbers\":\"[1, 5, 25, 33, 14, 11, 8, 24, 13, 19, 99, 11, 24, 25, 45, 20, 26, 3, 4, 6, 16, 1, 20, 9, 22, 8]\",\"SPI_Scores\":\"[7.8, 6.5, 7.8, 6.8, 7.5, 6.9, 6.8, 7.4, 6.2, 8.2, 7.0, 6.0, 5.9, 7.4, 6.2, 6.4, 7.4, 7.0, 6.3, 6.7, 6.3, 5.8, 6.2, 6.6, 6.9, 6.4]\",\"Player_Names\":\"[Hugo Lloris, Marlon, Maxime Chanot, Aaron Long, Sergi Palencia, Timothy Tillman, Lewis O\\'Brien, Ryan Hollingshead, Cristian Olivera, Mateusz Bogusz, Denis Bouanga, Fabrice Picault, Brian White, Ryan Gauld, Pedro Vite, Andrés Cubas, Stuart Armstrong, Sam Adekugbe, Ranko Veselinovic, Tristan Blackmon, Sebastian Berhalter, Yohei Takaoka, Eduard Atuesta, Olivier Giroud, Ali Ahmed, Alessandro Schöpf]\"}'),\n",
       " Row(player_stats='{\"Shirt_Numbers\":\"[25, 29, 24, 15, 94, 14, 30, 10, 9, 23, 11, 19, 17, 10, 20, 5, 23, 91, 32, 21, 4, 18, 3, 16, 14, 7, 27, 22]\",\"SPI_Scores\":\"[4.3, 7.7, 5.4, 5.4, 7.4, 5.0, 5.5, 8.3, 7.2, 8.1, 7.3, 7.5, 6.7, 9.5, 8.8, 8.7, 7.8, 7.2, 7.2, 7.3, 6.3, 6.3, 6.4, 6.0, 6.2, 9.5, 6.2, 7.1]\",\"Player_Names\":\"[William Yarbrough, Carlos Akapo, Daniel Munie, Tanner Beason, Vitor Costa, Jackson Yueill, Niko Tsakiris, Cristian Espinoza, Amahl Pellegrino, Hernan Lopez, Jeremy Ebobisse, Kevin Kelsy, Sergio Santos, Luciano Acosta, Pavel Bucha, Obinna Nwobodo, Luca Orellano, DeAndre Yedlin, Ian Murphy, Matt Miazga, Nick Hagglund, Roman Celentano, Paul Marie, Jack Skahan, Kipp Keller, Yuya Kubo, Yamil Asad, Gerardo Valenzuela]\"}'),\n",
       " Row(player_stats='{\"Shirt_Numbers\":\"[18, 6, 12, 16, 91, 27, 20, 5, 10, 23, 7, 16, 10, 27, 17, 6, 55, 22, 80, 13, 35, 49, 17, 8]\",\"SPI_Scores\":\"[8.5, 6.9, 7.5, 7.6, 6.6, 7.7, 6.9, 7.8, 6.9, 7.6, 6.1, 5.8, 6.3, 7.0, 6.7, 7.6, 6.9, 7.6, 6.7, 7.3, 6.5, 9.1, 6.5, 6.1]\",\"Player_Names\":\"[Roman Celentano, Chidozie Awaziem, Miles Robinson, Teenage Lingani Hadebe, DeAndre Yedlin, Yamil Asad, Pavel Bucha, Obinna Nwobodo, Luciano Acosta, Luca Orellano, Yuya Kubo, Alonso Martinez, Santiago Rodriguez, Maxi Moralez, Hannes Wolf, James Sands, Keaton Parks, Kevin O\\'Toole, Justin Haak, Thiago Martins, Mitja Ilenic, Matt Freese, Sergio Santos, Andres Perea]\"}'),\n",
       " Row(player_stats='{\"Shirt_Numbers\":\"[]\",\"SPI_Scores\":\"[]\",\"Player_Names\":\"[]\"}'),\n",
       " Row(player_stats='{\"Shirt_Numbers\":\"[12, 5, 28, 31, 2, 20, 6, 15, 8, 18, 27, 17, 47, 10, 41, 8, 80, 25, 2, 3, 15, 31, 10, 24, 14, 18, 9, 14]\",\"SPI_Scores\":\"[7.7, 7.2, 8.4, 7.8, 8.1, 8.8, 6.6, 7.6, 6.7, 6.9, 7.5, 6.2, 6.8, 8.8, 7.4, 6.3, 6.6, 5.8, 6.1, 6.5, 6.1, 7.1, 7.8, 6.0, 6.7, 6.1, 5.9, 6.8]\",\"Player_Names\":\"[Steve Clark, Daniel Steres, Erik Sviatchenko, Micael, Franco Escobar, Adalberto Carrasquilla, Artur, Latif Blessing, Amine Bassi, Ibrahim Aliyu, Sebastian Kowalczyk, Bobby Wood, Esmir Bajraktarevic, Carles Gil, Luca Langoni, Matt Polster, Alhassan Yusuf, Peyton Miller, David Romney, Xavier Arreaga, Brandon Bye, Aljaz Ivacic, Ezequiel Ponce, Junior Moreno, McKinze Gaines, Emmanuel Boateng, Giacomo Vrioni, Ian Harkes]\"}'),\n",
       " Row(player_stats='{\"Shirt_Numbers\":\"[]\",\"SPI_Scores\":\"[]\",\"Player_Names\":\"[]\"}'),\n",
       " Row(player_stats='{\"Shirt_Numbers\":\"[]\",\"SPI_Scores\":\"[]\",\"Player_Names\":\"[]\"}'),\n",
       " Row(player_stats='{\"Shirt_Numbers\":\"[]\",\"SPI_Scores\":\"[]\",\"Player_Names\":\"[]\"}'),\n",
       " Row(player_stats='{\"Shirt_Numbers\":\"[]\",\"SPI_Scores\":\"[]\",\"Player_Names\":\"[]\"}'),\n",
       " Row(player_stats='{\"Shirt_Numbers\":\"[31, 6, 15, 3, 47, 17, 48, 75, 9, 13, 11, 7, 28, 10, 16, 11, 21, 27, 3, 5, 15, 18, 12, 20, 7, 22, 16, 33, 9, 14, 31]\",\"SPI_Scores\":\"[7.1, 6.0, 5.9, 7.3, 6.2, 7.6, 6.7, 6.8, 7.2, 6.9, 7.9, 8.6, 8.2, 7.3, 7.9, 6.6, 7.5, 7.2, 7.4, 7.8, 6.9, 8.0, 7.0, 7.1, 5.8, 5.9, 6.2, 6.6, 6.2, 6.2, 6.2]\",\"Player_Names\":\"[Carlos Miguel, Kyle Duncan, Sean Nealis, Noah Eile, John Tolkin, Cameron Harper, Ronald Donkor, Daniel Edelman, Lewis Morgan, Dante Vanzeir, Elias Manoel, Mikael Uhre, Tai Baribo, Daniel Gazdag, Jack McGlynn, Alejandro Bedoya, Danley Jean Jacques, Kai Wagner, Jack Elliott, Jakob Glesnes, Olivier Mbaizo, Andre Blake, Dylan Nealis, Felipe Carballo, Cory Burke, Serge Ngoma, Julian Hall, Quinn Sullivan, Samuel Adeniran, Jeremy Rafanello, Leon Flach]\"}'),\n",
       " Row(player_stats='{\"Shirt_Numbers\":\"[]\",\"SPI_Scores\":\"[]\",\"Player_Names\":\"[]\"}'),\n",
       " Row(player_stats='{\"Shirt_Numbers\":\"[]\",\"SPI_Scores\":\"[]\",\"Player_Names\":\"[]\"}'),\n",
       " Row(player_stats='{\"Shirt_Numbers\":\"[]\",\"SPI_Scores\":\"[]\",\"Player_Names\":\"[]\"}'),\n",
       " Row(player_stats='{\"Shirt_Numbers\":\"[]\",\"SPI_Scores\":\"[]\",\"Player_Names\":\"[]\"}'),\n",
       " Row(player_stats='{\"Shirt_Numbers\":\"[18, 12, 6, 32, 91, 23, 5, 20, 10, 9, 7, 19, 23, 30, 2, 8, 6, 13, 4, 25, 14, 1, 2, 17, 27, 19, 99, 24, 11, 9, 5]\",\"SPI_Scores\":\"[5.6, 6.6, 6.6, 6.1, 6.4, 8.3, 6.4, 6.6, 8.0, 6.1, 6.4, 7.3, 6.7, 7.8, 8.0, 8.3, 7.2, 7.7, 7.1, 6.7, 7.3, 7.0, 7.6, 6.3, 6.2, 6.2, 8.0, 6.4, 6.2, 6.9, 6.2]\",\"Player_Names\":\"[Roman Celentano, Miles Robinson, Chidozie Awaziem, Ian Murphy, DeAndre Yedlin, Luca Orellano, Obinna Nwobodo, Pavel Bucha, Luciano Acosta, Nicholas Gioacchini, Yuya Kubo, Mateusz Bogusz, Kei Ansu Kamara, David Martinez, Omar Campos, Lewis O\\'Brien, Ilie Sanchez, Cristian Olivera, Eddie Segura, Maxime Chanot, Sergi Palencia, Hugo Lloris, Alvas Elvis Powell, Sergio Santos, Yamil Asad, Kevin Kelsy, Denis Bouanga, Ryan Hollingshead, Timothy Tillman, Olivier Giroud, Marlon]\"}'),\n",
       " Row(player_stats='{\"Shirt_Numbers\":\"[]\",\"SPI_Scores\":\"[]\",\"Player_Names\":\"[]\"}'),\n",
       " Row(player_stats='{\"Shirt_Numbers\":\"[]\",\"SPI_Scores\":\"[]\",\"Player_Names\":\"[]\"}'),\n",
       " Row(player_stats='{\"Shirt_Numbers\":\"[]\",\"SPI_Scores\":\"[]\",\"Player_Names\":\"[]\"}'),\n",
       " Row(player_stats='{\"Shirt_Numbers\":\"[1, 14, 5, 22, 38, 21, 10, 20, 17, 36, 9, 30, 23, 20, 22, 54, 8, 14, 4, 5, 17, 1, 29, 11, 18, 11, 7, 9, 10]\",\"SPI_Scores\":\"[7.4, 6.8, 7.0, 7.8, 6.8, 7.4, 8.5, 7.6, 7.5, 9.1, 7.3, 7.5, 6.1, 6.7, 6.5, 6.6, 6.0, 6.3, 6.0, 5.9, 7.3, 5.3, 7.2, 6.3, 6.3, 6.3, 6.4, 5.7, 6.3]\",\"Player_Names\":\"[Roman Bürki, Tomas Totland, Henry Kessler, Kyle Hiebert, Jannes-Kilian Horn, Rasmus Alm, Eduard Löwen, Akil Watts, Marcel Hartel, Cedric Teuchert, Joao Klauss, Stephen Afrifa, William Agada, Alenis Vargas, Zorhan Bassong, Rémi Walter, Memo Rodriguez, Tim Leibold, Robert Voloder, Daniel Rosero, Jacob Davis, John Pulskamp, Nökkvi Thorisson, Simon Becher, Logan Ndenbe, Khiry Shelton, Johnny Russell, Alan Pulido, Daniel Salloi]\"}'),\n",
       " Row(player_stats='{\"Shirt_Numbers\":\"[]\",\"SPI_Scores\":\"[]\",\"Player_Names\":\"[]\"}'),\n",
       " Row(player_stats='{\"Shirt_Numbers\":\"[97, 67, 15, 28, 8, 31, 17, 20, 21, 9, 26, 9, 11, 10, 77, 20, 18, 4, 5, 6, 2, 95, 11, 7, 14, 14, 99, 21, 7]\",\"SPI_Scores\":\"[7.5, 7.5, 7.2, 7.5, 7.6, 8.3, 7.8, 7.0, 7.3, 9.0, 7.3, 6.5, 6.0, 6.6, 6.5, 6.3, 6.7, 5.8, 5.8, 6.4, 5.7, 5.5, 7.5, 6.0, 6.1, 6.6, 6.2, 6.4, 5.9]\",\"Player_Names\":\"[Dayne St. Clair, Carlos Harvey, Michael Boxall, Jefferson Diaz, Joseph Rosales, Hassani Dotson, Robin Lod, Wil Trapp, Bongokuhle Hlongwane, Kelvin Yeboah, Joaquin Pereyra, Rafael Navarro, Omir Fernandez, Djordje Mihailovic, Darren Yapi, Connor Ronan, Oliver Larraz, Reggie Cannon, Andreas Maxsø, Lalas Abubakar, Keegan Rosenberry, Zack Steffen, Sang-Bin Jeong, Franco Fragapane, Tani Oluwaseyi, Calvin Harris, Jackson Travis, Jasper Löffelsend, Jonathan Lewis]\"}'),\n",
       " Row(player_stats='{\"Shirt_Numbers\":\"[1, 17, 15, 6, 3, 5, 16, 10, 11, 77, 7, 9, 13, 10, 5, 75, 47, 17, 15, 4, 12, 31, 13, 9, 14, 3, 19]\",\"SPI_Scores\":\"[7.0, 6.7, 6.1, 6.3, 6.2, 6.7, 6.2, 6.5, 6.5, 6.4, 6.5, 7.2, 7.2, 7.6, 7.1, 7.0, 7.7, 7.6, 7.4, 7.7, 7.6, 8.1, 6.2, 6.8, 6.7, 6.4, 6.6]\",\"Player_Names\":\"[Pedro Gallese, Dagur Dan Thorhallsson, Rodrigo Adrián Schlegel, Robin Jansson, Rafael Santos, Cesar Araujo, Wilder Cartagena, Facundo Torres, Martin Ojeda, Ivan Angulo, Ramiro Enrique, Lewis Morgan, Dante Vanzeir, Emil Forsberg, Peter Stroud, Daniel Edelman, John Tolkin, Cameron Harper, Sean Nealis, Andres Reyes, Dylan Nealis, Carlos Miguel, Duncan McGuire, Luis Muriel, Nicolás Lodeiro, Noah Eile, Wikelman Carmona]\"}'),\n",
       " Row(player_stats='{\"Shirt_Numbers\":\"[]\",\"SPI_Scores\":\"[]\",\"Player_Names\":\"[]\"}'),\n",
       " Row(player_stats='{\"Shirt_Numbers\":\"[]\",\"SPI_Scores\":\"[]\",\"Player_Names\":\"[]\"}'),\n",
       " Row(player_stats='{\"Shirt_Numbers\":\"[77, 2, 24, 4, 14, 18, 20, 10, 11, 9, 7, 99, 9, 19, 8, 6, 11, 2, 33, 4, 24, 1, 27, 25, 23]\",\"SPI_Scores\":\"[6.1, 7.5, 7.5, 6.9, 7.2, 8.3, 8.2, 9.6, 8.1, 8.9, 6.8, 8.0, 6.3, 7.1, 6.2, 6.2, 7.8, 5.6, 5.4, 5.8, 4.9, 6.6, 6.3, 6.6, 6.4]\",\"Player_Names\":\"[John McCarthy, Miki Yamane, Jalen Neal, Maya Yoshida, John Nelson, Marco Reus, Edwin Cerrillo, Ricard Puig, Gabriel Pec, Dejan Joveljic, Diego Fagundez, Denis Bouanga, Olivier Giroud, Mateusz Bogusz, Lewis O\\'Brien, Ilie Sanchez, Timothy Tillman, Omar Campos, Aaron Long, Eddie Segura, Ryan Hollingshead, Hugo Lloris, Miguel Berry, Maxime Chanot, Kei Ansu Kamara]\"}'),\n",
       " Row(player_stats='{\"Shirt_Numbers\":\"[1, 14, 26, 22, 99, 8, 10, 29, 36, 17, 11, 23, 9, 29, 16, 12, 7, 4, 17, 25, 22, 30, 19, 41, 85, 35, 77, 41, 31]\",\"SPI_Scores\":\"[6.2, 7.5, 7.0, 6.8, 6.9, 7.3, 7.9, 7.6, 8.0, 8.1, 6.9, 6.4, 6.0, 7.4, 6.1, 7.5, 8.3, 6.5, 7.3, 6.4, 6.1, 7.2, 6.5, 6.3, 6.3, 6.4, 6.2, 6.5, 6.1]\",\"Player_Names\":\"[Roman Bürki, Tomas Totland, Tim Parker, Kyle Hiebert, Jayden Reid, Christopher Durkin, Eduard Löwen, Nökkvi Thorisson, Cedric Teuchert, Marcel Hartel, Simon Becher, Logan Farrington, Petar Musa, Sam Junqua, Tsiki Ntsabeleng, Carl Sainte, Paul Arriola, Marco Farfan, Nkosi Tafari, Sebastien Ibeagha, Ema Twumasi, Maarten Paes, Indiana Vassilev, Johnny Klein, Hosei Kijima, Tomas Pondeca, Bernard Kamungo, Tarik Scott, Eugene Ansah]\"}'),\n",
       " Row(player_stats='{\"Shirt_Numbers\":\"[97, 67, 15, 28, 21, 8, 17, 31, 20, 26, 9, 29, 8, 25, 11, 6, 14, 98, 4, 15, 91, 18, 11, 10, 13, 9]\",\"SPI_Scores\":\"[7.2, 7.5, 6.6, 7.4, 7.3, 8.5, 6.3, 6.9, 7.1, 7.2, 7.8, 6.8, 7.0, 8.3, 6.4, 6.6, 8.2, 6.8, 6.3, 7.2, 7.4, 8.2, 5.9, 6.0, 6.6, 5.9]\",\"Player_Names\":\"[Dayne St. Clair, Carlos Harvey, Michael Boxall, Jefferson Diaz, Bongokuhle Hlongwane, Joseph Rosales, Robin Lod, Hassani Dotson, Wil Trapp, Joaquin Pereyra, Kelvin Yeboah, Anderson Julio, Diego Luna, Matt Crooks, Dominik Marczuk, Braian Ojeda, Emeka Eneli, Alexandros Katranis, Brayan Vera, Justen Glad, Javain Brown, Zac MacMath, Sang-Bin Jeong, Diogo Goncalves, Nelson Palacio, Cristian Arango]\"}'),\n",
       " Row(player_stats='{\"Shirt_Numbers\":\"[1, 4, 25, 33, 14, 8, 11, 2, 19, 9, 99, 11, 3, 23, 10, 7, 14, 94, 26, 4, 29, 42, 24, 30, 23, 20, 5, 33, 30, 9, 17]\",\"SPI_Scores\":\"[7.0, 6.6, 6.9, 6.9, 7.7, 8.1, 7.6, 6.6, 7.7, 7.1, 8.7, 6.9, 7.6, 6.8, 7.3, 5.3, 7.4, 6.0, 6.3, 5.5, 6.7, 5.4, 6.3, 6.5, 7.1, 8.1, 7.3, 6.9, 6.6, 6.1, 6.0]\",\"Player_Names\":\"[Hugo Lloris, Eddie Segura, Maxime Chanot, Aaron Long, Sergi Palencia, Lewis O\\'Brien, Timothy Tillman, Omar Campos, Mateusz Bogusz, Olivier Giroud, Denis Bouanga, Jeremy Ebobisse, Paul Marie, Hernan Lopez, Cristian Espinoza, Carlos Gruezo, Jackson Yueill, Vitor Costa, Rodrigues, Bruno Wilson, Carlos Akapo, Daniel, Ryan Hollingshead, David Martinez, Kei Ansu Kamara, Eduard Atuesta, Marlon, Oscar Verhoeven, Niko Tsakiris, Amahl Pellegrino, Ousseni Bouda]\"}'),\n",
       " Row(player_stats='{\"Shirt_Numbers\":\"[1, 14, 29, 34, 21, 8, 28, 10, 23, 38, 33, 9, 14, 19, 30, 24, 22, 5, 18, 2, 29, 16, 13, 9, 13, 11, 27, 99]\",\"SPI_Scores\":\"[7.9, 7.7, 7.7, 7.3, 7.1, 7.5, 8.2, 7.3, 8.3, 7.2, 7.2, 6.1, 6.5, 5.9, 6.1, 6.0, 7.2, 6.6, 6.3, 6.3, 6.5, 6.5, 6.5, 7.3, 6.2, 6.5, 5.9, 6.0]\",\"Player_Names\":\"[Kristijan Kahlina, Nathan Byrne, Adilson Malanda, Andrew Privett, Jere Uronen, Ashley Westwood, Djibril Diani, Brecht Dejaeghere, Nikola Petkovic, Iuri Tavares, Patrick Agyemang, Felipe Mora, Jonathan Rodriguez, Eryk Williamson, Santiago Moreno, David Ayala, Cristhian Paredes, Claudio Bravo, Zac McGraw, Miguel Araujo, Juan Mosquera, Maxime Crepeau, Brandt Bronico, Enzo Copetti, Dario Zuparic, Antony, Dairon Asprilla, Nathan Fogaca]\"}'),\n",
       " Row(player_stats='{\"Shirt_Numbers\":\"[]\",\"SPI_Scores\":\"[]\",\"Player_Names\":\"[]\"}'),\n",
       " Row(player_stats='{\"Shirt_Numbers\":\"[28, 31, 4, 18, 23, 27, 20, 6, 17, 10, 9, 20, 9, 10, 18, 42, 55, 57, 32, 5, 17, 1, 12, 7, 19, 41, 27]\",\"SPI_Scores\":\"[3.9, 5.8, 4.4, 6.9, 7.2, 7.4, 6.7, 7.0, 6.1, 7.5, 6.3, 7.0, 8.0, 8.9, 8.1, 7.4, 6.5, 6.5, 6.7, 7.3, 7.3, 7.8, 6.6, 6.4, 5.8, 6.5, 6.3]\",\"Player_Names\":\"[Patrick Schulte, Steven Moreira, Rudy Camacho, Malte Amundsen, Mohamed Farsi, Max Arfsten, Alexandru Matan, Darlington Nagbe, Christian Ramirez, Diego Rossi, Juan Hernández, Diego Gomez, Luis Suárez, Lionel Messi, Jordi Alba, Yannick Bright, Federico Redondo, Marcelo Weigandt, Noah Allen, Sergio Busquets, Ian Fray, Drake Callender, DeJuan Jones, Dylan Chambost, Jacen Russell-Rowe, David Ruiz, Serhiy Kryvtsov]\"}'),\n",
       " Row(player_stats='{\"Shirt_Numbers\":\"[]\",\"SPI_Scores\":\"[]\",\"Player_Names\":\"[]\"}'),\n",
       " Row(player_stats='{\"Shirt_Numbers\":\"[]\",\"SPI_Scores\":\"[]\",\"Player_Names\":\"[]\"}'),\n",
       " Row(player_stats='{\"Shirt_Numbers\":\"[]\",\"SPI_Scores\":\"[]\",\"Player_Names\":\"[]\"}'),\n",
       " Row(player_stats='{\"Shirt_Numbers\":\"[31, 12, 3, 2, 25, 8, 28, 47, 10, 41, 17, 9, 28, 7, 19, 6, 46, 27, 4, 25, 24, 40, 80, 18, 9, 11, 23, 8, 44]\",\"SPI_Scores\":\"[5.5, 6.9, 6.5, 6.6, 7.6, 6.3, 5.7, 7.7, 8.4, 6.5, 7.2, 6.8, 6.8, 7.0, 7.9, 7.2, 7.8, 6.6, 6.2, 7.0, 7.2, 6.0, 7.1, 6.0, 6.2, 6.6, 6.8, 6.2, 6.0]\",\"Player_Names\":\"[Aljaz Ivacic, Nick Lima, Xavier Arreaga, David Romney, Peyton Miller, Matt Polster, Mark-Anthony Kaye, Esmir Bajraktarevic, Carles Gil, Luca Langoni, Bobby Wood, Matias Coccaro, Jules-Anthony Vilsaint, Kwadwo Opoku, Nathan Saliba, Samuel Piette, Tom Pearce, Dawid Bugaj, Fernando Álvarez, Gabriele Corbo, George Campbell, Jonathan Sirois, Alhassan Yusuf, Emmanuel Boateng, Giacomo Vrioni, Jahkeele Marshall-Rutty, Caden Clark, Dominik Yankov, Raheem Edwards]\"}'),\n",
       " Row(player_stats='{\"Shirt_Numbers\":\"[1, 57, 6, 14, 18, 42, 5, 30, 24, 9, 16, 9, 47, 11, 41, 8, 80, 23, 2, 3, 15, 31, 20, 10, 17]\",\"SPI_Scores\":\"[5.0, 6.7, 6.3, 7.7, 8.8, 8.3, 6.8, 8.5, 7.5, 9.7, 7.6, 6.0, 6.2, 7.6, 7.8, 4.8, 5.8, 4.2, 4.7, 5.5, 5.3, 5.0, 6.8, 9.6, 5.8]\",\"Player_Names\":\"[Drake Callender, Marcelo Weigandt, Tomas Aviles, Hector Martinez, Jordi Alba, Yannick Bright, Sergio Busquets, Benjamin Cremaschi, Julian Gressel, Luis Suárez, Robert Taylor, Giacomo Vrioni, Esmir Bajraktarevic, Dylan Borrero, Luca Langoni, Matt Polster, Alhassan Yusuf, Will Sands, David Romney, Xavier Arreaga, Brandon Bye, Aljaz Ivacic, Diego Gomez, Lionel Messi, Bobby Wood]\"}'),\n",
       " Row(player_stats='{\"Shirt_Numbers\":\"[]\",\"SPI_Scores\":\"[]\",\"Player_Names\":\"[]\"}'),\n",
       " Row(player_stats='{\"Shirt_Numbers\":\"[]\",\"SPI_Scores\":\"[]\",\"Player_Names\":\"[]\"}'),\n",
       " Row(player_stats='{\"Shirt_Numbers\":\"[]\",\"SPI_Scores\":\"[]\",\"Player_Names\":\"[]\"}'),\n",
       " Row(player_stats='{\"Shirt_Numbers\":\"[]\",\"SPI_Scores\":\"[]\",\"Player_Names\":\"[]\"}'),\n",
       " Row(player_stats='{\"Shirt_Numbers\":\"[]\",\"SPI_Scores\":\"[]\",\"Player_Names\":\"[]\"}'),\n",
       " Row(player_stats='{\"Shirt_Numbers\":\"[25, 29, 26, 4, 94, 7, 14, 10, 23, 9, 11, 9, 13, 10, 8, 14, 77, 17, 15, 4, 16, 1, 28, 30, 19, 27, 3, 11]\",\"SPI_Scores\":\"[6.8, 7.2, 7.6, 6.7, 7.4, 6.9, 7.1, 6.8, 6.7, 6.0, 5.3, 7.1, 6.0, 7.0, 7.5, 8.2, 7.7, 7.2, 7.4, 7.8, 7.8, 8.2, 6.2, 6.4, 6.4, 6.5, 6.4, 6.9]\",\"Player_Names\":\"[William Yarbrough, Carlos Akapo, Rodrigues, Bruno Wilson, Vitor Costa, Carlos Gruezo, Jackson Yueill, Cristian Espinoza, Hernan Lopez, Amahl Pellegrino, Jeremy Ebobisse, Luis Muriel, Duncan McGuire, Facundo Torres, Felipe, Nicolás Lodeiro, Ivan Angulo, Dagur Dan Thorhallsson, Rodrigo Adrián Schlegel, David Brekalo, Wilder Cartagena, Pedro Gallese, Benjamin Kikanovic, Niko Tsakiris, Preston Judd, Jack Lynn, Rafael Santos, Martin Ojeda]\"}'),\n",
       " Row(player_stats='{\"Shirt_Numbers\":\"[31, 17, 15, 6, 3, 11, 24, 14, 77, 27, 9, 14, 13, 10, 11, 8, 5, 29, 2, 4, 17, 1, 8, 7, 33, 9, 16]\",\"SPI_Scores\":\"[7.3, 8.6, 6.9, 7.0, 7.8, 7.5, 7.0, 8.1, 7.7, 7.5, 6.8, 5.9, 6.3, 6.1, 5.9, 6.3, 6.5, 6.6, 6.3, 6.6, 6.8, 6.7, 6.3, 5.9, 6.2, 5.9, 6.1]\",\"Player_Names\":\"[Mason Stajduhar, Dagur Dan Thorhallsson, Rodrigo Adrián Schlegel, Robin Jansson, Rafael Santos, Martin Ojeda, Kyle Smith, Nicolás Lodeiro, Ivan Angulo, Jack Lynn, Luis Muriel, Diego Rubio, Ethan Finlay, Sebastian Driussi, Jader Obrian, Alexander Ring, Jhojan Valencia, Guilherme, Matt Hedges, Brendan Hines-Ike, Jon Gallagher, Brad Stuver, Felipe, Emiliano Ariel Rigoni, Owen Wolff, Gyasi Zardes, Hector Jimenez]\"}'),\n",
       " Row(player_stats='{\"Shirt_Numbers\":\"[12, 25, 28, 31, 2, 16, 6, 27, 8, 18, 10, 9, 14, 10, 7, 18, 6, 5, 25, 28, 16, 24, 35, 75, 93]\",\"SPI_Scores\":\"[6.2, 7.1, 7.5, 7.2, 7.0, 6.7, 7.0, 6.6, 6.9, 7.1, 6.6, 5.9, 6.3, 7.1, 6.6, 6.8, 6.5, 7.2, 7.0, 6.8, 7.2, 8.6, 6.2, 6.8, 6.8]\",\"Player_Names\":\"[Steve Clark, Griffin Dorsey, Erik Sviatchenko, Micael, Franco Escobar, Héctor Herrera, Artur, Sebastian Kowalczyk, Amine Bassi, Ibrahim Aliyu, Ezequiel Ponce, Raul Ruidiaz, Paul Rothrock, Pedro De la Vega, Cristian Roldan, Obed Vargas, Joao Paulo, Nouhou Tolo, Jackson Ragen, Yeimar Gomez, Alex Roldan, Stefan Frei, Brooklyn Raines, Danny Leyva, Georgi Minoungou]\"}'),\n",
       " Row(player_stats='{\"Shirt_Numbers\":\"[18, 26, 5, 3, 27, 31, 33, 16, 10, 7, 28, 20, 10, 5, 43, 8, 7, 22, 4, 97, 16, 24, 11, 21, 15, 11, 23, 21, 14]\",\"SPI_Scores\":\"[8.5, 7.9, 7.4, 7.5, 7.8, 7.5, 8.8, 6.9, 8.9, 7.8, 8.9, 6.0, 5.7, 6.1, 6.1, 6.2, 7.6, 6.6, 6.0, 5.6, 5.6, 6.5, 6.6, 6.3, 6.2, 6.5, 6.0, 6.3, 6.5]\",\"Player_Names\":\"[Andre Blake, Nathan Harriel, Jakob Glesnes, Jack Elliott, Kai Wagner, Leon Flach, Quinn Sullivan, Jack McGlynn, Daniel Gazdag, Mikael Uhre, Tai Baribo, Christian Benteke, Gabriel Pirani, Boris Enow, Mateusz Klich, Jared Stroud, Pedro Santos, Aaron Herrera, Matti Peltola, Christopher McVey, Garrison Tubbs, Alex Bono, Alejandro Bedoya, Danley Jean Jacques, Olivier Mbaizo, Cristian Dajome, Dominique Badji, Theodore Ku-DiPietro, Martin Rodriguez]\"}'),\n",
       " Row(player_stats='{\"Shirt_Numbers\":\"[]\",\"SPI_Scores\":\"[]\",\"Player_Names\":\"[]\"}'),\n",
       " Row(player_stats='{\"Shirt_Numbers\":\"[1, 24, 25, 4, 13, 11, 8, 2, 19, 9, 99, 9, 36, 17, 3, 10, 21, 99, 4, 5, 2, 39, 23, 30, 20, 38, 14, 29, 11]\",\"SPI_Scores\":\"[7.2, 7.8, 7.5, 7.1, 7.1, 8.0, 7.7, 7.3, 7.4, 6.8, 8.9, 6.3, 6.7, 7.0, 6.3, 6.6, 6.1, 6.7, 6.9, 6.4, 6.4, 7.3, 6.6, 6.5, 6.7, 6.4, 6.7, 5.9, 5.9]\",\"Player_Names\":\"[Hugo Lloris, Ryan Hollingshead, Maxime Chanot, Eddie Segura, Cristian Olivera, Timothy Tillman, Lewis O\\'Brien, Omar Campos, Mateusz Bogusz, Olivier Giroud, Denis Bouanga, Joao Klauss, Cedric Teuchert, Marcel Hartel, Jake Girdwood-Reich, Eduard Löwen, Rasmus Alm, Jayden Reid, Joakim Nilsson, Henry Kessler, Jakob Nerwinski, Benjamin Lundt, Kei Ansu Kamara, David Martinez, Akil Watts, Jannes-Kilian Horn, Tomas Totland, Nökkvi Thorisson, Simon Becher]\"}'),\n",
       " Row(player_stats='{\"Shirt_Numbers\":\"[]\",\"SPI_Scores\":\"[]\",\"Player_Names\":\"[]\"}'),\n",
       " Row(player_stats='{\"Shirt_Numbers\":\"[]\",\"SPI_Scores\":\"[]\",\"Player_Names\":\"[]\"}'),\n",
       " Row(player_stats='{\"Shirt_Numbers\":\"[49, 24, 12, 5, 22, 6, 55, 11, 10, 17, 7, 11, 9, 23, 10, 30, 14, 3, 4, 26, 15, 25, 35, 16, 88, 27, 8, 24]\",\"SPI_Scores\":\"[6.9, 7.8, 7.0, 7.1, 6.4, 8.0, 8.1, 5.9, 8.9, 8.1, 6.7, 6.9, 7.0, 6.9, 6.7, 7.3, 4.6, 7.0, 6.6, 5.0, 5.3, 4.0, 6.2, 9.5, 6.5, 7.7, 7.3, 6.5]\",\"Player_Names\":\"[Matt Freese, Tayvon Gray, Strahinja Tanasijevic, Birk Risa, Kevin O\\'Toole, James Sands, Keaton Parks, Julian Fernandez, Santiago Rodriguez, Hannes Wolf, Jovan Mijatovic, Jeremy Ebobisse, Amahl Pellegrino, Hernan Lopez, Cristian Espinoza, Niko Tsakiris, Jackson Yueill, Paul Marie, Bruno Wilson, Rodrigues, Tanner Beason, William Yarbrough, Mitja Ilenic, Alonso Martinez, Malachi Jones, Maxi Moralez, Andres Perea, Daniel Munie]\"}'),\n",
       " Row(player_stats='{\"Shirt_Numbers\":\"[]\",\"SPI_Scores\":\"[]\",\"Player_Names\":\"[]\"}')]"
      ]
     },
     "execution_count": 29,
     "metadata": {},
     "output_type": "execute_result"
    }
   ],
   "source": [
    "match_rows = g.collect()\n",
    "match_rows"
   ]
  },
  {
   "cell_type": "code",
   "execution_count": 30,
   "metadata": {},
   "outputs": [],
   "source": [
    "import json\n",
    "import ast"
   ]
  },
  {
   "cell_type": "markdown",
   "metadata": {},
   "source": [
    "\"Player_Names\":\"[Drake Callender, DeAndre Yedlin, Tomas Aviles, Serhiy Kryvtsov, Jordi Alba, Julian Gressel, Sergio Busquets, Diego Gomez, Lionel Messi, Luis Suárez, Robert Taylor, Cristian Arango, Carlos Gomez, Pablo Ruiz, Diego Luna, Nelson Palacio, Braian Ojeda, Andrew Brody, Brayan Vera, Justen Glad, Emeka Eneli, Zac MacMath, David Ruiz, Jean Mota, Noah Allen, Anderson Julio, Fidel Barajas, Noel Caliskan]\""
   ]
  },
  {
   "cell_type": "code",
   "execution_count": 31,
   "metadata": {},
   "outputs": [
    {
     "name": "stdout",
     "output_type": "stream",
     "text": [
      "[7.3, 7.2, 7.6, 7.5, 7.7, 6.9, 7.8, 8.6, 8.5, 7.9, 8.4, 6.4, 5.3, 7.0, 6.9, 6.3, 6.9, 6.5, 6.6, 6.5, 6.8, 5.9, 6.3, 6.0, 6.1, 6.1, 6.1, 6.3, 2.9, 5.4, 3.8, 6.0, 4.4, 5.1, 6.0, 6.4, 8.2, 6.4, 7.1, 7.4, 8.3, 8.5, 7.5, 7.6, 7.6, 7.7, 7.6, 8.3, 7.9, 8.1, 6.8, 6.5, 6.4, 6.1, 6.2, 6.2, 7.1, 6.8, 6.9, 7.5, 7.2, 8.4, 8.1, 7.8, 7.9, 7.3, 7.9, 7.7, 6.9, 6.2, 6.2, 6.0, 6.1, 6.2, 7.3, 6.3, 6.3, 6.6, 6.4, 5.9, 7.4, 6.3, 5.8, 6.2, 5.8, 7.6, 7.8, 8.1, 7.2, 8.9, 7.5, 7.6, 6.7, 7.8, 7.3, 7.2, 6.5, 6.8, 7.8, 7.7, 6.0, 6.2, 6.7, 6.8, 6.6, 6.9, 6.4, 7.3, 6.1, 6.3, 6.3, 8.6, 7.6, 7.7, 7.1, 7.3, 7.4, 7.0, 6.8, 8.6, 8.8, 6.9, 6.0, 6.6, 6.6, 6.4, 6.9, 7.4, 5.8, 6.4, 5.4, 5.7, 4.8, 6.3, 6.2, 6.4, 6.3, 6.2, 5.8, 6.1, 5.6, 6.4, 7.1, 7.3, 5.9, 5.9, 6.8, 6.4, 4.6, 8.0, 8.0, 8.8, 8.0, 7.3, 7.2, 8.0, 7.2, 7.6, 7.6, 7.5, 6.0, 6.1, 6.4, 6.1, 6.2, 6.0, 6.0, 6.1, 5.8, 8.2, 7.7, 7.3, 7.1, 7.0, 7.4, 7.5, 7.6, 9.0, 6.7, 8.0, 6.3, 7.1, 6.9, 6.5, 5.3, 6.6, 5.4, 5.3, 5.2, 5.8, 6.0, 6.3, 7.6, 8.5, 4.9, 5.9, 6.4, 6.3, 6.3, 6.3, 6.2, 6.4, 5.5, 6.3, 6.6, 6.0, 6.5, 6.3, 6.4, 7.0, 8.4, 8.2, 7.3, 6.7, 7.0, 6.9, 8.1, 6.9, 7.5, 8.2, 8.9, 6.6, 6.9, 6.2, 6.2, 8.1, 6.7, 7.5, 5.1, 7.6, 7.4, 6.2, 6.6, 6.4, 8.1, 7.8, 8.2, 7.0, 6.2, 7.5, 8.9, 8.2, 6.3, 7.2, 8.8, 7.6, 6.2, 6.8, 6.9, 7.9, 6.0, 6.3, 6.5, 6.9, 6.2, 7.0, 6.8, 7.1, 7.5, 6.4, 7.9, 6.7, 5.9, 7.2, 7.4, 7.8, 8.1, 7.1, 6.5, 8.0, 7.4, 7.9, 7.4, 6.0, 6.4, 6.6, 6.7, 7.0, 6.7, 5.9, 6.2, 7.6, 6.8, 6.4, 6.0, 6.7, 7.4, 6.9, 5.8, 7.5, 6.6, 7.6, 6.7, 8.0, 6.2, 7.8, 6.0, 7.2, 7.5, 7.4, 6.6, 7.2, 7.4, 7.2, 7.0, 6.7, 6.0, 6.2, 6.8, 6.0, 6.8, 6.7, 6.1, 6.3, 4.6, 5.9, 6.2, 6.5, 6.3, 6.6, 8.1, 6.9, 6.2, 6.5, 6.9, 8.3, 6.6, 8.9, 9.1, 6.9, 6.8, 7.0, 7.7, 6.9, 7.2, 7.1, 6.2, 6.0, 5.8, 6.3, 6.2, 7.2, 6.6, 5.3, 5.9, 4.9, 5.5, 6.9, 6.9, 8.3, 8.8, 9.0, 6.0, 8.7, 7.4, 7.2, 7.4, 5.9, 7.2, 8.3, 6.4, 7.9, 6.7, 5.3, 5.8, 7.4, 6.7, 9.0, 6.4, 7.0, 5.4, 6.5, 6.1, 6.3, 5.9, 7.0, 6.3, 7.0, 6.7, 5.8, 6.5, 7.5, 8.2, 8.5, 7.8, 7.4, 7.7, 7.4, 7.2, 7.5, 7.3, 8.1, 6.5, 5.8, 6.3, 6.1, 6.3, 6.0, 6.7, 7.1, 7.1, 7.1, 6.4, 7.3, 6.9, 5.9, 7.2, 6.4, 7.3, 6.1, 7.6, 6.9, 6.9, 6.5, 6.5, 6.8, 6.7, 7.8, 6.4, 6.3, 6.3, 6.2, 6.0, 6.5, 6.2, 7.5, 7.1, 6.4, 6.7, 7.6, 8.1, 8.3, 6.4, 7.1, 6.8, 5.7, 6.7, 6.5, 6.0, 6.8, 6.3, 7.2, 6.9, 6.5, 6.6, 6.2, 6.7, 6.6, 7.0, 6.3, 7.2, 6.1, 5.3, 6.1, 4.7, 5.2, 6.2, 6.9, 6.8, 6.7, 5.9, 6.2, 6.5, 8.5, 7.9, 9.7, 6.7, 7.9, 8.2, 7.4, 7.5, 7.5, 7.6, 7.4, 6.1, 6.0, 6.4, 6.0, 6.4, 6.3, 6.1, 6.5, 7.0, 6.9, 7.1, 7.2, 7.3, 7.1, 7.3, 9.3, 8.3, 7.7, 7.3, 6.2, 6.3, 6.1, 8.8, 6.1, 6.2, 5.8, 6.1, 6.2, 5.8, 5.4, 6.1, 7.4, 6.5, 5.1, 7.6, 7.4, 6.2, 6.6, 6.4, 8.1, 7.8, 8.2, 7.0, 6.2, 7.5, 8.9, 8.2, 6.3, 7.2, 8.8, 7.6, 6.2, 6.8, 6.9, 7.9, 6.0, 6.3, 6.5, 6.9, 6.2, 7.0, 7.7, 7.2, 6.8, 6.8, 7.9, 6.7, 6.8, 8.1, 6.9, 6.7, 6.5, 7.2, 6.8, 7.1, 6.4, 6.2, 6.8, 7.2, 6.5, 7.0, 7.3, 8.6, 6.6, 7.1, 5.7, 6.3, 7.3, 7.1, 8.1, 7.5, 7.5, 7.6, 7.8, 6.4, 7.5, 8.1, 7.4, 7.8, 7.0, 6.6, 7.1, 6.9, 6.4, 7.4, 7.0, 7.7, 6.9, 6.8, 6.6, 7.0, 6.5, 6.2, 5.4, 6.0, 5.6, 5.8, 6.4, 6.4, 6.8, 6.3, 6.9, 6.8, 6.0, 8.3, 6.8, 6.8, 7.8, 7.3, 8.2, 6.5, 6.3, 8.0, 7.6, 7.2, 6.9, 6.4, 6.2, 6.7, 6.4, 6.0, 7.2, 6.2, 6.5, 5.3, 6.3, 6.8, 6.1, 5.8, 6.4, 6.1, 7.9, 7.2, 6.5, 7.7, 7.4, 7.0, 8.8, 7.4, 8.1, 7.4, 8.5, 6.7, 7.2, 7.7, 8.1, 7.1, 6.2, 7.0, 6.4, 8.1, 7.3, 8.0, 7.5, 6.5, 8.2, 7.1, 6.5, 6.1, 5.8, 6.1, 6.5, 7.3, 7.2, 6.6, 8.2, 7.9, 7.0, 7.2, 7.7, 7.5, 7.4, 5.8, 6.3, 6.0, 6.8, 6.1, 6.2, 4.6, 7.5, 6.9, 6.1, 7.1, 8.8, 6.5, 7.1, 8.4, 7.5, 8.4, 6.3, 7.2, 5.5, 7.6, 5.9, 5.7, 5.8, 5.3, 5.8, 4.8, 5.1, 8.6, 5.4, 6.7, 6.5, 6.3, 8.6, 7.6, 4.3, 7.0, 6.2, 7.4, 7.1, 7.4, 6.8, 7.1, 8.3, 5.7, 6.4, 6.4, 9.1, 8.7, 7.3, 7.5, 7.3, 7.0, 7.2, 6.7, 7.5, 7.3, 5.8, 6.7, 5.6, 6.5, 6.3, 6.2, 6.9, 6.5, 6.1, 6.4, 6.9, 6.4, 7.9, 7.3, 6.2, 7.6, 6.4, 6.2, 6.5, 8.0, 7.2, 6.8, 7.9, 6.4, 6.5, 7.5, 5.9, 6.5, 6.3, 6.5, 7.3, 6.3, 6.1, 7.4, 6.8, 7.0, 7.8, 6.8, 7.4, 8.5, 7.6, 7.5, 9.1, 7.3, 7.5, 6.1, 6.7, 6.5, 6.6, 6.0, 6.3, 6.0, 5.9, 7.3, 5.3, 7.2, 6.3, 6.3, 6.3, 6.4, 5.7, 6.3, 6.9, 8.2, 6.4, 7.0, 6.6, 7.2, 6.2, 8.2, 8.3, 6.3, 6.9, 8.2, 6.6, 6.9, 7.1, 7.7, 6.6, 8.1, 7.4, 8.0, 7.1, 8.8, 6.6, 7.2, 6.4, 6.4, 6.8, 7.5, 6.5, 6.4, 6.3, 6.3, 6.2, 6.4, 5.5, 6.3, 6.6, 6.0, 6.5, 6.3, 6.4, 7.0, 8.4, 8.2, 7.3, 6.7, 7.0, 6.9, 8.1, 6.9, 7.5, 8.2, 8.9, 6.6, 6.9, 6.2, 6.2, 8.1, 6.7, 7.5, 5.9, 6.0, 6.1, 6.3, 6.7, 6.5, 7.1, 6.1, 8.2, 6.6, 8.2, 8.8, 7.8, 6.9, 7.0, 7.4, 7.1, 7.8, 7.6, 6.6, 6.9, 7.0, 6.4, 6.2, 6.7, 6.3, 6.4, 7.8, 6.5, 7.8, 6.8, 7.5, 6.9, 6.8, 7.4, 6.2, 8.2, 7.0, 6.0, 5.9, 7.4, 6.2, 6.4, 7.4, 7.0, 6.3, 6.7, 6.3, 5.8, 6.2, 6.6, 6.9, 6.4, 6.7, 6.6, 7.0, 6.6, 6.5, 7.0, 6.1, 6.6, 6.8, 7.1, 5.9, 6.6, 6.9, 6.9, 6.7, 7.1, 8.6, 7.5, 7.5, 8.2, 6.8, 8.3, 6.1, 7.0, 6.8, 6.9, 6.5, 6.5, 6.4, 6.0, 6.4, 8.1, 6.8, 7.0, 9.1, 6.3, 6.8, 7.1, 7.2, 6.5, 6.7, 6.7, 6.5, 7.1, 7.3, 7.2, 7.1, 7.3, 6.7, 6.6, 7.5, 7.5, 6.6, 6.5, 6.0, 6.5, 6.4, 6.5, 6.4, 6.5, 7.8, 6.6, 6.4, 7.1, 6.6, 8.6, 6.3, 7.4, 8.1, 7.8, 7.7, 7.9, 8.2, 7.0, 6.9, 7.3, 8.7, 7.0, 6.4, 6.3, 5.8, 6.0, 7.8, 4.6, 5.9, 6.2, 6.5, 6.3, 6.6, 8.1, 6.9, 6.2, 6.5, 6.9, 8.3, 6.6, 8.9, 9.1, 6.9, 6.8, 7.0, 7.7, 6.9, 7.2, 7.1, 6.2, 6.0, 5.8, 6.3, 6.2, 7.2, 7.9, 7.2, 6.6, 6.6, 6.4, 7.5, 7.0, 7.5, 6.6, 6.8, 7.2, 7.5, 7.5, 6.9, 7.2, 6.8, 6.4, 8.0, 6.7, 5.5, 6.9, 6.9, 6.1, 6.4, 5.9, 7.8, 7.0, 7.2, 7.9, 7.0, 8.3, 6.6, 7.1, 7.1, 8.6, 9.1, 5.8, 5.8, 6.5, 6.3, 6.4, 6.4, 6.4, 6.9, 6.5, 6.4, 8.4, 6.4, 7.0, 6.7, 6.6, 5.7, 6.2, 6.0, 7.2, 7.5, 6.6, 7.4, 7.3, 8.5, 6.3, 6.9, 7.1, 7.2, 7.8, 6.8, 7.0, 8.3, 6.4, 6.6, 8.2, 6.8, 6.3, 7.2, 7.4, 8.2, 5.9, 6.0, 6.6, 5.9, 5.9, 6.0, 5.4, 7.0, 6.9, 7.5, 6.4, 7.8, 9.0, 7.8, 8.3, 7.7, 8.9, 8.4, 7.7, 8.3, 7.3, 6.1, 6.0, 6.4, 5.5, 5.0, 6.4, 6.5, 5.9, 6.8, 6.3, 6.6, 6.9, 6.9, 6.8, 6.4, 7.1, 8.2, 8.1, 6.6, 6.2, 6.6, 8.0, 7.5, 7.1, 6.6, 6.8, 6.8, 7.5, 7.1, 7.1, 7.1, 6.7, 6.5, 5.9, 6.2, 6.1, 6.4, 5.8, 6.1, 5.6, 6.4, 7.1, 7.3, 5.9, 5.9, 6.8, 6.4, 4.6, 8.0, 8.0, 8.8, 8.0, 7.3, 7.2, 8.0, 7.2, 7.6, 7.6, 7.5, 6.0, 6.1, 6.4, 6.1, 6.2, 6.0, 6.0, 6.1, 5.8, 7.7, 7.2, 6.8, 6.8, 7.9, 6.7, 6.8, 8.1, 6.9, 6.7, 6.5, 7.2, 6.8, 7.1, 6.4, 6.2, 6.8, 7.2, 6.5, 7.0, 7.3, 8.6, 6.6, 7.1, 5.7, 6.3, 7.3, 7.1, 8.2, 6.5, 6.8, 7.3, 6.9, 7.2, 7.1, 8.1, 5.9, 6.5, 8.0, 6.3, 7.5, 6.9, 6.8, 7.3, 8.1, 7.0, 7.3, 7.8, 6.6, 7.1, 6.1, 6.2, 6.2, 7.0, 6.2, 8.0, 7.1, 8.0, 7.9, 6.9, 8.3, 7.7, 8.4, 7.4, 6.9, 8.0, 6.9, 6.3, 6.9, 6.7, 5.6, 6.4, 6.8, 6.9, 6.6, 5.7, 7.2, 6.2, 6.4, 6.3, 6.7, 5.9, 5.7, 6.2, 5.1, 7.6, 7.4, 6.2, 6.6, 6.4, 8.1, 7.8, 8.2, 7.0, 6.2, 7.5, 8.9, 8.2, 6.3, 7.2, 8.8, 7.6, 6.2, 6.8, 6.9, 7.9, 6.0, 6.3, 6.5, 6.9, 6.2, 7.0, 7.0, 6.7, 6.6, 6.3, 7.0, 6.9, 7.4, 6.5, 7.2, 6.6, 7.4, 7.8, 6.8, 6.5, 5.7, 7.1, 6.6, 6.2, 7.5, 7.3, 7.4, 6.4, 6.2, 6.2, 6.1, 5.9, 6.4, 6.5, 7.3, 6.4, 6.9, 8.2, 6.4, 7.0, 6.6, 7.2, 6.2, 8.2, 8.3, 6.3, 6.9, 8.2, 6.6, 6.9, 7.1, 7.7, 6.6, 8.1, 7.4, 8.0, 7.1, 8.8, 6.6, 7.2, 6.4, 6.4, 6.8, 7.5, 6.5, 6.4, 6.3, 6.7, 6.6, 7.0, 6.6, 6.5, 7.0, 6.1, 6.6, 6.8, 7.1, 5.9, 6.6, 6.9, 6.9, 6.7, 7.1, 8.6, 7.5, 7.5, 8.2, 6.8, 8.3, 6.1, 7.0, 6.8, 6.9, 6.5, 6.5, 6.4, 6.0, 7.5, 6.7, 7.8, 5.1, 6.7, 6.2, 6.6, 6.1, 7.3, 5.7, 5.3, 6.1, 6.8, 6.0, 7.7, 7.8, 7.8, 7.3, 7.0, 7.5, 7.4, 8.1, 6.2, 6.4, 6.8, 7.5, 6.2, 6.3, 6.1, 7.5, 6.5, 6.9, 7.3, 7.9, 7.9, 7.4, 6.4, 9.0, 6.8, 7.1, 7.2, 6.7, 7.4, 6.8, 6.8, 6.6, 6.1, 6.2, 5.9, 6.2, 6.5, 6.1, 7.3, 6.8, 6.4, 6.5, 6.1, 8.5, 6.9, 7.5, 7.6, 6.6, 7.7, 6.9, 7.8, 6.9, 7.6, 6.1, 5.8, 6.3, 7.0, 6.7, 7.6, 6.9, 7.6, 6.7, 7.3, 6.5, 9.1, 6.5, 6.1, 7.3, 6.9, 7.4, 7.6, 7.6, 7.3, 7.8, 7.5, 8.8, 7.9, 6.5, 6.3, 6.5, 6.8, 6.3, 7.5, 6.4, 6.7, 6.3, 6.1, 6.0, 5.8, 6.3, 5.9, 6.6, 6.3, 5.9, 8.1, 6.9, 7.4, 7.5, 7.3, 7.7, 7.6, 7.0, 7.7, 7.5, 7.7, 5.6, 7.0, 6.2, 6.6, 6.4, 6.4, 6.6, 7.1, 6.9, 6.7, 6.8, 6.5, 6.6, 6.1, 5.9, 6.3, 5.9, 6.5, 6.4, 6.4, 6.2, 6.3, 5.7, 6.4, 6.9, 7.3, 6.3, 6.0, 7.4, 6.4, 8.2, 7.3, 7.7, 7.0, 8.3, 7.3, 6.7, 8.3, 7.5, 6.9, 6.6, 7.0, 6.2, 6.5, 5.8, 6.1, 5.6, 6.4, 7.1, 7.3, 5.9, 5.9, 6.8, 6.4, 4.6, 8.0, 8.0, 8.8, 8.0, 7.3, 7.2, 8.0, 7.2, 7.6, 7.6, 7.5, 6.0, 6.1, 6.4, 6.1, 6.2, 6.0, 6.0, 6.1, 5.8, 7.7, 6.9, 7.8, 7.3, 6.7, 6.9, 8.4, 8.0, 6.6, 9.0, 7.8, 6.2, 6.3, 6.8, 6.8, 5.5, 4.9, 6.6, 5.8, 5.9, 5.1, 5.2, 6.9, 6.4, 7.7, 7.4, 7.2, 6.4, 5.8, 6.1, 6.0, 6.0, 7.5, 7.5, 7.2, 7.5, 7.6, 8.3, 7.8, 7.0, 7.3, 9.0, 7.3, 6.5, 6.0, 6.6, 6.5, 6.3, 6.7, 5.8, 5.8, 6.4, 5.7, 5.5, 7.5, 6.0, 6.1, 6.6, 6.2, 6.4, 5.9, 8.5, 6.9, 7.5, 7.6, 6.6, 7.7, 6.9, 7.8, 6.9, 7.6, 6.1, 5.8, 6.3, 7.0, 6.7, 7.6, 6.9, 7.6, 6.7, 7.3, 6.5, 9.1, 6.5, 6.1, 7.8, 6.5, 7.8, 6.8, 7.5, 6.9, 6.8, 7.4, 6.2, 8.2, 7.0, 6.0, 5.9, 7.4, 6.2, 6.4, 7.4, 7.0, 6.3, 6.7, 6.3, 5.8, 6.2, 6.6, 6.9, 6.4, 8.5, 6.6, 5.9, 7.2, 6.8, 7.8, 8.7, 6.2, 7.0, 7.3, 7.5, 6.6, 7.9, 7.1, 8.2, 6.5, 8.2, 7.3, 7.2, 7.4, 7.5, 6.9, 6.3, 6.4, 6.4, 6.0, 6.9, 6.1, 6.5, 6.4, 6.4, 6.2, 6.3, 5.7, 6.4, 6.9, 7.3, 6.3, 6.0, 7.4, 6.4, 8.2, 7.3, 7.7, 7.0, 8.3, 7.3, 6.7, 8.3, 7.5, 6.9, 6.6, 7.0, 6.2, 6.5, 7.0, 7.0, 6.6, 7.4, 7.3, 8.1, 6.8, 6.7, 8.3, 7.7, 6.8, 5.8, 6.1, 6.9, 7.6, 8.0, 6.4, 6.8, 4.8, 5.9, 6.7, 5.7, 8.1, 6.1, 6.3, 6.8, 6.5, 6.1, 5.8, 6.4, 8.5, 5.6, 7.8, 7.6, 8.2, 7.7, 7.0, 7.9, 7.1, 9.1, 7.2, 6.0, 6.0, 5.7, 7.0, 5.7, 7.2, 7.1, 6.5, 5.9, 6.6, 5.6, 6.9, 6.2, 6.2, 6.3, 6.4, 6.2, 6.9, 8.2, 6.4, 7.0, 6.6, 7.2, 6.2, 8.2, 8.3, 6.3, 6.9, 8.2, 6.6, 6.9, 7.1, 7.7, 6.6, 8.1, 7.4, 8.0, 7.1, 8.8, 6.6, 7.2, 6.4, 6.4, 6.8, 7.5, 6.5, 6.4, 6.3, 6.6, 7.3, 7.4, 7.2, 7.4, 8.0, 6.5, 7.9, 8.0, 6.6, 7.2, 6.0, 8.1, 6.4, 6.6, 6.7, 7.0, 7.9, 5.9, 6.2, 6.7, 6.8, 6.9, 7.2, 6.8, 6.2, 6.0, 6.0, 7.1, 7.2, 6.9, 7.7, 7.1, 8.3, 7.7, 6.9, 7.4, 6.3, 7.3, 7.5, 5.9, 4.7, 6.0, 7.8, 6.5, 6.2, 6.6, 6.0, 5.9, 5.7, 6.6, 6.4, 6.1, 5.9, 6.4, 5.8, 6.7, 6.2, 7.1, 7.5, 7.2, 7.0, 6.7, 7.0, 6.6, 6.9, 7.1, 6.6, 5.9, 6.3, 7.1, 6.6, 6.8, 6.5, 7.2, 7.0, 6.8, 7.2, 8.6, 6.2, 6.8, 6.8, 8.5, 7.9, 7.4, 7.5, 7.8, 7.5, 8.8, 6.9, 8.9, 7.8, 8.9, 6.0, 5.7, 6.1, 6.1, 6.2, 7.6, 6.6, 6.0, 5.6, 5.6, 6.5, 6.6, 6.3, 6.2, 6.5, 6.0, 6.3, 6.5, 7.4, 6.7, 7.4, 7.0, 6.6, 6.5, 7.5, 8.0, 7.8, 8.5, 7.4, 6.9, 6.5, 6.1, 6.5, 7.2, 6.3, 6.1, 6.1, 6.2, 6.6, 5.7, 7.1, 6.3, 6.4, 5.8, 5.8, 6.2, 6.3, 6.6, 5.9, 6.3, 7.1, 8.5, 6.9, 7.3, 7.9, 6.3, 6.6, 7.6, 7.0, 6.6, 6.2, 6.3, 8.0, 7.7, 6.6, 7.2, 7.1, 6.5, 7.1, 7.0, 7.7, 6.6, 6.6, 6.5, 7.2, 7.1, 8.6, 6.7, 8.0, 7.5, 7.1, 8.1, 9.0, 9.3, 9.3, 8.9, 6.6, 6.2, 6.5, 6.7, 4.7, 4.7, 4.4, 4.5, 5.2, 5.6, 6.4, 6.0, 6.1, 6.7, 7.8, 8.1, 6.3, 6.4, 6.8, 7.6, 7.4, 6.6, 8.6, 7.3, 6.5, 8.0, 7.0, 7.1, 7.6, 7.7, 7.2, 6.6, 8.4, 6.3, 6.7, 8.1, 6.5, 7.5, 7.6, 6.0, 7.8, 6.5, 7.8, 6.8, 7.5, 6.9, 6.8, 7.4, 6.2, 8.2, 7.0, 6.0, 5.9, 7.4, 6.2, 6.4, 7.4, 7.0, 6.3, 6.7, 6.3, 5.8, 6.2, 6.6, 6.9, 6.4, 6.5, 7.1, 6.8, 7.2, 6.6, 6.1, 6.9, 6.7, 7.9, 7.4, 6.3, 6.7, 6.9, 6.2, 7.4, 7.4, 7.2, 6.7, 7.7, 7.7, 7.1, 6.5, 6.1, 6.3, 6.2, 6.2, 6.7, 6.8, 6.8, 6.9, 7.5, 7.8, 7.3, 7.2, 7.2, 6.3, 7.7, 9.3, 6.7, 7.1, 7.3, 6.5, 6.4, 6.1, 6.8, 5.6, 6.1, 6.5, 5.4, 7.3, 6.5, 6.4, 6.5, 6.5, 5.7, 5.8, 8.5, 5.6, 7.8, 7.6, 8.2, 7.7, 7.0, 7.9, 7.1, 9.1, 7.2, 6.0, 6.0, 5.7, 7.0, 5.7, 7.2, 7.1, 6.5, 5.9, 6.6, 5.6, 6.9, 6.2, 6.2, 6.3, 6.4, 6.2, 6.1, 7.5, 5.9, 5.8, 7.3, 7.1, 5.9, 6.1, 8.0, 6.9, 7.1, 7.8, 7.2, 7.7, 7.3, 7.0, 6.6, 7.6, 7.4, 6.7, 8.4, 6.7, 7.5, 6.2, 6.4, 6.7, 6.1, 6.1, 6.1, 6.9, 7.2, 7.1, 7.2, 7.6, 7.6, 7.3, 7.3, 6.7, 7.4, 7.7, 5.9, 6.3, 7.0, 6.5, 6.4, 7.2, 6.4, 6.7, 7.0, 6.9, 6.4, 6.2, 6.1, 6.3, 6.1, 7.0, 6.0, 6.5, 8.1, 7.5, 7.5, 7.6, 7.8, 6.4, 7.5, 8.1, 7.4, 7.8, 7.0, 6.6, 7.1, 6.9, 6.4, 7.4, 7.0, 7.7, 6.9, 6.8, 6.6, 7.0, 6.5, 6.2, 6.0, 7.0, 6.4, 7.3, 7.0, 6.1, 7.0, 7.0, 6.6, 6.3, 7.3, 6.2, 6.8, 8.5, 7.8, 6.6, 6.6, 7.2, 7.2, 7.3, 7.7, 7.7, 7.1, 6.1, 6.2, 6.3, 6.8, 6.8, 6.5, 5.8, 6.3, 6.0, 6.7, 7.3, 7.1, 5.7, 6.8, 7.1, 6.7, 7.1, 8.4, 6.2, 8.6, 6.8, 6.6, 7.7, 6.6, 6.6, 6.8, 7.4, 6.5, 7.8, 6.9, 6.4, 7.5, 6.2, 6.4, 6.1, 5.7, 6.8, 7.6, 7.6, 7.0, 6.8, 6.5, 6.6, 7.0, 7.0, 6.6, 7.8, 6.0, 7.5, 7.0, 7.0, 6.7, 6.7, 7.4, 7.1, 7.2, 8.5, 6.8, 6.1, 6.2, 6.6, 5.7, 6.3, 7.1, 5.6, 6.8, 6.5, 5.9, 6.1, 6.4, 6.6, 6.9, 7.8, 9.1, 6.5, 6.8, 8.4, 7.6, 7.7, 9.2, 6.3, 6.1, 6.8, 5.7, 6.7, 8.4, 6.4, 7.0, 5.9, 6.8, 6.3, 6.3, 5.0, 6.8, 6.1, 7.3, 7.0, 6.7, 6.6, 8.4, 9.1, 7.8, 7.6, 6.9, 8.4, 7.2, 7.3, 6.2, 5.8, 5.9, 6.7, 5.9, 7.1, 6.2, 6.3, 6.9, 7.9, 7.8, 8.1, 6.3, 6.4, 6.8, 7.6, 7.4, 6.6, 8.6, 7.3, 6.5, 8.0, 7.0, 7.1, 7.6, 7.7, 7.2, 6.6, 8.4, 6.3, 6.7, 8.1, 6.5, 7.5, 7.6, 6.0, 6.7, 7.9, 6.9, 7.1, 7.2, 9.1, 7.7, 7.9, 7.2, 8.0, 6.7, 6.4, 6.5, 6.7, 5.9, 6.0, 6.1, 6.0, 6.0, 4.9, 5.6, 4.8, 7.7, 6.3, 6.3, 7.4, 6.4, 6.3, 6.0, 6.5, 4.3, 7.0, 6.2, 7.4, 7.1, 7.4, 6.8, 7.1, 8.3, 5.7, 6.4, 6.4, 9.1, 8.7, 7.3, 7.5, 7.3, 7.0, 7.2, 6.7, 7.5, 7.3, 5.8, 6.7, 5.6, 6.5, 6.3, 6.1, 6.6, 7.1, 6.3, 7.5, 6.6, 6.1, 8.5, 7.8, 6.6, 8.1, 7.1, 8.0, 6.5, 5.9, 6.7, 6.7, 7.9, 7.3, 6.7, 6.5, 7.3, 7.0, 6.3, 5.9, 7.6, 7.0, 7.2, 7.2, 7.8, 7.1, 7.2, 8.4, 8.6, 7.1, 7.5, 5.9, 6.3, 6.0, 6.4, 6.3, 6.5, 6.6, 7.2, 6.5, 6.3, 7.6, 6.7, 6.2, 6.3, 6.8, 5.9, 6.3, 6.2, 7.0, 6.5, 7.2, 6.6, 6.7, 7.0, 7.5, 6.7, 6.7, 6.4, 6.1, 6.4, 7.1, 6.6, 6.9, 8.2, 7.2, 7.3, 7.5, 7.3, 7.7, 7.8, 6.4, 6.7, 6.7, 5.9, 7.3, 6.3, 6.1, 6.6, 6.4, 6.3, 6.2, 6.1, 6.1, 6.4, 5.3, 7.6, 6.4, 8.0, 6.2, 7.2, 7.6, 7.3, 7.4, 7.4, 6.3, 6.5, 7.2, 7.5, 7.5, 7.2, 7.2, 6.5, 6.4, 6.1, 7.4, 6.0, 7.6, 7.7, 7.3, 7.7, 7.1, 7.2, 7.3, 7.9, 8.7, 6.7, 6.3, 6.9, 7.1, 6.8, 6.2, 6.3, 7.1, 6.8, 6.0, 6.2, 6.1, 8.2, 7.0, 8.5, 6.4, 6.5, 6.3, 5.9, 8.2, 7.0, 7.7, 7.4, 7.3, 6.9, 6.8, 6.7, 6.3, 6.6, 6.5, 6.5, 6.5, 7.2, 7.2, 7.6, 7.1, 7.2, 6.8, 7.5, 6.9, 7.1, 5.9, 6.0, 7.0, 6.4, 7.3, 7.0, 6.1, 7.0, 7.0, 6.6, 6.3, 7.3, 6.2, 6.8, 8.5, 7.8, 6.6, 6.6, 7.2, 7.2, 7.3, 7.7, 7.7, 7.1, 6.1, 6.2, 6.3, 6.8, 6.8, 6.5, 5.8, 6.3, 7.5, 7.9, 6.9, 7.2, 7.4, 7.1, 7.6, 7.2, 8.5, 8.8, 9.2, 6.1, 5.9, 6.3, 7.1, 5.5, 5.8, 5.7, 7.3, 5.3, 6.2, 6.9, 6.1, 6.2, 6.3, 6.7, 5.8, 6.3, 6.1, 5.9, 5.9, 5.8, 7.0, 6.2, 6.9, 6.6, 8.2, 6.1, 8.6, 7.3, 8.1, 9.6, 7.7, 6.4, 8.4, 7.7, 6.4, 7.2, 7.4, 7.4, 4.7, 5.2, 4.8, 3.7, 6.7, 6.7, 6.5, 6.6, 7.1, 6.5, 6.1, 5.9, 8.0, 7.6, 8.0, 7.5, 7.6, 8.1, 7.1, 6.6, 8.8, 6.5, 7.5, 6.1, 6.3, 7.3, 5.8, 6.6, 6.4, 7.2, 6.7, 6.8, 6.6, 6.7, 6.7, 6.0, 6.2, 6.3, 5.9, 5.1, 5.7, 5.3, 5.5, 6.5, 7.0, 6.5, 7.4, 8.1, 6.0, 6.5, 9.4, 6.4, 6.4, 7.1, 7.2, 8.3, 7.8, 6.9, 6.9, 8.2, 6.1, 6.2, 5.9, 6.9, 7.8, 6.2, 6.4, 6.7, 7.9, 6.9, 7.1, 7.2, 9.1, 7.7, 7.9, 7.2, 8.0, 6.7, 6.4, 6.5, 6.7, 5.9, 6.0, 6.1, 6.0, 6.0, 4.9, 5.6, 4.8, 7.7, 6.3, 6.3, 7.4, 6.4, 6.3, 6.0, 6.5, 7.1, 7.2, 6.9, 7.7, 7.1, 8.3, 7.7, 6.9, 7.4, 6.3, 7.3, 7.5, 5.9, 4.7, 6.0, 7.8, 6.5, 6.2, 6.6, 6.0, 5.9, 5.7, 6.6, 6.4, 6.1, 5.9, 6.4, 5.8, 6.7, 8.5, 7.3, 8.0, 6.4, 7.6, 7.4, 6.9, 7.4, 8.3, 6.9, 7.5, 5.4, 6.0, 5.5, 7.4, 7.7, 7.6, 6.8, 6.2, 6.6, 6.7, 8.8, 6.9, 7.1, 6.4, 6.7, 7.0, 6.1, 7.2, 7.1, 7.2, 6.8, 6.5, 6.8, 6.7, 7.5, 7.2, 8.1, 8.7, 8.2, 6.1, 6.8, 7.1, 7.0, 7.2, 6.2, 6.2, 6.3, 7.0, 6.1, 6.3, 6.1, 5.9, 7.2, 6.6, 6.0, 6.1, 5.6, 5.8, 5.8, 6.0, 6.2, 7.0, 7.5, 7.3, 7.7, 6.2, 9.0, 7.9, 6.5, 8.4, 7.6, 6.7, 7.9, 7.4, 8.0, 6.5, 7.1, 6.6, 6.2, 6.1, 6.2, 6.5, 6.4, 8.0, 7.7, 7.1, 7.2, 7.2, 7.6, 7.4, 7.6, 8.5, 8.0, 7.3, 5.9, 6.4, 6.2, 6.5, 7.7, 7.3, 7.2, 5.7, 6.6, 6.3, 6.0, 6.3, 5.8, 5.9, 6.1, 6.2, 5.9, 6.6, 7.1, 7.1, 7.1, 8.0, 6.6, 9.1, 5.9, 7.3, 7.3, 9.4, 5.8, 5.9, 6.5, 6.8, 7.5, 6.0, 7.2, 6.6, 5.8, 7.2, 6.9, 6.0, 6.6, 5.9, 7.4, 6.1, 7.0, 6.2, 6.7, 6.7, 7.1, 6.9, 7.3, 6.9, 6.9, 6.3, 6.7, 8.1, 6.5, 6.4, 6.8, 6.9, 7.3, 7.2, 6.9, 7.6, 8.6, 6.7, 6.1, 6.6, 6.2, 6.6, 6.1, 7.1, 6.7, 6.0, 6.7, 5.9, 7.2, 7.1, 8.6, 6.7, 8.0, 7.5, 7.1, 8.1, 9.0, 9.3, 9.3, 8.9, 6.6, 6.2, 6.5, 6.7, 4.7, 4.7, 4.4, 4.5, 5.2, 5.6, 6.4, 6.0, 6.1, 6.7, 4.6, 5.9, 6.2, 6.5, 6.3, 6.6, 8.1, 6.9, 6.2, 6.5, 6.9, 8.3, 6.6, 8.9, 9.1, 6.9, 6.8, 7.0, 7.7, 6.9, 7.2, 7.1, 6.2, 6.0, 5.8, 6.3, 6.2, 7.2, 5.3, 5.6, 6.7, 5.7, 6.3, 7.0, 6.7, 6.5, 7.4, 5.9, 7.1, 9.7, 6.7, 7.5, 6.9, 8.2, 6.9, 7.2, 8.0, 7.4, 7.0, 7.4, 4.8, 6.5, 6.0, 6.3, 6.2, 5.1, 7.6, 7.4, 6.2, 6.6, 6.4, 8.1, 7.8, 8.2, 7.0, 6.2, 7.5, 8.9, 8.2, 6.3, 7.2, 8.8, 7.6, 6.2, 6.8, 6.9, 7.9, 6.0, 6.3, 6.5, 6.9, 6.2, 7.0, 7.0, 6.5, 7.0, 7.7, 7.6, 7.1, 7.0, 6.4, 8.5, 6.7, 7.4, 7.5, 8.0, 6.5, 6.6, 7.1, 6.6, 6.5, 7.3, 6.8, 6.7, 7.1, 6.5, 7.5, 6.1, 7.0, 6.7, 6.1, 6.3, 6.2, 6.7, 6.2, 6.5, 6.5, 6.4, 6.5, 7.2, 7.2, 7.6, 7.1, 7.0, 7.7, 7.6, 7.4, 7.7, 7.6, 8.1, 6.2, 6.8, 6.7, 6.4, 6.6, 7.0, 6.4, 6.3, 6.7, 6.2, 6.3, 7.0, 6.3, 6.8, 6.5, 7.2, 7.2, 7.7, 8.0, 6.9, 8.5, 7.6, 7.6, 7.2, 7.6, 7.0, 8.0, 6.2, 6.6, 5.7, 6.6, 6.0, 7.3, 7.7, 7.2, 7.4, 7.2, 7.2, 6.3, 6.7, 9.0, 7.1, 6.7, 7.7, 7.2, 7.2, 6.6, 6.8, 6.9, 6.4, 7.8, 7.4, 5.1, 6.0, 6.3, 6.7, 5.3, 6.1, 7.3, 7.0, 6.3, 7.3, 6.6, 7.0, 7.4, 7.4, 6.4, 6.7, 8.2, 7.0, 7.7, 7.0, 7.9, 6.9, 7.3, 7.5, 7.1, 9.0, 6.5, 6.6, 6.6, 7.8, 7.7, 7.1, 7.2, 6.5, 6.9, 7.0, 5.9, 8.1, 6.8, 9.1, 6.2, 7.2, 6.9, 6.6, 7.1, 7.3, 7.2, 6.9, 6.5, 7.4, 4.7, 6.3, 6.2, 6.4, 6.9, 6.7, 5.9, 5.9, 7.4, 7.6, 7.0, 6.3, 8.1, 8.6, 7.2, 8.1, 7.8, 8.2, 5.5, 6.3, 6.3, 6.5, 6.3, 7.0, 5.9, 6.9, 5.6, 6.1, 6.0, 5.7, 6.9, 7.2, 6.5, 6.3, 7.4, 6.8, 6.0, 5.9, 6.5, 5.9, 6.0, 5.4, 7.0, 6.9, 7.5, 6.4, 7.8, 9.0, 7.8, 8.3, 7.7, 8.9, 8.4, 7.7, 8.3, 7.3, 6.1, 6.0, 6.4, 5.5, 5.0, 6.4, 6.5, 5.9, 6.8, 6.3, 8.0, 7.2, 7.4, 7.0, 6.8, 8.1, 6.8, 6.4, 7.1, 6.7, 7.9, 6.7, 7.3, 5.7, 6.8, 6.4, 7.2, 6.6, 6.3, 5.5, 5.9, 6.7, 6.6, 6.4, 6.1, 6.1, 6.7, 5.9, 6.1, 6.3, 6.1, 7.7, 6.4, 6.8, 6.9, 6.7, 6.9, 8.1, 7.5, 6.2, 7.2, 6.3, 7.0, 6.2, 7.0, 6.6, 6.0, 6.6, 7.5, 7.2, 6.2, 7.1, 6.8, 5.7, 7.7, 6.3, 6.1, 6.4, 7.7, 7.2, 6.8, 6.8, 7.9, 6.7, 6.8, 8.1, 6.9, 6.7, 6.5, 7.2, 6.8, 7.1, 6.4, 6.2, 6.8, 7.2, 6.5, 7.0, 7.3, 8.6, 6.6, 7.1, 5.7, 6.3, 7.3, 7.1, 8.5, 6.9, 7.5, 7.6, 6.6, 7.7, 6.9, 7.8, 6.9, 7.6, 6.1, 5.8, 6.3, 7.0, 6.7, 7.6, 6.9, 7.6, 6.7, 7.3, 6.5, 9.1, 6.5, 6.1, 5.6, 6.5, 5.9, 6.1, 5.3, 6.4, 7.5, 6.5, 7.5, 6.7, 6.6, 7.1, 8.7, 8.2, 8.0, 7.5, 6.7, 7.2, 7.8, 7.6, 8.2, 7.9, 5.9, 6.1, 6.0, 5.9, 6.3, 6.2, 7.5, 7.0, 6.8, 6.9, 7.3, 7.9, 7.6, 8.0, 8.1, 6.9, 6.4, 6.0, 7.4, 6.1, 7.5, 8.3, 6.5, 7.3, 6.4, 6.1, 7.2, 6.5, 6.3, 6.3, 6.4, 6.2, 6.5, 6.1, 6.3, 6.1, 7.5, 6.5, 6.9, 7.3, 7.9, 7.9, 7.4, 6.4, 9.0, 6.8, 7.1, 7.2, 6.7, 7.4, 6.8, 6.8, 6.6, 6.1, 6.2, 5.9, 6.2, 6.5, 6.1, 7.3, 6.8, 6.4, 6.5, 6.1, 5.0, 6.8, 6.1, 7.3, 7.0, 6.7, 6.6, 8.4, 9.1, 7.8, 7.6, 6.9, 8.4, 7.2, 7.3, 6.2, 5.8, 5.9, 6.7, 5.9, 7.1, 6.2, 6.3, 6.9, 7.9, 6.8, 7.8, 6.8, 7.2, 7.8, 7.5, 7.8, 7.7, 9.2, 8.5, 7.9, 6.4, 6.4, 7.2, 5.8, 4.9, 5.7, 5.2, 6.5, 5.1, 6.2, 6.0, 6.4, 8.9, 7.3, 6.5, 6.1, 6.2, 6.4, 6.0, 6.4, 6.8, 7.0, 7.7, 6.7, 7.7, 7.4, 7.4, 6.9, 6.6, 6.3, 6.2, 7.3, 6.8, 6.4, 6.0, 6.9, 7.0, 5.4, 6.6, 6.7, 7.0, 6.2, 6.1, 6.1, 6.2, 6.1, 5.8, 6.1, 7.1, 7.1, 7.5, 7.9, 7.7, 8.1, 7.0, 7.6, 7.8, 7.8, 6.7, 6.0, 6.4, 6.4, 6.1, 6.7, 6.2, 7.2, 6.4, 6.4, 6.4, 6.5, 6.1, 6.3, 5.7, 5.9, 6.2, 6.2, 6.2, 4.6, 5.9, 6.2, 6.5, 6.3, 6.6, 8.1, 6.9, 6.2, 6.5, 6.9, 8.3, 6.6, 8.9, 9.1, 6.9, 6.8, 7.0, 7.7, 6.9, 7.2, 7.1, 6.2, 6.0, 5.8, 6.3, 6.2, 7.2, 6.0, 6.7, 6.3, 6.5, 6.2, 7.2, 6.2, 6.9, 6.4, 6.4, 6.3, 7.5, 7.7, 8.0, 8.5, 7.0, 7.5, 7.0, 7.2, 7.1, 7.6, 8.4, 6.8, 6.4, 6.7, 6.3, 6.8, 6.1, 6.4, 8.0, 7.7, 7.2, 6.8, 6.8, 7.9, 6.7, 6.8, 8.1, 6.9, 6.7, 6.5, 7.2, 6.8, 7.1, 6.4, 6.2, 6.8, 7.2, 6.5, 7.0, 7.3, 8.6, 6.6, 7.1, 5.7, 6.3, 7.3, 7.1, 6.3, 7.1, 8.5, 6.9, 7.3, 7.9, 6.3, 6.6, 7.6, 7.0, 6.6, 6.2, 6.3, 8.0, 7.7, 6.6, 7.2, 7.1, 6.5, 7.1, 7.0, 7.7, 6.6, 6.6, 6.5, 5.6, 6.9, 5.9, 6.8, 6.4, 6.3, 6.6, 7.7, 6.8, 8.3, 7.2, 6.2, 7.9, 8.1, 6.9, 6.4, 6.9, 6.2, 5.3, 7.7, 5.9, 6.0, 6.9, 6.6, 6.5, 7.5, 6.3, 6.7, 7.0, 5.8, 6.4, 6.6, 5.3, 5.9, 4.9, 5.5, 6.9, 6.9, 8.3, 8.8, 9.0, 6.0, 8.7, 7.4, 7.2, 7.4, 5.9, 7.2, 8.3, 6.4, 7.9, 6.7, 5.3, 5.8, 7.4, 6.7, 9.0, 6.4, 7.0, 5.5, 6.4, 6.1, 6.4, 5.9, 7.5, 6.8, 6.1, 6.9, 7.0, 7.7, 8.6, 7.6, 7.5, 7.9, 7.7, 7.3, 8.0, 7.2, 8.2, 6.9, 8.0, 7.2, 6.1, 7.1, 6.2, 6.7, 5.5, 5.0, 6.7, 6.3, 7.7, 8.8, 8.3, 6.8, 8.5, 7.5, 9.7, 7.6, 6.0, 6.2, 7.6, 7.8, 4.8, 5.8, 4.2, 4.7, 5.5, 5.3, 5.0, 6.8, 9.6, 5.8, 7.0, 6.5, 7.2, 6.6, 6.7, 7.0, 7.5, 6.7, 6.7, 6.4, 6.1, 6.4, 7.1, 6.6, 6.9, 8.2, 7.2, 7.3, 7.5, 7.3, 7.7, 7.8, 6.4, 6.7, 6.7, 5.9, 7.3, 6.3, 6.1, 6.6, 7.9, 7.5, 7.3, 7.4, 7.1, 8.0, 7.1, 8.1, 8.1, 7.3, 8.5, 6.4, 5.9, 7.0, 6.7, 6.4, 6.2, 6.5, 6.3, 6.3, 6.3, 6.4, 6.5, 6.5, 6.0, 6.7, 6.5, 5.6, 6.0, 6.0, 5.6, 6.9, 5.9, 6.8, 6.4, 6.3, 6.6, 7.7, 6.8, 8.3, 7.2, 6.2, 7.9, 8.1, 6.9, 6.4, 6.9, 6.2, 5.3, 7.7, 5.9, 6.0, 6.9, 6.6, 6.5, 7.5, 6.3, 6.7, 7.0, 5.8, 6.4, 4.6, 7.5, 6.9, 6.1, 7.1, 8.8, 6.5, 7.1, 8.4, 7.5, 8.4, 6.3, 7.2, 5.5, 7.6, 5.9, 5.7, 5.8, 5.3, 5.8, 4.8, 5.1, 8.6, 5.4, 6.7, 6.5, 6.3, 8.6, 7.6, 2.9, 5.4, 3.8, 6.0, 4.4, 5.1, 6.0, 6.4, 8.2, 6.4, 7.1, 7.4, 8.3, 8.5, 7.5, 7.6, 7.6, 7.7, 7.6, 8.3, 7.9, 8.1, 6.8, 6.5, 6.4, 6.1, 6.2, 6.2, 7.1, 6.8, 6.7, 6.2, 7.5, 7.0, 7.4, 7.1, 7.5, 7.0, 6.2, 6.5, 7.2, 7.7, 7.2, 8.1, 6.6, 7.4, 6.2, 7.0, 7.7, 7.0, 6.5, 7.1, 6.1, 6.2, 7.2, 6.0, 6.2, 5.3, 6.1, 7.3, 7.0, 6.3, 7.3, 6.6, 7.0, 7.4, 7.4, 6.4, 6.7, 8.2, 7.0, 7.7, 7.0, 7.9, 6.9, 7.3, 7.5, 7.1, 9.0, 6.5, 6.6, 6.6, 8.3, 6.6, 6.5, 6.7, 7.9, 6.2, 7.6, 6.2, 6.1, 6.2, 7.1, 7.5, 6.0, 7.9, 7.5, 6.8, 7.1, 6.9, 7.2, 7.3, 7.0, 6.8, 6.3, 6.7, 6.0, 6.1, 6.1, 6.3, 6.5, 8.7, 6.7, 7.3, 8.3, 7.4, 6.5, 6.6, 6.9, 6.3, 8.5, 7.4, 7.4, 6.4, 6.2, 7.5, 6.6, 6.9, 6.2, 6.9, 6.3, 6.6, 6.9, 8.3, 7.1, 6.3, 6.5, 6.5, 6.9, 5.9, 6.2, 6.9, 7.6, 7.8, 6.0, 8.3, 6.7, 7.7, 8.8, 8.9, 7.4, 6.4, 6.4, 7.3, 6.1, 6.2, 7.5, 6.9, 6.2, 7.3, 6.8, 7.5, 7.4, 6.7, 6.3, 6.5, 7.3, 8.3, 6.4, 6.8, 6.5, 7.2, 6.0, 6.9, 6.5, 7.4, 6.6, 7.6, 7.6, 8.2, 8.3, 7.2, 7.6, 6.0, 6.1, 6.6, 6.8, 5.5, 6.4, 6.5, 6.8, 5.8, 6.4, 6.4, 8.1, 6.8, 7.0, 9.1, 6.3, 6.8, 7.1, 7.2, 6.5, 6.7, 6.7, 6.5, 7.1, 7.3, 7.2, 7.1, 7.3, 6.7, 6.6, 7.5, 7.5, 6.6, 6.5, 6.0, 6.5, 8.2, 6.2, 7.3, 6.9, 7.8, 7.8, 7.5, 6.0, 8.7, 7.5, 6.8, 6.4, 6.7, 6.8, 6.6, 7.8, 8.0, 7.5, 7.3, 7.5, 8.9, 5.9, 6.3, 6.2, 6.9, 6.1, 6.1, 7.5, 7.5, 6.9, 7.2, 8.3, 8.2, 9.6, 8.1, 8.9, 6.8, 8.0, 6.3, 7.1, 6.2, 6.2, 7.8, 5.6, 5.4, 5.8, 4.9, 6.6, 6.3, 6.6, 6.4, 5.9, 6.9, 6.6, 6.2, 6.2, 7.3, 6.4, 7.3, 8.8, 9.3, 8.0, 8.0, 6.2, 6.7, 7.8, 7.2, 8.1, 6.9, 5.6, 5.8, 5.5, 6.6, 6.1, 6.1, 6.0, 6.2, 6.2, 6.2, 7.1, 6.6, 7.2, 7.6, 6.8, 6.7, 6.4, 6.3, 7.6, 6.7, 7.6, 9.1, 7.1, 6.7, 7.8, 7.2, 6.4, 7.0, 6.9, 6.9, 6.4, 5.9, 7.2, 5.8, 5.2, 6.8, 7.6, 6.9, 7.2, 7.1, 6.7, 5.7, 6.0, 4.0, 6.7, 6.0, 6.1, 6.9, 5.7, 6.0, 6.2, 7.6, 6.5, 8.7, 6.5, 8.7, 7.4, 7.1, 7.3, 7.1, 6.8, 6.7, 7.1, 7.7, 6.2, 5.9, 6.5, 6.6, 6.2, 7.1, 7.2, 7.1, 6.4, 6.0, 8.5, 7.3, 8.0, 6.4, 7.6, 7.4, 6.9, 7.4, 8.3, 6.9, 7.5, 5.4, 6.0, 5.5, 7.4, 7.7, 7.6, 6.8, 6.2, 6.6, 6.7, 8.8, 6.9, 7.1, 6.4, 6.7, 7.0, 6.1, 7.6, 7.4, 7.4, 7.2, 7.2, 7.4, 7.6, 7.8, 7.0, 7.7, 6.7, 5.6, 7.5, 5.9, 5.7, 6.9, 5.9, 7.0, 7.0, 6.5, 7.0, 6.4, 6.4, 6.4, 7.2, 6.1, 6.1, 5.9, 6.1, 7.0, 6.2, 6.7, 6.7, 7.1, 6.9, 7.3, 6.9, 6.9, 6.3, 6.7, 8.1, 6.5, 6.4, 6.8, 6.9, 7.3, 7.2, 6.9, 7.6, 8.6, 6.7, 6.1, 6.6, 6.2, 6.6, 6.1, 7.1, 6.7, 6.0, 6.7, 5.9, 7.0, 6.6, 6.9, 6.9, 7.7, 8.1, 7.6, 6.6, 7.7, 7.1, 8.7, 6.9, 7.6, 6.8, 7.3, 5.3, 7.4, 6.0, 6.3, 5.5, 6.7, 5.4, 6.3, 6.5, 7.1, 8.1, 7.3, 6.9, 6.6, 6.1, 6.0, 5.4, 6.5, 6.1, 6.3, 5.9, 7.0, 6.3, 7.0, 6.7, 5.8, 6.5, 7.5, 8.2, 8.5, 7.8, 7.4, 7.7, 7.4, 7.2, 7.5, 7.3, 8.1, 6.5, 5.8, 6.3, 6.1, 6.3, 6.8, 7.8, 6.8, 7.2, 7.8, 7.5, 7.8, 7.7, 9.2, 8.5, 7.9, 6.4, 6.4, 7.2, 5.8, 4.9, 5.7, 5.2, 6.5, 5.1, 6.2, 6.0, 6.4, 8.9, 7.3, 6.5, 6.1, 6.2, 6.4, 6.0, 6.4, 8.0, 7.1, 7.0, 7.3, 7.4, 7.0, 7.1, 7.9, 8.1, 7.7, 6.9, 6.9, 7.1, 6.2, 6.6, 6.2, 6.8, 6.3, 7.6, 7.1, 7.1, 6.4, 6.4, 6.4, 6.3, 5.9, 6.5, 6.1, 9.0, 6.7, 7.7, 6.0, 9.0, 6.9, 7.1, 8.8, 6.8, 6.0, 7.4, 7.2, 7.1, 6.2, 6.2, 6.4, 6.1, 6.9, 7.3, 6.1, 7.4, 6.5, 8.0, 6.5, 7.1, 7.1, 7.5, 7.9, 7.7, 8.1, 7.0, 7.6, 7.8, 7.8, 6.7, 6.0, 6.4, 6.4, 6.1, 6.7, 6.2, 7.2, 6.4, 6.4, 6.4, 6.5, 6.1, 6.3, 5.7, 5.9, 6.2, 6.2, 6.2, 6.2, 5.9, 6.7, 7.7, 7.8, 7.9, 6.9, 5.6, 6.8, 5.8, 6.1, 8.1, 7.6, 6.7, 6.8, 6.3, 6.8, 8.1, 7.9, 7.5, 7.2, 7.7, 6.3, 7.0, 6.4, 6.0, 6.1, 6.4, 5.9, 6.5, 5.9, 7.2, 7.2, 6.4, 7.2, 8.5, 6.9, 6.4, 7.7, 8.0, 7.1, 6.2, 7.8, 8.4, 6.7, 6.1, 7.4, 7.5, 5.6, 6.0, 7.7, 5.8, 5.6, 6.4, 6.0, 6.7, 6.7, 7.1, 6.5, 5.9, 6.8, 6.5, 6.5, 6.3, 6.8, 5.7, 6.6, 6.3, 6.8, 7.7, 7.5, 7.4, 7.5, 7.7, 7.2, 7.6, 7.9, 7.8, 7.7, 6.4, 6.2, 6.0, 6.3, 6.0, 6.7, 8.1, 7.5, 7.5, 7.6, 7.8, 6.4, 7.5, 8.1, 7.4, 7.8, 7.0, 6.6, 7.1, 6.9, 6.4, 7.4, 7.0, 7.7, 6.9, 6.8, 6.6, 7.0, 6.5, 6.2, 5.6, 5.1, 6.5, 6.9, 7.3, 6.1, 7.1, 6.6, 8.2, 6.8, 6.3, 9.0, 7.2, 7.3, 9.1, 7.2, 7.4, 6.5, 7.4, 6.6, 6.5, 7.0, 6.5, 7.1, 7.5, 6.2, 6.6, 7.3, 7.4, 7.2, 7.4, 8.0, 6.5, 7.9, 8.0, 6.6, 7.2, 6.0, 8.1, 6.4, 6.6, 6.7, 7.0, 7.9, 5.9, 6.2, 6.7, 6.8, 6.9, 7.2, 6.8, 6.2, 6.0, 6.0, 7.0, 7.4, 7.6, 7.0, 7.1, 7.4, 6.9, 7.2, 7.6, 6.7, 6.4, 7.5, 7.2, 5.7, 6.3, 7.0, 6.9, 6.8, 5.9, 6.5, 6.4, 6.0, 6.7, 7.2, 5.8, 7.6, 6.8, 6.5, 7.8, 6.5, 7.8, 6.8, 7.5, 6.9, 6.8, 7.4, 6.2, 8.2, 7.0, 6.0, 5.9, 7.4, 6.2, 6.4, 7.4, 7.0, 6.3, 6.7, 6.3, 5.8, 6.2, 6.6, 6.9, 6.4, 7.0, 6.7, 6.1, 6.3, 6.2, 6.7, 6.2, 6.5, 6.5, 6.4, 6.5, 7.2, 7.2, 7.6, 7.1, 7.0, 7.7, 7.6, 7.4, 7.7, 7.6, 8.1, 6.2, 6.8, 6.7, 6.4, 6.6, 8.0, 7.1, 8.0, 7.9, 6.9, 8.3, 7.7, 8.4, 7.4, 6.9, 8.0, 6.9, 6.3, 6.9, 6.7, 5.6, 6.4, 6.8, 6.9, 6.6, 5.7, 7.2, 6.2, 6.4, 6.3, 6.7, 5.9, 5.7, 6.2, 5.5, 6.5, 6.7, 5.1, 7.1, 6.1, 6.0, 7.3, 6.1, 6.7, 6.2, 7.2, 6.0, 7.2, 6.5, 7.4, 6.5, 8.2, 7.2, 7.7, 7.2, 8.1, 6.6, 6.2, 8.3, 6.8, 6.4, 8.0, 7.2, 7.4, 7.0, 6.8, 8.1, 6.8, 6.4, 7.1, 6.7, 7.9, 6.7, 7.3, 5.7, 6.8, 6.4, 7.2, 6.6, 6.3, 5.5, 5.9, 6.7, 6.6, 6.4, 6.1, 6.1, 6.7, 5.9, 6.1, 6.3, 6.9, 6.4, 5.8, 6.0, 7.2, 6.7, 6.0, 6.3, 6.3, 6.5, 7.6, 6.2, 8.4, 7.4, 8.1, 7.0, 7.8, 7.1, 7.0, 7.9, 8.4, 7.9, 6.4, 6.5, 6.1, 6.4, 6.4, 6.1, 6.6, 7.1, 6.3, 7.5, 6.6, 6.1, 8.5, 7.8, 6.6, 8.1, 7.1, 8.0, 6.5, 5.9, 6.7, 6.7, 7.9, 7.3, 6.7, 6.5, 7.3, 7.0, 6.3, 5.9, 6.5, 7.4, 7.2, 6.9, 8.4, 6.5, 6.9, 7.8, 7.0, 7.1, 7.4, 6.1, 5.8, 7.0, 6.2, 7.2, 7.0, 7.5, 6.7, 7.7, 7.4, 7.9, 6.7, 6.2, 6.3, 6.5, 7.0, 6.3, 6.2, 6.3, 7.0, 7.4, 7.5, 7.7, 7.1, 8.1, 7.7, 7.8, 7.9, 9.2, 6.8, 8.4, 5.8, 6.5, 7.0, 8.0, 5.8, 5.9, 6.1, 5.4, 4.9, 6.3, 5.8, 6.7, 6.3, 5.9, 6.1, 8.2, 7.9, 7.0, 6.9, 8.4, 7.5, 8.1, 8.7, 6.6, 7.8, 6.6, 5.6, 6.1, 6.4, 6.2, 6.3, 6.1, 6.4, 6.5, 6.2, 6.4, 5.1, 7.2, 7.0, 6.2, 6.4, 6.2, 6.3, 6.6, 6.2, 6.1, 6.1, 7.0, 6.4, 6.3, 6.7, 6.2, 6.3, 7.0, 6.3, 6.8, 6.5, 7.2, 7.2, 7.7, 8.0, 6.9, 8.5, 7.6, 7.6, 7.2, 7.6, 7.0, 8.0, 6.2, 6.6, 5.7, 6.6, 7.9, 8.0, 6.6, 6.9, 7.3, 7.3, 7.6, 9.0, 7.9, 8.2, 6.9, 7.2, 6.3, 6.7, 6.9, 5.7, 6.5, 5.4, 5.6, 5.8, 5.5, 4.7, 6.5, 6.7, 6.9, 6.3, 6.6, 6.3, 7.3, 9.0, 6.9, 7.2, 6.5, 7.3, 6.9, 8.8, 6.7, 7.3, 7.2, 7.5, 6.1, 7.4, 7.8, 7.2, 6.9, 6.7, 6.5, 6.8, 6.0, 6.2, 6.8, 6.2, 6.0, 7.6, 6.8, 7.6, 7.6, 6.8, 8.8, 7.5, 8.2, 7.0, 8.2, 7.5, 6.7, 7.3, 7.7, 7.1, 6.5, 6.7, 6.4, 6.3, 6.9, 6.4, 6.1, 6.1, 6.3, 5.6, 6.7, 7.6, 6.8, 6.7, 6.4, 6.3, 7.6, 6.7, 7.6, 9.1, 7.1, 6.7, 7.8, 7.2, 6.4, 7.0, 6.9, 6.9, 6.4, 5.9, 7.2, 5.8, 5.2, 6.8, 7.6, 6.9, 7.2, 7.1, 6.7, 5.7, 6.0, 6.5, 6.3, 7.2, 6.5, 6.8, 6.2, 6.6, 6.2, 6.1, 6.2, 7.6, 7.0, 5.9, 7.4, 7.4, 7.1, 7.3, 7.7, 7.6, 7.8, 7.4, 8.1, 6.6, 6.4, 6.3, 7.5, 7.2, 6.5, 6.0, 8.2, 7.7, 7.3, 7.1, 7.0, 7.4, 7.5, 7.6, 9.0, 6.7, 8.0, 6.3, 7.1, 6.9, 6.5, 5.3, 6.6, 5.4, 5.3, 5.2, 5.8, 6.0, 6.3, 7.6, 8.5, 4.9, 5.9, 6.4, 6.3, 6.3, 6.8, 7.1, 7.0, 7.2, 7.6, 6.1, 7.1, 6.6, 7.3, 6.4, 6.4, 8.5, 6.5, 6.3, 7.6, 7.5, 7.1, 7.8, 7.7, 7.6, 7.2, 6.9, 7.2, 6.1, 6.1, 6.5, 6.8, 6.0, 7.1, 7.9, 7.4, 7.6, 8.1, 8.5, 7.5, 8.8, 7.1, 8.0, 9.6, 5.6, 6.6, 6.3, 6.2, 6.9, 5.6, 6.0, 5.5, 5.8, 5.8, 5.7, 7.0, 6.2, 5.8, 6.7, 6.5, 6.3, 6.2, 6.0, 6.6, 7.1, 7.1, 7.1, 8.0, 6.6, 9.1, 5.9, 7.3, 7.3, 9.4, 5.8, 5.9, 6.5, 6.8, 7.5, 6.0, 7.2, 6.6, 5.8, 7.2, 6.9, 6.0, 6.6, 5.9, 7.4, 6.3, 6.2, 7.2, 6.8, 6.9, 6.8, 7.4, 6.6, 6.9, 6.5, 6.5, 8.2, 7.0, 7.2, 8.9, 7.1, 7.5, 7.1, 7.3, 7.6, 7.1, 7.1, 7.1, 6.3, 6.6, 6.0, 6.1, 6.6, 7.0, 7.2, 7.5, 6.6, 7.4, 7.3, 8.5, 6.3, 6.9, 7.1, 7.2, 7.8, 6.8, 7.0, 8.3, 6.4, 6.6, 8.2, 6.8, 6.3, 7.2, 7.4, 8.2, 5.9, 6.0, 6.6, 5.9, 7.0, 7.4, 7.6, 7.0, 7.1, 7.4, 6.9, 7.2, 7.6, 6.7, 6.4, 7.5, 7.2, 5.7, 6.3, 7.0, 6.9, 6.8, 5.9, 6.5, 6.4, 6.0, 6.7, 7.2, 5.8, 7.6, 6.8, 6.5, 7.0, 6.6, 6.9, 6.9, 7.7, 8.1, 7.6, 6.6, 7.7, 7.1, 8.7, 6.9, 7.6, 6.8, 7.3, 5.3, 7.4, 6.0, 6.3, 5.5, 6.7, 5.4, 6.3, 6.5, 7.1, 8.1, 7.3, 6.9, 6.6, 6.1, 6.0, 6.9, 7.2, 7.1, 7.2, 7.6, 7.6, 7.3, 7.3, 6.7, 7.4, 7.7, 5.9, 6.3, 7.0, 6.5, 6.4, 7.2, 6.4, 6.7, 7.0, 6.9, 6.4, 6.2, 6.1, 6.3, 6.1, 7.0, 6.0, 6.5, 6.0, 6.7, 6.3, 6.5, 6.2, 7.2, 6.2, 6.9, 6.4, 6.4, 6.3, 7.5, 7.7, 8.0, 8.5, 7.0, 7.5, 7.0, 7.2, 7.1, 7.6, 8.4, 6.8, 6.4, 6.7, 6.3, 6.8, 6.1, 6.4, 8.0, 7.6, 7.4, 7.4, 7.2, 7.2, 7.4, 7.6, 7.8, 7.0, 7.7, 6.7, 5.6, 7.5, 5.9, 5.7, 6.9, 5.9, 7.0, 7.0, 6.5, 7.0, 6.4, 6.4, 6.4, 7.2, 6.1, 6.1, 5.9, 5.6, 6.6, 5.8, 6.2, 6.1, 6.6, 5.9, 6.0, 5.9, 6.6, 5.6, 7.9, 8.0, 9.1, 7.5, 7.7, 8.1, 7.5, 8.4, 7.4, 7.0, 8.3, 5.8, 6.0, 5.9, 5.9, 6.4, 6.0, 6.0, 5.9, 6.5, 7.2, 7.0, 5.9, 7.1, 7.7, 7.4, 6.4, 6.0, 5.4, 6.7, 8.2, 7.5, 7.1, 5.8, 7.3, 7.4, 7.4, 7.2, 7.3, 7.6, 6.1, 6.7, 6.6, 6.4, 8.2, 7.0, 7.7, 7.4, 7.3, 6.9, 6.8, 6.7, 6.3, 6.6, 6.5, 6.5, 6.5, 7.2, 7.2, 7.6, 7.1, 7.2, 6.8, 7.5, 6.9, 7.1, 5.9, 7.5, 6.7, 7.8, 5.1, 6.7, 6.2, 6.6, 6.1, 7.3, 5.7, 5.3, 6.1, 6.8, 6.0, 7.7, 7.8, 7.8, 7.3, 7.0, 7.5, 7.4, 8.1, 6.2, 6.4, 6.8, 7.5, 6.2, 5.5, 6.5, 6.7, 5.1, 7.1, 6.1, 6.0, 7.3, 6.1, 6.7, 6.2, 7.2, 6.0, 7.2, 6.5, 7.4, 6.5, 8.2, 7.2, 7.7, 7.2, 8.1, 6.6, 6.2, 8.3, 6.8, 6.4, 7.0, 7.0, 6.6, 7.4, 7.3, 8.1, 6.8, 6.7, 8.3, 7.7, 6.8, 5.8, 6.1, 6.9, 7.6, 8.0, 6.4, 6.8, 4.8, 5.9, 6.7, 5.7, 8.1, 6.1, 6.3, 6.8, 6.5, 6.1, 5.8, 6.4, 7.6, 7.8, 8.1, 7.2, 8.9, 7.5, 7.6, 6.7, 7.8, 7.3, 7.2, 6.5, 6.8, 7.8, 7.7, 6.0, 6.2, 6.7, 6.8, 6.6, 6.9, 6.4, 7.3, 6.1, 6.3, 6.3, 5.0, 7.2, 6.7, 6.0, 7.2, 7.4, 7.2, 7.1, 7.6, 8.0, 6.6, 7.6, 6.2, 6.8, 8.1, 7.3, 7.2, 7.8, 7.3, 6.9, 7.6, 6.4, 6.0, 6.6, 5.6, 6.1, 7.5, 7.5, 6.9, 7.2, 8.3, 8.2, 9.6, 8.1, 8.9, 6.8, 8.0, 6.3, 7.1, 6.2, 6.2, 7.8, 5.6, 5.4, 5.8, 4.9, 6.6, 6.3, 6.6, 6.4, 7.4, 6.8, 7.0, 7.8, 6.8, 7.4, 8.5, 7.6, 7.5, 9.1, 7.3, 7.5, 6.1, 6.7, 6.5, 6.6, 6.0, 6.3, 6.0, 5.9, 7.3, 5.3, 7.2, 6.3, 6.3, 6.3, 6.4, 5.7, 6.3, 7.1, 7.2, 6.9, 7.7, 7.1, 8.3, 7.7, 6.9, 7.4, 6.3, 7.3, 7.5, 5.9, 4.7, 6.0, 7.8, 6.5, 6.2, 6.6, 6.0, 5.9, 5.7, 6.6, 6.4, 6.1, 5.9, 6.4, 5.8, 6.7, 8.0, 6.7, 7.0, 7.2, 7.3, 7.5, 6.7, 7.2, 6.2, 6.4, 6.9, 6.1, 6.2, 6.9, 7.3, 7.1, 7.7, 6.4, 8.0, 7.5, 6.5, 6.7, 6.0, 6.3, 7.9, 6.4, 6.2, 5.9, 6.2, 7.1, 6.8, 6.5, 9.2, 7.7, 8.2, 7.8, 7.0, 8.7, 6.7, 6.5, 6.0, 5.8, 6.1, 6.8, 6.6, 6.2, 7.0, 6.0, 5.4, 6.0, 6.7, 7.2, 6.4, 5.8, 7.4, 6.3, 6.0, 6.3, 6.3, 5.1, 7.6, 7.4, 6.2, 6.6, 6.4, 8.1, 7.8, 8.2, 7.0, 6.2, 7.5, 8.9, 8.2, 6.3, 7.2, 8.8, 7.6, 6.2, 6.8, 6.9, 7.9, 6.0, 6.3, 6.5, 6.9, 6.2, 7.0, 8.0, 7.7, 7.1, 7.2, 7.2, 7.6, 7.4, 7.6, 8.5, 8.0, 7.3, 5.9, 6.4, 6.2, 6.5, 7.7, 7.3, 7.2, 5.7, 6.6, 6.3, 6.0, 6.3, 5.8, 5.9, 6.1, 6.2, 5.9, 5.8, 5.6, 6.6, 5.8, 5.8, 5.8, 4.9, 6.5, 6.0, 6.4, 6.4, 9.4, 7.1, 7.7, 7.8, 7.8, 7.5, 8.0, 8.2, 7.8, 7.4, 7.8, 6.3, 6.3, 6.1, 7.3, 6.3, 6.2, 7.1, 6.0, 5.9, 7.3, 6.2, 7.6, 6.7, 6.8, 7.2, 6.9, 7.9, 8.6, 8.2, 7.3, 7.9, 6.6, 7.5, 7.2, 7.4, 7.8, 6.9, 8.0, 7.0, 7.1, 5.8, 5.9, 6.2, 6.6, 6.2, 6.2, 6.2, 5.3, 6.1, 7.3, 7.0, 6.3, 7.3, 6.6, 7.0, 7.4, 7.4, 6.4, 6.7, 8.2, 7.0, 7.7, 7.0, 7.9, 6.9, 7.3, 7.5, 7.1, 9.0, 6.5, 6.6, 6.6, 7.2, 7.3, 5.7, 7.4, 7.2, 8.1, 6.9, 8.8, 8.9, 6.5, 8.1, 6.6, 6.1, 6.8, 6.4, 7.2, 7.5, 6.5, 5.9, 5.9, 6.0, 6.3, 6.8, 6.5, 7.2, 5.8, 6.0, 6.1, 6.0, 7.8, 8.1, 6.3, 6.4, 6.8, 7.6, 7.4, 6.6, 8.6, 7.3, 6.5, 8.0, 7.0, 7.1, 7.6, 7.7, 7.2, 6.6, 8.4, 6.3, 6.7, 8.1, 6.5, 7.5, 7.6, 6.0, 6.5, 7.0, 7.4, 7.5, 6.8, 6.1, 7.5, 7.4, 8.1, 7.6, 7.4, 7.2, 6.0, 6.9, 8.4, 5.9, 7.1, 6.4, 5.5, 6.2, 6.9, 5.3, 6.9, 6.2, 6.1, 6.5, 6.6, 6.2, 6.5, 7.4, 6.7, 7.4, 7.0, 6.6, 6.5, 7.5, 8.0, 7.8, 8.5, 7.4, 6.9, 6.5, 6.1, 6.5, 7.2, 6.3, 6.1, 6.1, 6.2, 6.6, 5.7, 7.1, 6.3, 6.4, 5.8, 5.8, 6.2, 6.3, 6.6, 5.9, 6.5, 7.7, 6.6, 6.8, 7.9, 7.8, 7.2, 6.5, 8.3, 6.9, 7.5, 7.2, 6.0, 7.5, 7.0, 6.9, 6.6, 5.4, 6.1, 5.1, 6.0, 6.3, 6.8, 7.0, 8.5, 6.1, 6.5, 6.3, 6.0, 6.5, 6.5, 6.3, 6.0, 6.4, 7.2, 7.0, 6.2, 6.5, 8.5, 7.3, 7.9, 7.3, 7.9, 6.9, 7.6, 6.7, 6.9, 8.2, 9.2, 6.1, 5.1, 6.5, 6.3, 7.1, 8.5, 6.9, 7.3, 7.9, 6.3, 6.6, 7.6, 7.0, 6.6, 6.2, 6.3, 8.0, 7.7, 6.6, 7.2, 7.1, 6.5, 7.1, 7.0, 7.7, 6.6, 6.6, 6.5, 6.2, 7.1, 7.5, 7.2, 7.0, 6.7, 7.0, 6.6, 6.9, 7.1, 6.6, 5.9, 6.3, 7.1, 6.6, 6.8, 6.5, 7.2, 7.0, 6.8, 7.2, 8.6, 6.2, 6.8, 6.8, 7.0, 6.7, 6.6, 6.3, 7.0, 6.9, 7.4, 6.5, 7.2, 6.6, 7.4, 7.8, 6.8, 6.5, 5.7, 7.1, 6.6, 6.2, 7.5, 7.3, 7.4, 6.4, 6.2, 6.2, 6.1, 5.9, 6.4, 6.5, 7.3, 6.4, 7.9, 8.0, 6.6, 6.9, 7.3, 7.3, 7.6, 9.0, 7.9, 8.2, 6.9, 7.2, 6.3, 6.7, 6.9, 5.7, 6.5, 5.4, 5.6, 5.8, 5.5, 4.7, 6.5, 6.7, 6.9, 6.3, 6.6, 6.3, 7.0, 7.4, 7.5, 7.7, 7.1, 8.1, 7.7, 7.8, 7.9, 9.2, 6.8, 8.4, 5.8, 6.5, 7.0, 8.0, 5.8, 5.9, 6.1, 5.4, 4.9, 6.3, 5.8, 6.7, 6.3, 5.9, 6.1, 6.5, 7.1, 6.8, 7.2, 6.6, 6.1, 6.9, 6.7, 7.9, 7.4, 6.3, 6.7, 6.9, 6.2, 7.4, 7.4, 7.2, 6.7, 7.7, 7.7, 7.1, 6.5, 6.1, 6.3, 6.2, 6.2, 6.7, 6.5, 7.7, 6.6, 6.8, 7.9, 7.8, 7.2, 6.5, 8.3, 6.9, 7.5, 7.2, 6.0, 7.5, 7.0, 6.9, 6.6, 5.4, 6.1, 5.1, 6.0, 6.3, 6.8, 7.0, 8.5, 6.1, 6.5, 7.2, 7.5, 6.6, 7.4, 7.3, 8.5, 6.3, 6.9, 7.1, 7.2, 7.8, 6.8, 7.0, 8.3, 6.4, 6.6, 8.2, 6.8, 6.3, 7.2, 7.4, 8.2, 5.9, 6.0, 6.6, 5.9, 6.5, 7.2, 7.0, 7.4, 7.3, 7.5, 7.9, 6.8, 8.9, 8.2, 6.5, 6.4, 6.2, 7.9, 6.2, 7.2, 6.1, 6.9, 7.1, 6.8, 6.6, 8.0, 6.2, 6.8, 6.6, 6.1, 5.8, 6.4, 6.7, 6.6, 7.0, 6.6, 6.5, 7.0, 6.1, 6.6, 6.8, 7.1, 5.9, 6.6, 6.9, 6.9, 6.7, 7.1, 8.6, 7.5, 7.5, 8.2, 6.8, 8.3, 6.1, 7.0, 6.8, 6.9, 6.5, 6.5, 6.4, 6.0, 6.8, 7.1, 7.5, 6.4, 7.9, 6.7, 5.9, 7.2, 7.4, 7.8, 8.1, 7.1, 6.5, 8.0, 7.4, 7.9, 7.4, 6.0, 6.4, 6.6, 6.7, 7.0, 6.7, 5.9, 6.2, 7.6, 6.8, 6.4, 6.0, 8.2, 7.9, 7.0, 6.9, 8.4, 7.5, 8.1, 8.7, 6.6, 7.8, 6.6, 5.6, 6.1, 6.4, 6.2, 6.3, 6.1, 6.4, 6.5, 6.2, 6.4, 5.1, 7.2, 7.0, 6.2, 6.4, 6.2, 6.3, 6.6, 6.2, 6.1, 6.1, 7.0, 6.9, 7.1, 7.2, 7.3, 7.1, 7.3, 9.3, 8.3, 7.7, 7.3, 6.2, 6.3, 6.1, 8.8, 6.1, 6.2, 5.8, 6.1, 6.2, 5.8, 5.4, 6.1, 7.4, 6.5, 6.9, 7.2, 7.1, 7.2, 7.6, 7.6, 7.3, 7.3, 6.7, 7.4, 7.7, 5.9, 6.3, 7.0, 6.5, 6.4, 7.2, 6.4, 6.7, 7.0, 6.9, 6.4, 6.2, 6.1, 6.3, 6.1, 7.0, 6.0, 6.5, 6.1, 6.8, 6.1, 7.0, 7.0, 7.2, 6.8, 6.3, 6.8, 6.1, 7.6, 9.6, 6.9, 8.1, 6.7, 7.6, 7.8, 7.8, 7.5, 7.2, 8.0, 6.3, 7.6, 6.0, 6.1, 6.3, 6.1, 6.5, 6.7, 6.2, 7.5, 7.0, 7.4, 7.1, 7.5, 7.0, 6.2, 6.5, 7.2, 7.7, 7.2, 8.1, 6.6, 7.4, 6.2, 7.0, 7.7, 7.0, 6.5, 7.1, 6.1, 6.2, 7.2, 6.0, 6.2, 8.0, 6.1, 7.1, 6.9, 7.3, 8.0, 7.6, 7.1, 7.8, 7.0, 8.4, 6.6, 5.8, 7.0, 6.5, 6.1, 6.7, 6.5, 5.9, 7.2, 6.0, 5.1, 6.1, 6.8, 6.6, 6.1, 6.2, 6.6, 6.7, 6.3, 6.0, 7.6, 3.9, 5.8, 4.4, 6.9, 7.2, 7.4, 6.7, 7.0, 6.1, 7.5, 6.3, 7.0, 8.0, 8.9, 8.1, 7.4, 6.5, 6.5, 6.7, 7.3, 7.3, 7.8, 6.6, 6.4, 5.8, 6.5, 6.3, 6.8, 7.6, 7.6, 7.0, 6.8, 6.5, 6.6, 7.0, 7.0, 6.6, 7.8, 6.0, 7.5, 7.0, 7.0, 6.7, 6.7, 7.4, 7.1, 7.2, 8.5, 6.8, 6.1, 6.2, 6.6, 5.7, 6.3, 7.1, 5.6, 6.8, 6.5, 5.9, 6.1, 6.4, 6.6, 6.9, 7.8, 9.1, 6.5, 6.8, 8.4, 7.6, 7.7, 9.2, 6.3, 6.1, 6.8, 5.7, 6.7, 8.4, 6.4, 7.0, 5.9, 6.8, 6.3, 6.3, 8.5, 6.9, 7.5, 7.6, 6.6, 7.7, 6.9, 7.8, 6.9, 7.6, 6.1, 5.8, 6.3, 7.0, 6.7, 7.6, 6.9, 7.6, 6.7, 7.3, 6.5, 9.1, 6.5, 6.1, 5.9, 6.9, 6.6, 6.2, 6.2, 7.3, 6.4, 7.3, 8.8, 9.3, 8.0, 8.0, 6.2, 6.7, 7.8, 7.2, 8.1, 6.9, 5.6, 5.8, 5.5, 6.6, 6.1, 6.1, 6.0, 6.2, 6.2, 6.2, 7.1, 6.6, 7.2, 6.2, 7.1, 7.5, 7.2, 7.0, 6.7, 7.0, 6.6, 6.9, 7.1, 6.6, 5.9, 6.3, 7.1, 6.6, 6.8, 6.5, 7.2, 7.0, 6.8, 7.2, 8.6, 6.2, 6.8, 6.8, 7.1, 6.5, 5.9, 6.8, 6.5, 6.5, 6.3, 6.8, 5.7, 6.6, 6.3, 6.8, 7.7, 7.5, 7.4, 7.5, 7.7, 7.2, 7.6, 7.9, 7.8, 7.7, 6.4, 6.2, 6.0, 6.3, 6.0, 6.7, 5.6, 5.8, 5.8, 6.0, 6.2, 7.0, 7.5, 7.3, 7.7, 6.2, 9.0, 7.9, 6.5, 8.4, 7.6, 6.7, 7.9, 7.4, 8.0, 6.5, 7.1, 6.6, 6.2, 6.1, 6.2, 6.5, 6.4, 6.9, 6.4, 7.8, 7.6, 6.9, 7.1, 7.5, 6.9, 9.0, 7.4, 7.5, 7.9, 6.6, 6.9, 7.5, 8.5, 7.3, 6.7, 6.7, 6.3, 6.5, 8.6, 6.8, 6.4, 5.6, 6.9, 6.3, 6.6, 6.9, 6.6, 7.7, 6.8, 8.2, 8.1, 8.2, 7.7, 6.2, 6.5, 8.9, 6.8, 7.5, 5.9, 7.0, 6.1, 6.0, 7.3, 5.3, 6.5, 6.1, 6.4, 5.9, 7.8, 8.1, 6.3, 6.4, 6.8, 7.6, 7.4, 6.6, 8.6, 7.3, 6.5, 8.0, 7.0, 7.1, 7.6, 7.7, 7.2, 6.6, 8.4, 6.3, 6.7, 8.1, 6.5, 7.5, 7.6, 6.0, 7.7, 9.1, 7.5, 7.8, 6.6, 7.9, 8.0, 7.7, 8.9, 8.0, 9.1, 6.0, 6.2, 5.1, 6.1, 6.5, 5.7, 6.3, 5.6, 6.3, 5.7, 5.7, 7.4, 6.1, 6.7, 7.4, 6.8, 6.0, 6.2, 6.2, 6.4, 6.8, 8.0, 8.0, 7.2, 7.3, 8.2, 7.4, 8.1, 7.2, 7.8, 7.8, 6.8, 6.1, 5.7, 6.6, 6.3, 6.1, 6.5, 7.5, 7.1, 6.7, 6.7, 6.1, 6.1, 6.3, 6.3, 5.4, 6.0, 5.6, 5.8, 6.4, 6.4, 6.8, 6.3, 6.9, 6.8, 6.0, 8.3, 6.8, 6.8, 7.8, 7.3, 8.2, 6.5, 6.3, 8.0, 7.6, 7.2, 6.9, 6.4, 6.2, 6.7, 6.4, 6.0, 7.2, 6.2, 6.5, 6.2, 7.5, 7.1, 6.4, 6.7, 7.6, 8.1, 8.3, 6.4, 7.1, 6.8, 5.7, 6.7, 6.5, 6.0, 6.8, 6.3, 7.2, 6.9, 6.5, 6.6, 6.2, 6.7, 6.6, 7.0, 6.3, 7.2, 6.1, 5.5, 6.9, 6.5, 6.6, 7.6, 6.3, 5.7, 7.7, 8.4, 6.5, 7.2, 6.8, 6.8, 7.0, 7.9, 7.2, 7.8, 6.6, 6.2, 7.0, 7.2, 6.0, 7.1, 6.0, 6.2, 6.6, 6.8, 6.2, 6.0, 6.5, 7.1, 6.9, 7.5, 8.3, 6.6, 7.3, 6.6, 6.3, 6.4, 7.3, 6.7, 6.5, 8.1, 5.9, 6.9, 6.3, 6.8, 6.7, 6.8, 6.2, 6.4, 6.4, 7.3, 6.2, 7.7, 6.4, 7.7, 8.0, 7.2, 7.8, 8.8, 7.3, 7.4, 7.8, 7.7, 6.1, 6.5, 7.2, 6.5, 6.2, 6.5, 6.6, 6.6, 5.3, 6.5, 7.0, 6.5, 6.3, 6.1, 6.6, 6.5, 6.3, 6.2, 6.0, 6.5, 5.4, 5.1, 6.4, 5.6, 6.8, 5.7, 7.1, 6.6, 7.3, 8.4, 6.4, 6.6, 7.9, 9.3, 8.1, 6.9, 8.0, 7.7, 5.6, 7.1, 6.3, 6.4, 6.8, 7.0, 6.9, 5.9, 6.0, 6.4, 6.5, 6.3, 7.3, 9.0, 6.9, 7.2, 6.5, 7.3, 6.9, 8.8, 6.7, 7.3, 7.2, 7.5, 6.1, 7.4, 7.8, 7.2, 6.9, 6.7, 6.5, 6.8, 6.0, 6.2, 6.8, 6.2, 7.2, 7.8, 7.5, 7.1, 7.1, 8.0, 7.7, 7.3, 7.4, 6.8, 8.9, 6.3, 6.7, 7.0, 6.3, 6.6, 6.1, 6.7, 6.9, 6.4, 6.4, 7.3, 6.6, 6.5, 6.7, 6.4, 6.7, 5.9, 5.9, 7.8, 7.8, 7.2, 7.5, 8.0, 6.6, 8.2, 6.7, 6.3, 7.2, 7.0, 7.4, 5.8, 7.1, 6.7, 7.3, 7.2, 6.7, 6.6, 6.5, 6.5, 5.9, 6.4, 6.3, 6.9, 6.1, 6.4, 6.1, 7.8, 7.8, 7.2, 7.5, 8.0, 6.6, 8.2, 6.7, 6.3, 7.2, 7.0, 7.4, 5.8, 7.1, 6.7, 7.3, 7.2, 6.7, 6.6, 6.5, 6.5, 5.9, 6.4, 6.3, 6.9, 6.1, 6.4, 6.1, 7.8, 7.0, 7.2, 7.9, 7.0, 8.3, 6.6, 7.1, 7.1, 8.6, 9.1, 5.8, 5.8, 6.5, 6.3, 6.4, 6.4, 6.4, 6.9, 6.5, 6.4, 8.4, 6.4, 7.0, 6.7, 6.6, 5.7, 6.2, 6.0, 8.6, 7.6, 7.7, 7.1, 7.3, 7.4, 7.0, 6.8, 8.6, 8.8, 6.9, 6.0, 6.6, 6.6, 6.4, 6.9, 7.4, 5.8, 6.4, 5.4, 5.7, 4.8, 6.3, 6.2, 6.4, 6.3, 6.2, 7.4, 7.3, 5.0, 6.9, 6.9, 7.8, 8.0, 7.7, 9.5, 7.7, 6.2, 6.1, 6.4, 5.7, 5.8, 6.4, 6.6, 6.7, 6.9, 6.2, 7.1, 7.0, 6.5, 6.5, 7.5, 6.5, 6.7, 6.2, 6.3, 6.0, 7.3, 6.5, 6.7, 6.9, 6.7, 7.7, 6.8, 7.1, 6.6, 6.2, 7.0, 8.4, 8.4, 6.5, 6.2, 7.4, 7.4, 6.7, 6.3, 6.7, 6.6, 5.8, 7.3, 6.6, 6.8, 6.9, 6.1, 6.3, 6.4, 6.3, 7.8, 6.5, 7.8, 6.8, 7.5, 6.9, 6.8, 7.4, 6.2, 8.2, 7.0, 6.0, 5.9, 7.4, 6.2, 6.4, 7.4, 7.0, 6.3, 6.7, 6.3, 5.8, 6.2, 6.6, 6.9, 6.4, 4.3, 7.7, 5.4, 5.4, 7.4, 5.0, 5.5, 8.3, 7.2, 8.1, 7.3, 7.5, 6.7, 9.5, 8.8, 8.7, 7.8, 7.2, 7.2, 7.3, 6.3, 6.3, 6.4, 6.0, 6.2, 9.5, 6.2, 7.1, 8.5, 6.9, 7.5, 7.6, 6.6, 7.7, 6.9, 7.8, 6.9, 7.6, 6.1, 5.8, 6.3, 7.0, 6.7, 7.6, 6.9, 7.6, 6.7, 7.3, 6.5, 9.1, 6.5, 6.1, 7.7, 7.2, 8.4, 7.8, 8.1, 8.8, 6.6, 7.6, 6.7, 6.9, 7.5, 6.2, 6.8, 8.8, 7.4, 6.3, 6.6, 5.8, 6.1, 6.5, 6.1, 7.1, 7.8, 6.0, 6.7, 6.1, 5.9, 6.8, 7.1, 6.0, 5.9, 7.3, 6.2, 7.6, 6.7, 6.8, 7.2, 6.9, 7.9, 8.6, 8.2, 7.3, 7.9, 6.6, 7.5, 7.2, 7.4, 7.8, 6.9, 8.0, 7.0, 7.1, 5.8, 5.9, 6.2, 6.6, 6.2, 6.2, 6.2, 5.6, 6.6, 6.6, 6.1, 6.4, 8.3, 6.4, 6.6, 8.0, 6.1, 6.4, 7.3, 6.7, 7.8, 8.0, 8.3, 7.2, 7.7, 7.1, 6.7, 7.3, 7.0, 7.6, 6.3, 6.2, 6.2, 8.0, 6.4, 6.2, 6.9, 6.2, 7.4, 6.8, 7.0, 7.8, 6.8, 7.4, 8.5, 7.6, 7.5, 9.1, 7.3, 7.5, 6.1, 6.7, 6.5, 6.6, 6.0, 6.3, 6.0, 5.9, 7.3, 5.3, 7.2, 6.3, 6.3, 6.3, 6.4, 5.7, 6.3, 7.5, 7.5, 7.2, 7.5, 7.6, 8.3, 7.8, 7.0, 7.3, 9.0, 7.3, 6.5, 6.0, 6.6, 6.5, 6.3, 6.7, 5.8, 5.8, 6.4, 5.7, 5.5, 7.5, 6.0, 6.1, 6.6, 6.2, 6.4, 5.9, 7.0, 6.7, 6.1, 6.3, 6.2, 6.7, 6.2, 6.5, 6.5, 6.4, 6.5, 7.2, 7.2, 7.6, 7.1, 7.0, 7.7, 7.6, 7.4, 7.7, 7.6, 8.1, 6.2, 6.8, 6.7, 6.4, 6.6, 6.1, 7.5, 7.5, 6.9, 7.2, 8.3, 8.2, 9.6, 8.1, 8.9, 6.8, 8.0, 6.3, 7.1, 6.2, 6.2, 7.8, 5.6, 5.4, 5.8, 4.9, 6.6, 6.3, 6.6, 6.4, 6.2, 7.5, 7.0, 6.8, 6.9, 7.3, 7.9, 7.6, 8.0, 8.1, 6.9, 6.4, 6.0, 7.4, 6.1, 7.5, 8.3, 6.5, 7.3, 6.4, 6.1, 7.2, 6.5, 6.3, 6.3, 6.4, 6.2, 6.5, 6.1, 7.2, 7.5, 6.6, 7.4, 7.3, 8.5, 6.3, 6.9, 7.1, 7.2, 7.8, 6.8, 7.0, 8.3, 6.4, 6.6, 8.2, 6.8, 6.3, 7.2, 7.4, 8.2, 5.9, 6.0, 6.6, 5.9, 7.0, 6.6, 6.9, 6.9, 7.7, 8.1, 7.6, 6.6, 7.7, 7.1, 8.7, 6.9, 7.6, 6.8, 7.3, 5.3, 7.4, 6.0, 6.3, 5.5, 6.7, 5.4, 6.3, 6.5, 7.1, 8.1, 7.3, 6.9, 6.6, 6.1, 6.0, 7.9, 7.7, 7.7, 7.3, 7.1, 7.5, 8.2, 7.3, 8.3, 7.2, 7.2, 6.1, 6.5, 5.9, 6.1, 6.0, 7.2, 6.6, 6.3, 6.3, 6.5, 6.5, 6.5, 7.3, 6.2, 6.5, 5.9, 6.0, 3.9, 5.8, 4.4, 6.9, 7.2, 7.4, 6.7, 7.0, 6.1, 7.5, 6.3, 7.0, 8.0, 8.9, 8.1, 7.4, 6.5, 6.5, 6.7, 7.3, 7.3, 7.8, 6.6, 6.4, 5.8, 6.5, 6.3, 5.5, 6.9, 6.5, 6.6, 7.6, 6.3, 5.7, 7.7, 8.4, 6.5, 7.2, 6.8, 6.8, 7.0, 7.9, 7.2, 7.8, 6.6, 6.2, 7.0, 7.2, 6.0, 7.1, 6.0, 6.2, 6.6, 6.8, 6.2, 6.0, 5.0, 6.7, 6.3, 7.7, 8.8, 8.3, 6.8, 8.5, 7.5, 9.7, 7.6, 6.0, 6.2, 7.6, 7.8, 4.8, 5.8, 4.2, 4.7, 5.5, 5.3, 5.0, 6.8, 9.6, 5.8, 6.8, 7.2, 7.6, 6.7, 7.4, 6.9, 7.1, 6.8, 6.7, 6.0, 5.3, 7.1, 6.0, 7.0, 7.5, 8.2, 7.7, 7.2, 7.4, 7.8, 7.8, 8.2, 6.2, 6.4, 6.4, 6.5, 6.4, 6.9, 7.3, 8.6, 6.9, 7.0, 7.8, 7.5, 7.0, 8.1, 7.7, 7.5, 6.8, 5.9, 6.3, 6.1, 5.9, 6.3, 6.5, 6.6, 6.3, 6.6, 6.8, 6.7, 6.3, 5.9, 6.2, 5.9, 6.1, 6.2, 7.1, 7.5, 7.2, 7.0, 6.7, 7.0, 6.6, 6.9, 7.1, 6.6, 5.9, 6.3, 7.1, 6.6, 6.8, 6.5, 7.2, 7.0, 6.8, 7.2, 8.6, 6.2, 6.8, 6.8, 8.5, 7.9, 7.4, 7.5, 7.8, 7.5, 8.8, 6.9, 8.9, 7.8, 8.9, 6.0, 5.7, 6.1, 6.1, 6.2, 7.6, 6.6, 6.0, 5.6, 5.6, 6.5, 6.6, 6.3, 6.2, 6.5, 6.0, 6.3, 6.5, 7.2, 7.8, 7.5, 7.1, 7.1, 8.0, 7.7, 7.3, 7.4, 6.8, 8.9, 6.3, 6.7, 7.0, 6.3, 6.6, 6.1, 6.7, 6.9, 6.4, 6.4, 7.3, 6.6, 6.5, 6.7, 6.4, 6.7, 5.9, 5.9, 6.9, 7.8, 7.0, 7.1, 6.4, 8.0, 8.1, 5.9, 8.9, 8.1, 6.7, 6.9, 7.0, 6.9, 6.7, 7.3, 4.6, 7.0, 6.6, 5.0, 5.3, 4.0, 6.2, 9.5, 6.5, 7.7, 7.3, 6.5]\n",
      "8075 8075 8075\n"
     ]
    }
   ],
   "source": [
    "all_player_names = []\n",
    "all_shirt_numbers = []\n",
    "all_spi_scores = []\n",
    "for row in match_rows:\n",
    "    # print(i, \"\\n\") # Row()\n",
    "    player_info = json.loads(row.player_stats)\n",
    "    # print(ast.literal_eval(player_info[\"Player_Names\"]))\n",
    "\n",
    "    raw_data = player_info[\"Player_Names\"]\n",
    "    corrected_data = \"[\" + \", \".join(f'\"{name.strip()}\"' for name in raw_data.strip(\"[]\").split(\", \") if name) + \"]\"\n",
    "    player_names = ast.literal_eval(corrected_data)\n",
    "    # print(player_names)\n",
    "    all_player_names.extend(player_names)\n",
    "\n",
    "\n",
    "    match_shirt_numbers = json.loads(player_info[\"Shirt_Numbers\"])\n",
    "    all_shirt_numbers.extend(match_shirt_numbers) \n",
    "\n",
    "    match_spi_scores = json.loads(player_info[\"SPI_Scores\"])\n",
    "    all_spi_scores.extend(match_spi_scores)\n",
    "\n",
    "# print(all_player_names)\n",
    "print(all_spi_scores)\n",
    "print(len(all_shirt_numbers),  len(all_spi_scores), len(all_player_names))"
   ]
  },
  {
   "cell_type": "code",
   "execution_count": 32,
   "metadata": {},
   "outputs": [],
   "source": [
    "data = list(zip(all_player_names, all_shirt_numbers, all_spi_scores))"
   ]
  },
  {
   "cell_type": "code",
   "execution_count": 33,
   "metadata": {},
   "outputs": [
    {
     "data": {
      "text/plain": [
       "DataFrame[player_name: string, player_number: int, spi_score: float]"
      ]
     },
     "execution_count": 33,
     "metadata": {},
     "output_type": "execute_result"
    }
   ],
   "source": [
    "new_schema = StructType()\n",
    "new_schema.add(StructField(name=\"player_name\", dataType=StringType()))\n",
    "new_schema.add(StructField(name=\"player_number\", dataType=IntegerType()))\n",
    "new_schema.add(StructField(name=\"spi_score\", dataType=FloatType()))\n",
    "new_df = spark_sess.createDataFrame(data, schema=new_schema)\n",
    "new_df"
   ]
  },
  {
   "cell_type": "code",
   "execution_count": 34,
   "metadata": {},
   "outputs": [
    {
     "name": "stdout",
     "output_type": "stream",
     "text": [
      "+---------------+-------------+---------+\n",
      "|    player_name|player_number|spi_score|\n",
      "+---------------+-------------+---------+\n",
      "|Drake Callender|            1|      7.3|\n",
      "| DeAndre Yedlin|            2|      7.2|\n",
      "|   Tomas Aviles|            6|      7.6|\n",
      "|Serhiy Kryvtsov|           27|      7.5|\n",
      "|     Jordi Alba|           18|      7.7|\n",
      "| Julian Gressel|           24|      6.9|\n",
      "|Sergio Busquets|            5|      7.8|\n",
      "|    Diego Gomez|           20|      8.6|\n",
      "|   Lionel Messi|           10|      8.5|\n",
      "|    Luis Suárez|            9|      7.9|\n",
      "|  Robert Taylor|           16|      8.4|\n",
      "|Cristian Arango|            9|      6.4|\n",
      "|   Carlos Gomez|           11|      5.3|\n",
      "|     Pablo Ruiz|            7|      7.0|\n",
      "|     Diego Luna|            8|      6.9|\n",
      "| Nelson Palacio|           13|      6.3|\n",
      "|   Braian Ojeda|            6|      6.9|\n",
      "|   Andrew Brody|            2|      6.5|\n",
      "|    Brayan Vera|            4|      6.6|\n",
      "|    Justen Glad|           15|      6.5|\n",
      "+---------------+-------------+---------+\n",
      "only showing top 20 rows\n",
      "\n"
     ]
    }
   ],
   "source": [
    "new_df.show()"
   ]
  },
  {
   "cell_type": "code",
   "execution_count": null,
   "metadata": {},
   "outputs": [],
   "source": []
  },
  {
   "cell_type": "code",
   "execution_count": null,
   "metadata": {},
   "outputs": [],
   "source": [
    "# Find average SPI for each player\n",
    "# Find number of games for each player\n",
    "# Find max average SPI\n",
    "# Find max game count\n",
    "\n"
   ]
  },
  {
   "cell_type": "code",
   "execution_count": 44,
   "metadata": {},
   "outputs": [
    {
     "name": "stdout",
     "output_type": "stream",
     "text": [
      "+------------------+-------------+-----+\n",
      "|       player_name|player_number|count|\n",
      "+------------------+-------------+-----+\n",
      "|      Rudy Camacho|            4|   18|\n",
      "|        Ian Murphy|           32|   11|\n",
      "|     Jonathan Dean|           24|    7|\n",
      "| Keegan Rosenberry|            2|   16|\n",
      "|       Diego Rossi|           10|   22|\n",
      "|   Julian Carranza|            9|    5|\n",
      "|   Cristian Dajome|           11|   20|\n",
      "|   Drake Callender|            1|   19|\n",
      "|     Fidel Barajas|           17|    5|\n",
      "|       Caden Clark|           37|    7|\n",
      "|     Rafael Santos|            3|   24|\n",
      "|       Eric Miller|           15|    9|\n",
      "|       Brayan Vera|            4|   15|\n",
      "|         Robin Lod|           17|   22|\n",
      "|       John Nelson|           14|   22|\n",
      "|Robert Castellanos|           19|    7|\n",
      "|    Lalas Abubakar|            6|   11|\n",
      "|    Victor Wanyama|            2|    3|\n",
      "|  Nökkvi Thorisson|           29|   18|\n",
      "|  Jeorgio Kocevski|           33|    2|\n",
      "+------------------+-------------+-----+\n",
      "only showing top 20 rows\n",
      "\n"
     ]
    }
   ],
   "source": [
    "matches_played_per_player = new_df.groupBy([\"player_name\", \"player_number\"]).count()\n",
    "matches_played_per_player.show()"
   ]
  },
  {
   "cell_type": "code",
   "execution_count": 51,
   "metadata": {},
   "outputs": [
    {
     "name": "stdout",
     "output_type": "stream",
     "text": [
      "+----------+\n",
      "|max(count)|\n",
      "+----------+\n",
      "|        29|\n",
      "+----------+\n",
      "\n"
     ]
    }
   ],
   "source": [
    "max_games_played = matches_played_per_player.agg({\"count\": \"max\"})\n",
    "max_games_played.show()"
   ]
  },
  {
   "cell_type": "code",
   "execution_count": 107,
   "metadata": {},
   "outputs": [
    {
     "data": {
      "text/plain": [
       "29"
      ]
     },
     "execution_count": 107,
     "metadata": {},
     "output_type": "execute_result"
    }
   ],
   "source": [
    "max_games_played_var = max_games_played.collect()[0][\"max(count)\"]\n",
    "max_games_played_var"
   ]
  },
  {
   "cell_type": "code",
   "execution_count": 45,
   "metadata": {},
   "outputs": [
    {
     "name": "stdout",
     "output_type": "stream",
     "text": [
      "+------------------+-------------+------------------+\n",
      "|       player_name|player_number|    avg(spi_score)|\n",
      "+------------------+-------------+------------------+\n",
      "|      Rudy Camacho|            4| 6.594444486829969|\n",
      "|        Ian Murphy|           32| 6.818181731484153|\n",
      "|     Jonathan Dean|           24|6.6571429797581265|\n",
      "| Keegan Rosenberry|            2|6.4937500059604645|\n",
      "|       Diego Rossi|           10| 7.109090913425792|\n",
      "|   Julian Carranza|            9|               7.5|\n",
      "|   Cristian Dajome|           11|6.5150000095367435|\n",
      "|   Drake Callender|            1| 6.621052666714317|\n",
      "|     Fidel Barajas|           17|6.3799999237060545|\n",
      "|       Caden Clark|           37| 6.299999918256487|\n",
      "|     Rafael Santos|            3| 7.204166670640309|\n",
      "|       Eric Miller|           15| 6.511111153496636|\n",
      "|       Brayan Vera|            4| 6.793333371480306|\n",
      "|         Robin Lod|           17| 7.159091060811823|\n",
      "|       John Nelson|           14| 7.063636389645663|\n",
      "|Robert Castellanos|           19| 6.528571537562779|\n",
      "|    Lalas Abubakar|            6| 6.445454554124312|\n",
      "|    Victor Wanyama|            2| 6.600000063578288|\n",
      "|  Nökkvi Thorisson|           29| 6.688888867696126|\n",
      "|  Jeorgio Kocevski|           33| 5.699999809265137|\n",
      "+------------------+-------------+------------------+\n",
      "only showing top 20 rows\n",
      "\n"
     ]
    }
   ],
   "source": [
    "avg_spi_per_player = new_df.groupBy([\"player_name\", \"player_number\"]).agg({\"spi_score\": \"avg\"})\n",
    "avg_spi_per_player.show()"
   ]
  },
  {
   "cell_type": "code",
   "execution_count": 56,
   "metadata": {},
   "outputs": [
    {
     "name": "stdout",
     "output_type": "stream",
     "text": [
      "+-------------------+\n",
      "|max(avg(spi_score))|\n",
      "+-------------------+\n",
      "|  8.600000381469727|\n",
      "+-------------------+\n",
      "\n"
     ]
    }
   ],
   "source": [
    "max_avg_spi = avg_spi_per_player.agg({\"avg(spi_score)\": \"max\"})\n",
    "max_avg_spi.show()"
   ]
  },
  {
   "cell_type": "code",
   "execution_count": 124,
   "metadata": {},
   "outputs": [
    {
     "data": {
      "text/plain": [
       "8.6"
      ]
     },
     "execution_count": 124,
     "metadata": {},
     "output_type": "execute_result"
    }
   ],
   "source": [
    "max_avg_spi_var = round(max_avg_spi.collect()[0][\"max(avg(spi_score))\"], 1)\n",
    "max_avg_spi_var"
   ]
  },
  {
   "cell_type": "code",
   "execution_count": 74,
   "metadata": {},
   "outputs": [],
   "source": [
    "from pyspark.sql.functions import desc"
   ]
  },
  {
   "cell_type": "code",
   "execution_count": 76,
   "metadata": {},
   "outputs": [
    {
     "name": "stdout",
     "output_type": "stream",
     "text": [
      "+----------------+-------------+-----+------------------+\n",
      "|     player_name|player_number|count|    avg(spi_score)|\n",
      "+----------------+-------------+-----+------------------+\n",
      "|    Oscar Ustari|           19|    2| 8.600000381469727|\n",
      "|      Leo Afonso|           73|    1|               8.5|\n",
      "|     Ricard Puig|           10|   22|  8.39545471018011|\n",
      "|Evander Ferreira|           10|   14| 8.264285836900983|\n",
      "|  Elliot Panicco|           30|    4| 8.199999809265137|\n",
      "|    Lionel Messi|           10|   16| 8.112499952316284|\n",
      "|     Andrew Rick|           76|    2| 8.100000381469727|\n",
      "|   Marcel Hartel|           17|   16| 8.006250023841858|\n",
      "|   Kelvin Yeboah|            9|   15|7.9866666475931805|\n",
      "|     Gabriel Pec|           11|   23|7.9695652671482256|\n",
      "|  Juan Hernández|            9|   20|  7.92000002861023|\n",
      "|    Aidan Morris|            8|    3| 7.866666793823242|\n",
      "|   Emil Forsberg|           10|   15|7.7933334032694495|\n",
      "|   Albert Rusnak|           11|   26| 7.742307699643648|\n",
      "| Cedric Teuchert|           36|   16| 7.737500011920929|\n",
      "|     Luis Suárez|            9|   17|7.7176470476038315|\n",
      "|  Mateusz Bogusz|           19|   24| 7.712499976158142|\n",
      "|    Celio Pompeu|           12|    4| 7.700000047683716|\n",
      "| Tomas Chancalay|            5|    2| 7.699999809265137|\n",
      "|      Jordi Alba|           18|   19| 7.694736907356663|\n",
      "+----------------+-------------+-----+------------------+\n",
      "only showing top 20 rows\n",
      "\n"
     ]
    }
   ],
   "source": [
    "# Supported join types include: 'inner', 'outer', 'full', 'fullouter', 'full_outer', 'leftouter', 'left', 'left_outer', 'rightouter', 'right', 'right_outer', 'leftsemi', 'left_semi', 'semi', 'leftanti', 'left_anti', 'anti', 'cross'.\n",
    "all_player_stats_df = matches_played_per_player.join(avg_spi_per_player, how=\"inner\", on=[\"player_name\", \"player_number\"]).sort(desc(\"avg(spi_score)\"))\n",
    "all_player_stats_df.show()"
   ]
  },
  {
   "cell_type": "code",
   "execution_count": 147,
   "metadata": {},
   "outputs": [
    {
     "name": "stdout",
     "output_type": "stream",
     "text": [
      "+----------------+-------------+-----+------------------+--------------------+\n",
      "|     player_name|player_number|count|    avg(spi_score)|      matches_scaled|\n",
      "+----------------+-------------+-----+------------------+--------------------+\n",
      "|    Oscar Ustari|           19|    2| 8.600000381469727| 0.06896551724137931|\n",
      "|      Leo Afonso|           73|    1|               8.5|0.034482758620689655|\n",
      "|     Ricard Puig|           10|   22|  8.39545471018011|  0.7586206896551724|\n",
      "|Evander Ferreira|           10|   14| 8.264285836900983|  0.4827586206896552|\n",
      "|  Elliot Panicco|           30|    4| 8.199999809265137| 0.13793103448275862|\n",
      "|    Lionel Messi|           10|   16| 8.112499952316284|  0.5517241379310345|\n",
      "|     Andrew Rick|           76|    2| 8.100000381469727| 0.06896551724137931|\n",
      "|   Marcel Hartel|           17|   16| 8.006250023841858|  0.5517241379310345|\n",
      "|   Kelvin Yeboah|            9|   15|7.9866666475931805|  0.5172413793103449|\n",
      "|     Gabriel Pec|           11|   23|7.9695652671482256|  0.7931034482758621|\n",
      "|  Juan Hernández|            9|   20|  7.92000002861023|  0.6896551724137931|\n",
      "|    Aidan Morris|            8|    3| 7.866666793823242| 0.10344827586206896|\n",
      "|   Emil Forsberg|           10|   15|7.7933334032694495|  0.5172413793103449|\n",
      "|   Albert Rusnak|           11|   26| 7.742307699643648|   0.896551724137931|\n",
      "| Cedric Teuchert|           36|   16| 7.737500011920929|  0.5517241379310345|\n",
      "|     Luis Suárez|            9|   17|7.7176470476038315|  0.5862068965517241|\n",
      "|  Mateusz Bogusz|           19|   24| 7.712499976158142|  0.8275862068965517|\n",
      "|    Celio Pompeu|           12|    4| 7.700000047683716| 0.13793103448275862|\n",
      "| Tomas Chancalay|            5|    2| 7.699999809265137| 0.06896551724137931|\n",
      "|      Jordi Alba|           18|   19| 7.694736907356663|  0.6551724137931034|\n",
      "+----------------+-------------+-----+------------------+--------------------+\n",
      "only showing top 20 rows\n",
      "\n"
     ]
    }
   ],
   "source": [
    "df_with_scaled_matches = all_player_stats_df.withColumn(\"matches_scaled\", col(\"count\") / max_games_played_var)\n",
    "df_with_scaled_matches.show()"
   ]
  },
  {
   "cell_type": "code",
   "execution_count": 127,
   "metadata": {},
   "outputs": [
    {
     "name": "stdout",
     "output_type": "stream",
     "text": [
      "root\n",
      " |-- player_name: string (nullable = true)\n",
      " |-- player_number: integer (nullable = true)\n",
      " |-- count: long (nullable = false)\n",
      " |-- avg(spi_score): double (nullable = true)\n",
      "\n"
     ]
    }
   ],
   "source": [
    "all_player_stats_df.printSchema()"
   ]
  },
  {
   "cell_type": "code",
   "execution_count": 141,
   "metadata": {},
   "outputs": [],
   "source": [
    "from pyspark.sql.functions import round as pyspark_round"
   ]
  },
  {
   "cell_type": "code",
   "execution_count": null,
   "metadata": {},
   "outputs": [
    {
     "name": "stdout",
     "output_type": "stream",
     "text": [
      "+----------------+-------------+-----+------------------+----------+\n",
      "|     player_name|player_number|count|    avg(spi_score)|spi_scaled|\n",
      "+----------------+-------------+-----+------------------+----------+\n",
      "|    Oscar Ustari|           19|    2| 8.600000381469727|       1.0|\n",
      "|      Leo Afonso|           73|    1|               8.5|     0.988|\n",
      "|     Ricard Puig|           10|   22|  8.39545471018011|     0.976|\n",
      "|Evander Ferreira|           10|   14| 8.264285836900983|     0.961|\n",
      "|  Elliot Panicco|           30|    4| 8.199999809265137|     0.953|\n",
      "|    Lionel Messi|           10|   16| 8.112499952316284|     0.943|\n",
      "|     Andrew Rick|           76|    2| 8.100000381469727|     0.942|\n",
      "|   Marcel Hartel|           17|   16| 8.006250023841858|     0.931|\n",
      "|   Kelvin Yeboah|            9|   15|7.9866666475931805|     0.929|\n",
      "|     Gabriel Pec|           11|   23|7.9695652671482256|     0.927|\n",
      "|  Juan Hernández|            9|   20|  7.92000002861023|     0.921|\n",
      "|    Aidan Morris|            8|    3| 7.866666793823242|     0.915|\n",
      "|   Emil Forsberg|           10|   15|7.7933334032694495|     0.906|\n",
      "|   Albert Rusnak|           11|   26| 7.742307699643648|       0.9|\n",
      "| Cedric Teuchert|           36|   16| 7.737500011920929|       0.9|\n",
      "|     Luis Suárez|            9|   17|7.7176470476038315|     0.897|\n",
      "|  Mateusz Bogusz|           19|   24| 7.712499976158142|     0.897|\n",
      "|    Celio Pompeu|           12|    4| 7.700000047683716|     0.895|\n",
      "| Tomas Chancalay|            5|    2| 7.699999809265137|     0.895|\n",
      "|      Jordi Alba|           18|   19| 7.694736907356663|     0.895|\n",
      "+----------------+-------------+-----+------------------+----------+\n",
      "only showing top 20 rows\n",
      "\n"
     ]
    }
   ],
   "source": [
    "df_with_scaled_spi = all_player_stats_df.withColumn(\"spi_scaled\", pyspark_round(col(\"avg(spi_score)\") / float(max_avg_spi_var),3))\n",
    "df_with_scaled_spi.show()"
   ]
  },
  {
   "cell_type": "code",
   "execution_count": 160,
   "metadata": {},
   "outputs": [
    {
     "data": {
      "text/plain": [
       "14"
      ]
     },
     "execution_count": 160,
     "metadata": {},
     "output_type": "execute_result"
    }
   ],
   "source": [
    "min_required_matches = max_games_played_var // 2\n",
    "min_required_matches"
   ]
  },
  {
   "cell_type": "code",
   "execution_count": 163,
   "metadata": {},
   "outputs": [
    {
     "name": "stderr",
     "output_type": "stream",
     "text": [
      "                                                                                \r"
     ]
    },
    {
     "name": "stdout",
     "output_type": "stream",
     "text": [
      "+-----------------+-------------+-----+------------------+------------------+----------+\n",
      "|      player_name|player_number|count|    avg(spi_score)|    matches_scaled|spi_scaled|\n",
      "+-----------------+-------------+-----+------------------+------------------+----------+\n",
      "|      Ricard Puig|           10|   22|  8.39545471018011|0.7586206896551724|     0.976|\n",
      "| Evander Ferreira|           10|   14| 8.264285836900983|0.4827586206896552|     0.961|\n",
      "|     Lionel Messi|           10|   16| 8.112499952316284|0.5517241379310345|     0.943|\n",
      "|    Marcel Hartel|           17|   16| 8.006250023841858|0.5517241379310345|     0.931|\n",
      "|    Kelvin Yeboah|            9|   15|7.9866666475931805|0.5172413793103449|     0.929|\n",
      "|      Gabriel Pec|           11|   23|7.9695652671482256|0.7931034482758621|     0.927|\n",
      "|   Juan Hernández|            9|   20|  7.92000002861023|0.6896551724137931|     0.921|\n",
      "|    Emil Forsberg|           10|   15|7.7933334032694495|0.5172413793103449|     0.906|\n",
      "|  Cedric Teuchert|           36|   16| 7.737500011920929|0.5517241379310345|       0.9|\n",
      "|    Albert Rusnak|           11|   26| 7.742307699643648| 0.896551724137931|       0.9|\n",
      "|   Mateusz Bogusz|           19|   24| 7.712499976158142|0.8275862068965517|     0.897|\n",
      "|      Luis Suárez|            9|   17|7.7176470476038315|0.5862068965517241|     0.897|\n",
      "|       Jordi Alba|           18|   19| 7.694736907356663|0.6551724137931034|     0.895|\n",
      "|    Daniel Gazdag|           10|   17| 7.682352907517377|0.5862068965517241|     0.893|\n",
      "|   Dejan Joveljic|            9|   21|7.6619047437395364|0.7241379310344828|     0.891|\n",
      "|Christian Benteke|           20|   19|7.6526315839667065|0.6551724137931034|      0.89|\n",
      "|    Denis Bouanga|           99|   26|7.6153845970447245| 0.896551724137931|     0.886|\n",
      "|    Carlos Miguel|           31|   20| 7.615000057220459|0.6896551724137931|     0.885|\n",
      "|   Facundo Torres|           10|   22| 7.609091000123457|0.7586206896551724|     0.885|\n",
      "|         Pep Biel|           10|   14| 7.599999972752163|0.4827586206896552|     0.884|\n",
      "+-----------------+-------------+-----+------------------+------------------+----------+\n",
      "only showing top 20 rows\n",
      "\n"
     ]
    }
   ],
   "source": [
    "# spi_scaled = x^n / max_games_played, where n will be included in other function that will allow me to scale up by n times (exponentionally) then scaled back down by the max scaled-up spi.\n",
    "mvp_df = df_with_scaled_matches.join(df_with_scaled_spi, on=[\"player_name\", \"player_number\", \"count\", \"avg(spi_score)\"]).filter(col(\"count\") >= min_required_matches).sort(desc(\"spi_scaled\"))\n",
    "mvp_df.show()"
   ]
  },
  {
   "cell_type": "code",
   "execution_count": null,
   "metadata": {},
   "outputs": [],
   "source": []
  }
 ],
 "metadata": {
  "kernelspec": {
   "display_name": "soccer_app_env1",
   "language": "python",
   "name": "python3"
  },
  "language_info": {
   "codemirror_mode": {
    "name": "ipython",
    "version": 3
   },
   "file_extension": ".py",
   "mimetype": "text/x-python",
   "name": "python",
   "nbconvert_exporter": "python",
   "pygments_lexer": "ipython3",
   "version": "3.11.9"
  }
 },
 "nbformat": 4,
 "nbformat_minor": 2
}
